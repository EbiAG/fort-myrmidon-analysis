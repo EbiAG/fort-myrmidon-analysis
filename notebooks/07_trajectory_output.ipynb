{
 "cells": [
  {
   "cell_type": "markdown",
   "metadata": {},
   "source": [
    "# Trajectory Output\n",
    "Function to output the trajectories of individuals ```.mymridon``` experiment file to a parquet file which can then be read in R. <br><br>\n",
    "It is much easier to work with the tracjectories from the myrmidon file, but in case they have to be used in a specific environment (e.g., on R in Windows OS) the trajectories can be output in a parquet file format. <br><br>\n",
    "There are three versions of the function of which 2 are very similar - one uses pandas and the other uses Dask to work with large datasets. the third uses a matcher while querying the `py-fort-myrmidon` API to extract only the trajectories of specifc antIDs"
   ]
  },
  {
   "cell_type": "code",
   "execution_count": 1,
   "metadata": {
    "collapsed": true
   },
   "outputs": [],
   "source": [
    "import py_fort_myrmidon as fm\n",
    "from datetime import datetime, timedelta  # For convenient handling of time and date\n",
    "import pandas as pd  # Used to create a dataframe, similar to the structure used in R\n",
    "import dask.dataframe as dd  # Used to work with large datasets that don't fit in memory"
   ]
  },
  {
   "cell_type": "markdown",
   "metadata": {},
   "source": [
    "## Output entire trajectories"
   ]
  },
  {
   "cell_type": "markdown",
   "metadata": {},
   "source": [
    "### Function to output trajectories using pandas"
   ]
  },
  {
   "cell_type": "code",
   "execution_count": null,
   "metadata": {
    "collapsed": false
   },
   "outputs": [],
   "source": [
    "def daily_trajectory_to_parquet(start_time, end_time, exp):\n",
    "    \"\"\"\n",
    "    Function to extract daily trajectories as a parquet file, grouped by AntID. While it is setup to extract daily trajectories, it can work for any arbitrary time duration\n",
    "    :param start_time: The start datetime object. this will be converted to a fort-myrmidon Time object\n",
    "    :param end_time: The end datetime object. this will be converted to a fort-myrmidon Time object\n",
    "    :param exp: The name of the experiment i.e., the myrmidon file\n",
    "    :return: Outputs parquet files containing trajectories grouped by AntID. The files will contain AntID, Space, StartTime of each trajectory, Pos_time (time difference in seconds from the StartTime of the trajectory), Pos_X and Pos_Y (corresponding to the X and Y coordinates at that specific time/frame)\n",
    "    \"\"\"\n",
    "    start = datetime.now()\n",
    "    t_begin = fm.Time(start_time)\n",
    "    t_stop = fm.Time(end_time)\n",
    "    trajectory = fm.Query.ComputeAntTrajectories(\n",
    "        experiment=exp,\n",
    "        start=t_begin,\n",
    "        end=t_stop,\n",
    "        # matcher=queenID,\n",
    "        maximumGap=fm.Duration.Parse(\"1000h\"),\n",
    "    )\n",
    "    # Make a list of lists with trajectory values needed. Position is an array of 5 columns, so specific columns are called\n",
    "    traj_list = [\n",
    "        [\n",
    "            trajectory.Ant,\n",
    "            trajectory.Space,\n",
    "            trajectory.Start.ToDateTime(),\n",
    "            trajectory.Positions[:, 0],\n",
    "            trajectory.Positions[:, 1],\n",
    "            trajectory.Positions[:, 2],\n",
    "        ]\n",
    "        for trajectory in trajectory\n",
    "    ]\n",
    "    # Make the list into a dataframe\n",
    "    traj_df = pd.DataFrame(\n",
    "        traj_list, columns=[\"AntID\", \"Space\", \"StartTime\", \"Pos_time\", \"Pos_X\", \"Pos_Y\"]\n",
    "    )\n",
    "    # Explode columns which are in the form of lists to expand the dataframe\n",
    "    traj_df = traj_df.explode(column=[\"Pos_time\", \"X_coor\", \"Y_coor\"])\n",
    "    # Create file name\n",
    "    f_name = \"Trajectories_{}_{}.parquet\".format(\n",
    "        exp.Name, start_time.strftime(\"%Y%m%d\")\n",
    "    )\n",
    "    # Save as parquet\n",
    "    traj_df.to_parquet(f_name, partition_on=[\"AntID\"])\n",
    "    end = datetime.now()\n",
    "    print(\"Parquet file for\", start_time.strftime(\"%d-%m-%Y\"), \"output in\", end - start)"
   ]
  },
  {
   "cell_type": "markdown",
   "metadata": {},
   "source": [
    "### Function to output trajectories using dask"
   ]
  },
  {
   "cell_type": "code",
   "execution_count": 4,
   "metadata": {
    "collapsed": false
   },
   "outputs": [],
   "source": [
    "def daily_trajectory_to_parquet_dask(start_time, end_time, exp):\n",
    "    \"\"\"\n",
    "    Function to extract daily trajectories as a parquet file, grouped by AntID. This variation of the function uses dask for very large datasets which don't stay in memory. While it is setup to extract daily trajectories, it can work for any arbitrary time duration\n",
    "    :param start_time: The start datetime object. this will be converted to a fort-myrmidon Time object\n",
    "    :param end_time: The end datetime object. this will be converted to a fort-myrmidon Time object\n",
    "    :param exp: The name of the experiment i.e., the myrmidon file\n",
    "    :return: Outputs parquet files containing trajectories grouped by AntID. The files will contain AntID, Space, StartTime of each trajectory, Pos_time (time difference in seconds from the StartTime of the trajectory), Pos_X and Pos_Y (corresponding to the X and Y coordinates at that specific time/frame)\n",
    "    \"\"\"\n",
    "    start = datetime.now()\n",
    "    t_begin = fm.Time(start_time)\n",
    "    t_stop = fm.Time(end_time)\n",
    "    trajectory = fm.Query.ComputeAntTrajectories(\n",
    "        experiment=exp,\n",
    "        start=t_begin,\n",
    "        end=t_stop,\n",
    "        # matcher=queenID,\n",
    "        maximumGap=fm.Duration.Parse(\"1000h\"),\n",
    "    )\n",
    "    # Make a list of lists with trajectory values needed. Position is an array of 5 columns, so specific columns are called\n",
    "    traj_list = [\n",
    "        [\n",
    "            trajectory.Ant,\n",
    "            trajectory.Space,\n",
    "            trajectory.Start.ToDateTime(),\n",
    "            trajectory.Positions[:, 0],\n",
    "            trajectory.Positions[:, 1],\n",
    "            trajectory.Positions[:, 2],\n",
    "        ]\n",
    "        for trajectory in trajectory\n",
    "    ]\n",
    "    # Make the list into a dataframe\n",
    "    traj_df = pd.DataFrame(\n",
    "        traj_list, columns=[\"AntID\", \"Space\", \"StartTime\", \"Pos_time\", \"Pos_X\", \"Pos_Y\"]\n",
    "    )\n",
    "    # Explode columns which are in the form of lists to expand the dataframe\n",
    "    # Convert to dask dataframe\n",
    "    traj_dd = dd.from_pandas(traj_df, npartitions=20)\n",
    "    traj_dd = traj_dd.explode(column=[\"Pos_time\", \"Pos_X\", \"Pos_Y\"])\n",
    "    # Coerce object columns to integer\n",
    "    traj_dd[\"Pos_time\"] = dd.to_numeric(traj_dd[\"Pos_time\"], errors=\"coerce\")\n",
    "    traj_dd[\"Pos_X\"] = dd.to_numeric(traj_dd[\"Pos_X\"], errors=\"coerce\")\n",
    "    traj_dd[\"Pos_Y\"] = dd.to_numeric(traj_dd[\"Pos_Y\"], errors=\"coerce\")\n",
    "    # Create file name\n",
    "    f_name = \"Trajectories_{}_{}.parquet\".format(\n",
    "        exp.Name, start_time.strftime(\"%Y%m%d\")\n",
    "    )\n",
    "    # Save as parquet\n",
    "    traj_dd.to_parquet(f_name, partition_on=[\"AntID\"])\n",
    "    end = datetime.now()\n",
    "    print(\"Parquet file for\", start_time.strftime(\"%d-%m-%Y\"), \"output in\", end - start)"
   ]
  },
  {
   "cell_type": "markdown",
   "metadata": {},
   "source": [
    "### Function to output trajectories of focal individuals"
   ]
  },
  {
   "cell_type": "code",
   "execution_count": 7,
   "metadata": {
    "collapsed": false
   },
   "outputs": [],
   "source": [
    "def daily_trajectory_to_parquet_focal(start_time, end_time, exp, matcher_query):\n",
    "    \"\"\"\n",
    "    Function to extract daily trajectories as a parquet file, grouped by AntID. While it is setup to extract daily trajectories, it can work for any arbitrary time duration\n",
    "    :param start_time: The start datetime object. this will be converted to a fort-myrmidon Time object\n",
    "    :param end_time: The end datetime object. this will be converted to a fort-myrmidon Time object\n",
    "    :param exp: The name of the experiment i.e., the myrmidon file\n",
    "    :param matcher_query: The fm matcher corresponding to the focal IDs\n",
    "    :return: Outputs parquet files containing trajectories grouped by AntID. The files will contain AntID, Space, StartTime of each trajectory, Pos_time (time difference in seconds from the StartTime of the trajectory), Pos_X and Pos_Y (corresponding to the X and Y coordinates at that specific time/frame)\n",
    "    \"\"\"\n",
    "    start = datetime.now()\n",
    "    t_begin = fm.Time(start_time)\n",
    "    t_stop = fm.Time(end_time)\n",
    "    trajectory = fm.Query.ComputeAntTrajectories(\n",
    "        experiment=exp,\n",
    "        start=t_begin,\n",
    "        end=t_stop,\n",
    "        matcher=matcher_query,\n",
    "        maximumGap=fm.Duration.Parse(\"1000h\"),\n",
    "    )\n",
    "    # Make a list of lists with trajectory values needed. Position is an array of 5 columns, so specific columns are called\n",
    "    traj_list = [\n",
    "        [\n",
    "            trajectory.Ant,\n",
    "            trajectory.Space,\n",
    "            trajectory.Start.ToDateTime(),\n",
    "            trajectory.Positions[:, 0],\n",
    "            trajectory.Positions[:, 1],\n",
    "            trajectory.Positions[:, 2],\n",
    "        ]\n",
    "        for trajectory in trajectory\n",
    "    ]\n",
    "    # Make the list into a dataframe\n",
    "    traj_df = pd.DataFrame(\n",
    "        traj_list, columns=[\"AntID\", \"Space\", \"StartTime\", \"Pos_time\", \"Pos_X\", \"Pos_Y\"]\n",
    "    )\n",
    "    # Explode columns which are in the form of lists to expand the dataframe\n",
    "    traj_df = traj_df.explode(column=[\"Pos_time\", \"X_coor\", \"Y_coor\"])\n",
    "    # Create file name\n",
    "    f_name = \"Trajectories_{}_{}.parquet\".format(\n",
    "        exp.Name, start_time.strftime(\"%Y%m%d\")\n",
    "    )\n",
    "    # Save as parquet\n",
    "    traj_df.to_parquet(f_name, partition_on=[\"AntID\"])\n",
    "    end = datetime.now()\n",
    "    print(\"Parquet file for\", start_time.strftime(\"%d-%m-%Y\"), \"output in\", end - start)"
   ]
  },
  {
   "cell_type": "markdown",
   "metadata": {},
   "source": [
    "### Colony Cfel42"
   ]
  },
  {
   "cell_type": "code",
   "execution_count": 2,
   "metadata": {
    "collapsed": false
   },
   "outputs": [],
   "source": [
    "# f_myrmidon = \"/media/egeorge/Elements/220727_Test3/RemovalTest2_Col42.myrmidon\"\n",
    "f_myrmidon = \"/media/egeorge/Elements/Woundcare Experiment1/Cfell_wound_col42.myrmidon\"\n",
    "exp = fm.Experiment.Open(f_myrmidon)"
   ]
  },
  {
   "cell_type": "code",
   "execution_count": 3,
   "metadata": {
    "collapsed": false
   },
   "outputs": [],
   "source": [
    "# exp.Ants\n",
    "# queenID = fm.Matcher.AntID(1)\n",
    "# t_r = fm_time_range(t_start, t_end)"
   ]
  },
  {
   "cell_type": "code",
   "execution_count": 6,
   "metadata": {
    "collapsed": false
   },
   "outputs": [],
   "source": [
    "# exp.Ants\n",
    "day1_focal = fm.Matcher.AntID(106)\n",
    "day1_caregivers = fm.Matcher.Or(\n",
    "    fm.Matcher.AntID(103),\n",
    "    fm.Matcher.AntID(114),\n",
    "    fm.Matcher.AntID(2),\n",
    "    fm.Matcher.AntID(21),\n",
    "    fm.Matcher.AntID(24),\n",
    "    fm.Matcher.AntID(3),\n",
    "    fm.Matcher.AntID(53),\n",
    "    fm.Matcher.AntID(63),\n",
    ")\n",
    "day1_ids = fm.Matcher.Or(day1_focal, day1_caregivers)\n",
    "day1_start = datetime(2022, 5, 2, 16, 3).astimezone(tz=None)\n",
    "day1_end = datetime(2022, 5, 2, 22, 3).astimezone(tz=None)"
   ]
  },
  {
   "cell_type": "code",
   "execution_count": null,
   "metadata": {
    "collapsed": false,
    "pycharm": {
     "is_executing": true
    }
   },
   "outputs": [],
   "source": [
    "daily_trajectory_to_parquet_focal(day1_start, day1_end, exp, day1_ids)"
   ]
  },
  {
   "cell_type": "markdown",
   "metadata": {},
   "source": [
    "## Output trajectories with mean coordinates\n",
    "\n",
    "Instead of outputting the whole trajectory we can also compress it, e.g., by obtaining the mean X and Y coordinate for each ant per second insted of at the experimental frame rate. <br>\n",
    "In this case we will use a pandas groupby that groups the values to the nearest second and takes the mean."
   ]
  },
  {
   "cell_type": "code",
   "execution_count": null,
   "metadata": {},
   "outputs": [],
   "source": [
    "def trajectory_output_summarised(start_time, end_time, exp):\n",
    "    \"\"\"\n",
    "    Function to extract daily trajectories as a parquet file, grouped by AntID. While it is setup to extract daily trajectories, it can work for any arbitrary time duration\n",
    "    :param start_time: The start datetime object. this will be converted to a fort-myrmidon Time object\n",
    "    :param end_time: The end datetime object. this will be converted to a fort-myrmidon Time object\n",
    "    :param exp: The name of the experiment i.e., the myrmidon file\n",
    "    :param matcher_query: The fm matcher corresponding to the focal IDs\n",
    "    :return: Outputs a pandas dataframe containing AntID, Space, Time, X_coordinates and Y_coordinates of each ID averaged over 1 second from the X and Y coordinates. Averagingg is done to have a dataset which can be merged across IDs using at the resolution of 1s.\n",
    "    \"\"\"\n",
    "    start = datetime.now()\n",
    "    t_begin = fm.Time(start_time)\n",
    "    t_stop = fm.Time(end_time)\n",
    "    trajectory = fm.Query.ComputeAntTrajectories(\n",
    "        experiment=exp,\n",
    "        start=t_begin,\n",
    "        end=t_stop,\n",
    "        # matcher=matcher_query,\n",
    "        maximumGap=fm.Duration.Parse(\"1000h\"),\n",
    "        reportProgress=False,\n",
    "    )\n",
    "    # Make a list of lists with trajectory values needed. Position is an array of 5 columns, so specific columns are called\n",
    "    traj_list = [\n",
    "        [\n",
    "            trajectory.Ant,\n",
    "            trajectory.Space,\n",
    "            trajectory.Start.ToDateTime(),\n",
    "            trajectory.Positions[:, 0],\n",
    "            trajectory.Positions[:, 1],\n",
    "            trajectory.Positions[:, 2],\n",
    "        ]\n",
    "        for trajectory in trajectory\n",
    "    ]\n",
    "    # Make the list into a dataframe\n",
    "    traj_df = pd.DataFrame(\n",
    "        traj_list,\n",
    "        columns=[\"AntID\", \"Space\", \"StartTime\", \"Pos_time\", \"X_coor\", \"Y_coor\"],\n",
    "    )\n",
    "    # Explode columns which are in the form of lists to expand the dataframe\n",
    "    traj_df = traj_df.explode(column=[\"Pos_time\", \"X_coor\", \"Y_coor\"])\n",
    "    # Coerce coordinates to integer\n",
    "    traj_df[\"X_coor\"] = pd.to_numeric(traj_df[\"X_coor\"], errors=\"coerce\")\n",
    "    traj_df[\"Y_coor\"] = pd.to_numeric(traj_df[\"Y_coor\"], errors=\"coerce\")\n",
    "    # Convert Pos_time to timedelta and obtain actual datetime for each trajectory entry\n",
    "    traj_df[\"Pos_time\"] = pd.to_numeric(traj_df[\"Pos_time\"], errors=\"coerce\")\n",
    "    traj_df[\"Pos_time\"] = pd.to_timedelta(\n",
    "        traj_df[\"Pos_time\"], unit=\"S\", errors=\"coerce\"\n",
    "    )\n",
    "    traj_df[\"Time\"] = traj_df[\"StartTime\"] + traj_df[\"Pos_time\"]\n",
    "    # Drop unwanted ccolumns\n",
    "    traj_df = traj_df.drop([\"StartTime\", \"Pos_time\"], axis=1)\n",
    "    # Reorder columns\n",
    "    traj_df = traj_df[[\"AntID\", \"Space\", \"Time\", \"X_coor\", \"Y_coor\"]]\n",
    "    if traj_df.empty:  # If no trajectories are output\n",
    "        # empty_row = pd.DataFrame([{'AntID': 'Unknown', 'Space':np.nan, 'Time':np.nan, 'X_coor':np.nan, 'Y_coor':np.nan}]) # Create empty row with unknown as antID\n",
    "        # traj_df = pd.concat([empty_row]) # Add empty row to dataframe\n",
    "        print(\"No trajectories found. Created empty dataframe\")\n",
    "        return traj_df  # Return empty dataframe\n",
    "    # Obtain average X and Y coordinates per second\n",
    "    traj_df = (\n",
    "        traj_df.groupby([pd.Grouper(key=\"Time\", freq=\"1s\"), \"AntID\", \"Space\"])\n",
    "        .agg(X_mean=(\"X_coor\", \"mean\"), Y_mean=(\"Y_coor\", \"mean\"))\n",
    "        .reset_index()\n",
    "    )\n",
    "    end = datetime.now()\n",
    "    # print(\"Trajectories output in\", end-start)\n",
    "    return traj_df"
   ]
  },
  {
   "cell_type": "code",
   "execution_count": null,
   "metadata": {},
   "outputs": [],
   "source": [
    "def trajectory_output_summarised_focal(start_time, end_time, exp, matcher_query):\n",
    "    \"\"\"\n",
    "    Function to extract daily trajectories as a parquet file, grouped by AntID. While it is setup to extract daily trajectories, it can work for any arbitrary time duration\n",
    "    :param start_time: The start datetime object. this will be converted to a fort-myrmidon Time object\n",
    "    :param end_time: The end datetime object. this will be converted to a fort-myrmidon Time object\n",
    "    :param exp: The name of the experiment i.e., the myrmidon file\n",
    "    :param matcher_query: The fm matcher corresponding to the focal IDs\n",
    "    :return: Outputs a pandas dataframe containing AntID, Space, Time, X_coordinates and Y_coordinates of each ID averaged over 1 second from the X and Y coordinates. Averagingg is done to have a dataset which can be merged across IDs using at the resolution of 1s.\n",
    "    \"\"\"\n",
    "    start = datetime.now()\n",
    "    t_begin = fm.Time(start_time)\n",
    "    t_stop = fm.Time(end_time)\n",
    "    trajectory = fm.Query.ComputeAntTrajectories(\n",
    "        experiment=exp,\n",
    "        start=t_begin,\n",
    "        end=t_stop,\n",
    "        matcher=matcher_query,\n",
    "        maximumGap=fm.Duration.Parse(\"1000h\"),\n",
    "        reportProgress=False,\n",
    "    )\n",
    "    # Make a list of lists with trajectory values needed. Position is an array of 5 columns, so specific columns are called\n",
    "    traj_list = [\n",
    "        [\n",
    "            trajectory.Ant,\n",
    "            trajectory.Space,\n",
    "            trajectory.Start.ToDateTime(),\n",
    "            trajectory.Positions[:, 0],\n",
    "            trajectory.Positions[:, 1],\n",
    "            trajectory.Positions[:, 2],\n",
    "        ]\n",
    "        for trajectory in trajectory\n",
    "    ]\n",
    "    # Make the list into a dataframe\n",
    "    traj_df = pd.DataFrame(\n",
    "        traj_list,\n",
    "        columns=[\"AntID\", \"Space\", \"StartTime\", \"Pos_time\", \"X_coor\", \"Y_coor\"],\n",
    "    )\n",
    "    # Explode columns which are in the form of lists to expand the dataframe\n",
    "    traj_df = traj_df.explode(column=[\"Pos_time\", \"X_coor\", \"Y_coor\"])\n",
    "    # Coerce coordinates to integer\n",
    "    traj_df[\"X_coor\"] = pd.to_numeric(traj_df[\"X_coor\"], errors=\"coerce\")\n",
    "    traj_df[\"Y_coor\"] = pd.to_numeric(traj_df[\"Y_coor\"], errors=\"coerce\")\n",
    "    # Convert Pos_time to timedelta and obtain actual datetime for each trajectory entry\n",
    "    traj_df[\"Pos_time\"] = pd.to_numeric(traj_df[\"Pos_time\"], errors=\"coerce\")\n",
    "    traj_df[\"Pos_time\"] = pd.to_timedelta(\n",
    "        traj_df[\"Pos_time\"], unit=\"S\", errors=\"coerce\"\n",
    "    )\n",
    "    traj_df[\"Time\"] = traj_df[\"StartTime\"] + traj_df[\"Pos_time\"]\n",
    "    # Drop unwanted ccolumns\n",
    "    traj_df = traj_df.drop([\"StartTime\", \"Pos_time\"], axis=1)\n",
    "    # Reorder columns\n",
    "    traj_df = traj_df[[\"AntID\", \"Space\", \"Time\", \"X_coor\", \"Y_coor\"]]\n",
    "    if traj_df.empty:  # If no trajectories are output\n",
    "        # empty_row = pd.DataFrame([{'AntID': 'Unknown', 'Space':np.nan, 'Time':np.nan, 'X_coor':np.nan, 'Y_coor':np.nan}]) # Create empty row with unknown as antID\n",
    "        # traj_df = pd.concat([empty_row]) # Add empty row to dataframe\n",
    "        print(\"No trajectories found. Created empty dataframe\")\n",
    "        return traj_df  # Return empty dataframe\n",
    "    # Obtain average X and Y coordinates per second\n",
    "    traj_df = (\n",
    "        traj_df.groupby([pd.Grouper(key=\"Time\", freq=\"1s\"), \"AntID\", \"Space\"])\n",
    "        .agg(X_mean=(\"X_coor\", \"mean\"), Y_mean=(\"Y_coor\", \"mean\"))\n",
    "        .reset_index()\n",
    "    )\n",
    "    end = datetime.now()\n",
    "    # print(\"Trajectories output in\", end-start)\n",
    "    return traj_df"
   ]
  }
 ],
 "metadata": {
  "kernelspec": {
   "display_name": "Python 3",
   "language": "python",
   "name": "python3"
  },
  "language_info": {
   "codemirror_mode": {
    "name": "ipython",
    "version": 2
   },
   "file_extension": ".py",
   "mimetype": "text/x-python",
   "name": "python",
   "nbconvert_exporter": "python",
   "pygments_lexer": "ipython2",
   "version": "2.7.6"
  }
 },
 "nbformat": 4,
 "nbformat_minor": 0
}
