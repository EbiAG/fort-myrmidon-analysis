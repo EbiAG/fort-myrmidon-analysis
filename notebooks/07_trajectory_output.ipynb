{
 "cells": [
  {
   "cell_type": "markdown",
   "metadata": {},
   "source": [
    "# Trajectory Output\n",
    "Function to output the trajectories of individuals ```.mymridon``` experiment file to a parquet file which can then be read in R. <br><br>\n",
    "It is much easier to work with the tracjectories from the myrmidon file, but in case they have to be used in a specific environment (e.g., on R in Windows OS) the trajectories can be output in a parquet file format. <br><br>\n",
    "There are three versions of the function of which 2 are very similar - one uses pandas and the other uses Dask to work with large datasets. the third uses a matcher while querying the `py-fort-myrmidon` API to extract only the trajectories of specifc antIDs"
   ]
  },
  {
   "cell_type": "code",
   "execution_count": 1,
   "metadata": {
    "collapsed": true
   },
   "outputs": [],
   "source": [
    "import py_fort_myrmidon as fm\n",
    "from datetime import datetime, timedelta  # For convenient handling of time and date\n",
    "import pandas as pd  # Used to create a dataframe, similar to the structure used in R\n",
    "import dask.dataframe as dd  # Used to work with large datasets that don't fit in memory"
   ]
  },
  {
   "cell_type": "markdown",
   "metadata": {},
   "source": [
    "## Output entire trajectories"
   ]
  },
  {
   "cell_type": "markdown",
   "metadata": {},
   "source": [
    "### Function to output trajectories using pandas"
   ]
  },
  {
   "cell_type": "code",
   "execution_count": 2,
   "metadata": {
    "collapsed": false
   },
   "outputs": [],
   "source": [
    "def daily_trajectory_to_parquet(start_time, end_time, exp):\n",
    "    \"\"\"\n",
    "    Function to extract daily trajectories as a parquet file, grouped by AntID. While it is setup to extract daily trajectories, it can work for any arbitrary time duration\n",
    "    :param start_time: The start datetime object. this will be converted to a fort-myrmidon Time object\n",
    "    :param end_time: The end datetime object. this will be converted to a fort-myrmidon Time object\n",
    "    :param exp: The name of the experiment i.e., the myrmidon file\n",
    "    :return: Outputs parquet files containing trajectories grouped by AntID. The files will contain AntID, Space, StartTime of each trajectory, Pos_time (time difference in seconds from the StartTime of the trajectory), Pos_X and Pos_Y (corresponding to the X and Y coordinates at that specific time/frame)\n",
    "    \"\"\"\n",
    "    start = datetime.now()\n",
    "    t_begin = fm.Time(start_time)\n",
    "    t_stop = fm.Time(end_time)\n",
    "    trajectory = fm.Query.ComputeAntTrajectories(\n",
    "        experiment=exp,\n",
    "        start=t_begin,\n",
    "        end=t_stop,\n",
    "        # matcher=queenID,\n",
    "        maximumGap=fm.Duration.Parse(\"1000h\"),\n",
    "    )\n",
    "    # Make a list of lists with trajectory values needed. Position is an array of 5 columns, so specific columns are called\n",
    "    traj_list = [\n",
    "        [\n",
    "            trajectory.Ant,\n",
    "            trajectory.Space,\n",
    "            trajectory.Start.ToDateTime(),\n",
    "            trajectory.Positions[:, 0],\n",
    "            trajectory.Positions[:, 1],\n",
    "            trajectory.Positions[:, 2],\n",
    "        ]\n",
    "        for trajectory in trajectory\n",
    "    ]\n",
    "    # Make the list into a dataframe\n",
    "    traj_df = pd.DataFrame(\n",
    "        traj_list, columns=[\"AntID\", \"Space\", \"StartTime\", \"Pos_time\", \"Pos_X\", \"Pos_Y\"]\n",
    "    )\n",
    "    # Explode columns which are in the form of lists to expand the dataframe\n",
    "    traj_df = traj_df.explode(column=[\"Pos_time\", \"X_coor\", \"Y_coor\"])\n",
    "    # Create file name\n",
    "    f_name = \"Trajectories_{}_{}.parquet\".format(\n",
    "        exp.Name, start_time.strftime(\"%Y%m%d\")\n",
    "    )\n",
    "    # Save as parquet\n",
    "    traj_df.to_parquet(f_name, partition_on=[\"AntID\"])\n",
    "    end = datetime.now()\n",
    "    print(\"Parquet file for\", start_time.strftime(\"%d-%m-%Y\"), \"output in\", end - start)"
   ]
  },
  {
   "cell_type": "markdown",
   "metadata": {},
   "source": [
    "### Function to output trajectories using dask"
   ]
  },
  {
   "cell_type": "code",
   "execution_count": 4,
   "metadata": {
    "collapsed": false
   },
   "outputs": [],
   "source": [
    "def daily_trajectory_to_parquet_dask(start_time, end_time, exp):\n",
    "    \"\"\"\n",
    "    Function to extract daily trajectories as a parquet file, grouped by AntID. This variation of the function uses dask for very large datasets which don't stay in memory. While it is setup to extract daily trajectories, it can work for any arbitrary time duration\n",
    "    :param start_time: The start datetime object. this will be converted to a fort-myrmidon Time object\n",
    "    :param end_time: The end datetime object. this will be converted to a fort-myrmidon Time object\n",
    "    :param exp: The name of the experiment i.e., the myrmidon file\n",
    "    :return: Outputs parquet files containing trajectories grouped by AntID. The files will contain AntID, Space, StartTime of each trajectory, Pos_time (time difference in seconds from the StartTime of the trajectory), Pos_X and Pos_Y (corresponding to the X and Y coordinates at that specific time/frame)\n",
    "    \"\"\"\n",
    "    start = datetime.now()\n",
    "    t_begin = fm.Time(start_time)\n",
    "    t_stop = fm.Time(end_time)\n",
    "    trajectory = fm.Query.ComputeAntTrajectories(\n",
    "        experiment=exp,\n",
    "        start=t_begin,\n",
    "        end=t_stop,\n",
    "        # matcher=queenID,\n",
    "        maximumGap=fm.Duration.Parse(\"1000h\"),\n",
    "    )\n",
    "    # Make a list of lists with trajectory values needed. Position is an array of 5 columns, so specific columns are called\n",
    "    traj_list = [\n",
    "        [\n",
    "            trajectory.Ant,\n",
    "            trajectory.Space,\n",
    "            trajectory.Start.ToDateTime(),\n",
    "            trajectory.Positions[:, 0],\n",
    "            trajectory.Positions[:, 1],\n",
    "            trajectory.Positions[:, 2],\n",
    "        ]\n",
    "        for trajectory in trajectory\n",
    "    ]\n",
    "    # Make the list into a dataframe\n",
    "    traj_df = pd.DataFrame(\n",
    "        traj_list, columns=[\"AntID\", \"Space\", \"StartTime\", \"Pos_time\", \"Pos_X\", \"Pos_Y\"]\n",
    "    )\n",
    "    # Explode columns which are in the form of lists to expand the dataframe\n",
    "    # Convert to dask dataframe\n",
    "    traj_dd = dd.from_pandas(traj_df, npartitions=20)\n",
    "    traj_dd = traj_dd.explode(column=[\"Pos_time\", \"Pos_X\", \"Pos_Y\"])\n",
    "    # Coerce object columns to integer\n",
    "    traj_dd[\"Pos_time\"] = dd.to_numeric(traj_dd[\"Pos_time\"], errors=\"coerce\")\n",
    "    traj_dd[\"Pos_X\"] = dd.to_numeric(traj_dd[\"Pos_X\"], errors=\"coerce\")\n",
    "    traj_dd[\"Pos_Y\"] = dd.to_numeric(traj_dd[\"Pos_Y\"], errors=\"coerce\")\n",
    "    # Create file name\n",
    "    f_name = \"Trajectories_{}_{}.parquet\".format(\n",
    "        exp.Name, start_time.strftime(\"%Y%m%d\")\n",
    "    )\n",
    "    # Save as parquet\n",
    "    traj_dd.to_parquet(f_name, partition_on=[\"AntID\"])\n",
    "    end = datetime.now()\n",
    "    print(\"Parquet file for\", start_time.strftime(\"%d-%m-%Y\"), \"output in\", end - start)"
   ]
  },
  {
   "cell_type": "markdown",
   "metadata": {},
   "source": [
    "### Function to output trajectories of focal individuals"
   ]
  },
  {
   "cell_type": "code",
   "execution_count": 7,
   "metadata": {
    "collapsed": false
   },
   "outputs": [],
   "source": [
    "def daily_trajectory_to_parquet_focal(start_time, end_time, exp, matcher_query):\n",
    "    \"\"\"\n",
    "    Function to extract daily trajectories as a parquet file, grouped by AntID. While it is setup to extract daily trajectories, it can work for any arbitrary time duration\n",
    "    :param start_time: The start datetime object. this will be converted to a fort-myrmidon Time object\n",
    "    :param end_time: The end datetime object. this will be converted to a fort-myrmidon Time object\n",
    "    :param exp: The name of the experiment i.e., the myrmidon file\n",
    "    :param matcher_query: The fm matcher corresponding to the focal IDs\n",
    "    :return: Outputs parquet files containing trajectories grouped by AntID. The files will contain AntID, Space, StartTime of each trajectory, Pos_time (time difference in seconds from the StartTime of the trajectory), Pos_X and Pos_Y (corresponding to the X and Y coordinates at that specific time/frame)\n",
    "    \"\"\"\n",
    "    start = datetime.now()\n",
    "    t_begin = fm.Time(start_time)\n",
    "    t_stop = fm.Time(end_time)\n",
    "    trajectory = fm.Query.ComputeAntTrajectories(\n",
    "        experiment=exp,\n",
    "        start=t_begin,\n",
    "        end=t_stop,\n",
    "        matcher=matcher_query,\n",
    "        maximumGap=fm.Duration.Parse(\"1000h\"),\n",
    "    )\n",
    "    # Make a list of lists with trajectory values needed. Position is an array of 5 columns, so specific columns are called\n",
    "    traj_list = [\n",
    "        [\n",
    "            trajectory.Ant,\n",
    "            trajectory.Space,\n",
    "            trajectory.Start.ToDateTime(),\n",
    "            trajectory.Positions[:, 0],\n",
    "            trajectory.Positions[:, 1],\n",
    "            trajectory.Positions[:, 2],\n",
    "        ]\n",
    "        for trajectory in trajectory\n",
    "    ]\n",
    "    # Make the list into a dataframe\n",
    "    traj_df = pd.DataFrame(\n",
    "        traj_list, columns=[\"AntID\", \"Space\", \"StartTime\", \"Pos_time\", \"Pos_X\", \"Pos_Y\"]\n",
    "    )\n",
    "    # Explode columns which are in the form of lists to expand the dataframe\n",
    "    traj_df = traj_df.explode(column=[\"Pos_time\", \"X_coor\", \"Y_coor\"])\n",
    "    # Create file name\n",
    "    f_name = \"Trajectories_{}_{}.parquet\".format(\n",
    "        exp.Name, start_time.strftime(\"%Y%m%d\")\n",
    "    )\n",
    "    # Save as parquet\n",
    "    traj_df.to_parquet(f_name, partition_on=[\"AntID\"])\n",
    "    end = datetime.now()\n",
    "    print(\"Parquet file for\", start_time.strftime(\"%d-%m-%Y\"), \"output in\", end - start)"
   ]
  },
  {
   "cell_type": "markdown",
   "metadata": {},
   "source": [
    "### Colony Cfel42"
   ]
  },
  {
   "cell_type": "code",
   "execution_count": 2,
   "metadata": {
    "collapsed": false
   },
   "outputs": [],
   "source": [
    "# f_myrmidon = \"/media/egeorge/Elements/220727_Test3/RemovalTest2_Col42.myrmidon\"\n",
    "f_myrmidon = \"/media/egeorge/Elements/Woundcare Experiment1/Cfell_wound_col42.myrmidon\"\n",
    "exp = fm.Experiment.Open(f_myrmidon)"
   ]
  },
  {
   "cell_type": "code",
   "execution_count": 3,
   "metadata": {
    "collapsed": false
   },
   "outputs": [],
   "source": [
    "# exp.Ants\n",
    "# queenID = fm.Matcher.AntID(1)\n",
    "# t_r = fm_time_range(t_start, t_end)"
   ]
  },
  {
   "cell_type": "code",
   "execution_count": 6,
   "metadata": {
    "collapsed": false
   },
   "outputs": [],
   "source": [
    "# exp.Ants\n",
    "day1_focal = fm.Matcher.AntID(106)\n",
    "day1_caregivers = fm.Matcher.Or(\n",
    "    fm.Matcher.AntID(103),\n",
    "    fm.Matcher.AntID(114),\n",
    "    fm.Matcher.AntID(2),\n",
    "    fm.Matcher.AntID(21),\n",
    "    fm.Matcher.AntID(24),\n",
    "    fm.Matcher.AntID(3),\n",
    "    fm.Matcher.AntID(53),\n",
    "    fm.Matcher.AntID(63),\n",
    ")\n",
    "day1_ids = fm.Matcher.Or(day1_focal, day1_caregivers)\n",
    "day1_start = datetime(2022, 5, 2, 16, 3).astimezone(tz=None)\n",
    "day1_end = datetime(2022, 5, 2, 22, 3).astimezone(tz=None)"
   ]
  },
  {
   "cell_type": "code",
   "execution_count": null,
   "metadata": {
    "collapsed": false,
    "pycharm": {
     "is_executing": true
    }
   },
   "outputs": [],
   "source": [
    "daily_trajectory_to_parquet_focal(day1_start, day1_end, exp, day1_ids)"
   ]
  },
  {
   "cell_type": "markdown",
   "metadata": {},
   "source": [
    "## Output trajectories with mean coordinates\n",
    "\n",
    "Instead of outputting the whole trajectory we can also compress it, e.g., by obtaining the mean X and Y coordinate for each ant per second insted of at the experimental frame rate. <br>\n",
    "In this case we will use a pandas groupby that groups the values to the nearest second and takes the mean."
   ]
  },
  {
   "cell_type": "code",
   "execution_count": null,
   "metadata": {},
   "outputs": [],
   "source": [
    "def trajectory_output_summarised(start_time, end_time, exp):\n",
    "    \"\"\"\n",
    "    Function to extract daily trajectories as a parquet file, grouped by AntID. While it is setup to extract daily trajectories, it can work for any arbitrary time duration\n",
    "    :param start_time: The start datetime object. this will be converted to a fort-myrmidon Time object\n",
    "    :param end_time: The end datetime object. this will be converted to a fort-myrmidon Time object\n",
    "    :param exp: The name of the experiment i.e., the myrmidon file\n",
    "    :param matcher_query: The fm matcher corresponding to the focal IDs\n",
    "    :return: Outputs a pandas dataframe containing AntID, Space, Time, X_coordinates and Y_coordinates of each ID averaged over 1 second from the X and Y coordinates. Averagingg is done to have a dataset which can be merged across IDs using at the resolution of 1s.\n",
    "    \"\"\"\n",
    "    start = datetime.now()\n",
    "    t_begin = fm.Time(start_time)\n",
    "    t_stop = fm.Time(end_time)\n",
    "    trajectory = fm.Query.ComputeAntTrajectories(\n",
    "        experiment=exp,\n",
    "        start=t_begin,\n",
    "        end=t_stop,\n",
    "        # matcher=matcher_query,\n",
    "        maximumGap=fm.Duration.Parse(\"1000h\"),\n",
    "        reportProgress=False,\n",
    "    )\n",
    "    # Make a list of lists with trajectory values needed. Position is an array of 5 columns, so specific columns are called\n",
    "    traj_list = [\n",
    "        [\n",
    "            trajectory.Ant,\n",
    "            trajectory.Space,\n",
    "            trajectory.Start.ToDateTime(),\n",
    "            trajectory.Positions[:, 0],\n",
    "            trajectory.Positions[:, 1],\n",
    "            trajectory.Positions[:, 2],\n",
    "        ]\n",
    "        for trajectory in trajectory\n",
    "    ]\n",
    "    # Make the list into a dataframe\n",
    "    traj_df = pd.DataFrame(\n",
    "        traj_list,\n",
    "        columns=[\"AntID\", \"Space\", \"StartTime\", \"Pos_time\", \"X_coor\", \"Y_coor\"],\n",
    "    )\n",
    "    # Explode columns which are in the form of lists to expand the dataframe\n",
    "    traj_df = traj_df.explode(column=[\"Pos_time\", \"X_coor\", \"Y_coor\"])\n",
    "    # Coerce coordinates to integer\n",
    "    traj_df[\"X_coor\"] = pd.to_numeric(traj_df[\"X_coor\"], errors=\"coerce\")\n",
    "    traj_df[\"Y_coor\"] = pd.to_numeric(traj_df[\"Y_coor\"], errors=\"coerce\")\n",
    "    # Convert Pos_time to timedelta and obtain actual datetime for each trajectory entry\n",
    "    traj_df[\"Pos_time\"] = pd.to_numeric(traj_df[\"Pos_time\"], errors=\"coerce\")\n",
    "    traj_df[\"Pos_time\"] = pd.to_timedelta(\n",
    "        traj_df[\"Pos_time\"], unit=\"S\", errors=\"coerce\"\n",
    "    )\n",
    "    traj_df[\"Time\"] = traj_df[\"StartTime\"] + traj_df[\"Pos_time\"]\n",
    "    # Drop unwanted ccolumns\n",
    "    traj_df = traj_df.drop([\"StartTime\", \"Pos_time\"], axis=1)\n",
    "    # Reorder columns\n",
    "    traj_df = traj_df[[\"AntID\", \"Space\", \"Time\", \"X_coor\", \"Y_coor\"]]\n",
    "    if traj_df.empty:  # If no trajectories are output\n",
    "        # empty_row = pd.DataFrame([{'AntID': 'Unknown', 'Space':np.nan, 'Time':np.nan, 'X_coor':np.nan, 'Y_coor':np.nan}]) # Create empty row with unknown as antID\n",
    "        # traj_df = pd.concat([empty_row]) # Add empty row to dataframe\n",
    "        print(\"No trajectories found. Created empty dataframe\")\n",
    "        return traj_df  # Return empty dataframe\n",
    "    # Obtain average X and Y coordinates per second\n",
    "    traj_df = (\n",
    "        traj_df.groupby([pd.Grouper(key=\"Time\", freq=\"1s\"), \"AntID\", \"Space\"])\n",
    "        .agg(X_mean=(\"X_coor\", \"mean\"), Y_mean=(\"Y_coor\", \"mean\"))\n",
    "        .reset_index()\n",
    "    )\n",
    "    end = datetime.now()\n",
    "    # print(\"Trajectories output in\", end-start)\n",
    "    return traj_df"
   ]
  },
  {
   "cell_type": "code",
   "execution_count": null,
   "metadata": {},
   "outputs": [],
   "source": [
    "def trajectory_output_summarised_focal(start_time, end_time, exp, matcher_query):\n",
    "    \"\"\"\n",
    "    Function to extract daily trajectories as a parquet file, grouped by AntID. While it is setup to extract daily trajectories, it can work for any arbitrary time duration\n",
    "    :param start_time: The start datetime object. this will be converted to a fort-myrmidon Time object\n",
    "    :param end_time: The end datetime object. this will be converted to a fort-myrmidon Time object\n",
    "    :param exp: The name of the experiment i.e., the myrmidon file\n",
    "    :param matcher_query: The fm matcher corresponding to the focal IDs\n",
    "    :return: Outputs a pandas dataframe containing AntID, Space, Time, X_coordinates and Y_coordinates of each ID averaged over 1 second from the X and Y coordinates. Averagingg is done to have a dataset which can be merged across IDs using at the resolution of 1s.\n",
    "    \"\"\"\n",
    "    start = datetime.now()\n",
    "    t_begin = fm.Time(start_time)\n",
    "    t_stop = fm.Time(end_time)\n",
    "    trajectory = fm.Query.ComputeAntTrajectories(\n",
    "        experiment=exp,\n",
    "        start=t_begin,\n",
    "        end=t_stop,\n",
    "        matcher=matcher_query,\n",
    "        maximumGap=fm.Duration.Parse(\"1000h\"),\n",
    "        reportProgress=False,\n",
    "    )\n",
    "    # Make a list of lists with trajectory values needed. Position is an array of 5 columns, so specific columns are called\n",
    "    traj_list = [\n",
    "        [\n",
    "            trajectory.Ant,\n",
    "            trajectory.Space,\n",
    "            trajectory.Start.ToDateTime(),\n",
    "            trajectory.Positions[:, 0],\n",
    "            trajectory.Positions[:, 1],\n",
    "            trajectory.Positions[:, 2],\n",
    "        ]\n",
    "        for trajectory in trajectory\n",
    "    ]\n",
    "    # Make the list into a dataframe\n",
    "    traj_df = pd.DataFrame(\n",
    "        traj_list,\n",
    "        columns=[\"AntID\", \"Space\", \"StartTime\", \"Pos_time\", \"X_coor\", \"Y_coor\"],\n",
    "    )\n",
    "    # Explode columns which are in the form of lists to expand the dataframe\n",
    "    traj_df = traj_df.explode(column=[\"Pos_time\", \"X_coor\", \"Y_coor\"])\n",
    "    # Coerce coordinates to integer\n",
    "    traj_df[\"X_coor\"] = pd.to_numeric(traj_df[\"X_coor\"], errors=\"coerce\")\n",
    "    traj_df[\"Y_coor\"] = pd.to_numeric(traj_df[\"Y_coor\"], errors=\"coerce\")\n",
    "    # Convert Pos_time to timedelta and obtain actual datetime for each trajectory entry\n",
    "    traj_df[\"Pos_time\"] = pd.to_numeric(traj_df[\"Pos_time\"], errors=\"coerce\")\n",
    "    traj_df[\"Pos_time\"] = pd.to_timedelta(\n",
    "        traj_df[\"Pos_time\"], unit=\"S\", errors=\"coerce\"\n",
    "    )\n",
    "    traj_df[\"Time\"] = traj_df[\"StartTime\"] + traj_df[\"Pos_time\"]\n",
    "    # Drop unwanted ccolumns\n",
    "    traj_df = traj_df.drop([\"StartTime\", \"Pos_time\"], axis=1)\n",
    "    # Reorder columns\n",
    "    traj_df = traj_df[[\"AntID\", \"Space\", \"Time\", \"X_coor\", \"Y_coor\"]]\n",
    "    if traj_df.empty:  # If no trajectories are output\n",
    "        # empty_row = pd.DataFrame([{'AntID': 'Unknown', 'Space':np.nan, 'Time':np.nan, 'X_coor':np.nan, 'Y_coor':np.nan}]) # Create empty row with unknown as antID\n",
    "        # traj_df = pd.concat([empty_row]) # Add empty row to dataframe\n",
    "        print(\"No trajectories found. Created empty dataframe\")\n",
    "        return traj_df  # Return empty dataframe\n",
    "    # Obtain average X and Y coordinates per second\n",
    "    traj_df = (\n",
    "        traj_df.groupby([pd.Grouper(key=\"Time\", freq=\"1s\"), \"AntID\", \"Space\"])\n",
    "        .agg(X_mean=(\"X_coor\", \"mean\"), Y_mean=(\"Y_coor\", \"mean\"))\n",
    "        .reset_index()\n",
    "    )\n",
    "    end = datetime.now()\n",
    "    # print(\"Trajectories output in\", end-start)\n",
    "    return traj_df"
   ]
  },
  {
   "cell_type": "markdown",
   "metadata": {},
   "source": [
    "## Output trajectories for all ants"
   ]
  },
  {
   "cell_type": "code",
   "execution_count": null,
   "metadata": {},
   "outputs": [],
   "source": [
    "def daily_trajectory_to_parquet_optimised(start_time, end_time, exp):\n",
    "    \"\"\"\n",
    "    Function to extract daily trajectories as a parquet file, grouped by AntID. While it is setup to extract daily trajectories, it can work for any arbitrary time duration\n",
    "    :param start_time: The start datetime object. this will be converted to a fort-myrmidon Time object\n",
    "    :param end_time: The end datetime object. this will be converted to a fort-myrmidon Time object\n",
    "    :param exp: The name of the experiment i.e., the myrmidon file\n",
    "    :return: Outputs parquet files containing trajectories grouped by AntID. The files will contain AntID, Space, StartTime of each trajectory, Pos_time (time difference in seconds from the StartTime of the trajectory), Pos_X and Pos_Y (corresponding to the X and Y coordinates at that specific time/frame)\n",
    "    \"\"\"\n",
    "    start = datetime.now()\n",
    "    t_begin = fm.Time(start_time)\n",
    "    t_stop = fm.Time(end_time)\n",
    "    trajectory = fm.Query.ComputeAntTrajectories(\n",
    "        experiment=exp,\n",
    "        start=t_begin,\n",
    "        end=t_stop,\n",
    "        # matcher=queenID,\n",
    "        maximumGap=fm.Duration.Parse(\"1000h\"),\n",
    "    )\n",
    "    # Make a list of lists with trajectory values needed. Position is an array of 5 columns, so specific columns are called\n",
    "    traj_list = [\n",
    "        [\n",
    "            trajectory.Ant,\n",
    "            trajectory.Space,\n",
    "            trajectory.Start.ToDateTime(),\n",
    "            trajectory.Positions[:, 0],\n",
    "            trajectory.Positions[:, 1],\n",
    "            trajectory.Positions[:, 2],\n",
    "        ]\n",
    "        for trajectory in trajectory\n",
    "    ]\n",
    "    # Make the list into a dataframe\n",
    "    traj_df = pd.DataFrame(\n",
    "        traj_list, columns=[\"AntID\", \"Space\", \"StartTime\", \"Pos_time\", \"Pos_X\", \"Pos_Y\"]\n",
    "    )\n",
    "    # Explode columns which are in the form of lists to expand the dataframe\n",
    "    traj_df = traj_df.explode(column=[\"Pos_time\", \"X_coor\", \"Y_coor\"])\n",
    "    # Create file name\n",
    "    f_name = \"Trajectories_{}_{}.parquet\".format(\n",
    "        exp.Name, start_time.strftime(\"%Y%m%d\")\n",
    "    )\n",
    "    # Save as parquet\n",
    "    traj_df.to_parquet(f_name, partition_on=[\"AntID\"])\n",
    "    end = datetime.now()\n",
    "    print(\"Parquet file for\", start_time.strftime(\"%d-%m-%Y\"), \"output in\", end - start)"
   ]
  },
  {
   "cell_type": "code",
   "execution_count": 2,
   "metadata": {},
   "outputs": [],
   "source": [
    "f_myrmidon = \"/media/ebiag/Ebi-3/InfectionExp_Cfel13/InfectionExp_Cfel13.myrmidon\"\n",
    "exp = fm.Experiment.Open(f_myrmidon)"
   ]
  },
  {
   "cell_type": "code",
   "execution_count": 4,
   "metadata": {},
   "outputs": [],
   "source": [
    "# Arbirtarily choose 2nd baseline day\n",
    "day_start = datetime(2023, 4, 20, 0, 0).astimezone(tz=None)\n",
    "day_end = datetime(2023, 4, 21, 0, 0).astimezone(tz=None)"
   ]
  },
  {
   "cell_type": "code",
   "execution_count": null,
   "metadata": {},
   "outputs": [
    {
     "name": "stderr",
     "output_type": "stream",
     "text": [
      "Computing ant trajectories: 100%|██| 1440/1440 [00:28<00:00, 51.27tracked min/s]\n"
     ]
    }
   ],
   "source": [
    "t_begin = fm.Time(day_start)\n",
    "t_stop = fm.Time(day_end)\n",
    "\n",
    "# Compute trajectories\n",
    "trajectories = fm.Query.ComputeAntTrajectories(\n",
    "    experiment=exp,\n",
    "    start=t_begin,\n",
    "    end=t_stop,\n",
    "    maximumGap=fm.Duration.Parse(\"1000h\"),  # Adjust gap as needed\n",
    "    # matcher=queenID, # Uncomment if you need to filter by specific IDs\n",
    ")"
   ]
  },
  {
   "cell_type": "code",
   "execution_count": null,
   "metadata": {},
   "outputs": [],
   "source": [
    "# Get a list of trajectories\n",
    "traj_list = []\n",
    "for trajectory in trajectories:\n",
    "    # Ensure Positions is not empty\n",
    "    if trajectory.Positions.shape[0] > 0:\n",
    "        traj_list.append(\n",
    "            [\n",
    "                trajectory.Ant,  # Get Ant ID as integer\n",
    "                trajectory.Space,  # Get Space ID as integer\n",
    "                trajectory.Start.ToDateTime(),\n",
    "                trajectory.Positions[:, 0],  # Time offset in seconds\n",
    "                trajectory.Positions[:, 1],  # X coordinate\n",
    "                trajectory.Positions[:, 2],  # Y coordinate\n",
    "            ]\n",
    "        )"
   ]
  },
  {
   "cell_type": "code",
   "execution_count": null,
   "metadata": {},
   "outputs": [],
   "source": [
    "# Convert to dataframe\n",
    "traj_df = pd.DataFrame(\n",
    "    traj_list,\n",
    "    columns=[\"AntID\", \"Space\", \"StartTime\", \"Pos_time_offset\", \"Pos_X\", \"Pos_Y\"],\n",
    ")"
   ]
  },
  {
   "cell_type": "code",
   "execution_count": null,
   "metadata": {},
   "outputs": [],
   "source": [
    "# Explode trajectories to get one row per time point and ant\n",
    "traj_df = traj_df.explode(\n",
    "    column=[\"Pos_time_offset\", \"Pos_X\", \"Pos_Y\"], ignore_index=True\n",
    ")"
   ]
  },
  {
   "cell_type": "code",
   "execution_count": 11,
   "metadata": {},
   "outputs": [],
   "source": [
    "# Coerce coordinates to integer\n",
    "traj_df[\"X_coor\"] = pd.to_numeric(traj_df[\"Pos_X\"], errors=\"coerce\")\n",
    "traj_df[\"Y_coor\"] = pd.to_numeric(traj_df[\"Pos_Y\"], errors=\"coerce\")"
   ]
  },
  {
   "cell_type": "code",
   "execution_count": 12,
   "metadata": {},
   "outputs": [
    {
     "data": {
      "application/vnd.microsoft.datawrangler.viewer.v0+json": {
       "columns": [
        {
         "name": "index",
         "rawType": "int64",
         "type": "integer"
        },
        {
         "name": "AntID",
         "rawType": "int64",
         "type": "integer"
        },
        {
         "name": "Space",
         "rawType": "int64",
         "type": "integer"
        },
        {
         "name": "StartTime",
         "rawType": "datetime64[ns]",
         "type": "datetime"
        },
        {
         "name": "Pos_time_offset",
         "rawType": "object",
         "type": "unknown"
        },
        {
         "name": "Pos_X",
         "rawType": "object",
         "type": "unknown"
        },
        {
         "name": "Pos_Y",
         "rawType": "object",
         "type": "unknown"
        },
        {
         "name": "X_coor",
         "rawType": "float64",
         "type": "float"
        },
        {
         "name": "Y_coor",
         "rawType": "float64",
         "type": "float"
        }
       ],
       "conversionMethod": "pd.DataFrame",
       "ref": "72e61658-f9b9-4176-8e98-cc7161bdf0a6",
       "rows": [
        [
         "0",
         "97",
         "1",
         "2023-04-20 00:00:00.442248",
         "0.0",
         "1546.9755762202103",
         "4375.745888679869",
         "1546.9755762202103",
         "4375.745888679869"
        ],
        [
         "1",
         "97",
         "1",
         "2023-04-20 00:00:00.442248",
         "0.200003",
         "1546.9963956280817",
         "4375.723200981795",
         "1546.9963956280817",
         "4375.723200981795"
        ],
        [
         "2",
         "97",
         "1",
         "2023-04-20 00:00:00.442248",
         "0.400005",
         "1546.9721739974786",
         "4375.7899106983505",
         "1546.9721739974786",
         "4375.7899106983505"
        ],
        [
         "3",
         "97",
         "1",
         "2023-04-20 00:00:00.442248",
         "0.600008",
         "1547.0335599906502",
         "4375.826448934381",
         "1547.0335599906502",
         "4375.826448934381"
        ],
        [
         "4",
         "97",
         "1",
         "2023-04-20 00:00:00.442248",
         "1.200014",
         "1547.2079815401346",
         "4376.1546744469815",
         "1547.2079815401346",
         "4376.1546744469815"
        ]
       ],
       "shape": {
        "columns": 8,
        "rows": 5
       }
      },
      "text/html": [
       "<div>\n",
       "<style scoped>\n",
       "    .dataframe tbody tr th:only-of-type {\n",
       "        vertical-align: middle;\n",
       "    }\n",
       "\n",
       "    .dataframe tbody tr th {\n",
       "        vertical-align: top;\n",
       "    }\n",
       "\n",
       "    .dataframe thead th {\n",
       "        text-align: right;\n",
       "    }\n",
       "</style>\n",
       "<table border=\"1\" class=\"dataframe\">\n",
       "  <thead>\n",
       "    <tr style=\"text-align: right;\">\n",
       "      <th></th>\n",
       "      <th>AntID</th>\n",
       "      <th>Space</th>\n",
       "      <th>StartTime</th>\n",
       "      <th>Pos_time_offset</th>\n",
       "      <th>Pos_X</th>\n",
       "      <th>Pos_Y</th>\n",
       "      <th>X_coor</th>\n",
       "      <th>Y_coor</th>\n",
       "    </tr>\n",
       "  </thead>\n",
       "  <tbody>\n",
       "    <tr>\n",
       "      <th>0</th>\n",
       "      <td>97</td>\n",
       "      <td>1</td>\n",
       "      <td>2023-04-20 00:00:00.442248</td>\n",
       "      <td>0.0</td>\n",
       "      <td>1546.975576</td>\n",
       "      <td>4375.745889</td>\n",
       "      <td>1546.975576</td>\n",
       "      <td>4375.745889</td>\n",
       "    </tr>\n",
       "    <tr>\n",
       "      <th>1</th>\n",
       "      <td>97</td>\n",
       "      <td>1</td>\n",
       "      <td>2023-04-20 00:00:00.442248</td>\n",
       "      <td>0.200003</td>\n",
       "      <td>1546.996396</td>\n",
       "      <td>4375.723201</td>\n",
       "      <td>1546.996396</td>\n",
       "      <td>4375.723201</td>\n",
       "    </tr>\n",
       "    <tr>\n",
       "      <th>2</th>\n",
       "      <td>97</td>\n",
       "      <td>1</td>\n",
       "      <td>2023-04-20 00:00:00.442248</td>\n",
       "      <td>0.400005</td>\n",
       "      <td>1546.972174</td>\n",
       "      <td>4375.789911</td>\n",
       "      <td>1546.972174</td>\n",
       "      <td>4375.789911</td>\n",
       "    </tr>\n",
       "    <tr>\n",
       "      <th>3</th>\n",
       "      <td>97</td>\n",
       "      <td>1</td>\n",
       "      <td>2023-04-20 00:00:00.442248</td>\n",
       "      <td>0.600008</td>\n",
       "      <td>1547.03356</td>\n",
       "      <td>4375.826449</td>\n",
       "      <td>1547.033560</td>\n",
       "      <td>4375.826449</td>\n",
       "    </tr>\n",
       "    <tr>\n",
       "      <th>4</th>\n",
       "      <td>97</td>\n",
       "      <td>1</td>\n",
       "      <td>2023-04-20 00:00:00.442248</td>\n",
       "      <td>1.200014</td>\n",
       "      <td>1547.207982</td>\n",
       "      <td>4376.154674</td>\n",
       "      <td>1547.207982</td>\n",
       "      <td>4376.154674</td>\n",
       "    </tr>\n",
       "  </tbody>\n",
       "</table>\n",
       "</div>"
      ],
      "text/plain": [
       "   AntID  Space                  StartTime Pos_time_offset        Pos_X  \\\n",
       "0     97      1 2023-04-20 00:00:00.442248             0.0  1546.975576   \n",
       "1     97      1 2023-04-20 00:00:00.442248        0.200003  1546.996396   \n",
       "2     97      1 2023-04-20 00:00:00.442248        0.400005  1546.972174   \n",
       "3     97      1 2023-04-20 00:00:00.442248        0.600008   1547.03356   \n",
       "4     97      1 2023-04-20 00:00:00.442248        1.200014  1547.207982   \n",
       "\n",
       "         Pos_Y       X_coor       Y_coor  \n",
       "0  4375.745889  1546.975576  4375.745889  \n",
       "1  4375.723201  1546.996396  4375.723201  \n",
       "2  4375.789911  1546.972174  4375.789911  \n",
       "3  4375.826449  1547.033560  4375.826449  \n",
       "4  4376.154674  1547.207982  4376.154674  "
      ]
     },
     "execution_count": 12,
     "metadata": {},
     "output_type": "execute_result"
    }
   ],
   "source": [
    "traj_df.head()"
   ]
  },
  {
   "cell_type": "code",
   "execution_count": null,
   "metadata": {},
   "outputs": [],
   "source": [
    "# Convert Pos_time to timedelta and obtain actual datetime for each trajectory entry\n",
    "traj_df[\"Pos_time\"] = pd.to_numeric(traj_df[\"Pos_time_offset\"], errors=\"coerce\")\n",
    "traj_df[\"Pos_time\"] = pd.to_timedelta(traj_df[\"Pos_time\"], unit=\"S\", errors=\"coerce\")\n",
    "traj_df[\"Time\"] = traj_df[\"StartTime\"] + traj_df[\"Pos_time\"]"
   ]
  },
  {
   "cell_type": "code",
   "execution_count": 15,
   "metadata": {},
   "outputs": [
    {
     "data": {
      "application/vnd.microsoft.datawrangler.viewer.v0+json": {
       "columns": [
        {
         "name": "index",
         "rawType": "int64",
         "type": "integer"
        },
        {
         "name": "AntID",
         "rawType": "int64",
         "type": "integer"
        },
        {
         "name": "Space",
         "rawType": "int64",
         "type": "integer"
        },
        {
         "name": "Time",
         "rawType": "datetime64[ns]",
         "type": "datetime"
        },
        {
         "name": "X_coor",
         "rawType": "float64",
         "type": "float"
        },
        {
         "name": "Y_coor",
         "rawType": "float64",
         "type": "float"
        }
       ],
       "conversionMethod": "pd.DataFrame",
       "ref": "76781a0b-959a-477a-9703-fb2141009282",
       "rows": [
        [
         "0",
         "97",
         "1",
         "2023-04-20 00:00:00.442248",
         "1546.9755762202103",
         "4375.745888679869"
        ],
        [
         "1",
         "97",
         "1",
         "2023-04-20 00:00:00.642251",
         "1546.9963956280817",
         "4375.723200981795"
        ],
        [
         "2",
         "97",
         "1",
         "2023-04-20 00:00:00.842253",
         "1546.9721739974786",
         "4375.7899106983505"
        ],
        [
         "3",
         "97",
         "1",
         "2023-04-20 00:00:01.042256",
         "1547.0335599906502",
         "4375.826448934381"
        ],
        [
         "4",
         "97",
         "1",
         "2023-04-20 00:00:01.642262",
         "1547.2079815401346",
         "4376.1546744469815"
        ]
       ],
       "shape": {
        "columns": 5,
        "rows": 5
       }
      },
      "text/html": [
       "<div>\n",
       "<style scoped>\n",
       "    .dataframe tbody tr th:only-of-type {\n",
       "        vertical-align: middle;\n",
       "    }\n",
       "\n",
       "    .dataframe tbody tr th {\n",
       "        vertical-align: top;\n",
       "    }\n",
       "\n",
       "    .dataframe thead th {\n",
       "        text-align: right;\n",
       "    }\n",
       "</style>\n",
       "<table border=\"1\" class=\"dataframe\">\n",
       "  <thead>\n",
       "    <tr style=\"text-align: right;\">\n",
       "      <th></th>\n",
       "      <th>AntID</th>\n",
       "      <th>Space</th>\n",
       "      <th>Time</th>\n",
       "      <th>X_coor</th>\n",
       "      <th>Y_coor</th>\n",
       "    </tr>\n",
       "  </thead>\n",
       "  <tbody>\n",
       "    <tr>\n",
       "      <th>0</th>\n",
       "      <td>97</td>\n",
       "      <td>1</td>\n",
       "      <td>2023-04-20 00:00:00.442248</td>\n",
       "      <td>1546.975576</td>\n",
       "      <td>4375.745889</td>\n",
       "    </tr>\n",
       "    <tr>\n",
       "      <th>1</th>\n",
       "      <td>97</td>\n",
       "      <td>1</td>\n",
       "      <td>2023-04-20 00:00:00.642251</td>\n",
       "      <td>1546.996396</td>\n",
       "      <td>4375.723201</td>\n",
       "    </tr>\n",
       "    <tr>\n",
       "      <th>2</th>\n",
       "      <td>97</td>\n",
       "      <td>1</td>\n",
       "      <td>2023-04-20 00:00:00.842253</td>\n",
       "      <td>1546.972174</td>\n",
       "      <td>4375.789911</td>\n",
       "    </tr>\n",
       "    <tr>\n",
       "      <th>3</th>\n",
       "      <td>97</td>\n",
       "      <td>1</td>\n",
       "      <td>2023-04-20 00:00:01.042256</td>\n",
       "      <td>1547.033560</td>\n",
       "      <td>4375.826449</td>\n",
       "    </tr>\n",
       "    <tr>\n",
       "      <th>4</th>\n",
       "      <td>97</td>\n",
       "      <td>1</td>\n",
       "      <td>2023-04-20 00:00:01.642262</td>\n",
       "      <td>1547.207982</td>\n",
       "      <td>4376.154674</td>\n",
       "    </tr>\n",
       "  </tbody>\n",
       "</table>\n",
       "</div>"
      ],
      "text/plain": [
       "   AntID  Space                       Time       X_coor       Y_coor\n",
       "0     97      1 2023-04-20 00:00:00.442248  1546.975576  4375.745889\n",
       "1     97      1 2023-04-20 00:00:00.642251  1546.996396  4375.723201\n",
       "2     97      1 2023-04-20 00:00:00.842253  1546.972174  4375.789911\n",
       "3     97      1 2023-04-20 00:00:01.042256  1547.033560  4375.826449\n",
       "4     97      1 2023-04-20 00:00:01.642262  1547.207982  4376.154674"
      ]
     },
     "execution_count": 15,
     "metadata": {},
     "output_type": "execute_result"
    }
   ],
   "source": [
    "# Select specific columns\n",
    "traj_df = traj_df[[\"AntID\", \"Space\", \"Time\", \"X_coor\", \"Y_coor\"]]\n",
    "traj_df.head()"
   ]
  },
  {
   "cell_type": "code",
   "execution_count": 17,
   "metadata": {},
   "outputs": [],
   "source": [
    "# Filename and output\n",
    "f_name = \"Trajectories_Cfel13_20240420.parquet\"\n",
    "traj_df.to_parquet(f_name)"
   ]
  }
 ],
 "metadata": {
  "kernelspec": {
   "display_name": "fort",
   "language": "python",
   "name": "python3"
  },
  "language_info": {
   "codemirror_mode": {
    "name": "ipython",
    "version": 3
   },
   "file_extension": ".py",
   "mimetype": "text/x-python",
   "name": "python",
   "nbconvert_exporter": "python",
   "pygments_lexer": "ipython3",
   "version": "3.8.15"
  }
 },
 "nbformat": 4,
 "nbformat_minor": 0
}
