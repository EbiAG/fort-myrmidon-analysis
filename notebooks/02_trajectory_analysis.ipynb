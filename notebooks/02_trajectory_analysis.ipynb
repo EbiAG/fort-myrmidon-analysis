{
 "cells": [
  {
   "cell_type": "markdown",
   "id": "de6d64e2",
   "metadata": {},
   "source": [
    "## Trajectory analysis template\n",
    "General geometric trajectory analysis from a ```.mymridon``` experiment file to be saved as a csv, which can be further analyzed in the optional part or exported into other software such as RStudio. Operations like done here are typically heavy and python benefits from the effeciency of the underlying ```myrmidon``` library to a big extent, especially in combination with the ```numpy``` math library.\n",
    "This notebook is a walk trough a sample usage of the following:\n",
    "* the `py-fort-myrmidon` library ([Documentation](https://formicidae-tracker.github.io/myrmidon/latest/))\n",
    "* numpy quick start [tutorial](https://numpy.org/devdocs/user/quickstart.html)"
   ]
  },
  {
   "cell_type": "code",
   "execution_count": 1,
   "id": "a5238445",
   "metadata": {},
   "outputs": [],
   "source": [
    "import py_fort_myrmidon as fm\n",
    "import numpy as np  # Fundamental math library in python. Here used only for convience: to save the csv.\n",
    "from datetime import datetime, timedelta  # For convenient handling of time and date\n",
    "import numpy as np  # Basic math library\n",
    "import pandas as pd  # Used to create a dataframe, similar to the structure used in R\n",
    "import matplotlib.pyplot as plt  # Optional: for plorring\n",
    "\n",
    "# Optional: makes plots interactive:\n",
    "# %matplotlib widget\n",
    "\n",
    "# %load_ext blackcellmagic"
   ]
  },
  {
   "cell_type": "code",
   "execution_count": 2,
   "id": "2e648f0d",
   "metadata": {},
   "outputs": [],
   "source": [
    "myrmidonFilepath = \"dataset/example.myrmidon\"\n",
    "experiment = fm.Experiment.Open(myrmidonFilepath)\n",
    "t_start = fm.Time.Parse(\"2021-02-18T00:00:00.000Z\")\n",
    "t_end = fm.Time.Parse(\"2021-02-18T01:00:00.000Z\")\n",
    "# alternatively we can get the whole wxperiment range\n",
    "# di = fm.Query.GetDataInformations(experiment)\n",
    "# t_start, t_end = di.Start, di.End"
   ]
  },
  {
   "cell_type": "markdown",
   "id": "e5265c76",
   "metadata": {},
   "source": [
    "The following is an iterator for `fort-myrmidon` time range over days in a period. See Ant metadata template for explanation."
   ]
  },
  {
   "cell_type": "code",
   "execution_count": 3,
   "id": "1b511825",
   "metadata": {},
   "outputs": [],
   "source": [
    "def fm_time_range(\n",
    "    start: fm.Time,\n",
    "    end: fm.Time,\n",
    "    *,\n",
    "    increment=24 * fm.Duration.Hour,\n",
    "):\n",
    "    \"\"\"Slice a time range is sub-time range 'à la' range()\n",
    "\n",
    "    Args:\n",
    "        start (fm.Time): the start time to consider\n",
    "        end (fm.Time): the end time to consider\n",
    "        increment (fm.Duration): the time increment to slice the whole time range\n",
    "\n",
    "    Yields:\n",
    "        Tuple[fm.Time,fm.Time]: start and end time of the sub range that span at most 'increment'\n",
    "    \"\"\"\n",
    "    while start < end:\n",
    "        last = start\n",
    "        start = min(start.Add(increment), end)\n",
    "        yield last, start"
   ]
  },
  {
   "cell_type": "markdown",
   "id": "33540036",
   "metadata": {},
   "source": [
    "Calculate the mean speed in pixels/second of each ant during the period (```t_start```, ```t_end```). This can serve as measure for the activity of the individual during that period. If the ```maximumGap``` is set to a period larger than (```t_start```, ```t_end```), then every ```ant_id``` will have at most one trajectory which makes the analysis easier in this case (we do not need to accumulate every speed and then calculate the final means/stds). The meaning of the positions in a trajectory are described [here](https://formicidae-tracker.github.io/myrmidon/latest/api/python/queries_matchers.html#py_fort_myrmidon.AntTrajectory.Positions). Another option would be to calculate the angular speed."
   ]
  },
  {
   "cell_type": "code",
   "execution_count": 4,
   "id": "57c34dc3",
   "metadata": {},
   "outputs": [
    {
     "name": "stdout",
     "output_type": "stream",
     "text": [
      "computing trajectories in ({Time:2021-02-18T00:00:00Z}, {Time:2021-02-18T01:00:00Z})\n"
     ]
    },
    {
     "name": "stderr",
     "output_type": "stream",
     "text": [
      "Computing ant trajectories:  98%|█████▉| 59/60 [00:01<00:00, 51.96tracked min/s]\n"
     ]
    }
   ],
   "source": [
    "df_trajectory_stats = pd.DataFrame(index=experiment.Ants)\n",
    "df_trajectory_stats[\"speed_mean\"] = np.nan\n",
    "df_trajectory_stats[\"speed_std\"] = np.nan\n",
    "for t_begin, t_last in fm_time_range(t_start, t_end):\n",
    "    print(f\"computing trajectories in {t_begin,t_last}\")\n",
    "    trajectories = fm.Query.ComputeAntTrajectories(\n",
    "        experiment=experiment,\n",
    "        start=t_begin,\n",
    "        end=t_last,\n",
    "        maximumGap=1000 * fm.Duration.Hour,\n",
    "    )\n",
    "    for t in trajectories:\n",
    "        dxdy = np.diff(\n",
    "            t.Positions[:, 1:3], axis=0\n",
    "        )  # x-y differerence between detections (2d vector)\n",
    "        ds = np.linalg.norm(dxdy, axis=1)  # displacement between detections (1d vector)\n",
    "        dt = np.diff(t.Positions[:, 0])  # Time interval between detections (1d vector)\n",
    "        speed = np.divide(\n",
    "            ds, dt, where=dt > 0\n",
    "        )  # [pixels / second]  (zero dt gaps are quite rare but can occur)\n",
    "        df_trajectory_stats.loc[t.Ant, \"speed_mean\"] = np.mean(speed)\n",
    "        df_trajectory_stats.loc[t.Ant, \"speed_std\"] = np.std(speed)"
   ]
  },
  {
   "cell_type": "markdown",
   "id": "c0d5873b",
   "metadata": {},
   "source": [
    "Save dataframe to a csv and optionally show and plot the results."
   ]
  },
  {
   "cell_type": "code",
   "execution_count": 5,
   "id": "f498bbf8",
   "metadata": {},
   "outputs": [],
   "source": [
    "f_name = \"ant_trajectory_stats_{}_{}_{}.csv\".format(experiment.Name, t_start, t_end)\n",
    "df_trajectory_stats.to_csv(f_name, index_label=\"ant_id\")"
   ]
  },
  {
   "cell_type": "code",
   "execution_count": 6,
   "id": "ad89c111",
   "metadata": {},
   "outputs": [
    {
     "data": {
      "text/html": [
       "<div>\n",
       "<style scoped>\n",
       "    .dataframe tbody tr th:only-of-type {\n",
       "        vertical-align: middle;\n",
       "    }\n",
       "\n",
       "    .dataframe tbody tr th {\n",
       "        vertical-align: top;\n",
       "    }\n",
       "\n",
       "    .dataframe thead th {\n",
       "        text-align: right;\n",
       "    }\n",
       "</style>\n",
       "<table border=\"1\" class=\"dataframe\">\n",
       "  <thead>\n",
       "    <tr style=\"text-align: right;\">\n",
       "      <th></th>\n",
       "      <th>speed_mean</th>\n",
       "      <th>speed_std</th>\n",
       "    </tr>\n",
       "  </thead>\n",
       "  <tbody>\n",
       "    <tr>\n",
       "      <th>1</th>\n",
       "      <td>54.120728</td>\n",
       "      <td>50.919720</td>\n",
       "    </tr>\n",
       "    <tr>\n",
       "      <th>2</th>\n",
       "      <td>80.975084</td>\n",
       "      <td>77.837522</td>\n",
       "    </tr>\n",
       "    <tr>\n",
       "      <th>3</th>\n",
       "      <td>NaN</td>\n",
       "      <td>NaN</td>\n",
       "    </tr>\n",
       "    <tr>\n",
       "      <th>4</th>\n",
       "      <td>NaN</td>\n",
       "      <td>NaN</td>\n",
       "    </tr>\n",
       "    <tr>\n",
       "      <th>5</th>\n",
       "      <td>15.796822</td>\n",
       "      <td>36.427106</td>\n",
       "    </tr>\n",
       "    <tr>\n",
       "      <th>...</th>\n",
       "      <td>...</td>\n",
       "      <td>...</td>\n",
       "    </tr>\n",
       "    <tr>\n",
       "      <th>110</th>\n",
       "      <td>9.448337</td>\n",
       "      <td>25.374052</td>\n",
       "    </tr>\n",
       "    <tr>\n",
       "      <th>111</th>\n",
       "      <td>1.143159</td>\n",
       "      <td>0.835618</td>\n",
       "    </tr>\n",
       "    <tr>\n",
       "      <th>112</th>\n",
       "      <td>8.314448</td>\n",
       "      <td>27.270737</td>\n",
       "    </tr>\n",
       "    <tr>\n",
       "      <th>113</th>\n",
       "      <td>4.234019</td>\n",
       "      <td>13.887649</td>\n",
       "    </tr>\n",
       "    <tr>\n",
       "      <th>114</th>\n",
       "      <td>5.277410</td>\n",
       "      <td>11.262511</td>\n",
       "    </tr>\n",
       "  </tbody>\n",
       "</table>\n",
       "<p>114 rows × 2 columns</p>\n",
       "</div>"
      ],
      "text/plain": [
       "     speed_mean  speed_std\n",
       "1     54.120728  50.919720\n",
       "2     80.975084  77.837522\n",
       "3           NaN        NaN\n",
       "4           NaN        NaN\n",
       "5     15.796822  36.427106\n",
       "..          ...        ...\n",
       "110    9.448337  25.374052\n",
       "111    1.143159   0.835618\n",
       "112    8.314448  27.270737\n",
       "113    4.234019  13.887649\n",
       "114    5.277410  11.262511\n",
       "\n",
       "[114 rows x 2 columns]"
      ]
     },
     "execution_count": 6,
     "metadata": {},
     "output_type": "execute_result"
    },
    {
     "data": {
      "application/vnd.jupyter.widget-view+json": {
       "model_id": "cd130553afab4a9d9738f4d8d3edc2f0",
       "version_major": 2,
       "version_minor": 0
      },
      "image/png": "[encoded data removed]",
      "text/html": [
       "\n",
       "            <div style=\"display: inline-block;\">\n",
       "                <div class=\"jupyter-widgets widget-label\" style=\"text-align: center;\">\n",
       "                    Figure\n",
       "                </div>\n",
       "                <img src='data:image/png;base64,iVBORw0KGgoAAAANSUhEUgAAAyAAAAEsCAYAAAA7Ldc6AAAAOXRFWHRTb2Z0d2FyZQBNYXRwbG90bGliIHZlcnNpb24zLjUuMSwgaHR0cHM6Ly9tYXRwbG90bGliLm9yZy/YYfK9AAAACXBIWXMAAA9hAAAPYQGoP6dpAABGNElEQVR4nO3de1hVddr/8c/agJwRQzklAil5PtuYVGqpaKlp/jqYmTlmWWlpNVpmByxD7fToNGXZzKRTaU5Nlk1Z2pR2sCw1rdFGnbS0SSTTERUDg/v3hw/rATciKOyN8H5d174uWPdea917fffa+3vvdfg6ZmYCAAAAAB/w+DsBAAAAAHUHBQgAAAAAn6EAAQAAAOAzFCAAAAAAfIYCBAAAAIDPUIAAAAAA8BkKEAAAAAA+QwECAAAAwGcoQAAAAAD4DAUIAAAAAJ+hAAEAAADgMxQgAAAAAHyGAgQAAACAz1CAAAAAAPAZChAAAAAAPkMBAgAAAMBnKEAAAAAA+AwFCAAAAACfoQABAAAA4DMUIAAAAAB8hgIEAAAAgM9QgAAAAADwGQoQAAAAAD5DAQIAAADAZyhAAAAAAPgMBQgAAAAAn6EAAQAAAOAzFCAAAAAAfIYCBAAAAIDPUIAAAAAA8BkKEAAAAAA+QwECAAAAwGcoQAAAAAD4DAUIAAAAAJ8J9HcC+D9FRUX68ccfFRkZKcdx/J0OAAAAjmFmOnDggBITE+Xx8Fv+yaAAqUF+/PFHJSUl+TsNAAAAnMDOnTvVuHFjf6dxWqIAqUEiIyMlHX1DR0VF+TkbAAAAHCs3N1dJSUluvw2VRwFSgxSfdhUVFUUBAgAAUINxuvzJ48Q1AAAAAD5DAQIAAADAZyhAAAAAAPgM14AAAIA6qbCwUEeOHPF3GqhhgoKCFBAQ4O80ajUKEAAAUKeYmbKzs/Xf//7X36mghoqOjlZ8fDwXmlcTChAAAFCnFBcfsbGxCgsLo5MJl5kpLy9POTk5kqSEhAQ/Z1Q7UYAAAIA6o7Cw0C0+YmJi/J0OaqDQ0FBJUk5OjmJjYzkdqxpwEToAAKgziq/5CAsL83MmqMmK3x9cI1Q9OAICAEANl3L3W6X+/25Gfz9lUntw2hXKw/ujenEEBAAAAIDPUIAAAADgpPTs2VMTJkzwdxo4zXAKFgAAqPOOPc2tunEaHeoyjoAAAAAA8BkKEAAAgNPAq6++qrZt2yo0NFQxMTHq3bu3Dh06pJEjR2rw4MGaOnWqYmNjFRUVpTFjxqigoMCd18z0yCOP6KyzzlJoaKjat2+vV199tdTyN23apEsuuUQRERGKi4vTtddeqz179rjxQ4cOacSIEYqIiFBCQoIef/zxSuWfkpKiadOmuctITk7WG2+8oZ9++kmDBg1SRESE2rZtqzVr1pSab9WqVerevbtCQ0OVlJSk2267TYcOHXLjL774orp06aLIyEjFx8dr2LBh7jgekrRixQo5jqN//OMf6tKli8LCwpSenq7NmzdXKn9UHQoQAACAGm7Xrl26+uqrNWrUKH3zzTdasWKFhgwZIjOTJP3jH//QN998ow8++EALFy7U4sWLNXXqVHf+e++9V88//7zmzJmjjRs36vbbb9fw4cO1cuVKd/k9evRQhw4dtGbNGr3zzjvavXu3rrzySncZEydO1AcffKDFixdr2bJlWrFihdauXVup1/E///M/Ou+88/Tll1+qf//+uvbaazVixAgNHz5c69atU7NmzTRixAj3dX399dfq27evhgwZoq+++kqLFi3Sxx9/rHHjxrnLLCgo0EMPPaQNGzbo9ddf1/bt2zVy5EivdU+ZMkWPP/641qxZo8DAQI0aNapSuaPqOFbcwvC73Nxc1a9fX/v371dUVJS/0wEA1BDchrfq/PLLL9q+fbtSU1MVEhLiTq/p14CsW7dOnTt31nfffafk5ORSsZEjR+rNN9/Uzp073fErnnnmGU2cOFH79+/X4cOH1bBhQ73//vvq1q2bO9/o0aOVl5enBQsW6P7779fq1av17rvvuvEffvhBSUlJ2rx5sxITExUTE6O//OUvuuqqqyRJe/fuVePGjXXjjTdq1qxZJ3wNKSkpuuCCC/TCCy9IOjoifUJCgu677z49+OCDkqTPPvtM3bp1065duxQfH68RI0YoNDRUzz77rLucjz/+WD169NChQ4dKtWGxL774Qr/5zW904MABRUREaMWKFbrwwgv13nvvqVevXpKkt99+W/3799fhw4fLXMbx3icS/bWqwEXoAAAANVz79u3Vq1cvtW3bVn379lVGRoYuv/xyNWjQwI2XHFyxW7duOnjwoHbu3KmcnBz98ssv6tOnT6llFhQUqGPHjpKktWvX6oMPPlBERITXur/99lsdPnxYBQUFpQqYM844Q82bN6/U62jXrp37d1xcnCSpbdu2XtNycnIUHx+vtWvX6t///rdeeukl9zlmpqKiIm3fvl0tW7bUl19+qczMTK1fv1579+5VUVGRJGnHjh1q1apVmetOSEhw19OkSZNKvQacOgoQAACAGi4gIEDLly/XqlWrtGzZMj355JOaMmWKVq9eXe58juO4HfK33npLZ555Zql4cHCwJKmoqEgDBw7UzJkzvZaRkJCgrVu3VsnrCAoKKpXb8aYV51xUVKQxY8botttu81pWkyZNdOjQIWVkZCgjI0MvvviiGjVqpB07dqhv376lroE50XrgWxQgAAAApwHHcXTeeefpvPPO0/3336/k5GQtXrxYkrRhwwYdPnxYoaGhko6eyhQREaHGjRurQYMGCg4O1o4dO9SjR48yl92pUyf97W9/U0pKigIDvbuHzZo1U1BQkD777DP3iMG+ffu0ZcuW4y6zKnTq1EkbN25Us2bNyox//fXX2rNnj2bMmKGkpCRJ8rqIHTUPF6EDAADUcKtXr1ZWVpbWrFmjHTt26LXXXtNPP/2kli1bSjp6OtX111+vTZs2aenSpXrggQc0btw4eTweRUZG6ne/+51uv/12zZ8/X99++62+/PJLPfXUU5o/f74kaezYsdq7d6+uvvpqff7559q2bZuWLVumUaNGqbCwUBEREbr++us1ceJE/eMf/9A///lPjRw5Uh5P9XYl77rrLn366acaO3as1q9fr61bt2rJkiW69dZbJR09ClKvXj09+eST2rZtm5YsWaKHHnqoWnPCqeMICAAAQA0XFRWlDz/8ULNmzVJubq6Sk5P1+OOP6+KLL9aiRYvUq1cvpaWlqXv37srPz9fQoUOVmZnpzv/QQw8pNjZW06dP17Zt2xQdHa1OnTrpnnvukSQlJibqk08+0V133aW+ffsqPz9fycnJ6tevn1tkPProozp48KAuvfRSRUZG6s4779T+/fur9XW3a9dOK1eu1JQpU3TBBRfIzNS0aVP3QvhGjRpp3rx5uueee/T73/9enTp10mOPPaZLL720WvPCqeEuWDUId1UAAJSFu2BVnfLubnS6GjlypP773//q9ddf93cqtQZ3wapenIIFAAAAwGcoQAAAAHBKPvroI0VERBz3AZTENSAAAACnsXnz5vk7BXXp0kXr16/3dxo4TVCAAAAA4JSEhoYe91a5wLE4BQsAANQ53IMH5eH9Ub0oQAAAQJ1RPBp2Xl6enzNBTVb8/ig5ejqqDqdgVdCvv/6qzMxMvfTSS8rOzlZCQoJGjhype++9170/tplp6tSpmjt3rvbt26euXbvqqaeeUuvWrf2cPQAAkKSAgABFR0crJydHkhQWFibHcfycFWoKM1NeXp5ycnIUHR2tgIAAf6dUK1GAVNDMmTP1zDPPaP78+WrdurXWrFmj3/72t6pfv77Gjx8vSXrkkUf0xBNPaN68eTr77LM1bdo09enTR5s3b1ZkZKSfXwEAAJCk+Ph4SXKLEOBY0dHR7vsEVY8CpII+/fRTDRo0SP37Hx38KSUlRQsXLtSaNWskHa2YZ82apSlTpmjIkCGSpPnz5ysuLk4LFizQmDFjqiwXBqQCAODkOY6jhIQExcbG6siRI/5OBzVMUFAQRz6qGQVIBZ1//vl65plntGXLFp199tnasGGDPv74Y82aNUuStH37dmVnZysjI8OdJzg4WD169NCqVavKLEDy8/OVn5/v/p+bm1vtrwMAABwVEBBARxPwAwqQCrrrrru0f/9+tWjRQgEBASosLNTDDz+sq6++WpKUnZ0tSYqLiys1X1xcnL7//vsylzl9+nRNnTq1ehMHAAAAahDuglVBixYt0osvvqgFCxZo3bp1mj9/vh577DHNnz+/1POOvZDNzI57cdvkyZO1f/9+97Fz585qyx8AAACoCTgCUkETJ07U3XffraFDh0qS2rZtq++//17Tp0/Xdddd516oVHyHrGI5OTleR0WKBQcHKzg4uPqTBwAAAGoIjoBUUF5ennu73WIBAQEqKiqSJKWmpio+Pl7Lly934wUFBVq5cqXS09N9misAAABQU3EEpIIGDhyohx9+WE2aNFHr1q315Zdf6oknntCoUaMkHT31asKECcrKylJaWprS0tKUlZWlsLAwDRs2zM/ZAwAAADUDBUgFPfnkk7rvvvt0yy23KCcnR4mJiRozZozuv/9+9zmTJk3S4cOHdcstt7gDES5btowxQAAAAID/5ZiZ+TsJHJWbm6v69etr//79ioqKOu7zGAcEAOoWPveBmqOi/TUcH9eAAAAAAPAZChAAAAAAPkMBAgAAAMBnKEAAAAAA+AwFCAAAAACfoQABAAAA4DMUIAAAAAB8hgIEAAAAgM9QgAAAAADwGQoQAAAAAD5DAQIAAADAZyhAAAAAAPgMBQgAAAAAn6EAAQAAAOAzFCAAAAAAfIYCBAAAAIDPUIAAAAAA8BkKEAAAAAA+QwECAAAAwGcoQAAAAAD4DAUIAAAAAJ+hAAEAAADgMxQgAAAAAHyGAgQAAACAz1CAAAAAAPAZChAAAAAAPkMBAgAAAMBnKEAAAAAA+AwFCAAAAACfoQABAAAA4DMUIAAAAAB8JtDfCQA4OSl3v+X+/d2M/n7MBAAAoOI4AgIAAADAZyhAAAAAAPgMBQgAAAAAn6EAAQAAAOAzFCAAAAAAfIa7YAEAAPhIyTsYStzFEHUTR0Aq4T//+Y+GDx+umJgYhYWFqUOHDlq7dq0bNzNlZmYqMTFRoaGh6tmzpzZu3OjHjAEAAICahQKkgvbt26fzzjtPQUFBWrp0qTZt2qTHH39c0dHR7nMeeeQRPfHEE/rDH/6gL774QvHx8erTp48OHDjgv8QBAACAGoRTsCpo5syZSkpK0vPPP+9OS0lJcf82M82aNUtTpkzRkCFDJEnz589XXFycFixYoDFjxvg6ZQAAAKDG4QhIBS1ZskRdunTRFVdcodjYWHXs2FHPPfecG9++fbuys7OVkZHhTgsODlaPHj20atWqMpeZn5+v3NzcUg8AAACgNqMAqaBt27Zpzpw5SktL07vvvqubbrpJt912m/7yl79IkrKzsyVJcXFxpeaLi4tzY8eaPn266tev7z6SkpKq90UAAAAAfkYBUkFFRUXq1KmTsrKy1LFjR40ZM0Y33HCD5syZU+p5juOU+t/MvKYVmzx5svbv3+8+du7cWW35AwAAADUBBUgFJSQkqFWrVqWmtWzZUjt27JAkxcfHS5LX0Y6cnByvoyLFgoODFRUVVeoBAAAA1GYUIBV03nnnafPmzaWmbdmyRcnJyZKk1NRUxcfHa/ny5W68oKBAK1euVHp6uk9zBQAAAGoq7oJVQbfffrvS09OVlZWlK6+8Up9//rnmzp2ruXPnSjp66tWECROUlZWltLQ0paWlKSsrS2FhYRo2bJifswcAAABqBgqQCjrnnHO0ePFiTZ48WQ8++KBSU1M1a9YsXXPNNe5zJk2apMOHD+uWW27Rvn371LVrVy1btkyRkZF+zBwAAACoOShAKmHAgAEaMGDAceOO4ygzM1OZmZm+SwoAAAA4jXANCAAAAACfqZVHQDp16lSp5zuOoyVLlujMM8+spowAAAAASLW0AFm/fr3uvPNORUREnPC5ZqYZM2YoPz/fB5kBAAAAdVutLEAkaeLEiYqNja3Qcx9//PFqzgYAAACAVEsLkO3bt6tRo0YVfv6mTZuUmJhYjRkBAAAAkGppAVI8OGBFJSUlVVMmAAAAAEqq9XfBev755/XKK694TX/llVc0f/58P2QEAAAA1F21vgCZMWOGGjZs6DU9NjZWWVlZfsgIAAAAqLtq5SlYJX3//fdKTU31mp6cnKwdO3b4IaOKSbn7Lffv72b092MmAAAAQNWp9UdAYmNj9dVXX3lN37Bhg2JiYvyQEQAAAFB31foCZOjQobrtttv0wQcfqLCwUIWFhXr//fc1fvx4DR061N/pAQAAAHVKrT8Fa9q0afr+++/Vq1cvBQYefblFRUUaMWIE14AAAAAAPlbrC5B69epp0aJFeuihh7RhwwaFhoaqbdu2lb5VLwAAAIBTV+sLkGIpKSkyMzVt2tQ9EgIAAADAt2r9NSB5eXm6/vrrFRYWptatW7t3vrrttts0Y8YMP2cHAAAA1C21vgCZPHmyNmzYoBUrVigkJMSd3rt3by1atMiPmQEAAAB1T60/F+n111/XokWLdO6558pxHHd6q1at9O233/oxMwAAAKDuqfVHQH766SfFxsZ6TT906FCpggQAAABA9av1Bcg555yjt976v1HFi4uO5557Tt26dfNXWgAAAECdVOtPwZo+fbr69eunTZs26ddff9Xs2bO1ceNGffrpp1q5cqW/0wMAAADqlFp/BCQ9PV2ffPKJ8vLy1LRpUy1btkxxcXH69NNP1blzZ3+nBwAAUGOl3P2W+wCqSq0/AiJJbdu21fz58/2dBgAAAFDn1fojIOvWrdPXX3/t/v/GG29o8ODBuueee1RQUODHzAAAAIC6p9YXIGPGjNGWLVskSdu2bdNVV12lsLAwvfLKK5o0aZKfswMAAADqllpfgGzZskUdOnSQJL3yyivq0aOHFixYoHnz5ulvf/ubf5MDAAAA6phaX4CYmYqKiiRJ7733ni655BJJUlJSkvbs2ePP1AAAAIA6p9ZfhN6lSxdNmzZNvXv31sqVKzVnzhxJ0vbt2xUXF+fn7ACg7ih5F53vZvT3YyYAAH+q9UdAZs2apXXr1mncuHGaMmWKmjVrJkl69dVXlZ6e7ufsAAAAgLql1h4B2bJli84++2y1a9eu1F2wij366KMKCAjwQ2YAAABA3VVrj4B07NhRLVu21F133aVPP/3UKx4SEqKgoCA/ZAYAAADUXbX2CMjPP/+s5cuX64033tBll10mM9OAAQM0aNAgZWRkKCQkxN8pAgD+17GjLHONCADUXrX2CEhISIgGDhyoP/7xj9q1a5cWL16sRo0a6e6771ZMTIwGDRqkP//5z8rJyfF3qgAAAECdUWsLkJIcx1F6erpmzJihTZs2af369erevbvmzZunpKQkPfXUU/5OEQB8KuXut0o9AADwlVp7ClZ50tLSdOedd+r222/Xvn37tHfvXn+nBAAAANQJtf4IyLXXXquDBw96Tf/uu+/Uo0cPxcTEKC0tzQ+ZAQAAAHVPrS9ANm3apLZt2+qTTz5xp82fP1/t27dnIEIAAADAx2r9KVirV6/Wvffeq4suukh33nmntm7dqnfeeUezZ8/WqFGj/J0eAAAAUKfU+gIkMDBQM2bMUHBwsB566CEFBgZq5cqV6tatm79TAwAAAOqcWn8K1pEjR3TnnXdq5syZmjx5srp166bLLrtMb7/99kkvc/r06XIcRxMmTHCnmZkyMzOVmJio0NBQ9ezZUxs3bqyCVwAAAMrDXd2A00utL0C6dOmiJUuWaMWKFXr44Ye1YsUK3X777RoyZIhuueWWSi/viy++0Ny5c9WuXbtS0x955BE98cQT+sMf/qAvvvhC8fHx6tOnjw4cOFBVLwUAAAA47dWJAmT9+vU699xzJR0dE+Suu+7SZ599pg8//LBSyzp48KCuueYaPffcc2rQoIE73cw0a9YsTZkyRUOGDFGbNm00f/585eXlacGCBVX6egAAAIDTWa0vQP70pz8pPDzca3qHDh20du3aSi1r7Nix6t+/v3r37l1q+vbt25Wdna2MjAx3WnBwsHr06KFVq1Ydd3n5+fnKzc0t9QAAAABqs1p/EbokFRYWavHixfrmm2/kOI5atGihwYMHKzg4uMLLePnll7Vu3Tp98cUXXrHs7GxJ8rqtb1xcnL7//vvjLnP69OmaOnVqhXMAAAAATne1vgD55z//qUGDBik7O1vNmzeXJG3ZskWNGjXSkiVL1LZt2xMuY+fOnRo/fryWLVumkJCQ4z7PcZxS/5uZ17SSJk+erDvuuMP9Pzc3V0lJSSfMBwAAADhd1fpTsEaPHq3WrVvrhx9+0Lp167Ru3Trt3LlT7dq104033lihZaxdu1Y5OTnq3LmzAgMD3Vv5/v73v1dgYKB75KP4SEixnJyccgc7DA4OVlRUVKkHAAAAUJvV+iMgGzZs0Jo1a0pdNN6gQQM9/PDDOueccyq0jF69eunrr78uNe23v/2tWrRoobvuuktnnXWW4uPjtXz5cnXs2FGSVFBQoJUrV2rmzJlV92IAAKhCJW9Z+92M/n7MBEBdUusLkObNm2v37t1q3bp1qek5OTlq1qxZhZYRGRmpNm3alJoWHh6umJgYd/qECROUlZWltLQ0paWlKSsrS2FhYRo2bFjVvBAAqCQ6lwCAmqjWFyBZWVm67bbblJmZ6d6K97PPPtODDz6omTNnlrrz1KmcAjVp0iQdPnxYt9xyi/bt26euXbtq2bJlioyMPOXXAAAAANQWtb4AGTBggCTpyiuvdC8INzNJ0sCBA93/HcdRYWFhhZe7YsWKUv87jqPMzExlZmaeetIAAABALVXrC5APPvjA3ykAAAAA+F+1sgD56quv1KZNG3k8HvXo0eOEz9+4caN7i14AAAAA1adW3oa3Y8eO+vnnnyv8/G7dumnHjh3VmBEAAAAAqZYeATEz3XfffQoLC6vQ8wsKCqo5IwAAAABSLS1Aunfvrs2bN1f4+d26dVNoaGg1ZgQAAABAqqUFyLF3qAIAAABQM9TKa0AAAAAA1EwUIAAAAAB8plaegoWaI+Xut0r9/92M/n7KBABwOuP7BKg9KEAAABVGJxAAcKooQADUWHR2AQCofbgGBAAAAIDPUIAAAAAA8BlOwQJQK5U8fYtTtwAAqDkoQACgilD0AMBRXMOH8nAKFgAAAACfoQABAAAA4DMUIAAAAAB8hmtAgFqIc28BAEBNxREQAAAAAD5DAQIAAADAZyhAAAAAAPgMBQgAAAAAn6EAAQAAAOAzFCAAAAAAfIYCBAAAAIDPMA4IAAA1AOP3AKgrOAICAAAAwGcoQAAAAAD4DKdgocYqeToCpyIAAADUDhwBAQAAAOAzFCAAAAAAfIYCBAAAAIDPcA0I/IZbTgIAANQ9HAEBAAAA4DMUIAAAAAB8hgIEAAAAgM9wDQhQgzEWCgAAqG04AlJB06dP1znnnKPIyEjFxsZq8ODB2rx5c6nnmJkyMzOVmJio0NBQ9ezZUxs3bvRTxgAAAEDNwxGQClq5cqXGjh2rc845R7/++qumTJmijIwMbdq0SeHh4ZKkRx55RE888YTmzZuns88+W9OmTVOfPn20efNmRUZG+vkVALUPR4hQXbhLHwBUHwqQCnrnnXdK/f/8888rNjZWa9euVffu3WVmmjVrlqZMmaIhQ4ZIkubPn6+4uDgtWLBAY8aM8UfaqAHoyAAAAPwfCpCTtH//fknSGWecIUnavn27srOzlZGR4T4nODhYPXr00KpVq8osQPLz85Wfn+/+n5ubW81ZAwCAuoYfwlDTUICcBDPTHXfcofPPP19t2rSRJGVnZ0uS4uLiSj03Li5O33//fZnLmT59uqZOnVq9yQIAANQgFETgIvSTMG7cOH311VdauHChV8xxnFL/m5nXtGKTJ0/W/v373cfOnTurJV8AAACgpuAISCXdeuutWrJkiT788EM1btzYnR4fHy/p6JGQhIQEd3pOTo7XUZFiwcHBCg4Ort6EAQBArcdRBZxOOAJSQWamcePG6bXXXtP777+v1NTUUvHU1FTFx8dr+fLl7rSCggKtXLlS6enpvk4XAAAAqJE4AlJBY8eO1YIFC/TGG28oMjLSveajfv36Cg0NleM4mjBhgrKyspSWlqa0tDRlZWUpLCxMw4YN83P2AEril0Kg7mB/B2oeCpAKmjNnjiSpZ8+epaY///zzGjlypCRp0qRJOnz4sG655Rbt27dPXbt21bJly06bMUAYUwEAAADVjQKkgszshM9xHEeZmZnKzMys/oQAAACA0xDXgAAAAADwGQoQAAAAAD5DAQIAAADAZ7gGpJbhbh8AUHNxsw8AoAABAACos/jhEv7AKVgAAAAAfIYCBAAAAIDPUIAAAAAA8BmuAUGFcOEkcBT7AgAAp4YCBAAAoJK4eJttgJNHAQIANRhf8ACA2oYCBABQJ3E6HQD4BxehAwAAAPAZjoAAfsTpNQAAoK6hAAEAAECNwemRtR8FCE4Zv+IDAACgorgGBAAAAIDPUIAAAAAA8BlOwUKdwuli8Bfee6greK8DOBEKEAAAAJwWuEC9dqAAwWmppv3CVtPyAQCcnuhgoy6gAAFQYXwxAgCAU0UBAgBAFeFo6OnndPph5XTKtaZh36xZKEDqEHY+AAAA+BsFCAAAtRi/mgOoaRgHBAAAAIDPUIAAAAAA8BlOwQLqGK4FAmoX9mkApxsKEAAAKoEOPwCcGgoQACiBziUAoCRu5FD1KEAAVDs69eU7le3DFyP8gX26fGwfoHwUIACAWosCDQBqHgoQAEApNe3X25qWT11RXdudohA1DZ8xvkcBApTAFyNwatiHAAAnQgECoErQ8QQAABVBAQIAAGqEmvZDRk3LB6gtKECACqoLX0T+OA+Wc28BAKhbPP5OoLZ5+umnlZqaqpCQEHXu3FkfffSRv1MCAAAAagyOgFShRYsWacKECXr66ad13nnn6dlnn9XFF1+sTZs2qUmTJv5Or87gF3Wg7mB/B4DTDwVIFXriiSd0/fXXa/To0ZKkWbNm6d1339WcOXM0ffp0P2cHAABQe/GDxOmDU7CqSEFBgdauXauMjIxS0zMyMrRq1So/ZQUAAADULBwBqSJ79uxRYWGh4uLiSk2Pi4tTdnZ2mfPk5+crPz/f/X///v2SpNzcXBXl57nTc3NzS81XMnZs/GRjx8ZPNuaPfPyxTvKpm/n4Y53kUzfz8cc6yYd8Trd1+iuf4riZCSfHMbZelfjxxx915plnatWqVerWrZs7/eGHH9YLL7ygf/3rX17zZGZmaurUqb5MEwAAAFVg586daty4sb/TOC1xBKSKNGzYUAEBAV5HO3JycryOihSbPHmy7rjjDvf/oqIi7d27VzExMXIcR7m5uUpKStLOnTsVFRVVal5fx/yxzpqWD9uAfGriOsmHfE63dZLP6ZUP28A7ZmY6cOCAEhMTvXJDxVCAVJF69eqpc+fOWr58uS677DJ3+vLlyzVo0KAy5wkODlZwcHCpadHR0V7Pi4qKKnMH9EeMfPyzTvI5vfLxxzrJh3xOt3WSz+mVjz/WWZPzqV+//nHzwolRgFShO+64Q9dee626dOmibt26ae7cudqxY4duuukmf6cGAAAA1AgUIFXoqquu0s8//6wHH3xQu3btUps2bfT2228rOTnZ36kBAAAANQIFSBW75ZZbdMstt1TJsoKDg/XAAw94nabljxj5+Ged5HN65eOPdZIP+Zxu6ySf0ysff6zzdMsHlcddsAAAAAD4DAMRAgAAAPAZChAAAAAAPkMBAgAAAMBnKEAAAAAA+AwFCAAAAACf4Ta8OCm7du3SnDlz9PHHH2vXrl0KCAhQamqqBg8erJEjRyogIMDfKboOHTqkBQsWaNWqVcrOzpbjOIqLi9N5552nq6++Wvv27VN0dLQiIiJKzXfkyBG98847ioiIUPv27XXGGWdoz549+tOf/qT8/HxdccUVatmyZal5zjrrLM2fP18tW7ZUw4YNJUkfffSRnnnmGe3YsUN5eXmaMmWKhgwZUmaub775ptasWaN+/fqpW7duev/99/XYY4+pqKhIQ4YM0bXXXquFCxeWud179epVPRvQx3bv3q1HHnlEU6dO9WqT7OxsvfzyyxoxYkSF2+Pdd99VWlpaqelHjhzRW2+9pa1btyo4OFiDBg1yx+upqvYaMGCAwsLCanVbSSfev8LDw487b1W0dUXbMjk5WQ0aNNDvfve7447NVJfa84cffijzc68q9rGSbfLll1/qvvvu85qvpPK2e//+/RUSElLp99c333yjRx55RI8//rhPPiuSk5PVvn17HTx4sE68f4BTxW14TxNbt27VhAkT9Oijj6pVq1alYr/88ov++te/asSIEdq3b5/mz5+vrVu3ysx0zTXX6LzzzpMkvfjii5ozZ477YRkeHq57771XF1xwQZnrfPLJJ7VmzRr1799fV155pV544QVNnz5deXl5ys7OVosWLRQWFqbVq1frmmuuUUFBgd599121bNlSr732mt58880yvzQyMjL07bffenXq33//fU2cOFG9e/cuM5+T6Rx07NhR9913n/Ly8tSjRw/FxcXJzJSTk6MPPvhAhw8fVmFhoRzH0TXXXKOnnnrK/UJeunSpLrnkEjmOo+joaC1fvlxXXHGFAgMDtW/fPu3fv1/jx49XUlKSm+Mdd9yh+Ph4DRgwQK1atVJycrKGDBmiAQMGqGXLlpo5c6YkqUOHDrr77rt12WWXqV69epKkZ555Rrfeeqvat2+vrVu36umnn9bNN9+sq666SgEBAZo3b57CwsLk8XhUr149ZWdn65JLLtGePXu0Zs0aXXrppcrIyNDq1asr9UW9e/duPfvss7r//vvdaSfqVCQkJGjnzp0aNmzYSXXmhgwZohtvvNFrnl27dqlPnz7auHGjAgICSrXJ559/rj59+ig3N1cNGjSocHtMmjRJCxcu1JgxY3T33Xfrp59+Uq9evbR582YlJyfr3//+txo2bKgvv/xSa9asqZL2OnjwoBYtWqSwsDBFRUV5tdWQIUP03HPP6a9//Wul9pFT6TydqCNY1fvXypUrFR4ermXLlnl9Zp1KW+/cuVOS9MknnygpKanCbbllyxYtXrxYHo9HF110kUaPHl1l7VmRfc9XHf6EhAT169dPS5YsKbOz26pVKw0aNEhr1671+tw72X0sPj5e48aNU1hYmK6++upSbbJ161ZJ0gUXXKCxY8eW2uYn2u65ubn661//qtDQUGVkZFT4/fX555+rV69eOnjwoM8+K959912tX79ezZo1U05OTqU/D1566SWtWLGizM+DXr16yXGcMvfbffv26Y033tDIkSO9YkVFRdq5c6eKioqUlJSkwMBAFRQUaPHixcrPz9cll1zi/lBW7KKLLtLzzz/v9bm+fv16bd26VTExMTr//PPdNvz222/15z//WTt27NDhw4f14IMPlrm/F9uwYYPWrVunnj17KjU1VRs3btRTTz2loqIiXXbZZQoKCvJ631566aVq1qyZ3nvvvZPaPm+++aaGDx8uj8f7pJ/CwkJ9+umnOvfcc09p++AkGGq8zZs3W0JCgkkyj8djPXr0sB9//NHMzBISEmzTpk3m8Xhs27ZtFh8fb/Hx8danTx8LCgqy8PBw++abb+y5556z0NBQu+2222zOnDk2YcIEk2SO41haWprNmDHDdu3a5a7zwQcftMjISPt//+//WXx8vM2YMcNiYmJs2rRplpycbGFhYXb//febmdkLL7xgXbt2NTOzvXv3WosWLSw8PNyio6Nt0KBBduONN9oNN9xggwYNsoiICHMcxxzHsQYNGtiaNWssNTXV0tLSTJJJsq5du9rLL79s+fn5bj5z5syxwMBA69y5s0VFRdmLL75okZGRNnr0aBs6dKg5jmPh4eGWkJBgjuNY//79rWvXribJkpKS7NChQ17bdfjw4RYTE2OdOnWy5cuXW5cuXaxz5862d+9eMzPr3r27SbLc3Fx79NFHrXHjxjZ69GgzM3d9YWFhlpKS4j6KX9uZZ55pqamp1rVrV5sxY4a7Tsdx7JprrrH69etbUFCQxcTE2Pjx4+3rr7+2li1b2ty5c83M7P3337eQkBB76qmn3Hnbtm1r0dHRVlhYaGZm06dPt4svvtjMzN5++20LCAiwkJAQr20eHR1tZ555pm3cuNFrG8yePdsmTZpkjuPY7Nmz3UdAQICdeeaZNn36dJs9e7bl5ORY27ZtrV69epaWlmYhISEmyQICAqx3796Vaq/LL7/cgoODbdKkSbZhw4ZSj4EDB1paWpo5juPVJr1797ZrrrnGJFWqPc4880yTZE2aNDEzsxtuuME6dOjgvt8jIiKsU6dONmrUqCprr4svvth69uxpLVq08GqrLVu2WGJiokVGRlZ6H2nYsKEFBQXZ7373O6/2mjx5sqWkpNj06dPNzLzarHj/uuCCC3yyf+Xn51u/fv2sS5cuXu18qm09bNgwGzx4cKXasnjeJk2a2KBBg6qsPU+078XHx1ubNm3M4/FYQECAjRgxwg4cOGBmZqtXr7aoqCiTVKm2Lm/frFevngUEBFiDBg282isgIMCSk5Ota9eu9sUXX1TZPlb8PkhNTfVqE8dxrFmzZtakSROvbW5m5W73nj17WteuXd3tXtKaNWuO+/4699xz7aKLLjLHcXz2WdGyZUsbOnSodezYsdKfB40bN7b4+HgLCAiw9u3bW0ZGhvXp08fat29vAQEB1qlTJ/vhhx+8tsH+/futT58+JsliY2Pt/vvvt19//dWNf/zxx26/oVmzZrZt2zbr3LmzhYeHW7169SwyMtLmzJljb7zxhvsICAiwzp0728KFC+2NN96wAwcOWEZGhjmOY/Xq1TNJ1rRpU9u3b599/PHHFhwcbO3atbOrrrrK/Yy59NJL7bPPPvPK99VXX7WAgACLiYmxyMhIe++99yw6Otp69+5tPXv2dPskAQEB5vF4rHPnzhYfH28ej8diY2MrvX1KboOQkBCvbfSvf/3LGjdubJIqtX3+8Ic/uP/j5FGA1BAl3+DHPrp27WqtWrUyx3Fs69atNnDgQEtNTbXvv//eHMexr7/+2jwejw0dOtR69uzpdgbCwsKsV69edvnll1vHjh3t2WefLbXO4i/j8ePHu192l156qb355pt21lln2d/+9jczM1u/fr0FBATYiy++aGZmoaGh9vTTT1uzZs3MzKywsNCCgoIsOzvbzMzat29voaGhpTo4xS666CJr2rSpnX/++WV+MVxwwQUWHx9fZZ2DkJAQS0xMtAceeMArl8TERFuwYIGFhoaamdkvv/xigwYNsg4dOtjPP/9s0dHR5jiOmZkVFBSYx+Ox1atXm5nZjTfeaM2bN7fY2NhSywwMDLTIyEjbsGGDmZnFxsa6fxe/xtWrV1tYWJjt3r3bZs6caS1atDCPx2Mej8emT59uubm5ZmYWFBTkfkkXb/eQkBD3//z8fAsKCrI9e/ZYz5497YILLrDk5GSv11neF7XjOBYTE2OSKtWp2LNnj9uZrWxnrrhzXfxlU/JR/AXm8Xi82iQ6Oto+/PBD83g8lWqPjRs3muM4tnv3bjMzO/vss+3vf/+7+5z69evbH//4R0tJSamy9goLC7P333/fwsLCvNrKzKxNmzYWHh5+UvvIyXaeyusIVsf+VbzOstr5VNracRx777337Mwzz6xUWxbPW7y/V1V7lrfv5efnW0pKikVFRfmsw9+7d2+Li4uz3/72t17ttWXLFgsICHDXUZntXt4+Vt7+5TiOvfbaa5aSkuK1zc855xwLCgoq9eNIye0eGhpqy5Ytc7f7sW3p8XhO+Dniq8+K0NBQ+/DDD91cK/N58Jvf/MZCQkLcHxZL2rx5s3Xv3t0uueQS279/f6nHTTfdZElJSeY4jj333HOWnJxs/fv3dz9X+vXrZ5Lsq6++sgkTJlirVq1s0KBBVlBQUGo7lbf9fve731lqaqqtXbvWzMwiIyOtadOmdvvtt1uPHj3s9ttvL9UmPXr0sPDwcHMcx1q3bm3/8z//477OTp062bRp08zMbOHChRYdHW0PPvigmZldddVV1qZNG2vTpo3l5eXZ2LFjbcSIEWZmlp6eboGBgTZ16tRKbZ/9+/fb5ZdfbpLslVde8dpGgwYNsr59+5qkSm2f4kfxZxdODgVIDVH8Zq7IF7WZ2S233GJNmjQpVYCkpqbaP/7xD/c5MTExNm/ePGvcuLHFxsba+vXrvdZZ3KEtKCiwRYsWWd++fS0gIMAcx7GxY8fa1q1bzezoh+k///lPMzNLTk62V1991f0w/fHHH81xHMvLyzOzo52SevXqlfk6GzRoYG+88YaFhoaW27Goqs5BYmKi+8vwscLDw+2pp56yxMREd9qRI0ds8ODB1q5dOwsNDXULELOjv359++237v9z5841Sfbkk0+60wIDA+3CCy+0u+++28zM+vbta7Nnzy61zR9//HFLS0srlUvxF1dISIiFh4fbf/7zH3Mcx9566y33OQ0bNiz1pblv3z5zHMdyc3MtNDTU3n33XQsODvZ6nRX5oi75OotfR3lfxMXLTUpKMrPKdeYaNmxoM2fOtJCQEPvuu+9KPcLCwmzu3Lml3uvFbeLxeGzp0qVurKLtUdypyMnJMbOjRWHJDs+ll15qN998swUHB1dZeyUmJtrcuXOtcePGXm1ldnQfCQoK8mors/L3kVPpPJXXEayO/cvMLCoqyqKjo73a+VTa2nEcW7dunfuLZkXbsnje1NRUrzxPpT3L2/fMjr7fSsaqu8MfFhZmL7zwgtsmx3Z2Q0JC7Mwzzyy1zFPdx8rbvxzHsTVr1nhtnw8//NCuu+66Ut9DZW33adOmudu9pIYNG9rYsWMtNja2zPfWn//8Z59+VjRu3NgmTpxoaWlplf48CAsLO+7nQcnP7+J9tfhxbN9gz5491rVrV8vIyLBffvnFYmJi3M/2gwcPmuM49tFHH5nZ0eIkPT3d671w7PurdevWtmjRIjceHh5uzzzzjKWlpVlcXFypfkXxDzYRERG2Zs0au/nmmy06OtqCg4PtiiuusJCQENu+fbuZmRUVFVlQUJB99dVXZnb0s2Lp0qUWERHh5hsUFGT79++38PBwmzZtmjVv3rxS26fk916xktuoUaNG9t5775nH46nU9inrbAJUHgVIDZGYmGiLFy8uMxYZGWl/+9vfvKrtcePGmSRbsmSJeTweS0xMdIsEs6OnGF155ZXuzn/vvfeWmt9xHGvZsqXX+r7//nuLjo622NhY83g8tmXLFvN4PPbXv/7VzMzGjx9vycnJFhsba++//75deOGF1rNnT3f+mJgYi4+PL/O1hIeH27PPPut2+o/tWKxdu7bUr/xmp9Y5eOCBBywyMtICAgJs/fr1tmvXLsvOzrb169dbfHy8hYeHe/2qUvxlXPxBXOzvf/+7W2SZmX322WeWkJBgF110kfXr18927dplgYGBtmTJEouJibERI0bYQw89ZBERETZ8+HB7+OGH3cPYzz//vNe2GTt2rDVt2tQGDRpkv/nNb+y6666zFi1a2NKlS+2dd95xT+f45ptvbNu2bXbVVVdZx44d3W0wbdo0tyAoqbwv6u+++87uvffeSncqiturrELzRO3Vt29fGzVqVJmdirZt29pjjz3mVRAdOXLEIiIi3PdkZdqjuFNxySWX2GWXXWYNGjSwt99+251v06ZNVr9+fQsJCamy9urdu7eFh4fbkCFDvNqquE0aNmzotUyz8vcRs5PvPJXXEayO/evRRx+1wMBAu+iii8p8nSfb1o7jWHp6uoWEhFSqLUeMGGGSvIqSYifbnuXte2bmFkrHvsbq6vAnJiba3//+d7edj+3sNm/e3AIDA73yPJV9rLz9y+Px2FtvvWVxcXFlbp8bbrjBYmNjbdq0aV7b/ZprrnGPlBz7/jr77LMtJCSkzF/FW7RoYXPnznXfW774rGjevLk5jmNDhgyp9OdB/fr1rVGjRmVun6ioKLvhhhusfv36tmLFilKPkJAQy8rKKtU3yM3NtW7dutlFF11kISEhXj+i/fvf/3b/v//++02Svfnmm+60Y99fDRs2LPX+uuiii2zy5MkWEhJi6enpNn/+fDfmOI796U9/co/CmpkdPnzY/vKXv7inWBX3Dfbu3WuO49gHH3xgZmaNGjWyl19+2Y3n5eWZx+Oxn3/+2Ro2bGgvvvhimUV+edtnxYoVVq9ePa/PmOJt5PF47KOPPiq1/1Vk+1CAVA0KkBpi4MCBdt9995UZO+ecc2zatGleO5GZuVW/JIuIiLDXXnvNjf3nP/+x+Ph4q1evnt1xxx0WGhpq559/vt1www3u9Q0vvfRSmeucMmWKNWrUyC6++GJLTU21yZMnW5MmTWzOnDk2a9YsCw0NdY/YpKen27Zt29x5hw8fbmFhYfboo496fWnExsZaRESE+6VR8ovB4/HY22+/XWbH9FQ6ezfeeKOba/GvIsWnNxz7y3axI0eOuF8ox3PPPffYkCFDrKioyLKystxzeDdu3Gj//ve/bejQoRYZGekebQgKCjJJZXZmzY7+4jN69Ghr06aN3XTTTVZQUGCPPvqo+wGanp5unTt3dl9HSkqKrVu3zszMHnjgAQsLC7NBgwZV6ova7OgpdpIq1akobq/jfWmW11733XefNW7c2EaNGuU136RJk+zCCy+0efPmecXuv/9+69y583EPe5fXHiNHjiz1KC6mi40ePdri4+OrrL0kWVRUVJltZWZ2xRVXWGhoaKX3EbOT7zyV1xGsjv0rISHBrr32WnvhhRfK3H4n29YjR460du3aWZMmTSrVlunp6aV+2a2q9ixv33v00UctICDArrrqKq/1VVeH/7rrrrOOHTtaTExMme119dVXe/3IU5Htbnb8fWzw4MHH3b8cx7Gbb77Z+vbtW+nt7jiOnXXWWRYXF+f1/mrQoEGZ29XMLDMz05577rky31vlvY5T+azo2rWr9e7d+4TvH8dxLCUlxT2lyezor+0NGjSwV155xf773/+60//73/9a69atLTo62m677Tav19G8eXN78sknvb6nDhw4YN26dfPqfD/99NNuIWpmtnbtWouJibFWrVrZjTfeaIcOHXLfX2PGjLHbb7/dYmNjS51ZsWrVKouIiLDQ0FB78sknrWHDhnbvvffaSy+9ZI7jWFRUlM2cObPM7T5o0CBLTEy0F1980QYOHGj9+vWzc88917755hvr06ePNWzY0AYPHmwFBQU2YcIE9zTvcePGWVxcnEVHR1dq+5iZpaSkWFmXOx84cMCCg4OtadOm7vu9otuHAqRqUIDUEB9++KEtXbq0zFhWVpZlZGTYihUrvGKZmZnWpUsXk2SZmZn2zjvvlIqPGzfOWrZsaa1atXJPjUpOTrZhw4ZZYmKie1j+WL/++qtNmzbNBgwY4F5ot3DhQktKSrKYmBgbOXKk7dmzx72Y8lgzZsxwL4As+aURERFhV199dZnzOI5j48ePtyFDhnjFTqWz98orr9jvf/9727Ztm61atcpWrVpl27ZtsyNHjtj+/fvLzKV4G3z33XfHjR86dMh++eUX9/81a9bYrFmz3IvYzY4eZs7OzrYff/zRCgoKjrus8hw+fLjUh+KWLVvs66+/tiNHjpR63vG2eXlf1GZHf4maN29epToVZkeL35JHvko6UaeiZ8+eXh3BoqKi47ZJUVGRmZXdJsWxstrjiSeeKNUex1vuwYMH7fDhw6Xaq6zrM46dryyHDh1y2+vYtio538nsI2Yn33kqryNY2f2rZOfpePvXiZzK/ndsWx/7Wo5ty5Pd98xK73+V3fcSEhKsR48elpGRUeayT7bDP2jQoOO28+7du0vdtOTYz8OXX375uB1Es8pt97I+88pS3CaVceznXmXfX+U59nWsXbu2Qq/DrPLvr7LePyUvFDc7eprcTTfdZPXq1TOPx2MhISEWEhLi3rjgvPPOK/Pz6NZbb7UBAwZYZmamVyw3N9diY2PL/RFt+vTpdskll1heXp6NGTPG0tLSLCAgwM455xzr2bOn+/jjH/9Yar7Ro0eXKsBKntL70EMPHXd92dnZ1rt3b4uIiLCLL77Y9u/fb+PGjStVyAUGBlpQUJBFR0fb8uXL3e1z4YUXuhenV3T7mJldf/311qpVqzJjo0aNstTU1OPuf8fbPhQgVYPb8KJabd++XdnZ2ZKk+Ph4paamlvv8vLw8BQQEKDg4uELL/+WXX3TkyBFFRkZq69atys/PV4sWLRQYWHeHuKnsNj/W2rVr9fHHH2vEiBFq0KDBcZ936NAhBQQEKCQkpMLLLtlex6pXr542bNhQ5m1iqyPmj3WWFTvVfWTdunX66KOPTtheUuXbjP2rcspqy19//VV5eXmKiooqc57CwkL98MMPZd7W89i2rsy+uW3bNjmOc9q3V3ljTvXt21dz586t0tjIkSOVk5Pj83UGBAQoNzdXa9as0e7duyUdfQ917tz5uO+dffv26ccff1Tr1q3LjB88eFBr165Vjx49yoxv375dISEhSkhIkCQtWbJEH3zwgSZPnqzY2Njjtsm2bdtUr149BQcHa9u2bSoqKlJCQoIcx1GTJk2Oe0vc8paXl5enJk2a6LPPPlNBQYHOPfdcr1vg5ubmau3ataX2sfK2j3Rq2+hktw8qhgIEPrdz50498MAD+vOf/+yTWHljqOzbt0+PP/64hg0bVub4Ki+++KJatGihM844o1LzVkfsRPmsX79ef/jDHzRx4kQ1b95c//rXvzR79mzl5+e7Y71069ZNLVq0qHQsPT3da5nDhw9XQkKCPvvss0rN+9FHH6lFixZq0qRJqfxnz56t5s2bKzQ0VJJKfSGcSmz48OH65z//6RWrznWeKJ+YmBhJ0hNPPCFJpcbvSUxM1IgRI9wxCkrGEhISdN1111UodirzHpvPddddp8aNG3vF7ARjDfXv319Dhw51i6qS8ZiYGI0aNUq33XabT2LVlU9hYaFuvPFGZWZmqiy33nqrrrzyyjLHW/J1rNjxxngqKipSkyZNFBcXp4EDB1ZJrLCwUMnJycedb8iQIYqNjdWXX35ZqTGn3nrrLR0+fFitW7dWeHh4lcTeffddJSUlaceOHUpNTVVoaKhP1lk8jkhZP8wAtZZfj7+gTlq/fv1xD3lWday8MVQ2b97s3gP82JiZ2SeffOLeQaMy81ZH7ET5LF261D1dJiQkxJYuXWqNGjWy3r17W4cOHUySRUZGVlmsV69e5vF4LCgoyM4444xKzav/vXNL+/btSx3mLz6EHxERYdHR0VUWO+ecc9x4yVh1rvNE+dSrV8/OP/98Mzt6aklCQoI7fo/H47HIyEj3ZgMlx/YpL9a4cWNzHMdWrVrlLrei855s7ERjDXk8Hps4caKZmVe8UaNGFhISYn/60598EquufIrfz3FxcV7jKZn93116yhpvydcxs/LHeOrdu7d7cxJfxLKysiwsLMzq1atX6TGnunbtavHx8e65/1UR27t3r4WHh7v/+2qdHTp0sJtvvtnmzp1rI0eOtH79+tnFF19sI0eOtOeee8527959UrGDBw/awYMHq3y5/sjn4MGDdjzZ2dnHvcaxvNipzHui5eLEKEBQ5cob0+See+6x66+/3hzH8UmsvDFUBg8ebH369CkzZnZ0/ANJ9tNPP1Vq3uqInSifbt26uR2shQsXWoMGDeyee+4xM7Nu3bpZenq69enTp8piZuYOtmhmlZo3KyvLoqOjrXPnzqXeN4GBgTZhwgSv20mfamzjxo2WlZVV5cs9lXxKXgx97Pg9juNYnz597PLLL69U7JdffjFJNmDAgCpdbnmxE401FBwc7N7o4dh4WFiYzZ4921q1auWTWHXl4ziOTZ482c444wyv8ZQKCwvNcY7eXrys8ZZ8HSssLCx3jKezzjrLJk2aZM2aNfNJzMwsLi7OvfNRZcacCg0Ntfnz57t3i6uKWPF7pORdy3yxzueee848Hk+ZA5NGRkaax+OxqKioSsWK72QZGxtbpcv1Rz7lDaZb/L45mR8uT2XeEy0XJ0YBgipX/AvcsReoFf8yXPzwZaysMVRiYmLsgw8+KDP27bffWsOGDb0u4KvIvNURO1E+ERER9umnn5rH47HCwkILDAx0LxSOiopy735UVTGzo7csjImJMTOr9LwLFy60gIAAu/POO90LOIs7559//rmdffbZVRozs2pZ7snGShYgxxYqjuO4d4OrTKw4npCQUKXLLS92orGGGjRo4N4689h4TEyMvf766xYaGuqTWHXl4zhHxz4oHrel5HhKiYmJJskdFfrYuCQbP368bd261SexxMRECwwMtJUrV7r5lxzjKTQ01D755JNSg+lVZ8zM3AuKy8qnvDGnkpOT7ZVXXnHnrYqY2dEfVkreXtwX6zz33HPN4/GUeSF1jx49rEmTJta9e/dKxfLz890Of1Uu1x/5lDeY7iuvvGKPPPKIOY7jFduwYUO5sfLmPdFyFy1aRAFyiihAUOXKG9MkMTHRnnjiiTJ33OqIlTeGiuM49pe//KXMWOPGjS0sLKzMO4icaN7qiFUknwULFpQ5nkBUVJR7z/iqihVv25Jf1JWZ97vvvrPg4GAbMWKEtWvXzr766qtSIyIfOHCgymPVtdyTiTnO/91n/9jxexzn/8brqEysOF7cJlW13PJiJxprqEOHDtagQQMzM6/48OHDrUuXLta2bVufxKorH8dx7J577rG2bduWWtf3339vDzzwQJkDfRbHJVnjxo299vnqij3wwAOlxjc6doyn1NRUmzp1qqWkpPgkZnb0CEjxEYfKjDk1fvx4S0lJsYSEhCqLmZkNHjzY6tWrZ0uXLvXZOoODg487jkxoaKhb/FYmZna0uDveAJknu1x/5FP8o2Zlf4Asnqes2Kn8sFnytuM4eRQgqHLljWkycOBAu/HGG8v8Qq6OWHljqMTGxlpYWFiZHyJjx451R4QvS3nzVkfsRPnExMRYeHi4O2/JW4W2a9fOHnvsMfd0qaqImZk1bdq01JgSlZn3o48+KnX6VlxcnHk8Hq9D7NUR88c6j405jmNt27a1jh07eo3f4zhHxz4ICgqqVKw4HhgYWKXLLS92orGGgoKCLC4uzrp37+4V79q1q0myNm3a+CRWXflIsqCgIHfgxmM5jlNqJOljY9nZ2bZs2TKfxMyO3tq3fv36Nnr0aK8xni6++GLzeDzWpk0bn8SeeeYZi4qKstDQ0DLzKW/MqQMHDlj37t3dz8WqiJmZvf7669atWze3UPPFOmNiYtxrk46VmJhod999t3v6VkVjZmZnnHGGW3BX1XL9kU95g+meccYZNn78eHMcp8yBdotvIV5WrLx5T7Tct956iwLkFFGAoMqVN6bJhx9+aIsXLy5zTJPqiJU3hkpWVpY1adLkuJ364k5HWcqbtzpiJ8pnzpw5dskll5Q575w5c+zKK6+066+/vspiZkcHz+rTp89x8ylv3uLrdort3LnTXn/99TIvNKyOmD/WWTKWmZlZ6lFy/J7MzExLT0+3Nm3aVCpmZqViVbXcE62zvLGGvvjiC9u3b5/dddddZcbff/99n8aqI5/w8HB3vIKypKSkHHe8JV/HzMof4+mMM86wjh072sUXX+yTWExMjI0YMcLuv//+kx5z6vDhw1Ueq67lHi/2wAMPWP369cscmLT4usCMjIxKxR599FH39LaqXK4/8ilvMN2+ffva2LFjj/u9mZ6eftzvzfLmPdFy169ff9wYKobb8AIAAPjRzJkzNXv2bGVnZ7vjaJiZ4uPj1aFDB61fv77SsQkTJsjMqny5vs4nOjpaGRkZevnll7222+LFi5WTk6OQkBBdd911XvEXXnhBH3/8sZ599tlKzXui5e7bt09LliwpM4aKoQABAACoAcobmPRkY9W1XH/kg1rE9wddAAAAUBE7duyw3/72t1Uaq67lnk75VOdycWIcAQEAAKihNmzYoE6dOqmwsLDKYtW13NMpn+pcLk4s0N8JAAAA1FVLliw5bmz16tXavXu3zMzreeXFipd7vNjJLvd0yqe61ilJ27Zt85qGyvn/m1SlLA6KMTQAAAAASUVORK5CYII=' width=800.0/>\n",
       "            </div>\n",
       "        "
      ],
      "text/plain": [
       "Canvas(toolbar=Toolbar(toolitems=[('Home', 'Reset original view', 'home', 'home'), ('Back', 'Back to previous …"
      ]
     },
     "metadata": {},
     "output_type": "display_data"
    }
   ],
   "source": [
    "df_trajectory_stats.pivot_table(\n",
    "    values=\"speed_mean\", index=df_trajectory_stats.index\n",
    ").plot(kind=\"bar\", figsize=(8, 3), ylabel=\"[px/sec]\")\n",
    "df_trajectory_stats"
   ]
  },
  {
   "cell_type": "markdown",
   "id": "b556c2c6",
   "metadata": {},
   "source": [
    "## Calculate displacement in specific phase"
   ]
  },
  {
   "cell_type": "code",
   "execution_count": 2,
   "id": "3b1e1463",
   "metadata": {},
   "outputs": [],
   "source": [
    "def calculate_displacement(trajectory):\n",
    "    \"\"\"Function to create a dataframe containing displacment per detection in a trajectory\n",
    "\n",
    "    Args:\n",
    "        trajectory (fort-myrmidon Ant trajectory): A trajectory object obtained using the fort-myrmidon API\n",
    "\n",
    "    Returns:\n",
    "        pd.DataFrame: Outputs a pandas dataframe with the time stamps as index, AntID, displacment and time difference for the timestamp (relative to the preceding timestamp)\n",
    "    \"\"\"\n",
    "    # calculate displacement and time difference between detections\n",
    "    dxdy = np.diff(\n",
    "        trajectory.Positions[:, 1:3], axis=0\n",
    "    )  # x-y differerence between detections (2d vector)\n",
    "    ds = np.linalg.norm(dxdy, axis=1)  # displacement between detections (1d vector)\n",
    "    dt = np.diff(\n",
    "        trajectory.Positions[:, 0]\n",
    "    )  # Time interval between detections (1d vector)\n",
    "    # Get time information\n",
    "    trajectory_start = trajectory.Start.ToDateTime()  # Get starting time of trajectory\n",
    "    trajectory_time = trajectory.Positions[\n",
    "        :, 0\n",
    "    ]  # get time difference of detections from starting time\n",
    "    trajectory_time = pd.to_timedelta(\n",
    "        trajectory_time, unit=\"s\"\n",
    "    )  # Convert time difference to timedelta\n",
    "    time_stamps = trajectory_start + trajectory_time  # Get time stamps\n",
    "    time_stamps = time_stamps.delete(\n",
    "        0\n",
    "    )  # Remove first time stamp, since we don't have displacement for it\n",
    "    # Create dataframe\n",
    "    disp_df = pd.DataFrame(index=time_stamps, data=ds, columns=[\"displacement\"])\n",
    "    disp_df[\"time_diff\"] = dt\n",
    "    disp_df[\"AntID\"] = trajectory.Ant  # Add Ant ID\n",
    "    disp_df = disp_df[[\"AntID\", \"displacement\", \"time_diff\"]]\n",
    "    return disp_df"
   ]
  },
  {
   "cell_type": "code",
   "execution_count": 30,
   "id": "9cce2019-8ee1-4cb7-81ea-c4e13d68d6cb",
   "metadata": {},
   "outputs": [],
   "source": [
    "def obtain_displacement_df(exp, start_time, end_time, phase, *time_resolution):\n",
    "    \"\"\"Output a csv the displacement (or mean displacement) of each ant in the experiment between t_start and t_end.\n",
    "\n",
    "    Args:\n",
    "        exp (fm.Experiment): the experiment object\n",
    "        t_start (fm.Time): the start time\n",
    "        t_end (fm.Time): the end time\n",
    "        phase (fm.Phase): the phase to consider\n",
    "        time_resolution (string): the time resolution to consider, given in the format used by pandas grouper\n",
    "    \"\"\"\n",
    "    t_start = fm.Time(start_time)\n",
    "    t_end = fm.Time(end_time)\n",
    "    freq = \"\".join(time_resolution)\n",
    "    trajectories = fm.Query.ComputeAntTrajectories(\n",
    "        experiment=exp, start=t_start, end=t_end, maximumGap=1000 * fm.Duration.Hour\n",
    "    )\n",
    "    disp_df_list = [calculate_displacement(t) for t in trajectories]\n",
    "    disp_df = pd.concat(disp_df_list)\n",
    "    disp_df.index.name = \"time\"\n",
    "    day_exp = start_time.strftime(\"%Y%m%d\")\n",
    "    hr_strt = start_time.strftime(\"%H%M\")\n",
    "    hr_end = end_time.strftime(\"%H%M\")\n",
    "    if time_resolution:\n",
    "        disp_df = (\n",
    "            disp_df.groupby([pd.Grouper(freq=freq), \"AntID\"])\n",
    "            .agg({\"displacement\": \"mean\", \"time_diff\": \"mean\"})\n",
    "            .reset_index()\n",
    "        )\n",
    "        df_fn = f\"{'MeanDisplacement_'}{freq}{'_'}{exp.Name}{'_'}{phase}{'_'}{day_exp}{'_'}{hr_strt}{'-'}{hr_end}{'.csv'}\"\n",
    "        disp_df.to_csv(df_fn, index=False)\n",
    "    else:\n",
    "        df_fn = f\"{'Displacement_'}{exp.Name}{'_'}{phase}{'_'}{day_exp}{'_'}{hr_strt}{'-'}{hr_end}{'.csv'}\"\n",
    "        disp_df.reset_index().to_csv(df_fn, index=False)"
   ]
  },
  {
   "cell_type": "code",
   "execution_count": 29,
   "id": "c86ef275",
   "metadata": {},
   "outputs": [],
   "source": [
    "phase_list = [\n",
    "    \"Control\",\n",
    "    \"R1\",\n",
    "    \"R2\",\n",
    "    \"R3\",\n",
    "    \"R4\",\n",
    "    \"R5\",\n",
    "    \"PostC\",\n",
    "    \"PostR1\",\n",
    "    \"PostR2\",\n",
    "    \"PostR3\",\n",
    "    \"PostR4\",\n",
    "    \"PostR5\",\n",
    "]\n",
    "time_resolution = \"1s\""
   ]
  },
  {
   "cell_type": "markdown",
   "id": "257ef430",
   "metadata": {},
   "source": [
    "### Colony Cfel55"
   ]
  },
  {
   "cell_type": "code",
   "execution_count": 31,
   "id": "298a77d5",
   "metadata": {},
   "outputs": [],
   "source": [
    "f_myrmidon = \"/media/ebiag/Ebi-3/InfectionExp_Cfel55/InfectionExpCol55.myrmidon\"\n",
    "exp = fm.Experiment.Open(f_myrmidon)\n",
    "phase_starts_exp = [\n",
    "    datetime(2023, 4, 18, 14, 40).astimezone(tz=None),\n",
    "    datetime(2023, 4, 20, 15, 45).astimezone(tz=None),\n",
    "    datetime(2023, 4, 21, 14, 48).astimezone(tz=None),\n",
    "    datetime(2023, 4, 22, 14, 17).astimezone(tz=None),\n",
    "    datetime(2023, 4, 23, 14, 0).astimezone(tz=None),\n",
    "    datetime(2023, 4, 24, 14, 54).astimezone(tz=None),\n",
    "]\n",
    "phase_starts_post = [\n",
    "    datetime(2023, 4, 20, 8, 0).astimezone(tz=None),\n",
    "    datetime(2023, 4, 21, 8, 0).astimezone(tz=None),\n",
    "    datetime(2023, 4, 22, 7, 30).astimezone(tz=None),\n",
    "    datetime(2023, 4, 23, 7, 30).astimezone(tz=None),\n",
    "    datetime(2023, 4, 24, 8, 0).astimezone(tz=None),\n",
    "    datetime(2023, 4, 25, 8, 0).astimezone(tz=None),\n",
    "]\n",
    "phase_starts = phase_starts_exp + phase_starts_post\n",
    "phase_ends = [(start_time + timedelta(hours=6)) for start_time in phase_starts]"
   ]
  },
  {
   "cell_type": "code",
   "execution_count": 33,
   "id": "d1bcff8c",
   "metadata": {},
   "outputs": [
    {
     "name": "stderr",
     "output_type": "stream",
     "text": [
      "Computing ant trajectories: 100%|███▉| 359/360 [00:04<00:00, 84.83tracked min/s]\n",
      "Computing ant trajectories: 100%|████| 360/360 [00:03<00:00, 99.42tracked min/s]\n",
      "Computing ant trajectories: 100%|████| 360/360 [00:04<00:00, 86.85tracked min/s]\n",
      "Computing ant trajectories: 100%|███▉| 359/360 [00:03<00:00, 94.57tracked min/s]\n",
      "Computing ant trajectories: 100%|███▉| 359/360 [00:03<00:00, 97.00tracked min/s]\n",
      "Computing ant trajectories: 100%|███▉| 359/360 [00:04<00:00, 88.81tracked min/s]\n",
      "Computing ant trajectories: 100%|███▉| 359/360 [00:03<00:00, 91.09tracked min/s]\n",
      "Computing ant trajectories: 100%|████| 360/360 [00:03<00:00, 91.84tracked min/s]\n",
      "Computing ant trajectories: 100%|███| 360/360 [00:03<00:00, 103.55tracked min/s]\n",
      "Computing ant trajectories: 100%|██▉| 359/360 [00:03<00:00, 103.85tracked min/s]\n",
      "Computing ant trajectories: 100%|███▉| 359/360 [00:03<00:00, 98.85tracked min/s]\n",
      "Computing ant trajectories: 100%|███▉| 359/360 [00:03<00:00, 95.07tracked min/s]\n"
     ]
    }
   ],
   "source": [
    "cfel55_disp = [\n",
    "    obtain_displacement_df(exp, start, end, phase, time_resolution)\n",
    "    for start, end, phase in zip(phase_starts, phase_ends, phase_list)\n",
    "]"
   ]
  },
  {
   "cell_type": "markdown",
   "id": "c51d5f13",
   "metadata": {},
   "source": [
    "### Colony Cfel13"
   ]
  },
  {
   "cell_type": "code",
   "execution_count": 34,
   "id": "bfaeef9d",
   "metadata": {},
   "outputs": [],
   "source": [
    "f_myrmidon = \"/media/ebiag/Ebi-3/InfectionExp_Cfel13/InfectionExp_Cfel13.myrmidon\"\n",
    "exp = fm.Experiment.Open(f_myrmidon)\n",
    "phase_starts_exp = [\n",
    "    datetime(2023, 4, 23, 15, 5).astimezone(tz=None),\n",
    "    datetime(2023, 4, 24, 15, 29).astimezone(tz=None),\n",
    "    datetime(2023, 4, 25, 14, 19).astimezone(tz=None),\n",
    "    datetime(2023, 4, 26, 15, 3).astimezone(tz=None),\n",
    "    datetime(2023, 4, 27, 16, 43).astimezone(tz=None),\n",
    "    datetime(2023, 4, 28, 14, 27).astimezone(tz=None),\n",
    "]\n",
    "phase_starts_post = [\n",
    "    datetime(2023, 4, 24, 8, 0).astimezone(tz=None),\n",
    "    datetime(2023, 4, 25, 8, 0).astimezone(tz=None),\n",
    "    datetime(2023, 4, 26, 8, 0).astimezone(tz=None),\n",
    "    datetime(2023, 4, 27, 8, 0).astimezone(tz=None),\n",
    "    datetime(2023, 4, 28, 8, 0).astimezone(tz=None),\n",
    "    datetime(2023, 4, 29, 8, 0).astimezone(tz=None),\n",
    "]\n",
    "phase_starts = phase_starts_exp + phase_starts_post\n",
    "phase_ends = [(start_time + timedelta(hours=6)) for start_time in phase_starts]"
   ]
  },
  {
   "cell_type": "code",
   "execution_count": 35,
   "id": "a2bda11f",
   "metadata": {},
   "outputs": [
    {
     "name": "stderr",
     "output_type": "stream",
     "text": [
      "Computing ant trajectories: 100%|████| 360/360 [00:04<00:00, 75.38tracked min/s]\n",
      "Computing ant trajectories: 100%|████| 360/360 [00:04<00:00, 81.98tracked min/s]\n",
      "Computing ant trajectories: 100%|████| 360/360 [00:04<00:00, 72.96tracked min/s]\n",
      "Computing ant trajectories: 100%|████| 360/360 [00:04<00:00, 79.90tracked min/s]\n",
      "Computing ant trajectories: 100%|████| 360/360 [00:04<00:00, 76.46tracked min/s]\n",
      "Computing ant trajectories: 100%|████| 360/360 [00:04<00:00, 84.60tracked min/s]\n",
      "Computing ant trajectories: 100%|████| 360/360 [00:05<00:00, 63.77tracked min/s]\n",
      "Computing ant trajectories: 100%|████| 360/360 [00:05<00:00, 70.72tracked min/s]\n",
      "Computing ant trajectories: 100%|████| 360/360 [00:05<00:00, 67.80tracked min/s]\n",
      "Computing ant trajectories: 100%|████| 360/360 [00:04<00:00, 73.68tracked min/s]\n",
      "Computing ant trajectories: 100%|████| 360/360 [00:05<00:00, 69.01tracked min/s]\n",
      "Computing ant trajectories: 100%|████| 360/360 [00:05<00:00, 71.98tracked min/s]\n"
     ]
    }
   ],
   "source": [
    "cfel13_disp = [\n",
    "    obtain_displacement_df(exp, start, end, phase, time_resolution)\n",
    "    for start, end, phase in zip(phase_starts, phase_ends, phase_list)\n",
    "]"
   ]
  },
  {
   "cell_type": "markdown",
   "id": "fbadf217",
   "metadata": {},
   "source": [
    "### Colony Cfel64"
   ]
  },
  {
   "cell_type": "code",
   "execution_count": 36,
   "id": "8a4ccf3a",
   "metadata": {},
   "outputs": [],
   "source": [
    "f_myrmidon = \"/media/ebiag/Ebi-1/InfectionExp_Cfel64/InfectionExpCol64.myrmidon\"\n",
    "exp = fm.Experiment.Open(f_myrmidon)\n",
    "phase_starts_exp = [\n",
    "    datetime(2023, 5, 31, 15, 5).astimezone(tz=None),\n",
    "    datetime(2023, 6, 1, 15, 51).astimezone(tz=None),\n",
    "    datetime(2023, 6, 2, 14, 44).astimezone(tz=None),\n",
    "    datetime(2023, 6, 3, 14, 50).astimezone(tz=None),\n",
    "    datetime(2023, 6, 4, 14, 43).astimezone(tz=None),\n",
    "    datetime(2023, 6, 5, 14, 52).astimezone(tz=None),\n",
    "]\n",
    "phase_starts_post = [\n",
    "    datetime(2023, 6, 1, 8, 0).astimezone(tz=None),\n",
    "    datetime(2023, 6, 2, 8, 0).astimezone(tz=None),\n",
    "    datetime(2023, 6, 3, 8, 0).astimezone(tz=None),\n",
    "    datetime(2023, 6, 4, 8, 0).astimezone(tz=None),\n",
    "    datetime(2023, 6, 5, 8, 0).astimezone(tz=None),\n",
    "    datetime(2023, 6, 6, 8, 0).astimezone(tz=None),\n",
    "]\n",
    "phase_starts = phase_starts_exp + phase_starts_post\n",
    "phase_ends = [(start_time + timedelta(hours=6)) for start_time in phase_starts]"
   ]
  },
  {
   "cell_type": "code",
   "execution_count": 37,
   "id": "83a1c087",
   "metadata": {},
   "outputs": [
    {
     "name": "stderr",
     "output_type": "stream",
     "text": [
      "Computing ant trajectories: 100%|███▉| 359/360 [00:05<00:00, 60.25tracked min/s]\n",
      "Computing ant trajectories: 100%|███▉| 359/360 [00:06<00:00, 53.84tracked min/s]\n",
      "Computing ant trajectories: 100%|████| 360/360 [00:05<00:00, 62.24tracked min/s]\n",
      "Computing ant trajectories: 100%|████| 360/360 [00:05<00:00, 69.60tracked min/s]\n",
      "Computing ant trajectories: 100%|████| 360/360 [00:04<00:00, 72.94tracked min/s]\n",
      "Computing ant trajectories: 100%|████| 360/360 [00:04<00:00, 72.87tracked min/s]\n",
      "Computing ant trajectories: 100%|███▉| 359/360 [00:05<00:00, 64.72tracked min/s]\n",
      "Computing ant trajectories: 100%|███▉| 359/360 [00:05<00:00, 61.69tracked min/s]\n",
      "Computing ant trajectories: 100%|████| 360/360 [00:05<00:00, 64.07tracked min/s]\n",
      "Computing ant trajectories: 100%|████| 360/360 [00:05<00:00, 63.37tracked min/s]\n",
      "Computing ant trajectories: 100%|████| 360/360 [00:05<00:00, 65.63tracked min/s]\n",
      "Computing ant trajectories: 100%|████| 360/360 [00:05<00:00, 66.24tracked min/s]\n"
     ]
    }
   ],
   "source": [
    "cfel64_disp = [\n",
    "    obtain_displacement_df(exp, start, end, phase, time_resolution)\n",
    "    for start, end, phase in zip(phase_starts, phase_ends, phase_list)\n",
    "]"
   ]
  }
 ],
 "metadata": {
  "kernelspec": {
   "display_name": "Python 3 (ipykernel)",
   "language": "python",
   "name": "python3"
  },
  "language_info": {
   "codemirror_mode": {
    "name": "ipython",
    "version": 3
   },
   "file_extension": ".py",
   "mimetype": "text/x-python",
   "name": "python",
   "nbconvert_exporter": "python",
   "pygments_lexer": "ipython3",
   "version": "3.8.0"
  }
 },
 "nbformat": 4,
 "nbformat_minor": 5
}
