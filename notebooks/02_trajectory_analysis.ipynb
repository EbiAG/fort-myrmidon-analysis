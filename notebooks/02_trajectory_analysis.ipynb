{
 "cells": [
  {
   "cell_type": "markdown",
   "id": "de6d64e2",
   "metadata": {},
   "source": [
    "## Trajectory analysis template\n",
    "General geometric trajectory analysis from a ```.mymridon``` experiment file to be saved as a csv, which can be further analyzed in the optional part or exported into other software such as RStudio. Operations like done here are typically heavy and python benefits from the effeciency of the underlying ```myrmidon``` library to a big extent, especially in combination with the ```numpy``` math library.\n",
    "This notebook is a walk trough a sample usage of the following:\n",
    "* the `py-fort-myrmidon` library ([Documentation](https://formicidae-tracker.github.io/myrmidon/latest/))\n",
    "* numpy quick start [tutorial](https://numpy.org/devdocs/user/quickstart.html)"
   ]
  },
  {
   "cell_type": "code",
   "execution_count": null,
   "id": "a5238445",
   "metadata": {},
   "outputs": [],
   "source": [
    "import py_fort_myrmidon as fm\n",
    "import numpy as np  # Fundamental math library in python. Here used only for convience: to save the csv.\n",
    "from datetime import datetime, timedelta  # For convenient handling of time and date\n",
    "import numpy as np  # Basic math library\n",
    "import pandas as pd  # Used to create a dataframe, similar to the structure used in R\n",
    "import matplotlib.pyplot as plt  # Optional: for plorring\n",
    "\n",
    "# Optional: makes plots interactive:\n",
    "# %matplotlib widget\n",
    "\n",
    "# %load_ext blackcellmagic"
   ]
  },
  {
   "cell_type": "code",
   "execution_count": null,
   "id": "2e648f0d",
   "metadata": {},
   "outputs": [],
   "source": [
    "myrmidonFilepath = \"dataset/example.myrmidon\"\n",
    "experiment = fm.Experiment.Open(myrmidonFilepath)\n",
    "t_start = fm.Time.Parse(\"2021-02-18T00:00:00.000Z\")\n",
    "t_end = fm.Time.Parse(\"2021-02-18T01:00:00.000Z\")\n",
    "# alternatively we can get the whole wxperiment range\n",
    "# di = fm.Query.GetDataInformations(experiment)\n",
    "# t_start, t_end = di.Start, di.End"
   ]
  },
  {
   "cell_type": "markdown",
   "id": "e5265c76",
   "metadata": {},
   "source": [
    "The following is an iterator for `fort-myrmidon` time range over days in a period. See Ant metadata template for explanation."
   ]
  },
  {
   "cell_type": "code",
   "execution_count": null,
   "id": "1b511825",
   "metadata": {},
   "outputs": [],
   "source": [
    "def fm_time_range(\n",
    "    start: fm.Time,\n",
    "    end: fm.Time,\n",
    "    *,\n",
    "    increment=24 * fm.Duration.Hour,\n",
    "):\n",
    "    \"\"\"Slice a time range is sub-time range 'à la' range()\n",
    "\n",
    "    Args:\n",
    "        start (fm.Time): the start time to consider\n",
    "        end (fm.Time): the end time to consider\n",
    "        increment (fm.Duration): the time increment to slice the whole time range\n",
    "\n",
    "    Yields:\n",
    "        Tuple[fm.Time,fm.Time]: start and end time of the sub range that span at most 'increment'\n",
    "    \"\"\"\n",
    "    while start < end:\n",
    "        last = start\n",
    "        start = min(start.Add(increment), end)\n",
    "        yield last, start"
   ]
  },
  {
   "cell_type": "markdown",
   "id": "33540036",
   "metadata": {},
   "source": [
    "Calculate the mean speed in pixels/second of each ant during the period (```t_start```, ```t_end```). This can serve as measure for the activity of the individual during that period. If the ```maximumGap``` is set to a period larger than (```t_start```, ```t_end```), then every ```ant_id``` will have at most one trajectory which makes the analysis easier in this case (we do not need to accumulate every speed and then calculate the final means/stds). The meaning of the positions in a trajectory are described [here](https://formicidae-tracker.github.io/myrmidon/latest/api/python/queries_matchers.html#py_fort_myrmidon.AntTrajectory.Positions). Another option would be to calculate the angular speed."
   ]
  },
  {
   "cell_type": "code",
   "execution_count": null,
   "id": "57c34dc3",
   "metadata": {},
   "outputs": [],
   "source": [
    "df_trajectory_stats = pd.DataFrame(index=experiment.Ants)\n",
    "df_trajectory_stats[\"speed_mean\"] = np.nan\n",
    "df_trajectory_stats[\"speed_std\"] = np.nan\n",
    "for t_begin, t_last in fm_time_range(t_start, t_end):\n",
    "    print(f\"computing trajectories in {t_begin,t_last}\")\n",
    "    trajectories = fm.Query.ComputeAntTrajectories(\n",
    "        experiment=experiment,\n",
    "        start=t_begin,\n",
    "        end=t_last,\n",
    "        maximumGap=1000 * fm.Duration.Hour,\n",
    "    )\n",
    "    for t in trajectories:\n",
    "        dxdy = np.diff(\n",
    "            t.Positions[:, 1:3], axis=0\n",
    "        )  # x-y differerence between detections (2d vector)\n",
    "        ds = np.linalg.norm(dxdy, axis=1)  # displacement between detections (1d vector)\n",
    "        dt = np.diff(t.Positions[:, 0])  # Time interval between detections (1d vector)\n",
    "        speed = np.divide(\n",
    "            ds, dt, where=dt > 0\n",
    "        )  # [pixels / second]  (zero dt gaps are quite rare but can occur)\n",
    "        df_trajectory_stats.loc[t.Ant, \"speed_mean\"] = np.mean(speed)\n",
    "        df_trajectory_stats.loc[t.Ant, \"speed_std\"] = np.std(speed)"
   ]
  },
  {
   "cell_type": "markdown",
   "id": "c0d5873b",
   "metadata": {},
   "source": [
    "Save dataframe to a csv and optionally show and plot the results."
   ]
  },
  {
   "cell_type": "code",
   "execution_count": null,
   "id": "f498bbf8",
   "metadata": {},
   "outputs": [],
   "source": [
    "f_name = \"ant_trajectory_stats_{}_{}_{}.csv\".format(experiment.Name, t_start, t_end)\n",
    "df_trajectory_stats.to_csv(f_name, index_label=\"ant_id\")"
   ]
  },
  {
   "cell_type": "code",
   "execution_count": null,
   "id": "ad89c111",
   "metadata": {},
   "outputs": [],
   "source": [
    "df_trajectory_stats.pivot_table(\n",
    "    values=\"speed_mean\", index=df_trajectory_stats.index\n",
    ").plot(kind=\"bar\", figsize=(8, 3), ylabel=\"[px/sec]\")\n",
    "df_trajectory_stats"
   ]
  },
  {
   "cell_type": "markdown",
   "id": "b556c2c6",
   "metadata": {},
   "source": [
    "## Calculate displacement in specific phase"
   ]
  },
  {
   "cell_type": "code",
   "execution_count": null,
   "id": "3b1e1463",
   "metadata": {},
   "outputs": [],
   "source": [
    "def calculate_displacement(trajectory):\n",
    "    \"\"\"Function to create a dataframe containing displacment per detection in a trajectory\n",
    "\n",
    "    Args:\n",
    "        trajectory (fort-myrmidon Ant trajectory): A trajectory object obtained using the fort-myrmidon API\n",
    "\n",
    "    Returns:\n",
    "        pd.DataFrame: Outputs a pandas dataframe with the time stamps as index, AntID, X and Y coordinates, displacment and time difference for the timestamp (relative to the preceding timestamp)\n",
    "    \"\"\"\n",
    "    # calculate displacement and time difference between detections\n",
    "    dxdy = np.diff(\n",
    "        trajectory.Positions[:, 1:3], axis=0\n",
    "    )  # x-y differerence between detections (2d vector)\n",
    "    ds = np.linalg.norm(dxdy, axis=1)  # displacement between detections (1d vector)\n",
    "    ds = np.insert(ds, 0, 0)  # Add a zero displacement for the first detection\n",
    "    dt = np.diff(\n",
    "        trajectory.Positions[:, 0]\n",
    "    )  # Time interval between detections (1d vector)\n",
    "    # Get time information\n",
    "    dt = np.insert(dt, 0, 0)  # Add a zero time difference for the first detection\n",
    "    trajectory_start = trajectory.Start.ToDateTime()  # Get starting time of trajectory\n",
    "    trajectory_time = trajectory.Positions[\n",
    "        :, 0\n",
    "    ]  # get time difference of detections from starting time\n",
    "    trajectory_time = pd.to_timedelta(\n",
    "        trajectory_time, unit=\"s\"\n",
    "    )  # Convert time difference to timedelta\n",
    "    time_stamps = trajectory_start + trajectory_time  # Get time stamps\n",
    "    # time_stamps = time_stamps.delete(\n",
    "    #     0\n",
    "    # )  # Remove first time stamp, since we don't have displacement for it\n",
    "    # Create dataframe\n",
    "    disp_df = pd.DataFrame(index=time_stamps, data=ds, columns=[\"displacement\"])\n",
    "    disp_df[\"time_diff\"] = dt\n",
    "    disp_df[\"AntID\"] = trajectory.Ant  # Add Ant ID\n",
    "    disp_df[\"X\"] = trajectory.Positions[:, 1]  # Add X position\n",
    "    disp_df[\"Y\"] = trajectory.Positions[:, 2]  # Add Y position\n",
    "    disp_df[\"Space\"] = trajectory.Space  # Add Space ID\n",
    "    disp_df = disp_df[[\"AntID\", \"Space\", \"X\", \"Y\", \"displacement\", \"time_diff\"]]\n",
    "    return disp_df"
   ]
  },
  {
   "cell_type": "code",
   "execution_count": null,
   "id": "9cce2019-8ee1-4cb7-81ea-c4e13d68d6cb",
   "metadata": {},
   "outputs": [],
   "source": [
    "def obtain_displacement_df(exp, start_time, end_time, phase, *time_resolution):\n",
    "    \"\"\"Output a csv the displacement (or mean displacement) of each ant in the experiment between t_start and t_end.\n",
    "\n",
    "    Args:\n",
    "        exp (fm.Experiment): the experiment object\n",
    "        t_start (fm.Time): the start time\n",
    "        t_end (fm.Time): the end time\n",
    "        phase (fm.Phase): the phase to consider\n",
    "        time_resolution (string): the time resolution to consider, given in the format used by pandas grouper\n",
    "    \"\"\"\n",
    "    t_start = fm.Time(start_time)\n",
    "    t_end = fm.Time(end_time)\n",
    "    freq = \"\".join(time_resolution)\n",
    "    trajectories = fm.Query.ComputeAntTrajectories(\n",
    "        experiment=exp, start=t_start, end=t_end, maximumGap=1000 * fm.Duration.Hour\n",
    "    )\n",
    "    disp_df_list = [calculate_displacement(t) for t in trajectories]\n",
    "    disp_df = pd.concat(disp_df_list)\n",
    "    disp_df.index.name = \"time\"\n",
    "    # Since thee are instancs where the ant may not be detected for a given duration, we filter these out.\n",
    "    # We keep the filter to a value of 1s. This ensures that if there is a gap in dtection greater than a second,\n",
    "    # that specific value is not included in the calculation\n",
    "    disp_df = disp_df[\n",
    "        disp_df[\"time_diff\"] < 1\n",
    "    ]  # Filter out rows where time_diff is greater than 1 second\n",
    "    day_exp = start_time.strftime(\"%Y%m%d\")\n",
    "    hr_strt = start_time.strftime(\"%H%M\")\n",
    "    hr_end = end_time.strftime(\"%H%M\")\n",
    "    if time_resolution:\n",
    "        disp_df = (\n",
    "            disp_df.groupby([pd.Grouper(freq=freq), \"AntID\", \"Space\"])\n",
    "            .agg(\n",
    "                {\"X\": \"mean\", \"Y\": \"mean\", \"displacement\": \"mean\", \"time_diff\": \"mean\"}\n",
    "            )\n",
    "            .reset_index()\n",
    "        )\n",
    "        df_fn = f\"{'MeanDisplacement_'}{freq}{'_'}{exp.Name}{'_'}{phase}{'_'}{day_exp}{'_'}{hr_strt}{'-'}{hr_end}{'.csv'}\"\n",
    "        disp_df.to_csv(df_fn, index=False)\n",
    "    else:\n",
    "        df_fn = f\"{'Displacement_'}{exp.Name}{'_'}{phase}{'_'}{day_exp}{'_'}{hr_strt}{'-'}{hr_end}{'.csv'}\"\n",
    "        disp_df.reset_index().to_csv(df_fn, index=False)"
   ]
  },
  {
   "cell_type": "code",
   "execution_count": null,
   "id": "c86ef275",
   "metadata": {},
   "outputs": [],
   "source": [
    "phase_list = [\n",
    "    \"Control\",\n",
    "    \"R1\",\n",
    "    \"R2\",\n",
    "    \"R3\",\n",
    "    \"R4\",\n",
    "    \"R5\",\n",
    "    \"PostC\",\n",
    "    \"PostR1\",\n",
    "    \"PostR2\",\n",
    "    \"PostR3\",\n",
    "    \"PostR4\",\n",
    "    \"PostR5\",\n",
    "]\n",
    "time_resolution = \"1s\"\n",
    "# phase_list = phase_list[1:6]\n",
    "# phase_list = [phase_name + 'Plus2' for phase_name in phase_list]"
   ]
  },
  {
   "cell_type": "markdown",
   "id": "9b79b052",
   "metadata": {},
   "source": [
    "### Colony Cfel 42"
   ]
  },
  {
   "cell_type": "code",
   "execution_count": null,
   "id": "7d67f63f",
   "metadata": {},
   "outputs": [],
   "source": [
    "f_myrmidon = \"/media/ebiag/Ebi-2/Woundcare Experiment1/Cfell_wound_col42.myrmidon\"\n",
    "exp = fm.Experiment.Open(f_myrmidon)\n",
    "phase_starts_exp = [\n",
    "    datetime(2022, 5, 1, 15, 54).astimezone(tz=None),\n",
    "    datetime(2022, 5, 2, 16, 3).astimezone(tz=None),\n",
    "    datetime(2022, 5, 3, 15, 53).astimezone(tz=None),\n",
    "    datetime(2022, 5, 4, 15, 50).astimezone(tz=None),\n",
    "    datetime(2022, 5, 5, 15, 50).astimezone(tz=None),\n",
    "    datetime(2022, 5, 6, 15, 55).astimezone(tz=None),\n",
    "]\n",
    "phase_starts_post = [\n",
    "    datetime(2022, 5, 2, 9, 0).astimezone(tz=None),\n",
    "    datetime(2022, 5, 3, 9, 0).astimezone(tz=None),\n",
    "    datetime(2022, 5, 4, 9, 0).astimezone(tz=None),\n",
    "    datetime(2022, 5, 5, 9, 0).astimezone(tz=None),\n",
    "    datetime(2022, 5, 6, 9, 0).astimezone(tz=None),\n",
    "    datetime(2022, 5, 7, 9, 0).astimezone(tz=None),\n",
    "]\n",
    "phase_starts = phase_starts_exp + phase_starts_post\n",
    "phase_ends = [(start_time + timedelta(hours=6)) for start_time in phase_starts]"
   ]
  },
  {
   "cell_type": "code",
   "execution_count": null,
   "id": "2eaf2e4a",
   "metadata": {},
   "outputs": [],
   "source": [
    "# Run only if you need to get displacement for 2 hours after estart of each treatment phase\n",
    "phase_starts = phase_starts[1:6]\n",
    "phase_starts = [(start_time + timedelta(hours=2)) for start_time in phase_starts]\n",
    "phase_ends = [(start_time + timedelta(hours=6)) for start_time in phase_starts]"
   ]
  },
  {
   "cell_type": "code",
   "execution_count": null,
   "id": "32f21ad0",
   "metadata": {},
   "outputs": [],
   "source": [
    "cfel42_disp = [\n",
    "    obtain_displacement_df(exp, start, end, phase, time_resolution)\n",
    "    for start, end, phase in zip(phase_starts, phase_ends, phase_list)\n",
    "]"
   ]
  },
  {
   "cell_type": "markdown",
   "id": "b691a8cd",
   "metadata": {},
   "source": [
    "### Colony Cfel1"
   ]
  },
  {
   "cell_type": "code",
   "execution_count": null,
   "id": "8ec4c08f",
   "metadata": {},
   "outputs": [],
   "source": [
    "f_myrmidon = \"/media/ebiag/Ebi-2/Woundcare Experiment2/woundcare_cfell1_T2.myrmidon\"\n",
    "exp = fm.Experiment.Open(f_myrmidon)\n",
    "phase_starts_exp = [\n",
    "    datetime(2022, 6, 4, 14, 48).astimezone(tz=None),\n",
    "    datetime(2022, 6, 5, 14, 57).astimezone(tz=None),\n",
    "    datetime(2022, 6, 6, 14, 30).astimezone(tz=None),\n",
    "    datetime(2022, 6, 7, 14, 49).astimezone(tz=None),\n",
    "    datetime(2022, 6, 8, 14, 43).astimezone(tz=None),\n",
    "    datetime(2022, 6, 9, 15, 5).astimezone(tz=None),\n",
    "]\n",
    "phase_starts_post = [\n",
    "    datetime(2022, 6, 5, 8, 0).astimezone(tz=None),\n",
    "    datetime(2022, 6, 6, 8, 0).astimezone(tz=None),\n",
    "    datetime(2022, 6, 7, 8, 0).astimezone(tz=None),\n",
    "    datetime(2022, 6, 8, 8, 0).astimezone(tz=None),\n",
    "    datetime(2022, 6, 9, 8, 0).astimezone(tz=None),\n",
    "    datetime(2022, 6, 10, 8, 0).astimezone(tz=None),\n",
    "]\n",
    "phase_starts = phase_starts_exp + phase_starts_post\n",
    "phase_ends = [(start_time + timedelta(hours=6)) for start_time in phase_starts]"
   ]
  },
  {
   "cell_type": "code",
   "execution_count": null,
   "id": "3d37e019",
   "metadata": {},
   "outputs": [],
   "source": [
    "# Run only if you need to get displacement for 2 hours after estart of each treatment phase\n",
    "phase_starts = phase_starts[1:6]\n",
    "phase_starts = [(start_time + timedelta(hours=2)) for start_time in phase_starts]\n",
    "phase_ends = [(start_time + timedelta(hours=6)) for start_time in phase_starts]"
   ]
  },
  {
   "cell_type": "code",
   "execution_count": null,
   "id": "87304cc5",
   "metadata": {},
   "outputs": [],
   "source": [
    "cfel1_disp = [\n",
    "    obtain_displacement_df(exp, start, end, phase, time_resolution)\n",
    "    for start, end, phase in zip(phase_starts, phase_ends, phase_list)\n",
    "]"
   ]
  },
  {
   "cell_type": "markdown",
   "id": "33766ffd",
   "metadata": {},
   "source": [
    "### Colony Cfel54"
   ]
  },
  {
   "cell_type": "code",
   "execution_count": null,
   "id": "97f272cb",
   "metadata": {},
   "outputs": [],
   "source": [
    "f_myrmidon = \"/media/ebiag/Ebi-2/Woundcare Experiment3/woundcare_cfell54_T3.myrmidon\"\n",
    "exp = fm.Experiment.Open(f_myrmidon)\n",
    "phase_starts_exp = [\n",
    "    datetime(2022, 6, 19, 14, 26).astimezone(tz=None),\n",
    "    datetime(2022, 6, 20, 14, 35).astimezone(tz=None),\n",
    "    datetime(2022, 6, 21, 14, 21).astimezone(tz=None),\n",
    "    datetime(2022, 6, 22, 14, 28).astimezone(tz=None),\n",
    "    datetime(2022, 6, 23, 14, 14).astimezone(tz=None),\n",
    "    datetime(2022, 6, 24, 14, 31).astimezone(tz=None),\n",
    "]\n",
    "phase_starts_post = [\n",
    "    datetime(2022, 6, 20, 8, 0).astimezone(tz=None),\n",
    "    datetime(2022, 6, 21, 8, 0).astimezone(tz=None),\n",
    "    datetime(2022, 6, 22, 8, 0).astimezone(tz=None),\n",
    "    datetime(2022, 6, 23, 8, 0).astimezone(tz=None),\n",
    "    datetime(2022, 6, 24, 8, 0).astimezone(tz=None),\n",
    "    datetime(2022, 6, 25, 8, 0).astimezone(tz=None),\n",
    "]\n",
    "phase_starts = phase_starts_exp + phase_starts_post\n",
    "phase_ends = [(start_time + timedelta(hours=6)) for start_time in phase_starts]"
   ]
  },
  {
   "cell_type": "code",
   "execution_count": null,
   "id": "dc3f59f5",
   "metadata": {},
   "outputs": [],
   "source": [
    "# Run only if you need to get displacement for 2 hours after estart of each treatment phase\n",
    "phase_starts = phase_starts[1:6]\n",
    "phase_starts = [(start_time + timedelta(hours=2)) for start_time in phase_starts]\n",
    "phase_ends = [(start_time + timedelta(hours=6)) for start_time in phase_starts]"
   ]
  },
  {
   "cell_type": "code",
   "execution_count": null,
   "id": "5e1013c6",
   "metadata": {},
   "outputs": [],
   "source": [
    "cfel54_disp = [\n",
    "    obtain_displacement_df(exp, start, end, phase, time_resolution)\n",
    "    for start, end, phase in zip(phase_starts, phase_ends, phase_list)\n",
    "]"
   ]
  },
  {
   "cell_type": "markdown",
   "id": "257ef430",
   "metadata": {},
   "source": [
    "### Colony Cfel55"
   ]
  },
  {
   "cell_type": "code",
   "execution_count": null,
   "id": "298a77d5",
   "metadata": {},
   "outputs": [],
   "source": [
    "f_myrmidon = \"/media/ebiag/Ebi-3/InfectionExp_Cfel55/InfectionExpCol55.myrmidon\"\n",
    "exp = fm.Experiment.Open(f_myrmidon)\n",
    "phase_starts_exp = [\n",
    "    datetime(2023, 4, 18, 14, 40).astimezone(tz=None),\n",
    "    datetime(2023, 4, 20, 15, 45).astimezone(tz=None),\n",
    "    datetime(2023, 4, 21, 14, 48).astimezone(tz=None),\n",
    "    datetime(2023, 4, 22, 14, 17).astimezone(tz=None),\n",
    "    datetime(2023, 4, 23, 14, 0).astimezone(tz=None),\n",
    "    datetime(2023, 4, 24, 14, 54).astimezone(tz=None),\n",
    "]\n",
    "phase_starts_post = [\n",
    "    datetime(2023, 4, 20, 8, 0).astimezone(tz=None),\n",
    "    datetime(2023, 4, 21, 8, 0).astimezone(tz=None),\n",
    "    datetime(2023, 4, 22, 7, 30).astimezone(tz=None),\n",
    "    datetime(2023, 4, 23, 7, 30).astimezone(tz=None),\n",
    "    datetime(2023, 4, 24, 8, 0).astimezone(tz=None),\n",
    "    datetime(2023, 4, 25, 8, 0).astimezone(tz=None),\n",
    "]\n",
    "phase_starts = phase_starts_exp + phase_starts_post\n",
    "phase_ends = [(start_time + timedelta(hours=6)) for start_time in phase_starts]"
   ]
  },
  {
   "cell_type": "code",
   "execution_count": null,
   "id": "b6f93469",
   "metadata": {},
   "outputs": [],
   "source": [
    "# Run only if you need to get displacement for 2 hours after estart of each treatment phase\n",
    "phase_starts = phase_starts[1:6]\n",
    "phase_starts = [(start_time + timedelta(hours=2)) for start_time in phase_starts]\n",
    "phase_ends = [(start_time + timedelta(hours=6)) for start_time in phase_starts]"
   ]
  },
  {
   "cell_type": "code",
   "execution_count": null,
   "id": "d1bcff8c",
   "metadata": {},
   "outputs": [],
   "source": [
    "cfel55_disp = [\n",
    "    obtain_displacement_df(exp, start, end, phase, time_resolution)\n",
    "    for start, end, phase in zip(phase_starts, phase_ends, phase_list)\n",
    "]"
   ]
  },
  {
   "cell_type": "markdown",
   "id": "c51d5f13",
   "metadata": {},
   "source": [
    "### Colony Cfel13"
   ]
  },
  {
   "cell_type": "code",
   "execution_count": null,
   "id": "bfaeef9d",
   "metadata": {},
   "outputs": [],
   "source": [
    "f_myrmidon = \"/media/ebiag/Ebi-3/InfectionExp_Cfel13/InfectionExp_Cfel13.myrmidon\"\n",
    "exp = fm.Experiment.Open(f_myrmidon)\n",
    "phase_starts_exp = [\n",
    "    datetime(2023, 4, 23, 15, 5).astimezone(tz=None),\n",
    "    datetime(2023, 4, 24, 15, 29).astimezone(tz=None),\n",
    "    datetime(2023, 4, 25, 14, 19).astimezone(tz=None),\n",
    "    datetime(2023, 4, 26, 15, 3).astimezone(tz=None),\n",
    "    datetime(2023, 4, 27, 16, 43).astimezone(tz=None),\n",
    "    datetime(2023, 4, 28, 14, 27).astimezone(tz=None),\n",
    "]\n",
    "phase_starts_post = [\n",
    "    datetime(2023, 4, 24, 8, 0).astimezone(tz=None),\n",
    "    datetime(2023, 4, 25, 8, 0).astimezone(tz=None),\n",
    "    datetime(2023, 4, 26, 8, 0).astimezone(tz=None),\n",
    "    datetime(2023, 4, 27, 8, 0).astimezone(tz=None),\n",
    "    datetime(2023, 4, 28, 8, 0).astimezone(tz=None),\n",
    "    datetime(2023, 4, 29, 8, 0).astimezone(tz=None),\n",
    "]\n",
    "phase_starts = phase_starts_exp + phase_starts_post\n",
    "phase_ends = [(start_time + timedelta(hours=6)) for start_time in phase_starts]"
   ]
  },
  {
   "cell_type": "code",
   "execution_count": null,
   "id": "b4481190",
   "metadata": {},
   "outputs": [],
   "source": [
    "# Run only if you need to get displacement for 2 hours after estart of each treatment phase\n",
    "phase_starts = phase_starts[1:6]\n",
    "phase_starts = [(start_time + timedelta(hours=2)) for start_time in phase_starts]\n",
    "phase_ends = [(start_time + timedelta(hours=6)) for start_time in phase_starts]"
   ]
  },
  {
   "cell_type": "code",
   "execution_count": null,
   "id": "a2bda11f",
   "metadata": {},
   "outputs": [],
   "source": [
    "cfel13_disp = [\n",
    "    obtain_displacement_df(exp, start, end, phase, time_resolution)\n",
    "    for start, end, phase in zip(phase_starts, phase_ends, phase_list)\n",
    "]"
   ]
  },
  {
   "cell_type": "markdown",
   "id": "fbadf217",
   "metadata": {},
   "source": [
    "### Colony Cfel64"
   ]
  },
  {
   "cell_type": "code",
   "execution_count": null,
   "id": "8a4ccf3a",
   "metadata": {},
   "outputs": [],
   "source": [
    "f_myrmidon = \"/media/ebiag/Ebi-1/InfectionExp_Cfel64/InfectionExpCol64.myrmidon\"\n",
    "exp = fm.Experiment.Open(f_myrmidon)\n",
    "phase_starts_exp = [\n",
    "    datetime(2023, 5, 31, 15, 5).astimezone(tz=None),\n",
    "    datetime(2023, 6, 1, 15, 51).astimezone(tz=None),\n",
    "    datetime(2023, 6, 2, 14, 44).astimezone(tz=None),\n",
    "    datetime(2023, 6, 3, 14, 50).astimezone(tz=None),\n",
    "    datetime(2023, 6, 4, 14, 43).astimezone(tz=None),\n",
    "    datetime(2023, 6, 5, 14, 52).astimezone(tz=None),\n",
    "]\n",
    "phase_starts_post = [\n",
    "    datetime(2023, 6, 1, 8, 0).astimezone(tz=None),\n",
    "    datetime(2023, 6, 2, 8, 0).astimezone(tz=None),\n",
    "    datetime(2023, 6, 3, 8, 0).astimezone(tz=None),\n",
    "    datetime(2023, 6, 4, 8, 0).astimezone(tz=None),\n",
    "    datetime(2023, 6, 5, 8, 0).astimezone(tz=None),\n",
    "    datetime(2023, 6, 6, 8, 0).astimezone(tz=None),\n",
    "]\n",
    "phase_starts = phase_starts_exp + phase_starts_post\n",
    "phase_ends = [(start_time + timedelta(hours=6)) for start_time in phase_starts]"
   ]
  },
  {
   "cell_type": "code",
   "execution_count": null,
   "id": "badbd00e",
   "metadata": {},
   "outputs": [],
   "source": [
    "phase_starts = phase_starts[1:6]\n",
    "phase_starts = [(start_time + timedelta(hours=2)) for start_time in phase_starts]\n",
    "phase_ends = [(start_time + timedelta(hours=6)) for start_time in phase_starts]"
   ]
  },
  {
   "cell_type": "code",
   "execution_count": null,
   "id": "83a1c087",
   "metadata": {},
   "outputs": [],
   "source": [
    "cfel64_disp = [\n",
    "    obtain_displacement_df(exp, start, end, phase, time_resolution)\n",
    "    for start, end, phase in zip(phase_starts, phase_ends, phase_list)\n",
    "]"
   ]
  }
 ],
 "metadata": {
  "kernelspec": {
   "display_name": "Python 3 (ipykernel)",
   "language": "python",
   "name": "python3"
  },
  "language_info": {
   "codemirror_mode": {
    "name": "ipython",
    "version": 3
   },
   "file_extension": ".py",
   "mimetype": "text/x-python",
   "name": "python",
   "nbconvert_exporter": "python",
   "pygments_lexer": "ipython3",
   "version": "3.8.15"
  }
 },
 "nbformat": 4,
 "nbformat_minor": 5
}
