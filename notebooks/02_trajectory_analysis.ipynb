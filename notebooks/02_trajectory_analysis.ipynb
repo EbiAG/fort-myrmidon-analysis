{
 "cells": [
  {
   "cell_type": "markdown",
   "id": "de6d64e2",
   "metadata": {},
   "source": [
    "## Trajectory analysis template\n",
    "General geometric trajectory analysis from a ```.mymridon``` experiment file to be saved as a csv, which can be further analyzed in the optional part or exported into other software such as RStudio. Operations like done here are typically heavy and python benefits from the effeciency of the underlying ```myrmidon``` library to a big extent, especially in combination with the ```numpy``` math library.\n",
    "This notebook is a walk trough a sample usage of the following:\n",
    "* the `py-fort-myrmidon` library ([Documentation](https://formicidae-tracker.github.io/myrmidon/latest/))\n",
    "* numpy quick start [tutorial](https://numpy.org/devdocs/user/quickstart.html)"
   ]
  },
  {
   "cell_type": "code",
   "execution_count": null,
   "id": "a5238445",
   "metadata": {},
   "outputs": [],
   "source": [
    "import py_fort_myrmidon as fm\n",
    "import numpy as np  # Fundamental math library in python. Here used only for convience: to save the csv.\n",
    "from datetime import datetime, timedelta  # For convenient handling of time and date\n",
    "import numpy as np  # Basic math library\n",
    "import pandas as pd  # Used to create a dataframe, similar to the structure used in R\n",
    "import matplotlib.pyplot as plt  # Optional: for plorring\n",
    "import gc\n",
    "\n",
    "# Optional: makes plots interactive:\n",
    "# %matplotlib widget\n",
    "\n",
    "# %load_ext blackcellmagic"
   ]
  },
  {
   "cell_type": "markdown",
   "id": "b556c2c6",
   "metadata": {},
   "source": [
    "## Calculate displacement in specific phase"
   ]
  },
  {
   "cell_type": "code",
   "execution_count": null,
   "id": "3b1e1463",
   "metadata": {},
   "outputs": [],
   "source": [
    "def calculate_displacement(trajectory):\n",
    "    \"\"\"Function to create a dataframe containing displacment per detection in a trajectory\n",
    "\n",
    "    Args:\n",
    "        trajectory (fort-myrmidon Ant trajectory): A trajectory object obtained using the fort-myrmidon API\n",
    "\n",
    "    Returns:\n",
    "        pd.DataFrame: Outputs a pandas dataframe with the time stamps as index, AntID, X and Y coordinates, displacment and time difference for the timestamp (relative to the preceding timestamp)\n",
    "    \"\"\"\n",
    "    # calculate displacement and time difference between detections\n",
    "    dxdy = np.diff(\n",
    "        trajectory.Positions[:, 1:3], axis=0\n",
    "    )  # x-y differerence between detections (2d vector)\n",
    "    ds = np.linalg.norm(dxdy, axis=1)  # displacement between detections (1d vector)\n",
    "    ds = np.insert(ds, 0, 0)  # Add a zero displacement for the first detection\n",
    "    dt = np.diff(\n",
    "        trajectory.Positions[:, 0]\n",
    "    )  # Time interval between detections (1d vector)\n",
    "    # Get time information\n",
    "    dt = np.insert(dt, 0, 0)  # Add a zero time difference for the first detection\n",
    "    trajectory_start = trajectory.Start.ToDateTime()  # Get starting time of trajectory\n",
    "    trajectory_time = trajectory.Positions[\n",
    "        :, 0\n",
    "    ]  # get time difference of detections from starting time\n",
    "    trajectory_time = pd.to_timedelta(\n",
    "        trajectory_time, unit=\"s\"\n",
    "    )  # Convert time difference to timedelta\n",
    "    time_stamps = trajectory_start + trajectory_time  # Get time stamps\n",
    "    # time_stamps = time_stamps.delete(\n",
    "    #     0\n",
    "    # )  # Remove first time stamp, since we don't have displacement for it\n",
    "    # Create dataframe\n",
    "    disp_df = pd.DataFrame(index=time_stamps, data=ds, columns=[\"displacement\"])\n",
    "    disp_df[\"time_diff\"] = dt\n",
    "    disp_df[\"AntID\"] = trajectory.Ant  # Add Ant ID\n",
    "    disp_df[\"X\"] = trajectory.Positions[:, 1]  # Add X position\n",
    "    disp_df[\"Y\"] = trajectory.Positions[:, 2]  # Add Y position\n",
    "    disp_df[\"Space\"] = trajectory.Space  # Add Space ID\n",
    "    disp_df = disp_df[[\"AntID\", \"Space\", \"X\", \"Y\", \"displacement\", \"time_diff\"]]\n",
    "    return disp_df"
   ]
  },
  {
   "cell_type": "code",
   "execution_count": null,
   "id": "9cce2019-8ee1-4cb7-81ea-c4e13d68d6cb",
   "metadata": {},
   "outputs": [],
   "source": [
    "def obtain_displacement_df(exp, start_time, end_time, colony, phase, *time_resolution):\n",
    "    \"\"\"Output a csv the displacement (or mean displacement) of each ant in the experiment between t_start and t_end.\n",
    "\n",
    "    Args:\n",
    "        exp (fm.Experiment): the experiment object\n",
    "        t_start (fm.Time): the start time\n",
    "        t_end (fm.Time): the end time\n",
    "        phase (fm.Phase): the phase to consider\n",
    "        time_resolution (string): the time resolution to consider, given in the format used by pandas grouper\n",
    "    \"\"\"\n",
    "    t_start_fm = fm.Time(start_time)\n",
    "    t_end_fm = fm.Time(end_time)\n",
    "    freq = \"\".join(time_resolution)\n",
    "    trajectories = fm.Query.ComputeAntTrajectories(\n",
    "        experiment=exp,\n",
    "        start=t_start_fm,\n",
    "        end=t_end_fm,\n",
    "        maximumGap=1000 * fm.Duration.Hour,\n",
    "    )\n",
    "    disp_df_list = [calculate_displacement(t) for t in trajectories]\n",
    "    disp_df = pd.concat(disp_df_list)\n",
    "    disp_df.index.name = \"time\"\n",
    "    # Since thee are instancs where the ant may not be detected for a given duration, we filter these out.\n",
    "    # We keep the filter to a value of 1s. This ensures that if there is a gap in dtection greater than a second,\n",
    "    # that specific value is not included in the calculation\n",
    "    disp_df = disp_df[\n",
    "        disp_df[\"time_diff\"] < 1\n",
    "    ]  # Filter out rows where time_diff is greater than 1 second\n",
    "\n",
    "    # Define a standard datetime format for CSV output\n",
    "    csv_date_format = \"%Y-%m-%d %H:%M:%S\"\n",
    "\n",
    "    day_exp = start_time.strftime(\"%Y%m%d\")\n",
    "    hr_strt = start_time.strftime(\"%H%M\")\n",
    "    hr_end = end_time.strftime(\"%H%M\")\n",
    "    if time_resolution:\n",
    "        disp_df = (\n",
    "            disp_df.groupby([pd.Grouper(freq=freq), \"AntID\", \"Space\"])\n",
    "            .agg(\n",
    "                {\"X\": \"mean\", \"Y\": \"mean\", \"displacement\": \"mean\", \"time_diff\": \"mean\"}\n",
    "            )\n",
    "            .reset_index()\n",
    "        )\n",
    "        df_fn = f\"{'MeanDisplacement_'}{freq}{'_'}{colony}{'_'}{phase}{'_'}{day_exp}{'_'}{hr_strt}{'-'}{hr_end}{'.csv'}\"\n",
    "        disp_df.to_csv(df_fn, index=False, date_format=csv_date_format)\n",
    "    else:\n",
    "        df_fn = f\"{'Displacement_'}{exp.Name}{'_'}{colony}{'_'}{day_exp}{'_'}{hr_strt}{'-'}{hr_end}{'.csv'}\"\n",
    "        disp_df.reset_index().to_csv(df_fn, index=False, date_format=csv_date_format)\n",
    "\n",
    "    # Remove files\n",
    "    del disp_df\n",
    "    del trajectories\n",
    "    del disp_df_list\n",
    "\n",
    "    gc.collect()  # Call garbage collector to free up memory"
   ]
  },
  {
   "cell_type": "code",
   "execution_count": null,
   "id": "c86ef275",
   "metadata": {},
   "outputs": [],
   "source": [
    "phase_list = [\n",
    "    \"Control\",\n",
    "    \"R1\",\n",
    "    \"R2\",\n",
    "    \"R3\",\n",
    "    \"R4\",\n",
    "    \"R5\",\n",
    "    \"PostC\",\n",
    "    \"PostR1\",\n",
    "    \"PostR2\",\n",
    "    \"PostR3\",\n",
    "    \"PostR4\",\n",
    "    \"PostR5\",\n",
    "]\n",
    "time_resolution = \"1s\"\n",
    "# phase_list = phase_list[1:6]\n",
    "# phase_list = [phase_name + 'Plus2' for phase_name in phase_list]"
   ]
  },
  {
   "cell_type": "markdown",
   "id": "9b79b052",
   "metadata": {},
   "source": [
    "### Colony Cfel 42"
   ]
  },
  {
   "cell_type": "code",
   "execution_count": null,
   "id": "7d67f63f",
   "metadata": {},
   "outputs": [],
   "source": [
    "f_myrmidon = \"/media/ebiag/Ebi-2/Woundcare Experiment1/Cfell_wound_col42.myrmidon\"\n",
    "exp = fm.Experiment.Open(f_myrmidon)\n",
    "colony = \"Cfel42\"\n",
    "phase_starts_exp = [\n",
    "    datetime(2022, 5, 1, 15, 54).astimezone(tz=None),\n",
    "    datetime(2022, 5, 2, 16, 3).astimezone(tz=None),\n",
    "    datetime(2022, 5, 3, 15, 53).astimezone(tz=None),\n",
    "    datetime(2022, 5, 4, 15, 50).astimezone(tz=None),\n",
    "    datetime(2022, 5, 5, 15, 50).astimezone(tz=None),\n",
    "    datetime(2022, 5, 6, 15, 55).astimezone(tz=None),\n",
    "]\n",
    "phase_starts_post = [\n",
    "    datetime(2022, 5, 2, 9, 0).astimezone(tz=None),\n",
    "    datetime(2022, 5, 3, 9, 0).astimezone(tz=None),\n",
    "    datetime(2022, 5, 4, 9, 0).astimezone(tz=None),\n",
    "    datetime(2022, 5, 5, 9, 0).astimezone(tz=None),\n",
    "    datetime(2022, 5, 6, 9, 0).astimezone(tz=None),\n",
    "    datetime(2022, 5, 7, 9, 0).astimezone(tz=None),\n",
    "]\n",
    "phase_starts = phase_starts_exp + phase_starts_post\n",
    "phase_ends = [(start_time + timedelta(hours=6)) for start_time in phase_starts]"
   ]
  },
  {
   "cell_type": "code",
   "execution_count": null,
   "id": "2eaf2e4a",
   "metadata": {},
   "outputs": [],
   "source": [
    "# Run only if you need to get displacement for 2 hours after estart of each treatment phase\n",
    "phase_starts = phase_starts[1:6]\n",
    "phase_starts = [(start_time + timedelta(hours=2)) for start_time in phase_starts]\n",
    "phase_ends = [(start_time + timedelta(hours=6)) for start_time in phase_starts]"
   ]
  },
  {
   "cell_type": "code",
   "execution_count": null,
   "id": "32f21ad0",
   "metadata": {},
   "outputs": [],
   "source": [
    "cfel42_disp = [\n",
    "    obtain_displacement_df(exp, start, end, colony, phase, time_resolution)\n",
    "    for start, end, phase in zip(phase_starts, phase_ends, phase_list)\n",
    "]"
   ]
  },
  {
   "cell_type": "markdown",
   "id": "b691a8cd",
   "metadata": {},
   "source": [
    "### Colony Cfel1"
   ]
  },
  {
   "cell_type": "code",
   "execution_count": null,
   "id": "8ec4c08f",
   "metadata": {},
   "outputs": [],
   "source": [
    "f_myrmidon = \"/media/ebiag/Ebi-2/Woundcare Experiment2/woundcare_cfell1_T2.myrmidon\"\n",
    "exp = fm.Experiment.Open(f_myrmidon)\n",
    "colony = \"Cfel1\"\n",
    "phase_starts_exp = [\n",
    "    datetime(2022, 6, 4, 14, 48).astimezone(tz=None),\n",
    "    datetime(2022, 6, 5, 14, 57).astimezone(tz=None),\n",
    "    datetime(2022, 6, 6, 14, 30).astimezone(tz=None),\n",
    "    datetime(2022, 6, 7, 14, 49).astimezone(tz=None),\n",
    "    datetime(2022, 6, 8, 14, 43).astimezone(tz=None),\n",
    "    datetime(2022, 6, 9, 15, 5).astimezone(tz=None),\n",
    "]\n",
    "phase_starts_post = [\n",
    "    datetime(2022, 6, 5, 8, 0).astimezone(tz=None),\n",
    "    datetime(2022, 6, 6, 8, 0).astimezone(tz=None),\n",
    "    datetime(2022, 6, 7, 8, 0).astimezone(tz=None),\n",
    "    datetime(2022, 6, 8, 8, 0).astimezone(tz=None),\n",
    "    datetime(2022, 6, 9, 8, 0).astimezone(tz=None),\n",
    "    datetime(2022, 6, 10, 8, 0).astimezone(tz=None),\n",
    "]\n",
    "phase_starts = phase_starts_exp + phase_starts_post\n",
    "phase_ends = [(start_time + timedelta(hours=6)) for start_time in phase_starts]"
   ]
  },
  {
   "cell_type": "code",
   "execution_count": null,
   "id": "3d37e019",
   "metadata": {},
   "outputs": [],
   "source": [
    "# Run only if you need to get displacement for 2 hours after estart of each treatment phase\n",
    "phase_starts = phase_starts[1:6]\n",
    "phase_starts = [(start_time + timedelta(hours=2)) for start_time in phase_starts]\n",
    "phase_ends = [(start_time + timedelta(hours=6)) for start_time in phase_starts]"
   ]
  },
  {
   "cell_type": "code",
   "execution_count": null,
   "id": "87304cc5",
   "metadata": {},
   "outputs": [],
   "source": [
    "cfel1_disp = [\n",
    "    obtain_displacement_df(exp, start, end, colony, phase, time_resolution)\n",
    "    for start, end, phase in zip(phase_starts, phase_ends, phase_list)\n",
    "]"
   ]
  },
  {
   "cell_type": "markdown",
   "id": "33766ffd",
   "metadata": {},
   "source": [
    "### Colony Cfel54"
   ]
  },
  {
   "cell_type": "code",
   "execution_count": null,
   "id": "97f272cb",
   "metadata": {},
   "outputs": [],
   "source": [
    "f_myrmidon = \"/media/ebiag/Ebi-2/Woundcare Experiment3/woundcare_cfell54_T3.myrmidon\"\n",
    "exp = fm.Experiment.Open(f_myrmidon)\n",
    "colony = \"Cfel54\"\n",
    "phase_starts_exp = [\n",
    "    datetime(2022, 6, 19, 14, 26).astimezone(tz=None),\n",
    "    datetime(2022, 6, 20, 14, 35).astimezone(tz=None),\n",
    "    datetime(2022, 6, 21, 14, 21).astimezone(tz=None),\n",
    "    datetime(2022, 6, 22, 14, 28).astimezone(tz=None),\n",
    "    datetime(2022, 6, 23, 14, 14).astimezone(tz=None),\n",
    "    datetime(2022, 6, 24, 14, 31).astimezone(tz=None),\n",
    "]\n",
    "phase_starts_post = [\n",
    "    datetime(2022, 6, 20, 8, 0).astimezone(tz=None),\n",
    "    datetime(2022, 6, 21, 8, 0).astimezone(tz=None),\n",
    "    datetime(2022, 6, 22, 8, 0).astimezone(tz=None),\n",
    "    datetime(2022, 6, 23, 8, 0).astimezone(tz=None),\n",
    "    datetime(2022, 6, 24, 8, 0).astimezone(tz=None),\n",
    "    datetime(2022, 6, 25, 8, 0).astimezone(tz=None),\n",
    "]\n",
    "phase_starts = phase_starts_exp + phase_starts_post\n",
    "phase_ends = [(start_time + timedelta(hours=6)) for start_time in phase_starts]"
   ]
  },
  {
   "cell_type": "code",
   "execution_count": null,
   "id": "dc3f59f5",
   "metadata": {},
   "outputs": [],
   "source": [
    "# Run only if you need to get displacement for 2 hours after estart of each treatment phase\n",
    "phase_starts = phase_starts[1:6]\n",
    "phase_starts = [(start_time + timedelta(hours=2)) for start_time in phase_starts]\n",
    "phase_ends = [(start_time + timedelta(hours=6)) for start_time in phase_starts]"
   ]
  },
  {
   "cell_type": "code",
   "execution_count": null,
   "id": "5e1013c6",
   "metadata": {},
   "outputs": [],
   "source": [
    "cfel54_disp = [\n",
    "    obtain_displacement_df(exp, start, end, colony, phase, time_resolution)\n",
    "    for start, end, phase in zip(phase_starts, phase_ends, phase_list)\n",
    "]"
   ]
  },
  {
   "cell_type": "markdown",
   "id": "257ef430",
   "metadata": {},
   "source": [
    "### Colony Cfel55"
   ]
  },
  {
   "cell_type": "code",
   "execution_count": null,
   "id": "298a77d5",
   "metadata": {},
   "outputs": [],
   "source": [
    "f_myrmidon = \"/media/ebiag/Ebi-3/InfectionExp_Cfel55/InfectionExpCol55.myrmidon\"\n",
    "exp = fm.Experiment.Open(f_myrmidon)\n",
    "colony = \"Cfel55\"\n",
    "phase_starts_exp = [\n",
    "    datetime(2023, 4, 18, 14, 40).astimezone(tz=None),\n",
    "    datetime(2023, 4, 20, 15, 45).astimezone(tz=None),\n",
    "    datetime(2023, 4, 21, 14, 48).astimezone(tz=None),\n",
    "    datetime(2023, 4, 22, 14, 17).astimezone(tz=None),\n",
    "    datetime(2023, 4, 23, 14, 0).astimezone(tz=None),\n",
    "    datetime(2023, 4, 24, 14, 54).astimezone(tz=None),\n",
    "]\n",
    "phase_starts_post = [\n",
    "    datetime(2023, 4, 20, 8, 0).astimezone(tz=None),\n",
    "    datetime(2023, 4, 21, 8, 0).astimezone(tz=None),\n",
    "    datetime(2023, 4, 22, 7, 30).astimezone(tz=None),\n",
    "    datetime(2023, 4, 23, 7, 30).astimezone(tz=None),\n",
    "    datetime(2023, 4, 24, 8, 0).astimezone(tz=None),\n",
    "    datetime(2023, 4, 25, 8, 0).astimezone(tz=None),\n",
    "]\n",
    "phase_starts = phase_starts_exp + phase_starts_post\n",
    "phase_ends = [(start_time + timedelta(hours=6)) for start_time in phase_starts]"
   ]
  },
  {
   "cell_type": "code",
   "execution_count": null,
   "id": "b6f93469",
   "metadata": {},
   "outputs": [],
   "source": [
    "# Run only if you need to get displacement for 2 hours after estart of each treatment phase\n",
    "phase_starts = phase_starts[1:6]\n",
    "phase_starts = [(start_time + timedelta(hours=2)) for start_time in phase_starts]\n",
    "phase_ends = [(start_time + timedelta(hours=6)) for start_time in phase_starts]"
   ]
  },
  {
   "cell_type": "code",
   "execution_count": null,
   "id": "d1bcff8c",
   "metadata": {},
   "outputs": [],
   "source": [
    "cfel55_disp = [\n",
    "    obtain_displacement_df(exp, start, end, colony, phase, time_resolution)\n",
    "    for start, end, phase in zip(phase_starts, phase_ends, phase_list)\n",
    "]"
   ]
  },
  {
   "cell_type": "code",
   "execution_count": null,
   "id": "4a6c3a27",
   "metadata": {},
   "outputs": [],
   "source": [
    "obtain_displacement_df(\n",
    "    exp,\n",
    "    datetime(2023, 4, 14, 0, 1).astimezone(tz=None),\n",
    "    datetime(2023, 4, 18, 23, 59).astimezone(tz=None),\n",
    "    \"Baseline\",\n",
    "    \"1m\",\n",
    ")"
   ]
  },
  {
   "cell_type": "code",
   "execution_count": null,
   "id": "6b87309d",
   "metadata": {},
   "outputs": [],
   "source": [
    "baseline_days = [\"Baseline1\", \"Baseline2\", \"Baseline3\", \"Baseline4\", \"Baseline5\"]\n",
    "exp_start = datetime(2023, 4, 14, 0, 1).astimezone(tz=None)\n",
    "baseline_starts = [\n",
    "    exp_start,\n",
    "    exp_start + timedelta(days=1),\n",
    "    exp_start + timedelta(days=2),\n",
    "    exp_start + timedelta(days=3),\n",
    "    exp_start + timedelta(days=4),\n",
    "]\n",
    "baseline_ends = [\n",
    "    start_time + timedelta(hours=22, minutes=59) for start_time in baseline_starts\n",
    "]"
   ]
  },
  {
   "cell_type": "code",
   "execution_count": null,
   "id": "dc5c4311",
   "metadata": {},
   "outputs": [],
   "source": [
    "cfel55_baseline_disp = [\n",
    "    obtain_displacement_df(exp, start, end, colony, phase, time_resolution)\n",
    "    for start, end, phase in zip(baseline_starts, baseline_ends, baseline_days)\n",
    "]"
   ]
  },
  {
   "cell_type": "code",
   "execution_count": null,
   "id": "f06364ce",
   "metadata": {},
   "outputs": [],
   "source": [
    "start_time = datetime(2023, 4, 14, 0, 1).astimezone(tz=None)\n",
    "end_time = datetime(2023, 4, 14, 23, 59).astimezone(tz=None)\n",
    "t_start = fm.Time(start_time)\n",
    "t_end = fm.Time(end_time)\n",
    "freq = \"\".join(\"1m\")"
   ]
  },
  {
   "cell_type": "code",
   "execution_count": null,
   "id": "eba6b047",
   "metadata": {},
   "outputs": [],
   "source": [
    "trajectories = fm.Query.ComputeAntTrajectories(\n",
    "    experiment=exp, start=t_start, end=t_end, maximumGap=1000 * fm.Duration.Hour\n",
    ")"
   ]
  },
  {
   "cell_type": "code",
   "execution_count": null,
   "id": "da0d5740",
   "metadata": {},
   "outputs": [],
   "source": [
    "import dask.dataframe as dd\n",
    "\n",
    "\n",
    "def calculate_displacement_dask(trajectory):\n",
    "    \"\"\"Function to create a dataframe containing displacment per detection in a trajectory\n",
    "\n",
    "    Args:\n",
    "        trajectory (fort-myrmidon Ant trajectory): A trajectory object obtained using the fort-myrmidon API\n",
    "\n",
    "    Returns:\n",
    "        pd.DataFrame: Outputs a pandas dataframe with the time stamps as index, AntID, X and Y coordinates, displacment and time difference for the timestamp (relative to the preceding timestamp)\n",
    "    \"\"\"\n",
    "    # calculate displacement and time difference between detections\n",
    "    dxdy = np.diff(\n",
    "        trajectory.Positions[:, 1:3], axis=0\n",
    "    )  # x-y differerence between detections (2d vector)\n",
    "    ds = np.linalg.norm(dxdy, axis=1)  # displacement between detections (1d vector)\n",
    "    ds = np.insert(ds, 0, 0)  # Add a zero displacement for the first detection\n",
    "    dt = np.diff(\n",
    "        trajectory.Positions[:, 0]\n",
    "    )  # Time interval between detections (1d vector)\n",
    "    # Get time information\n",
    "    dt = np.insert(dt, 0, 0)  # Add a zero time difference for the first detection\n",
    "    trajectory_start = trajectory.Start.ToDateTime()  # Get starting time of trajectory\n",
    "    trajectory_time = trajectory.Positions[\n",
    "        :, 0\n",
    "    ]  # get time difference of detections from starting time\n",
    "    trajectory_time = pd.to_timedelta(\n",
    "        trajectory_time, unit=\"s\"\n",
    "    )  # Convert time difference to timedelta\n",
    "    time_stamps = trajectory_start + trajectory_time  # Get time stamps\n",
    "    # time_stamps = time_stamps.delete(\n",
    "    #     0\n",
    "    # )  # Remove first time stamp, since we don't have displacement for it\n",
    "    # Create dataframe\n",
    "    disp_df = pd.DataFrame(data=ds, columns=[\"displacement\"])\n",
    "    disp_df[\"time\"] = time_stamps\n",
    "    disp_df[\"time_diff\"] = dt\n",
    "    disp_df[\"AntID\"] = trajectory.Ant  # Add Ant ID\n",
    "    disp_df[\"X\"] = trajectory.Positions[:, 1]  # Add X position\n",
    "    disp_df[\"Y\"] = trajectory.Positions[:, 2]  # Add Y position\n",
    "    disp_df[\"Space\"] = trajectory.Space  # Add Space ID\n",
    "    disp_df = disp_df[[\"time\", \"AntID\", \"Space\", \"X\", \"Y\", \"displacement\", \"time_diff\"]]\n",
    "    return disp_df"
   ]
  },
  {
   "cell_type": "code",
   "execution_count": null,
   "id": "610227fe",
   "metadata": {},
   "outputs": [],
   "source": [
    "disp_df_list = [calculate_displacement_dask(t) for t in trajectories]"
   ]
  },
  {
   "cell_type": "code",
   "execution_count": null,
   "id": "600312f7",
   "metadata": {},
   "outputs": [],
   "source": [
    "# Assume disp_df_list is a list of pandas DataFrames\n",
    "disp_df = dd.concat([dd.from_pandas(df, npartitions=1) for df in disp_df_list])\n",
    "disp_df"
   ]
  },
  {
   "cell_type": "code",
   "execution_count": null,
   "id": "e4f6753b",
   "metadata": {},
   "outputs": [],
   "source": [
    "disp_df = disp_df.set_index(\"time\")\n",
    "# disp_df = disp_df.repartition(divisions=disp_df.divisions)\n",
    "\n",
    "# Filter out rows where time_diff is greater than 1 second\n",
    "disp_df = disp_df[disp_df[\"time_diff\"] < 1]"
   ]
  },
  {
   "cell_type": "code",
   "execution_count": null,
   "id": "83bc03fa",
   "metadata": {},
   "outputs": [],
   "source": [
    "disp_df_sub = (\n",
    "    disp_df.resample(freq)\n",
    "    .agg({\"X\": \"mean\", \"Y\": \"mean\", \"displacement\": \"mean\", \"time_diff\": \"mean\"})\n",
    "    .reset_index()\n",
    ")"
   ]
  },
  {
   "cell_type": "code",
   "execution_count": null,
   "id": "00442496",
   "metadata": {},
   "outputs": [],
   "source": [
    "disp_df.head(5)"
   ]
  },
  {
   "cell_type": "code",
   "execution_count": null,
   "id": "36c9e819",
   "metadata": {},
   "outputs": [],
   "source": [
    "day_exp = start_time.strftime(\"%Y%m%d\")\n",
    "hr_strt = start_time.strftime(\"%H%M\")\n",
    "hr_end = end_time.strftime(\"%H%M\")\n",
    "df_fn = f\"{'MeanDisplacement_'}{freq}{'_'}{colony}{'_'}{'Baseline'}{'_'}{day_exp}{'_'}{hr_strt}{'-'}{hr_end}{'.csv'}\"\n",
    "disp_df.compute().to_csv(df_fn, index=False)"
   ]
  },
  {
   "cell_type": "markdown",
   "id": "c51d5f13",
   "metadata": {},
   "source": [
    "### Colony Cfel13"
   ]
  },
  {
   "cell_type": "code",
   "execution_count": null,
   "id": "bfaeef9d",
   "metadata": {},
   "outputs": [],
   "source": [
    "f_myrmidon = \"/media/ebiag/Ebi-3/InfectionExp_Cfel13/InfectionExp_Cfel13.myrmidon\"\n",
    "exp = fm.Experiment.Open(f_myrmidon)\n",
    "colony = \"Cfel13\"\n",
    "phase_starts_exp = [\n",
    "    datetime(2023, 4, 23, 15, 5).astimezone(tz=None),\n",
    "    datetime(2023, 4, 24, 15, 29).astimezone(tz=None),\n",
    "    datetime(2023, 4, 25, 14, 19).astimezone(tz=None),\n",
    "    datetime(2023, 4, 26, 15, 3).astimezone(tz=None),\n",
    "    datetime(2023, 4, 27, 16, 43).astimezone(tz=None),\n",
    "    datetime(2023, 4, 28, 14, 27).astimezone(tz=None),\n",
    "]\n",
    "phase_starts_post = [\n",
    "    datetime(2023, 4, 24, 8, 0).astimezone(tz=None),\n",
    "    datetime(2023, 4, 25, 8, 0).astimezone(tz=None),\n",
    "    datetime(2023, 4, 26, 8, 0).astimezone(tz=None),\n",
    "    datetime(2023, 4, 27, 8, 0).astimezone(tz=None),\n",
    "    datetime(2023, 4, 28, 8, 0).astimezone(tz=None),\n",
    "    datetime(2023, 4, 29, 8, 0).astimezone(tz=None),\n",
    "]\n",
    "phase_starts = phase_starts_exp + phase_starts_post\n",
    "phase_ends = [(start_time + timedelta(hours=6)) for start_time in phase_starts]"
   ]
  },
  {
   "cell_type": "code",
   "execution_count": null,
   "id": "b4481190",
   "metadata": {},
   "outputs": [],
   "source": [
    "# Run only if you need to get displacement for 2 hours after estart of each treatment phase\n",
    "phase_starts = phase_starts[1:6]\n",
    "phase_starts = [(start_time + timedelta(hours=2)) for start_time in phase_starts]\n",
    "phase_ends = [(start_time + timedelta(hours=6)) for start_time in phase_starts]"
   ]
  },
  {
   "cell_type": "code",
   "execution_count": null,
   "id": "a2bda11f",
   "metadata": {},
   "outputs": [],
   "source": [
    "cfel13_disp = [\n",
    "    obtain_displacement_df(exp, start, end, colony, phase, time_resolution)\n",
    "    for start, end, phase in zip(phase_starts, phase_ends, phase_list)\n",
    "]"
   ]
  },
  {
   "cell_type": "markdown",
   "id": "fbadf217",
   "metadata": {},
   "source": [
    "### Colony Cfel64"
   ]
  },
  {
   "cell_type": "code",
   "execution_count": null,
   "id": "8a4ccf3a",
   "metadata": {},
   "outputs": [],
   "source": [
    "f_myrmidon = \"/media/ebiag/Ebi-1/InfectionExp_Cfel64/InfectionExpCol64.myrmidon\"\n",
    "exp = fm.Experiment.Open(f_myrmidon)\n",
    "colony = \"Cfel64\"\n",
    "phase_starts_exp = [\n",
    "    datetime(2023, 5, 31, 15, 5).astimezone(tz=None),\n",
    "    datetime(2023, 6, 1, 15, 51).astimezone(tz=None),\n",
    "    datetime(2023, 6, 2, 14, 44).astimezone(tz=None),\n",
    "    datetime(2023, 6, 3, 14, 50).astimezone(tz=None),\n",
    "    datetime(2023, 6, 4, 14, 43).astimezone(tz=None),\n",
    "    datetime(2023, 6, 5, 14, 52).astimezone(tz=None),\n",
    "]\n",
    "phase_starts_post = [\n",
    "    datetime(2023, 6, 1, 8, 0).astimezone(tz=None),\n",
    "    datetime(2023, 6, 2, 8, 0).astimezone(tz=None),\n",
    "    datetime(2023, 6, 3, 8, 0).astimezone(tz=None),\n",
    "    datetime(2023, 6, 4, 8, 0).astimezone(tz=None),\n",
    "    datetime(2023, 6, 5, 8, 0).astimezone(tz=None),\n",
    "    datetime(2023, 6, 6, 8, 0).astimezone(tz=None),\n",
    "]\n",
    "phase_starts = phase_starts_exp + phase_starts_post\n",
    "phase_ends = [(start_time + timedelta(hours=6)) for start_time in phase_starts]"
   ]
  },
  {
   "cell_type": "code",
   "execution_count": null,
   "id": "badbd00e",
   "metadata": {},
   "outputs": [],
   "source": [
    "phase_starts = phase_starts[1:6]\n",
    "phase_starts = [(start_time + timedelta(hours=2)) for start_time in phase_starts]\n",
    "phase_ends = [(start_time + timedelta(hours=6)) for start_time in phase_starts]"
   ]
  },
  {
   "cell_type": "code",
   "execution_count": null,
   "id": "83a1c087",
   "metadata": {},
   "outputs": [],
   "source": [
    "cfel64_disp = [\n",
    "    obtain_displacement_df(exp, start, end, colony, phase, time_resolution)\n",
    "    for start, end, phase in zip(phase_starts, phase_ends, phase_list)\n",
    "]"
   ]
  },
  {
   "cell_type": "markdown",
   "id": "d949d58d",
   "metadata": {},
   "source": [
    "# Baseline 6 hour phases\n",
    "\n",
    "For the baseline dataset outputting the raw trajectories "
   ]
  },
  {
   "cell_type": "code",
   "execution_count": null,
   "id": "71f25eb0",
   "metadata": {},
   "outputs": [],
   "source": [
    "# Create list of colonies repeated 5 times for each colony\n",
    "# colony_list = [\"Cfel42\", \"Cfel1\", \"Cfel54\", \"Cfel13\", \"Cfel55\", \"Cfel64\"]\n",
    "colony_list = [\"Cfel42\", \"Cfel1\", \"Cfel54\", \"Cfel13\", \"Cfel55\"]\n",
    "# Multiple each element 5 times\n",
    "colony_list = [x for x in colony_list for _ in range(5)]\n",
    "# Time resoltion\n",
    "time_resolution = \"1s\""
   ]
  },
  {
   "cell_type": "code",
   "execution_count": null,
   "id": "b435b442",
   "metadata": {},
   "outputs": [],
   "source": [
    "phase_list = [\"Base1\", \"Base2\", \"Base3\", \"Base4\", \"Base5\"] * 5\n",
    "# Change to 6 if all 6 colonies are used"
   ]
  },
  {
   "cell_type": "code",
   "execution_count": null,
   "id": "417cc449",
   "metadata": {},
   "outputs": [],
   "source": [
    "# Myrmidon experiment object list\n",
    "cfel42_exp = fm.Experiment.Open(\n",
    "    \"/media/ebiag/Ebi-2/Woundcare Experiment1/Cfell_wound_col42.myrmidon\"\n",
    ")\n",
    "cfel1_exp = fm.Experiment.Open(\n",
    "    \"/media/ebiag/Ebi-2/Woundcare Experiment2/woundcare_cfell1_T2.myrmidon\"\n",
    ")\n",
    "cfel54_exp = fm.Experiment.Open(\n",
    "    \"/media/ebiag/Ebi-2/Woundcare Experiment3/woundcare_cfell54_T3.myrmidon\"\n",
    ")\n",
    "cfel13_exp = fm.Experiment.Open(\n",
    "    \"/media/ebiag/Ebi-3/InfectionExp_Cfel13/InfectionExp_Cfel13.myrmidon\"\n",
    ")\n",
    "cfel55_exp = fm.Experiment.Open(\n",
    "    \"/media/ebiag/Ebi-1/InfectionExp_Cfel55/InfectionExpCol55.myrmidon\"\n",
    ")\n",
    "# cfel64_exp = fm.Experiment.Open(\n",
    "#     \"/media/ebiag/Ebi-4/InfectionExp_Cfel64/InfectionExpCol64.myrmidon\"\n",
    "# )\n",
    "\n",
    "exp_list = [cfel42_exp, cfel1_exp, cfel54_exp, cfel13_exp, cfel55_exp]\n",
    "# Repeat each element 5 times\n",
    "exp_list = [x for x in exp_list for _ in range(5)]"
   ]
  },
  {
   "cell_type": "code",
   "execution_count": null,
   "id": "647285f2",
   "metadata": {},
   "outputs": [],
   "source": [
    "# Start times for experimental phase\n",
    "exp_start_times = [\n",
    "    # Cfel 42\n",
    "    ## Baseline phases\n",
    "    datetime(2022, 4, 27, 15, 54).astimezone(tz=None),\n",
    "    datetime(2022, 4, 28, 15, 54).astimezone(tz=None),\n",
    "    datetime(2022, 4, 29, 15, 54).astimezone(tz=None),\n",
    "    datetime(2022, 4, 30, 15, 54).astimezone(tz=None),\n",
    "    datetime(2022, 5, 1, 15, 54).astimezone(tz=None),\n",
    "    # Cfel 1\n",
    "    ## Baseline phases\n",
    "    datetime(2022, 5, 31, 14, 48).astimezone(tz=None),\n",
    "    datetime(2022, 6, 1, 14, 48).astimezone(tz=None),\n",
    "    datetime(2022, 6, 2, 14, 48).astimezone(tz=None),\n",
    "    # datetime(2022, 6, 3, 14, 48).astimezone(tz=None), # Data corruption on this day\n",
    "    datetime(2022, 6, 4, 14, 48).astimezone(tz=None),\n",
    "    # Cfel 54\n",
    "    ## Baseline phases\n",
    "    datetime(2022, 6, 15, 14, 26).astimezone(tz=None),\n",
    "    datetime(2022, 6, 16, 14, 26).astimezone(tz=None),\n",
    "    datetime(2022, 6, 17, 14, 26).astimezone(tz=None),\n",
    "    datetime(2022, 6, 18, 14, 26).astimezone(tz=None),\n",
    "    datetime(2022, 6, 19, 14, 26).astimezone(tz=None),\n",
    "    # Cfel 13\n",
    "    ## Baseline phases\n",
    "    datetime(2023, 4, 19, 15, 5).astimezone(tz=None),\n",
    "    datetime(2023, 4, 20, 15, 5).astimezone(tz=None),\n",
    "    datetime(2023, 4, 21, 15, 5).astimezone(tz=None),\n",
    "    datetime(2023, 4, 22, 15, 5).astimezone(tz=None),\n",
    "    datetime(2023, 4, 23, 15, 5).astimezone(tz=None),\n",
    "    # Cfel 55\n",
    "    ## Baseline phases\n",
    "    datetime(2023, 4, 14, 14, 40).astimezone(tz=None),\n",
    "    datetime(2023, 4, 15, 14, 40).astimezone(tz=None),\n",
    "    datetime(2023, 4, 16, 14, 40).astimezone(tz=None),\n",
    "    datetime(2023, 4, 17, 14, 40).astimezone(tz=None),\n",
    "    datetime(2023, 4, 18, 14, 40).astimezone(tz=None),\n",
    "    # # Cfel 64\n",
    "    # ## Baseline phases\n",
    "    # datetime(2023, 5, 27, 15, 5).astimezone(tz=None),\n",
    "    # datetime(2023, 5, 28, 15, 5).astimezone(tz=None),\n",
    "    # datetime(2023, 5, 29, 15, 5).astimezone(tz=None),\n",
    "    # datetime(2023, 5, 30, 15, 5).astimezone(tz=None),\n",
    "    # datetime(2023, 5, 31, 15, 5).astimezone(tz=None),\n",
    "]\n",
    "exp_end_times = [(start_time + timedelta(hours=6)) for start_time in exp_start_times]"
   ]
  },
  {
   "cell_type": "code",
   "execution_count": null,
   "id": "3d8db880",
   "metadata": {},
   "outputs": [],
   "source": [
    "# Remove Base4 from Cfel1 as we don't have data on that day due to data corruption\n",
    "# It is the at index 8\n",
    "del colony_list[8]\n",
    "del exp_list[8]\n",
    "del phase_list[8]"
   ]
  },
  {
   "cell_type": "code",
   "execution_count": null,
   "id": "db41ccfd",
   "metadata": {},
   "outputs": [],
   "source": [
    "time_resolution = \"1s\"\n",
    "phase_list = [\n",
    "    \"Base1\",\n",
    "    \"Base2\",\n",
    "    \"Base3\",\n",
    "    \"Base4\",\n",
    "    \"Base5\",\n",
    "]"
   ]
  },
  {
   "cell_type": "code",
   "execution_count": null,
   "id": "a62cab6c",
   "metadata": {},
   "outputs": [],
   "source": [
    "exp = fm.Experiment.Open(\n",
    "    \"/media/egeorge/Ebi-2/Woundcare Experiment1/Cfell_wound_col42.myrmidon\"\n",
    ")\n",
    "colony = \"Cfel42\"\n",
    "exp_start_times = [\n",
    "    datetime(2022, 4, 27, 15, 54).astimezone(tz=None),\n",
    "    datetime(2022, 4, 28, 15, 54).astimezone(tz=None),\n",
    "    datetime(2022, 4, 29, 15, 54).astimezone(tz=None),\n",
    "    datetime(2022, 4, 30, 15, 54).astimezone(tz=None),\n",
    "    datetime(2022, 5, 1, 15, 54).astimezone(tz=None),\n",
    "]\n",
    "exp_end_times = [(start_time + timedelta(hours=6)) for start_time in exp_start_times]\n",
    "[\n",
    "    obtain_displacement_df(exp, start, end, colony, phase, time_resolution)\n",
    "    for start, end, phase in zip(\n",
    "        exp_start_times,\n",
    "        exp_end_times,\n",
    "        phase_list,\n",
    "    )\n",
    "]"
   ]
  },
  {
   "cell_type": "code",
   "execution_count": null,
   "id": "2f207e68",
   "metadata": {},
   "outputs": [],
   "source": [
    "exp = fm.Experiment.Open(\n",
    "    \"/media/egeorge/Ebi-2/Woundcare Experiment2/woundcare_cfell1_T2.myrmidon\"\n",
    ")\n",
    "colony = \"Cfel1\"\n",
    "exp_start_times = [\n",
    "    datetime(2022, 5, 31, 14, 48).astimezone(tz=None),\n",
    "    datetime(2022, 6, 1, 14, 48).astimezone(tz=None),\n",
    "    datetime(2022, 6, 2, 14, 48).astimezone(tz=None),\n",
    "    # datetime(2022, 6, 3, 14, 48).astimezone(tz=None), # Data corruption on this day\n",
    "    datetime(2022, 6, 4, 14, 48).astimezone(tz=None),\n",
    "]\n",
    "exp_end_times = [(start_time + timedelta(hours=6)) for start_time in exp_start_times]\n",
    "# Modified phase list\n",
    "phase_list_mod = [\n",
    "    \"Base1\",\n",
    "    \"Base2\",\n",
    "    \"Base3\",\n",
    "    \"Base5\",\n",
    "]\n",
    "[\n",
    "    obtain_displacement_df(exp, start, end, colony, phase, time_resolution)\n",
    "    for start, end, phase in zip(\n",
    "        exp_start_times,\n",
    "        exp_end_times,\n",
    "        phase_list_mod,\n",
    "    )\n",
    "]"
   ]
  },
  {
   "cell_type": "code",
   "execution_count": null,
   "id": "826d8ab1",
   "metadata": {},
   "outputs": [],
   "source": [
    "exp = fm.Experiment.Open(\n",
    "    \"/media/egeorge/Ebi-2/Woundcare Experiment3/woundcare_cfell54_T3.myrmidon\"\n",
    ")\n",
    "colony = \"Cfel54\"\n",
    "exp_start_times = [\n",
    "    datetime(2022, 6, 15, 14, 26).astimezone(tz=None),\n",
    "    datetime(2022, 6, 16, 14, 26).astimezone(tz=None),\n",
    "    datetime(2022, 6, 17, 14, 26).astimezone(tz=None),\n",
    "    datetime(2022, 6, 18, 14, 26).astimezone(tz=None),\n",
    "    datetime(2022, 6, 19, 14, 26).astimezone(tz=None),\n",
    "]\n",
    "exp_end_times = [(start_time + timedelta(hours=6)) for start_time in exp_start_times]"
   ]
  },
  {
   "cell_type": "code",
   "execution_count": null,
   "id": "acec9e41",
   "metadata": {},
   "outputs": [],
   "source": [
    "[\n",
    "    obtain_displacement_df(exp, start, end, colony, phase, time_resolution)\n",
    "    for start, end, phase in zip(\n",
    "        exp_start_times,\n",
    "        exp_end_times,\n",
    "        phase_list,\n",
    "    )\n",
    "]"
   ]
  },
  {
   "cell_type": "code",
   "execution_count": null,
   "id": "6d58e5e5",
   "metadata": {},
   "outputs": [],
   "source": [
    "obtain_displacement_df(\n",
    "    exp,\n",
    "    datetime(2022, 6, 15, 14, 26).astimezone(tz=None),\n",
    "    datetime(2022, 6, 15, 20, 26).astimezone(tz=None),\n",
    "    colony,\n",
    "    \"Base1\",\n",
    "    time_resolution,\n",
    ")"
   ]
  },
  {
   "cell_type": "code",
   "execution_count": null,
   "id": "d8812d11",
   "metadata": {},
   "outputs": [],
   "source": [
    "exp = fm.Experiment.Open(\n",
    "    \"/media/egeorge/Ebi-4/InfectionExp_Cfel13/InfectionExp_Cfel13.myrmidon\"\n",
    ")\n",
    "colony = \"Cfel13\"\n",
    "exp_start_times = [\n",
    "    datetime(2023, 4, 19, 15, 5).astimezone(tz=None),\n",
    "    datetime(2023, 4, 20, 15, 5).astimezone(tz=None),\n",
    "    datetime(2023, 4, 21, 15, 5).astimezone(tz=None),\n",
    "    datetime(2023, 4, 22, 15, 5).astimezone(tz=None),\n",
    "    datetime(2023, 4, 23, 15, 5).astimezone(tz=None),\n",
    "]\n",
    "exp_end_times = [(start_time + timedelta(hours=6)) for start_time in exp_start_times]\n",
    "[\n",
    "    obtain_displacement_df(exp, start, end, colony, phase, time_resolution)\n",
    "    for start, end, phase in zip(\n",
    "        exp_start_times,\n",
    "        exp_end_times,\n",
    "        phase_list,\n",
    "    )\n",
    "]"
   ]
  },
  {
   "cell_type": "code",
   "execution_count": null,
   "id": "44148553",
   "metadata": {},
   "outputs": [],
   "source": [
    "exp = fm.Experiment.Open(\n",
    "    \"/media/ebiag/Ebi-1/InfectionExp_Cfel55/InfectionExpCol55.myrmidon\"\n",
    ")\n",
    "colony = \"Cfel55\"\n",
    "exp_start_times = [\n",
    "    datetime(2023, 4, 14, 14, 40).astimezone(tz=None),\n",
    "    datetime(2023, 4, 15, 14, 40).astimezone(tz=None),\n",
    "    datetime(2023, 4, 16, 14, 40).astimezone(tz=None),\n",
    "    datetime(2023, 4, 17, 14, 40).astimezone(tz=None),\n",
    "    datetime(2023, 4, 18, 14, 40).astimezone(tz=None),\n",
    "]\n",
    "exp_end_times = [(start_time + timedelta(hours=6)) for start_time in exp_start_times]\n",
    "[\n",
    "    obtain_displacement_df(exp, start, end, colony, phase, time_resolution)\n",
    "    for start, end, phase in zip(\n",
    "        exp_start_times,\n",
    "        exp_end_times,\n",
    "        phase_list,\n",
    "    )\n",
    "]\n"
   ]
  },
  {
   "cell_type": "code",
   "execution_count": null,
   "id": "fab88f61",
   "metadata": {},
   "outputs": [],
   "source": [
    "exp = fm.Experiment.Open(\n",
    "    \"/media/egeorge/Ebi-4/InfectionExp_Cfel64/InfectionExpCol64.myrmidon\"\n",
    ")\n",
    "colony = \"Cfel64\"\n",
    "exp_start_times = [\n",
    "    datetime(2023, 5, 27, 15, 5).astimezone(tz=None),\n",
    "    datetime(2023, 5, 28, 15, 5).astimezone(tz=None),\n",
    "    datetime(2023, 5, 29, 15, 5).astimezone(tz=None),\n",
    "    datetime(2023, 5, 30, 15, 5).astimezone(tz=None),\n",
    "    datetime(2023, 5, 31, 15, 5).astimezone(tz=None),\n",
    "]\n",
    "exp_end_times = [(start_time + timedelta(hours=6)) for start_time in exp_start_times]\n",
    "[\n",
    "    obtain_displacement_df(exp, start, end, colony, phase, time_resolution)\n",
    "    for start, end, phase in zip(\n",
    "        exp_start_times,\n",
    "        exp_end_times,\n",
    "        phase_list,\n",
    "    )\n",
    "]"
   ]
  },
  {
   "cell_type": "code",
   "execution_count": null,
   "id": "c8612846",
   "metadata": {},
   "outputs": [],
   "source": [
    "[\n",
    "    obtain_displacement_df(exp, start, end, colony, phase, time_resolution)\n",
    "    for exp, start, end, colony, phase in zip(\n",
    "        exp_list[5:9],\n",
    "        exp_start_times[5:9],\n",
    "        exp_end_times[5:9],\n",
    "        colony_list[5:9],\n",
    "        phase_list[5:9],\n",
    "    )\n",
    "]"
   ]
  },
  {
   "cell_type": "code",
   "execution_count": null,
   "id": "bc0e3b32",
   "metadata": {},
   "outputs": [],
   "source": [
    "[\n",
    "    obtain_displacement_df(exp, start, end, colony, phase, time_resolution)\n",
    "    for exp, start, end, colony, phase in zip(\n",
    "        exp_list[9:14],\n",
    "        exp_start_times[9:4],\n",
    "        exp_end_times[9:14],\n",
    "        colony_list[9:14],\n",
    "        phase_list[9:14],\n",
    "    )\n",
    "]"
   ]
  },
  {
   "cell_type": "code",
   "execution_count": null,
   "id": "226b10a4",
   "metadata": {},
   "outputs": [],
   "source": [
    "[\n",
    "    obtain_displacement_df(exp, start, end, colony, phase, time_resolution)\n",
    "    for exp, start, end, colony, phase in zip(\n",
    "        exp_list[14:19],\n",
    "        exp_start_times[14:19],\n",
    "        exp_end_times[14:19],\n",
    "        colony_list[14:19],\n",
    "        phase_list[14:19],\n",
    "    )\n",
    "]"
   ]
  },
  {
   "cell_type": "code",
   "execution_count": null,
   "id": "dd147480",
   "metadata": {},
   "outputs": [],
   "source": [
    "[\n",
    "    obtain_displacement_df(exp, start, end, colony, phase, time_resolution)\n",
    "    for exp, start, end, colony, phase in zip(\n",
    "        exp_list[19:24],\n",
    "        exp_start_times[19:24],\n",
    "        exp_end_times[19:24],\n",
    "        colony_list[19:24],\n",
    "        phase_list[19:24],\n",
    "    )\n",
    "]"
   ]
  },
  {
   "cell_type": "code",
   "execution_count": null,
   "id": "9b1700d8",
   "metadata": {},
   "outputs": [],
   "source": [
    "baseline_df = [\n",
    "    obtain_displacement_df(exp, start, end, colony, phase, time_resolution)\n",
    "    for exp, start, end, colony, phase in zip(\n",
    "        exp_list, exp_start_times, exp_end_times, colony_list, phase_list\n",
    "    )\n",
    "]\n",
    "# baseline_df = [\n",
    "#     obtain_displacement_df(exp, start, end, colony, phase, time_resolution)\n",
    "#     for exp, start, end, colony, phase in zip(\n",
    "#         exp_list[:1],\n",
    "#         exp_start_times[:1],\n",
    "#         exp_end_times[:1],\n",
    "#         colony_list[:1],\n",
    "#         phase_list[:1],\n",
    "#     )\n",
    "# ]"
   ]
  },
  {
   "cell_type": "code",
   "execution_count": null,
   "id": "e64a149d",
   "metadata": {},
   "outputs": [],
   "source": [
    "t_start_fm = fm.Time(datetime(2022, 4, 27, 15, 54).astimezone(tz=None))\n",
    "t_end_fm = fm.Time(datetime(2022, 4, 27, 21, 54).astimezone(tz=None))\n",
    "freq = \"\".join(time_resolution)\n",
    "print(fm.Time(datetime(2022, 4, 27, 15, 54).astimezone(tz=None)))\n",
    "start_time_fm = exp_start_times[0]\n",
    "end_time_fm = exp_end_times[0]\n",
    "print(fm.Time(start_time))"
   ]
  },
  {
   "cell_type": "code",
   "execution_count": null,
   "id": "025da8c0",
   "metadata": {},
   "outputs": [],
   "source": [
    "trajectories = fm.Query.ComputeAntTrajectories(\n",
    "    experiment=exp_list[0],\n",
    "    start=fm.Time(start_time_fm),\n",
    "    end=fm.Time(end_time_fm),\n",
    "    maximumGap=1000 * fm.Duration.Hour,\n",
    ")"
   ]
  },
  {
   "cell_type": "code",
   "execution_count": null,
   "id": "9d1ea15f",
   "metadata": {},
   "outputs": [],
   "source": [
    "disp_df_list = [calculate_displacement(t) for t in trajectories]\n",
    "disp_df = pd.concat(disp_df_list)\n",
    "disp_df.index.name = \"time\"\n",
    "disp_df.head(5)"
   ]
  },
  {
   "cell_type": "code",
   "execution_count": null,
   "id": "d3bcb054",
   "metadata": {},
   "outputs": [],
   "source": [
    "disp_df = disp_df[disp_df[\"time_diff\"] < 1]"
   ]
  },
  {
   "cell_type": "code",
   "execution_count": null,
   "id": "d2bb094c",
   "metadata": {},
   "outputs": [],
   "source": [
    "disp_df = (\n",
    "    disp_df.groupby([pd.Grouper(freq=freq), \"AntID\", \"Space\"])\n",
    "    .agg({\"X\": \"mean\", \"Y\": \"mean\", \"displacement\": \"mean\", \"time_diff\": \"mean\"})\n",
    "    .reset_index()\n",
    ")"
   ]
  },
  {
   "cell_type": "code",
   "execution_count": null,
   "id": "974cc9e4",
   "metadata": {},
   "outputs": [],
   "source": [
    "disp_df.head(5)"
   ]
  },
  {
   "cell_type": "code",
   "execution_count": null,
   "id": "8b57c2df",
   "metadata": {},
   "outputs": [],
   "source": [
    "df_fn = \"Trial.csv\"\n",
    "disp_df.to_csv(df_fn, index=False)"
   ]
  },
  {
   "cell_type": "code",
   "execution_count": null,
   "id": "f357f888",
   "metadata": {},
   "outputs": [],
   "source": []
  }
 ],
 "metadata": {
  "kernelspec": {
   "display_name": "fort-myrmidon-env",
   "language": "python",
   "name": "python3"
  },
  "language_info": {
   "codemirror_mode": {
    "name": "ipython",
    "version": 3
   },
   "file_extension": ".py",
   "mimetype": "text/x-python",
   "name": "python",
   "nbconvert_exporter": "python",
   "pygments_lexer": "ipython3",
   "version": "3.8.12"
  }
 },
 "nbformat": 4,
 "nbformat_minor": 5
}
