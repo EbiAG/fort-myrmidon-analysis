{
 "cells": [
  {
   "cell_type": "markdown",
   "id": "de6d64e2",
   "metadata": {},
   "source": [
    "## Ant metadata template\n",
    "Extracts metadata like body measurements from a ```.mymridon``` experiment file and saves it as a csv, which can be further analyzed in the optional part or exported into other software such as RStudio. Script also shows how to link a ```tag_id``` (the \"baracode\") to the unique ```ant_id``` (internally attributed identifier for each ant) for a given period.  \n",
    "How ant metadata is stored is documented in the [py-myrmidon documentation](https://formicidae-tracker.github.io/myrmidon/latest/api/index.html)."
   ]
  },
  {
   "cell_type": "code",
   "execution_count": 1,
   "id": "a5238445",
   "metadata": {},
   "outputs": [],
   "source": [
    "import py_fort_myrmidon as fm\n",
    "import numpy as np  # Basic math library\n",
    "import pandas as pd  # Used to create a dataframe, similar to the structure used in R\n",
    "\n",
    "%load_ext blackcellmagic"
   ]
  },
  {
   "cell_type": "markdown",
   "id": "6a83e077-ae72-474b-977c-3bbf52cd7613",
   "metadata": {},
   "source": [
    "We open our example experiment"
   ]
  },
  {
   "cell_type": "code",
   "execution_count": 2,
   "id": "9046030a-4278-4709-8fa9-854b2ae5e380",
   "metadata": {},
   "outputs": [],
   "source": [
    "myrmidonFilePath = \"dataset/example.myrmidon\"\n",
    "experiment = fm.Experiment.Open(myrmidonFilePath)"
   ]
  },
  {
   "cell_type": "markdown",
   "id": "35d63554-52b4-4434-8aba-77fb4b2dd4fc",
   "metadata": {},
   "source": [
    "`fort-myrmidon` uses [fm.Time](https://formicidae-tracker.github.io/myrmidon/latest/api/python/time.html#py-fort-myrmidon-time) to represent datetime in UTC. We can select a time range of interest for our analysis from `fort-myrmidon` / `fort-studio` timestamp ( in [RFC 3339](https://datatracker.ietf.org/doc/html/rfc3339) format)"
   ]
  },
  {
   "cell_type": "code",
   "execution_count": 3,
   "id": "01a80475-0e5e-40e1-9dad-5d0e40660b29",
   "metadata": {},
   "outputs": [
    {
     "data": {
      "text/plain": [
       "({Time:2021-02-18T00:00:00Z}, {Time:2021-02-21T00:00:00Z})"
      ]
     },
     "execution_count": 3,
     "metadata": {},
     "output_type": "execute_result"
    }
   ],
   "source": [
    "t_start = fm.Time.Parse(\"2021-02-18T00:00:00.000Z\")\n",
    "t_end = fm.Time.Parse(\"2021-02-21T00:00:00.000Z\")\n",
    "t_start, t_end"
   ]
  },
  {
   "cell_type": "markdown",
   "id": "54a9d149-f8fe-4773-bb1a-03d930a1409f",
   "metadata": {},
   "source": [
    " Alternatively, we can use [fm.Query.GetDataInformations()](https://formicidae-tracker.github.io/myrmidon/latest/api/python/queries_matchers.html#py_fort_myrmidon.Query.GetDataInformations) to select the whole experiment range"
   ]
  },
  {
   "cell_type": "code",
   "execution_count": 4,
   "id": "a0c7401e-d562-4635-8106-8f5ffdaceddf",
   "metadata": {},
   "outputs": [],
   "source": [
    "dataInfos = fm.Query.GetDataInformations(experiment)\n",
    "t_start, t_end = dataInfos.Start, dataInfos.End"
   ]
  },
  {
   "cell_type": "markdown",
   "id": "e63a2ce9",
   "metadata": {},
   "source": [
    "We now create a dataframe that will collect for each ant its formatted AntID. We use here a python comprehension, which is a nice python tricks. The expression `[ f(x) for x in list]` must be read as *create a new array with f(x) for every x in list*. It is equivalent (but more efficient) than the follwing snippet of code:\n",
    "```python\n",
    "res = []\n",
    "for x in list:\n",
    "    res.append(f(x))\n",
    "```\n",
    "Here we create one single column 'antID' with the formatted antID as a string, as it is displayed in `fort-studio "
   ]
  },
  {
   "cell_type": "code",
   "execution_count": 5,
   "id": "054a4e5f",
   "metadata": {
    "scrolled": true
   },
   "outputs": [
    {
     "data": {
      "text/html": [
       "<div>\n",
       "<style scoped>\n",
       "    .dataframe tbody tr th:only-of-type {\n",
       "        vertical-align: middle;\n",
       "    }\n",
       "\n",
       "    .dataframe tbody tr th {\n",
       "        vertical-align: top;\n",
       "    }\n",
       "\n",
       "    .dataframe thead th {\n",
       "        text-align: right;\n",
       "    }\n",
       "</style>\n",
       "<table border=\"1\" class=\"dataframe\">\n",
       "  <thead>\n",
       "    <tr style=\"text-align: right;\">\n",
       "      <th></th>\n",
       "      <th>antID</th>\n",
       "    </tr>\n",
       "  </thead>\n",
       "  <tbody>\n",
       "    <tr>\n",
       "      <th>1</th>\n",
       "      <td>001</td>\n",
       "    </tr>\n",
       "    <tr>\n",
       "      <th>2</th>\n",
       "      <td>002</td>\n",
       "    </tr>\n",
       "    <tr>\n",
       "      <th>3</th>\n",
       "      <td>003</td>\n",
       "    </tr>\n",
       "    <tr>\n",
       "      <th>4</th>\n",
       "      <td>004</td>\n",
       "    </tr>\n",
       "    <tr>\n",
       "      <th>5</th>\n",
       "      <td>005</td>\n",
       "    </tr>\n",
       "    <tr>\n",
       "      <th>...</th>\n",
       "      <td>...</td>\n",
       "    </tr>\n",
       "    <tr>\n",
       "      <th>110</th>\n",
       "      <td>110</td>\n",
       "    </tr>\n",
       "    <tr>\n",
       "      <th>111</th>\n",
       "      <td>111</td>\n",
       "    </tr>\n",
       "    <tr>\n",
       "      <th>112</th>\n",
       "      <td>112</td>\n",
       "    </tr>\n",
       "    <tr>\n",
       "      <th>113</th>\n",
       "      <td>113</td>\n",
       "    </tr>\n",
       "    <tr>\n",
       "      <th>114</th>\n",
       "      <td>114</td>\n",
       "    </tr>\n",
       "  </tbody>\n",
       "</table>\n",
       "<p>114 rows × 1 columns</p>\n",
       "</div>"
      ],
      "text/plain": [
       "    antID\n",
       "1     001\n",
       "2     002\n",
       "3     003\n",
       "4     004\n",
       "5     005\n",
       "..    ...\n",
       "110   110\n",
       "111   111\n",
       "112   112\n",
       "113   113\n",
       "114   114\n",
       "\n",
       "[114 rows x 1 columns]"
      ]
     },
     "execution_count": 5,
     "metadata": {},
     "output_type": "execute_result"
    }
   ],
   "source": [
    "df_metadata = pd.DataFrame(\n",
    "    data = {\n",
    "        'antID': [fm.FormatAntID(a.ID) for a in experiment.Ants.values()],\n",
    "    },\n",
    "    index = experiment.Ants,\n",
    ")\n",
    "df_metadata # pretty print the dataframe to the notebook"
   ]
  },
  {
   "cell_type": "markdown",
   "id": "dabf50ba",
   "metadata": {},
   "source": [
    "We will now add to this `pandas.DataFrame` the mean head-tail measurement made in `fort-studio` in pixel. Since its expression is a bit more involved we ue a loop to avoid nested list comprehension, which are hard to read. Alternatively we could have created a function to compute the mean measurement and used a comprehension to be more pythonic and efficient."
   ]
  },
  {
   "cell_type": "code",
   "execution_count": 6,
   "id": "c259cc3d",
   "metadata": {},
   "outputs": [
    {
     "name": "stdout",
     "output_type": "stream",
     "text": [
      "{1: 'head-tail'}\n",
      "1\n"
     ]
    },
    {
     "data": {
      "text/html": [
       "<div>\n",
       "<style scoped>\n",
       "    .dataframe tbody tr th:only-of-type {\n",
       "        vertical-align: middle;\n",
       "    }\n",
       "\n",
       "    .dataframe tbody tr th {\n",
       "        vertical-align: top;\n",
       "    }\n",
       "\n",
       "    .dataframe thead th {\n",
       "        text-align: right;\n",
       "    }\n",
       "</style>\n",
       "<table border=\"1\" class=\"dataframe\">\n",
       "  <thead>\n",
       "    <tr style=\"text-align: right;\">\n",
       "      <th></th>\n",
       "      <th>antID</th>\n",
       "      <th>head_tail_px</th>\n",
       "    </tr>\n",
       "  </thead>\n",
       "  <tbody>\n",
       "    <tr>\n",
       "      <th>1</th>\n",
       "      <td>001</td>\n",
       "      <td>273.731152</td>\n",
       "    </tr>\n",
       "    <tr>\n",
       "      <th>2</th>\n",
       "      <td>002</td>\n",
       "      <td>282.032754</td>\n",
       "    </tr>\n",
       "    <tr>\n",
       "      <th>3</th>\n",
       "      <td>003</td>\n",
       "      <td>291.727613</td>\n",
       "    </tr>\n",
       "    <tr>\n",
       "      <th>4</th>\n",
       "      <td>004</td>\n",
       "      <td>301.222409</td>\n",
       "    </tr>\n",
       "    <tr>\n",
       "      <th>5</th>\n",
       "      <td>005</td>\n",
       "      <td>298.303255</td>\n",
       "    </tr>\n",
       "    <tr>\n",
       "      <th>...</th>\n",
       "      <td>...</td>\n",
       "      <td>...</td>\n",
       "    </tr>\n",
       "    <tr>\n",
       "      <th>110</th>\n",
       "      <td>110</td>\n",
       "      <td>282.382467</td>\n",
       "    </tr>\n",
       "    <tr>\n",
       "      <th>111</th>\n",
       "      <td>111</td>\n",
       "      <td>284.437742</td>\n",
       "    </tr>\n",
       "    <tr>\n",
       "      <th>112</th>\n",
       "      <td>112</td>\n",
       "      <td>269.810206</td>\n",
       "    </tr>\n",
       "    <tr>\n",
       "      <th>113</th>\n",
       "      <td>113</td>\n",
       "      <td>285.559101</td>\n",
       "    </tr>\n",
       "    <tr>\n",
       "      <th>114</th>\n",
       "      <td>114</td>\n",
       "      <td>296.311755</td>\n",
       "    </tr>\n",
       "  </tbody>\n",
       "</table>\n",
       "<p>114 rows × 2 columns</p>\n",
       "</div>"
      ],
      "text/plain": [
       "    antID  head_tail_px\n",
       "1     001    273.731152\n",
       "2     002    282.032754\n",
       "3     003    291.727613\n",
       "4     004    301.222409\n",
       "5     005    298.303255\n",
       "..    ...           ...\n",
       "110   110    282.382467\n",
       "111   111    284.437742\n",
       "112   112    269.810206\n",
       "113   113    285.559101\n",
       "114   114    296.311755\n",
       "\n",
       "[114 rows x 2 columns]"
      ]
     },
     "execution_count": 6,
     "metadata": {},
     "output_type": "execute_result"
    }
   ],
   "source": [
    "print(experiment.MeasurementTypeNames)  # Returns a dictionary with {integer_id: name} of a body measurement \n",
    "print(experiment.HEAD_TAIL_MEASUREMENT_TYPE_ID)  # Returns the integer_id of the mandatory head-tail measurement\n",
    "\n",
    "df_metadata[\"head_tail_px\"] = np.nan\n",
    "for ant in experiment.Ants:\n",
    "    head_tail_pixels = fm.Query.ComputeMeasurementFor(experiment=experiment,\n",
    "                                                      antID=ant,\n",
    "                                                      measurementTypeID=experiment.HEAD_TAIL_MEASUREMENT_TYPE_ID)\n",
    "    # this query return an array of measurements, we take the mean of all of them if it exists\n",
    "    if head_tail_pixels:\n",
    "        df_metadata.loc[ant, \"head_tail_px\"] = np.mean([m.LengthPixel for m in head_tail_pixels])\n",
    "df_metadata"
   ]
  },
  {
   "cell_type": "markdown",
   "id": "fe6ef4b7",
   "metadata": {},
   "source": [
    "The following function defines what is called an \"iterator function\" in python. When defined like here, it can be used to create a loop over days in some datetime range. Unlike the built-in `range(n)` function which return a single element, this function return a tuple that represent the time range subsection"
   ]
  },
  {
   "cell_type": "code",
   "execution_count": 7,
   "id": "f451b85d",
   "metadata": {},
   "outputs": [],
   "source": [
    "def fm_time_range(\n",
    "    start: fm.Time,\n",
    "    end: fm.Time,\n",
    "    *,\n",
    "    increment=24 * fm.Duration.Hour,\n",
    "):\n",
    "    \"\"\"Slice a time range is sub-time range 'à la' range()\n",
    "\n",
    "    Args:\n",
    "        start (fm.Time): the start time to consider\n",
    "        end (fm.Time): the end time to consider\n",
    "        increment (fm.Duration): the time increment to slice the whole time range\n",
    "\n",
    "    Yields:\n",
    "        Tuple[fm.Time,fm.Time]: start and end time of the sub range that span at most 'increment'\n",
    "    \"\"\"\n",
    "    while start < end:\n",
    "        last = start\n",
    "        start = min(start.Add(increment), end)\n",
    "        yield last, start"
   ]
  },
  {
   "cell_type": "markdown",
   "id": "245f7d3a",
   "metadata": {},
   "source": [
    "Extract the number of detections in period of 24h ( the default for `fm_time_range()`). Unlike ```fm.Query.staticComputeTagStatistics()```  which reports tag detection, here we only consider our identified Ants. For that purpose, we query for all trajectories , and we count the number of each trajectory points."
   ]
  },
  {
   "cell_type": "code",
   "execution_count": 8,
   "id": "72ea05fc",
   "metadata": {},
   "outputs": [
    {
     "name": "stdout",
     "output_type": "stream",
     "text": [
      "sub-period [2021-02-15T21:29:41.057846219Z; 2021-02-16T21:29:41.057846219Z[\n"
     ]
    },
    {
     "name": "stderr",
     "output_type": "stream",
     "text": [
      "Computing ant trajectories: 100%|▉| 1439/1440 [00:13<00:00, 107.95tracked min/s]\n"
     ]
    },
    {
     "name": "stdout",
     "output_type": "stream",
     "text": [
      "sub-period [2021-02-16T21:29:41.057846219Z; 2021-02-17T21:29:41.057846219Z[\n"
     ]
    },
    {
     "name": "stderr",
     "output_type": "stream",
     "text": [
      "Computing ant trajectories: 100%|▉| 1439/1440 [00:13<00:00, 102.91tracked min/s]\n"
     ]
    },
    {
     "name": "stdout",
     "output_type": "stream",
     "text": [
      "sub-period [2021-02-17T21:29:41.057846219Z; 2021-02-18T21:29:41.057846219Z[\n"
     ]
    },
    {
     "name": "stderr",
     "output_type": "stream",
     "text": [
      "Computing ant trajectories: 100%|█▉| 1439/1440 [00:14<00:00, 97.02tracked min/s]\n"
     ]
    },
    {
     "name": "stdout",
     "output_type": "stream",
     "text": [
      "sub-period [2021-02-18T21:29:41.057846219Z; 2021-02-19T21:29:41.057846219Z[\n"
     ]
    },
    {
     "name": "stderr",
     "output_type": "stream",
     "text": [
      "Computing ant trajectories: 100%|█▉| 1439/1440 [00:15<00:00, 91.91tracked min/s]\n"
     ]
    },
    {
     "name": "stdout",
     "output_type": "stream",
     "text": [
      "sub-period [2021-02-19T21:29:41.057846219Z; 2021-02-19T23:29:39.542389711Z[\n"
     ]
    },
    {
     "name": "stderr",
     "output_type": "stream",
     "text": [
      "Computing ant trajectories:  99%|███▉| 120/121 [00:01<00:00, 70.53tracked min/s]\n"
     ]
    }
   ],
   "source": [
    "df_metadata[\"counts\"] = 0\n",
    "for t_begin, t_last in fm_time_range(t_start, t_end):\n",
    "    print(f\"sub-period [{t_begin}; {t_last}[\")\n",
    "    trajectories = fm.Query.ComputeAntTrajectories(\n",
    "        experiment=experiment,\n",
    "        start=t_begin,\n",
    "        end=t_last,\n",
    "    )\n",
    "    for t in trajectories:\n",
    "        df_metadata.loc[t.Ant, \"counts\"] += len(t.Positions)"
   ]
  },
  {
   "cell_type": "markdown",
   "id": "5b2bfd8e",
   "metadata": {},
   "source": [
    "Save dataframe and optionally plot."
   ]
  },
  {
   "cell_type": "code",
   "execution_count": 9,
   "id": "35c0034a",
   "metadata": {},
   "outputs": [
    {
     "data": {
      "text/html": [
       "<div>\n",
       "<style scoped>\n",
       "    .dataframe tbody tr th:only-of-type {\n",
       "        vertical-align: middle;\n",
       "    }\n",
       "\n",
       "    .dataframe tbody tr th {\n",
       "        vertical-align: top;\n",
       "    }\n",
       "\n",
       "    .dataframe thead th {\n",
       "        text-align: right;\n",
       "    }\n",
       "</style>\n",
       "<table border=\"1\" class=\"dataframe\">\n",
       "  <thead>\n",
       "    <tr style=\"text-align: right;\">\n",
       "      <th></th>\n",
       "      <th>antID</th>\n",
       "      <th>head_tail_px</th>\n",
       "      <th>counts</th>\n",
       "    </tr>\n",
       "  </thead>\n",
       "  <tbody>\n",
       "    <tr>\n",
       "      <th>1</th>\n",
       "      <td>001</td>\n",
       "      <td>273.731152</td>\n",
       "      <td>148581</td>\n",
       "    </tr>\n",
       "    <tr>\n",
       "      <th>2</th>\n",
       "      <td>002</td>\n",
       "      <td>282.032754</td>\n",
       "      <td>951051</td>\n",
       "    </tr>\n",
       "    <tr>\n",
       "      <th>3</th>\n",
       "      <td>003</td>\n",
       "      <td>291.727613</td>\n",
       "      <td>135147</td>\n",
       "    </tr>\n",
       "    <tr>\n",
       "      <th>4</th>\n",
       "      <td>004</td>\n",
       "      <td>301.222409</td>\n",
       "      <td>192689</td>\n",
       "    </tr>\n",
       "    <tr>\n",
       "      <th>5</th>\n",
       "      <td>005</td>\n",
       "      <td>298.303255</td>\n",
       "      <td>2250456</td>\n",
       "    </tr>\n",
       "    <tr>\n",
       "      <th>...</th>\n",
       "      <td>...</td>\n",
       "      <td>...</td>\n",
       "      <td>...</td>\n",
       "    </tr>\n",
       "    <tr>\n",
       "      <th>110</th>\n",
       "      <td>110</td>\n",
       "      <td>282.382467</td>\n",
       "      <td>1400744</td>\n",
       "    </tr>\n",
       "    <tr>\n",
       "      <th>111</th>\n",
       "      <td>111</td>\n",
       "      <td>284.437742</td>\n",
       "      <td>474722</td>\n",
       "    </tr>\n",
       "    <tr>\n",
       "      <th>112</th>\n",
       "      <td>112</td>\n",
       "      <td>269.810206</td>\n",
       "      <td>1117956</td>\n",
       "    </tr>\n",
       "    <tr>\n",
       "      <th>113</th>\n",
       "      <td>113</td>\n",
       "      <td>285.559101</td>\n",
       "      <td>1477313</td>\n",
       "    </tr>\n",
       "    <tr>\n",
       "      <th>114</th>\n",
       "      <td>114</td>\n",
       "      <td>296.311755</td>\n",
       "      <td>996158</td>\n",
       "    </tr>\n",
       "  </tbody>\n",
       "</table>\n",
       "<p>114 rows × 3 columns</p>\n",
       "</div>"
      ],
      "text/plain": [
       "    antID  head_tail_px   counts\n",
       "1     001    273.731152   148581\n",
       "2     002    282.032754   951051\n",
       "3     003    291.727613   135147\n",
       "4     004    301.222409   192689\n",
       "5     005    298.303255  2250456\n",
       "..    ...           ...      ...\n",
       "110   110    282.382467  1400744\n",
       "111   111    284.437742   474722\n",
       "112   112    269.810206  1117956\n",
       "113   113    285.559101  1477313\n",
       "114   114    296.311755   996158\n",
       "\n",
       "[114 rows x 3 columns]"
      ]
     },
     "execution_count": 9,
     "metadata": {},
     "output_type": "execute_result"
    }
   ],
   "source": [
    "f_name = \"ant_metadata_{}_{}_{}.csv\".format(experiment.Name, t_start, t_end)\n",
    "df_metadata.to_csv(f_name, index_label='ant_id')\n",
    "df_metadata  # Show csv preview"
   ]
  },
  {
   "cell_type": "code",
   "execution_count": 10,
   "id": "c2b3307b",
   "metadata": {},
   "outputs": [
    {
     "data": {
      "text/plain": [
       "<AxesSubplot:xlabel='antID'>"
      ]
     },
     "execution_count": 10,
     "metadata": {},
     "output_type": "execute_result"
    },
    {
     "data": {
      "image/png": "[encoded data removed]",
      "text/plain": [
       "<Figure size 1440x216 with 1 Axes>"
      ]
     },
     "metadata": {
      "needs_background": "light"
     },
     "output_type": "display_data"
    },
    {
     "data": {
      "image/png": "[encoded data removed]",
      "text/plain": [
       "<Figure size 1440x216 with 1 Axes>"
      ]
     },
     "metadata": {
      "needs_background": "light"
     },
     "output_type": "display_data"
    }
   ],
   "source": [
    "df_metadata.pivot_table(values='counts', index='antID').plot(kind='bar', figsize=(20,3))\n",
    "df_metadata.pivot_table(values='head_tail_px', index='antID').plot(kind='bar', figsize=(20,3))"
   ]
  },
  {
   "cell_type": "code",
   "execution_count": null,
   "id": "1dd386f3-1d13-433c-8347-0d1f60503cfa",
   "metadata": {},
   "outputs": [],
   "source": []
  }
 ],
 "metadata": {
  "kernelspec": {
   "display_name": "Python 3 (ipykernel)",
   "language": "python",
   "name": "python3"
  },
  "language_info": {
   "codemirror_mode": {
    "name": "ipython",
    "version": 3
   },
   "file_extension": ".py",
   "mimetype": "text/x-python",
   "name": "python",
   "nbconvert_exporter": "python",
   "pygments_lexer": "ipython3",
   "version": "3.8.12"
  }
 },
 "nbformat": 4,
 "nbformat_minor": 5
}
