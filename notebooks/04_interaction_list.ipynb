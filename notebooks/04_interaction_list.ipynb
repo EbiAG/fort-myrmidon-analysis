{
 "cells": [
  {
   "cell_type": "markdown",
   "metadata": {},
   "source": [
    "## Time ordered interactions\n",
    "Produces an interaction list from a ```.mymridon``` experiment file and saves it as a csv. You can specify different matchers (interactions with specific antIDs, interactions of specific body parts) and output this into a csv with the time of each interaction."
   ]
  },
  {
   "cell_type": "code",
   "execution_count": null,
   "metadata": {
    "collapsed": true,
    "pycharm": {
     "name": "#%%\n"
    }
   },
   "outputs": [],
   "source": [
    "from datetime import datetime, timedelta\n",
    "\n",
    "import pandas as pd\n",
    "import py_fort_myrmidon as fm"
   ]
  },
  {
   "cell_type": "code",
   "execution_count": null,
   "metadata": {
    "collapsed": false,
    "pycharm": {
     "name": "#%%\n"
    }
   },
   "outputs": [],
   "source": [
    "def output_focal_interactions(exp, antID_list, start_time, duration_hours):\n",
    "    # Create timestamps\n",
    "    t_start = datetime(\n",
    "        start_time[0], start_time[1], start_time[2], start_time[3], start_time[4]\n",
    "    ).astimezone(tz=None)\n",
    "    t_end = t_start + timedelta(hours=duration_hours)\n",
    "    # Create matcher\n",
    "    focal_IDs = antID_list\n",
    "    # Create Or matcher to select interactions between head (1) and leg (3)\n",
    "    focal_interaction_types = fm.Matcher.Or(\n",
    "        fm.Matcher.InteractionType(1, 3), fm.Matcher.InteractionType(3, 1)\n",
    "    )\n",
    "    # Create matchers for each antID, interaction type combination\n",
    "    focal_interactions = [\n",
    "        fm.Matcher.And(fm.Matcher.AntID(x), focal_interaction_types) for x in focal_IDs\n",
    "    ]\n",
    "    # Create single matcher object by unpacking the list within an Or Matcher\n",
    "    focal_matches = fm.Matcher.Or(*focal_interactions)\n",
    "    # Output trajectories\n",
    "    trajectories, interactions = fm.Query.ComputeAntInteractions(\n",
    "        exp, start=t_start, end=t_end, matcher=focal_matches\n",
    "    )\n",
    "    # Get a list of lists with details of each interaction\n",
    "    l_interaction = []\n",
    "    for ia in interactions:\n",
    "        l_interaction.append(\n",
    "            list(ia.IDs)\n",
    "            + [ia.Start, ia.End, ia.Space]\n",
    "            + [(ia.End - ia.Start).Seconds()]\n",
    "            + [any((ia.Types[:] == [1, 3]).all(1)), any((ia.Types[:] == [3, 1]).all(1))]\n",
    "        )\n",
    "    # This part can be replaced with the alternate code by matthias which may be faster\n",
    "    # # get antIDs from the interaction object\n",
    "    # antIDs = [x.IDs for x in interactions]\n",
    "    # # Unpack the list\n",
    "    # antID1, antID2 = map(list, zip(*antIDs))\n",
    "    # # Obtain start times of the interactions\n",
    "    # start_times = [str(x.Start) for x in interactions]\n",
    "    # # Obtain duration of interactions\n",
    "    # duration = [(x.End - x.Start).Seconds() for x in interactions]\n",
    "    interaction_df = pd.DataFrame(\n",
    "        l_interaction,\n",
    "        columns=[\n",
    "            \"antID1\",\n",
    "            \"antID2\",\n",
    "            \"start\",\n",
    "            \"end\",\n",
    "            \"space\",\n",
    "            \"duration(s)\",\n",
    "            \"1-3\",\n",
    "            \"3-1\",\n",
    "        ],\n",
    "    )\n",
    "    interaction_df.to_csv(\n",
    "        \"focal_ant_interaction_times_{}_{}_{}.csv\".format(exp.Name, t_start, t_end),\n",
    "        index=False,\n",
    "    )"
   ]
  },
  {
   "cell_type": "markdown",
   "metadata": {},
   "source": [
    "## Colony 54"
   ]
  },
  {
   "cell_type": "code",
   "execution_count": null,
   "metadata": {
    "collapsed": false,
    "pycharm": {
     "name": "#%%\n"
    }
   },
   "outputs": [],
   "source": [
    "f_myrmidon = \"/media/egeorge/Redhood/Experiment3/woundcare_cfell54_T3.myrmidon\"\n",
    "exp = fm.Experiment.Open(f_myrmidon)"
   ]
  },
  {
   "cell_type": "code",
   "execution_count": null,
   "metadata": {
    "collapsed": false,
    "pycharm": {
     "name": "#%%\n"
    }
   },
   "outputs": [],
   "source": [
    "# output_focal_interactions([106,22], (2022, 5, 2, 16, 3), 6)\n",
    "focal_ants = [[108, 107], [114, 9], [62, 87], [12, 83], [53, 101]]\n",
    "start_times = [\n",
    "    (2022, 6, 20, 14, 35),\n",
    "    (2022, 6, 21, 14, 21),\n",
    "    (2022, 6, 22, 14, 28),\n",
    "    (2022, 6, 23, 14, 14),\n",
    "    (2022, 6, 24, 14, 31),\n",
    "]"
   ]
  },
  {
   "cell_type": "code",
   "execution_count": null,
   "metadata": {
    "collapsed": false,
    "pycharm": {
     "name": "#%%\n"
    }
   },
   "outputs": [],
   "source": [
    "[output_focal_interactions(x, y, 6) for x, y in zip(exp, focal_ants, start_times)]"
   ]
  }
 ],
 "metadata": {
  "kernelspec": {
   "display_name": "Python 3",
   "language": "python",
   "name": "python3"
  },
  "language_info": {
   "codemirror_mode": {
    "name": "ipython",
    "version": 2
   },
   "file_extension": ".py",
   "mimetype": "text/x-python",
   "name": "python",
   "nbconvert_exporter": "python",
   "pygments_lexer": "ipython2",
   "version": "2.7.6"
  }
 },
 "nbformat": 4,
 "nbformat_minor": 0
}
