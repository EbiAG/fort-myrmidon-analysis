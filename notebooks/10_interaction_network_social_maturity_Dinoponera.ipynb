{
 "cells": [
  {
   "cell_type": "markdown",
   "id": "de6d64e2",
   "metadata": {},
   "source": [
    "## Interaction network template\n",
    "Produces an interaction edgelist from a ```.mymridon``` experiment file and saves it as a csv, which can be further analyzed in the optional part or exported into other software such as RStudio.  \n",
    "This notebook is a walk trough a sample usage of the following:\n",
    "* the py-myrmidon library ([Documentation](https://formicidae-tracker.github.io/myrmidon/latest/))\n",
    "* the facetnet library ([Documentation](https://c4science.ch/source/facet_unil/))\n"
   ]
  },
  {
   "cell_type": "code",
   "execution_count": 1,
   "id": "a5238445",
   "metadata": {
    "ExecuteTime": {
     "end_time": "2024-01-15T22:12:24.413254728Z",
     "start_time": "2024-01-15T22:12:21.247470083Z"
    }
   },
   "outputs": [],
   "source": [
    "import py_fort_myrmidon as fm\n",
    "import numpy as np  # Fundamental math library in python. Here used only for convience: to save the csv.\n",
    "from datetime import datetime, timedelta  # For convenient handling of time and date\n",
    "import networkx as nx  # Optional: for general graph analysis and plotting\n",
    "import facetnet  # Optional: for community analysis\n",
    "import matplotlib.pyplot as plt  # Optional: for plotting\n",
    "import pandas as pd\n",
    "\n",
    "# Optional: makes plots interactive:\n",
    "# %matplotlib widget"
   ]
  },
  {
   "cell_type": "code",
   "execution_count": 2,
   "id": "2e648f0d",
   "metadata": {
    "ExecuteTime": {
     "end_time": "2024-01-15T22:12:27.302228600Z",
     "start_time": "2024-01-15T22:12:27.299402672Z"
    }
   },
   "outputs": [],
   "source": [
    "# Dino Col\n",
    "f_myrmidon = \"/media/ebiag/Ebi-9/Dinoponera_Col1/DinoponeraCol1.myrmidon\"\n",
    "t_start = datetime(2024, 7, 6, 0, 1).astimezone(\n",
    "    tz=None\n",
    ")  # <year, month, day, hour, minute>\n",
    "t_end = datetime(2024, 7, 10, 23, 59).astimezone(tz=None)\n",
    "\n",
    "\n",
    "exp = fm.Experiment.Open(f_myrmidon)"
   ]
  },
  {
   "cell_type": "markdown",
   "id": "3c99fb0e",
   "metadata": {},
   "source": [
    "The following is an iterator for fort mymrmidon time over days in a period. See Ant metadata template for explanation."
   ]
  },
  {
   "cell_type": "code",
   "execution_count": 3,
   "id": "09448303",
   "metadata": {
    "ExecuteTime": {
     "end_time": "2024-01-15T22:12:30.019932607Z",
     "start_time": "2024-01-15T22:12:30.013503653Z"
    }
   },
   "outputs": [],
   "source": [
    "def fm_time_range(start_datetime, end_datetime):\n",
    "    for n in range(int((end_datetime - start_datetime).days) + 1):\n",
    "        yield fm.Time(start_datetime + timedelta(n))"
   ]
  },
  {
   "cell_type": "markdown",
   "id": "dabf50ba",
   "metadata": {},
   "source": [
    "### Create and output edgelists\n",
    "\n",
    "A matcher is used to filter interactions of a certain type (\"body part 1 with body part 1\") that were recorded during a user define period from ```t_start``` to ```t_end```. The ```for``` loop takes the ```ant_id``` of both individuals invovled in the interaction and updates the egde weight in the count graph, as well as in the interaction duration graph. The two edge lists are then saved to csv with name that consists of the experiment name and the dates. This is to avoid confusion, any string can serve as a file name."
   ]
  },
  {
   "cell_type": "code",
   "execution_count": 4,
   "id": "da456ba3",
   "metadata": {
    "ExecuteTime": {
     "end_time": "2024-01-15T22:17:06.899107957Z",
     "start_time": "2024-01-15T22:12:41.008961769Z"
    }
   },
   "outputs": [
    {
     "name": "stderr",
     "output_type": "stream",
     "text": [
      "Computing ant interactions: 100%|█▉| 1439/1440 [00:16<00:00, 89.40tracked min/s]\n",
      "Computing ant interactions: 100%|█▉| 1439/1440 [00:19<00:00, 75.28tracked min/s]\n",
      "Computing ant interactions: 100%|█▉| 1439/1440 [00:17<00:00, 82.41tracked min/s]\n",
      "Computing ant interactions: 100%|█▉| 1439/1440 [00:17<00:00, 83.84tracked min/s]\n",
      "Computing ant interactions: 100%|█▉| 1439/1440 [00:16<00:00, 85.15tracked min/s]\n"
     ]
    }
   ],
   "source": [
    "m = fm.Matcher.InteractionType(1, 1)\n",
    "\n",
    "G_counts = nx.Graph()\n",
    "G_counts.add_nodes_from(exp.Ants.keys())\n",
    "G_seconds = nx.Graph()\n",
    "G_seconds.add_nodes_from(exp.Ants.keys())\n",
    "\n",
    "for t_begin in fm_time_range(t_start, t_end):\n",
    "    interactions = fm.Query.ComputeAntInteractions(\n",
    "        exp, start=t_begin, end=t_begin.Add(fm.Duration.Parse(\"24h\")), matcher=m\n",
    "    )\n",
    "    for ia in interactions[1]:\n",
    "        if G_counts.has_edge(ia.IDs[0], ia.IDs[1]):\n",
    "            G_counts[ia.IDs[0]][ia.IDs[1]][\"weight\"] += 1\n",
    "        else:\n",
    "            G_counts.add_edge(ia.IDs[0], ia.IDs[1], weight=1)\n",
    "\n",
    "        if G_seconds.has_edge(ia.IDs[0], ia.IDs[1]):\n",
    "            G_seconds[ia.IDs[0]][ia.IDs[1]][\"weight\"] += (ia.End - ia.Start).Seconds()\n",
    "        else:\n",
    "            G_seconds.add_edge(\n",
    "                ia.IDs[0], ia.IDs[1], weight=(ia.End - ia.Start).Seconds()\n",
    "            )\n",
    "\n",
    "# f_edgelist_ct = \"edgelist_interaction_counts_{}_{}_{}.csv\".format(exp.Name, t_start, t_end)\n",
    "# f_edgelist_sec = \"edgelist_interaction_seconds_{}_{}_{}.csv\".format(exp.Name, t_start, t_end)\n",
    "\n",
    "# Alternate filenames to work with windows and for edgelists within a 24 hour period\n",
    "day_exp_strt = t_start.strftime(\"%Y%m%d\")\n",
    "day_exp_end = t_end.strftime(\"%Y%m%d\")\n",
    "hr_strt = t_start.strftime(\"%H%M\")\n",
    "hr_end = t_end.strftime(\"%H%M\")\n",
    "\n",
    "f_edgelist_ct = \"edgelist_interaction_counts_{}_{}-{}.csv\".format(\n",
    "    exp.Name, day_exp_strt, day_exp_end\n",
    ")\n",
    "f_edgelist_sec = \"edgelist_interaction_seconds_{}_{}-{}.csv\".format(\n",
    "    exp.Name, day_exp_strt, day_exp_end\n",
    ")\n",
    "\n",
    "nx.write_edgelist(G_counts, f_edgelist_ct)\n",
    "nx.write_edgelist(G_seconds, f_edgelist_sec)"
   ]
  },
  {
   "cell_type": "markdown",
   "id": "22beb1c8",
   "metadata": {},
   "source": [
    "#### Remove outliers/misidentified ants\n",
    "\n",
    "Often there may be outliers which are due to some tags being misidentified in fort-studio. We can use the degree to determine these ant IDs and remove them from the edgelist. In this case the threshold we use to detrmine if an ant is misidentified depends on the time duration of the experiment or the time range over which we are extracting the edgelists and needs to be changed accordingly"
   ]
  },
  {
   "cell_type": "code",
   "execution_count": null,
   "id": "93f54306",
   "metadata": {},
   "outputs": [],
   "source": [
    "# Code for removing outliers - ant tags that were misidentified and hence have very low collisions/interactions\n",
    "# Get sorted list of degree per node to identify outliers to remove\n",
    "degree_dict = {node: val for (node, val) in G_counts.degree()}\n",
    "degree_dict_sort = {\n",
    "    k: v for k, v in sorted(degree_dict.items(), key=lambda item: item[1])\n",
    "}\n",
    "remove = [node for node, degree in dict(G_counts.degree()).items() if degree < 50]\n",
    "G_counts.remove_nodes_from(remove)\n",
    "f_edgelist_ct = \"edgelist_counts_removed_{}_{}_{}.csv\".format(exp.Name, t_start, t_end)\n",
    "\n",
    "nx.write_edgelist(G_counts, f_edgelist_ct)"
   ]
  },
  {
   "cell_type": "markdown",
   "id": "4ed9d4e5",
   "metadata": {},
   "source": [
    "#### Combining edgelists when data is corrputed\n",
    "\n",
    "This works by first outputting multiple edgelists which don't overlap with the range of time when the data corruption happened. After this we read in the edgelists and combine them.\n",
    "We can also skip the step of outputting multiple edgelists by not writing them to a CSV if needed. In this case we directly create multiple graphs from the experiemntal data, combine them as below and output one edgelist CSV"
   ]
  },
  {
   "cell_type": "code",
   "execution_count": null,
   "id": "866cec94868dec3b",
   "metadata": {
    "ExecuteTime": {
     "end_time": "2024-01-15T22:17:18.456061367Z",
     "start_time": "2024-01-15T22:17:18.446798489Z"
    },
    "collapsed": false
   },
   "outputs": [],
   "source": [
    "# Code to combine edgelists. Only useful when there is data corruption leading to 2 or 3 edgelists that need to be extracted leaving out the corrupted data\n",
    "import pandas as pd\n",
    "import networkx as nx\n",
    "\n",
    "G1_c = nx.read_edgelist(\n",
    "    \"edgelist_interaction_counts_Woundcare_cfell1_T2_2022-05-31 00:01:00+02:00_2022-06-02 23:59:00+02:00.csv\",\n",
    "    nodetype=int,\n",
    ")\n",
    "G2_c = nx.read_edgelist(\n",
    "    \"edgelist_interaction_counts_Woundcare_cfell1_T2_2022-06-04 06:01:00+02:00_2022-06-04 23:59:00+02:00.csv\",\n",
    "    nodetype=int,\n",
    ")\n",
    "G1_s = nx.read_edgelist(\n",
    "    \"edgelist_interaction_seconds_Woundcare_cfell1_T2_2022-05-31 00:01:00+02:00_2022-06-02 23:59:00+02:00.csv\",\n",
    "    nodetype=int,\n",
    ")\n",
    "G2_s = nx.read_edgelist(\n",
    "    \"edgelist_interaction_seconds_Woundcare_cfell1_T2_2022-06-04 06:01:00+02:00_2022-06-04 23:59:00+02:00.csv\",\n",
    "    nodetype=int,\n",
    ")\n",
    "n_G1 = list(G1_c)\n",
    "n_G2 = list(G2_c)\n",
    "missing_G1 = [\n",
    "    item for item in n_G2 if item not in n_G1\n",
    "]  # AntID 57 present in G2 and has only interacted with 26 twice and with no other ant\n",
    "# Convert to pandas dataframes, and combine dataframes with summation of weights\n",
    "pG1_c = nx.to_pandas_edgelist(G1_c)\n",
    "pG2_c = nx.to_pandas_edgelist(G2_c)\n",
    "pG_c = pd.concat([pG1_c, pG2_c]).groupby([\"source\", \"target\"]).sum().reset_index()\n",
    "# Convert back to networkx graph\n",
    "G_counts = nx.from_pandas_edgelist(pG_c, edge_attr=True)\n",
    "# Removing antID 57 from the Graph as it is wrongly tagged in all likelihood\n",
    "G_counts.remove_node(57)\n",
    "# Convert to pandas dataframes, and combine dataframes with summation of weights\n",
    "pG1_s = nx.to_pandas_edgelist(G1_s)\n",
    "pG2_s = nx.to_pandas_edgelist(G2_s)\n",
    "pG_s = pd.concat([pG1_s, pG2_s]).groupby([\"source\", \"target\"]).sum().reset_index()\n",
    "# Convert back to networkx graph\n",
    "G_seconds = nx.from_pandas_edgelist(pG_s, edge_attr=True)\n",
    "# Removing antID 57 from the Graph as it is wrongly tagged in all likelihood\n",
    "G_seconds.remove_node(57)\n",
    "f_edgelist_ct = \"edgelist_interaction_counts_{}_{}_{}.csv\".format(\n",
    "    exp.Name, t_start, t_end\n",
    ")\n",
    "f_edgelist_sec = \"edgelist_interaction_seconds_{}_{}_{}.csv\".format(\n",
    "    exp.Name, t_start, t_end\n",
    ")\n",
    "\n",
    "nx.write_edgelist(G_counts, f_edgelist_ct, data=True)\n",
    "nx.write_edgelist(G_seconds, f_edgelist_sec, data=True)"
   ]
  },
  {
   "cell_type": "markdown",
   "id": "b7787b27",
   "metadata": {},
   "source": [
    "### Optional part 1: graph visualization using networkx library\n",
    "For convenience, the facetnet library is used and the previously written csv is parsed again. There are other, more elegant ways to do this. The grap is plotted using the spring model, a common way to visualize graphs."
   ]
  },
  {
   "cell_type": "code",
   "execution_count": null,
   "id": "f3993862",
   "metadata": {
    "ExecuteTime": {
     "end_time": "2024-01-15T22:17:30.360987634Z",
     "start_time": "2024-01-15T22:17:29.838589882Z"
    }
   },
   "outputs": [],
   "source": [
    "G_counts.remove_nodes_from(\n",
    "    list(nx.isolates(G_counts))\n",
    ")  # Nodes without any interactions are removed\n",
    "G_seconds.remove_nodes_from(list(nx.isolates(G_seconds)))\n",
    "fig, ax = plt.subplots()\n",
    "nx.draw_spring(G_counts)\n",
    "fig, ax = plt.subplots()\n",
    "nx.draw_spring(G_seconds)"
   ]
  },
  {
   "cell_type": "markdown",
   "id": "e9689d24",
   "metadata": {},
   "source": [
    "### Optional part 2: community detection using facetnet\n",
    "A fixed number of community is assumed. Facetnet returns a resulting soft modularity score of the community detection, as well as the soft community membership for each individual and each community, which can be understood as membership \"percentage\". The graph is then plotted again with a node color representing community membership. Facetnet can also be used as a command line tool to process the saved csv directly."
   ]
  },
  {
   "cell_type": "code",
   "execution_count": null,
   "id": "6b9d8f3f",
   "metadata": {
    "ExecuteTime": {
     "end_time": "2024-01-15T22:37:20.168637232Z",
     "start_time": "2024-01-15T22:37:15.888179467Z"
    }
   },
   "outputs": [],
   "source": [
    "np.random.seed(12345678)  # set seed for reproducibility\n",
    "nb_communities = 2\n",
    "wc = nx.to_numpy_matrix(G_counts)\n",
    "idmap = G_counts.nodes\n",
    "idmap_inv = {nid: i for i, nid in enumerate(idmap)}\n",
    "dat_fn = facetnet.step(idmap, idmap_inv, wc, 0.7, nb_communities, show_plot=False)\n",
    "\n",
    "# Plot resulting communities as colored node. Remove zero count individuals.\n",
    "soft_comm = dat_fn[5]\n",
    "# fig, ax = plt.subplots()\n",
    "color_nodes = []\n",
    "for i in range(len(soft_comm)):\n",
    "    # red, green, blue value. Red means community 0, green means community 1\n",
    "    color_nodes.append((soft_comm[i, 0], soft_comm[i, 1], 0))\n",
    "# options = {\"edgecolors\": \"tab:gray\", \"node_size\": 120, \"alpha\": 0.25}\n",
    "# options = {\"edge_color\": \"gray\", \"node_size\": 120, \"alpha\": 0.5}\n",
    "# nx.draw_spring(G_counts, node_color=np.asarray(color_nodes), **options)\n",
    "fig = plt.figure(figsize=(10, 8), dpi=300)\n",
    "pos = nx.spring_layout(G_counts, seed=1234567)\n",
    "nx.draw_networkx_nodes(\n",
    "    G_counts, pos, node_color=np.asarray(color_nodes), alpha=0.75, node_size=120\n",
    ")\n",
    "nx.draw_networkx_edges(G_counts, pos, edge_color=\"tab:gray\", alpha=0.2)\n",
    "fig.savefig(\"Woundcare_Inf_Cfel13_baseline_SM.png\")\n",
    "print(\"soft modularity score: {}\".format(dat_fn[4]))"
   ]
  },
  {
   "cell_type": "markdown",
   "id": "36647a73",
   "metadata": {},
   "source": [
    "#### Output Social Maturity CSV with known queen ID\n",
    "\n",
    "Once the queen ID is known we can determine which of the communities has the highest membership score for the queen. The social maturity is the membership values of the other community(s). We then output this as a CSV with a few extra columns"
   ]
  },
  {
   "cell_type": "code",
   "execution_count": null,
   "id": "426afd57",
   "metadata": {},
   "outputs": [],
   "source": [
    "# Output social maturity scores based on known queen ID\n",
    "import pandas as pd\n",
    "\n",
    "queen_id = 33\n",
    "i_q = list(idmap).index(\n",
    "    queen_id\n",
    ")  # Extract index of queen from idmap, first element output by facetnet\n",
    "queen_comm = np.argmax(\n",
    "    dat_fn[5][i_q]\n",
    ")  # Identify which of the communities has the highest value for the Queen. This is the queen community, and hence (1-social maturity values)\n",
    "soc_mat = pd.DataFrame(dat_fn[5][:, queen_comm], columns=[\"soc_mat\"])\n",
    "soc_mat[\"soc_mat\"] = (\n",
    "    1 - soc_mat[\"soc_mat\"]\n",
    ")  # Subtracting 1 from Queen community value to get the forager community value/social maturity value. In case there are more than 2 communities, the social maturity value is the summation of all the non-queen community values\n",
    "soc_mat[\"antID\"] = dat_fn[0]  # Add the antIDs to the community membership values\n",
    "soc_mat[\"queen\"] = np.where(soc_mat[\"antID\"] == queen_id, 1, 0)\n",
    "soc_mat.to_csv(\n",
    "    \"social_maturity_scores_{}_{}_{}.csv\".format(exp.Name, t_start, t_end), index=False\n",
    ")"
   ]
  },
  {
   "cell_type": "markdown",
   "id": "bb9d0f70",
   "metadata": {},
   "source": [
    "### Additional code for removal experiments\n",
    "\n",
    "For the removal experiments in which ants are removed from the colony based on their social maturity values, some aditional code is required.\n",
    "We first get a list of ants with social maturity values below a threshold.\n",
    "We can then obtain the list of nodes (antIDs) that were removed and recreate the pre-removal network with these individuals removed. This can then be used to obtain the social maturity of the remaining individuals giving us social maturity values with and without the removed individuals in the pre-removal phase\n"
   ]
  },
  {
   "cell_type": "code",
   "execution_count": null,
   "id": "332b1eac",
   "metadata": {},
   "outputs": [],
   "source": [
    "# Code to obtain list of antIDs below/above a certain social maturity value\n",
    "sm1 = soc_mat.sort_values(by=[\"soc_mat\"])[soc_mat[\"soc_mat\"] < 0.5]\n",
    "sm1.to_csv(\"social_maturity_RemovalTest2_AntstoRemove.csv\", index=False)"
   ]
  },
  {
   "cell_type": "code",
   "execution_count": null,
   "id": "4bbefae0a3180b83",
   "metadata": {
    "collapsed": false
   },
   "outputs": [],
   "source": [
    "# Code to obtain social maturity distribution of pre-removal networks without the ants which are removed during the experiment\n",
    "# Load social maturity datasets\n",
    "sm_pre = pd.read_csv(\"social_maturity_scores_RemovalTest2_Pre_20220727-20220731.csv\")\n",
    "sm_post = pd.read_csv(\"social_maturity_scores_RemovalTest2_Post_20220803-20220807.csv\")\n",
    "# Obtain list of nodes that were removed\n",
    "removed = list(set(sm_pre[\"antID\"].tolist()).difference(sm_post[\"antID\"].tolist()))\n",
    "# Load pre removal edgelist of interaction counts\n",
    "G_counts_pre = nx.read_edgelist(\n",
    "    \"edgelist_interaction_counts_RemovalTest2_Pre_20220727-20220731.csv\", nodetype=int\n",
    ")\n",
    "# Remove nodes from the graph that correspond to removed ants\n",
    "G_counts_pre.remove_nodes_from(removed)\n",
    "nx.write_edgelist(\n",
    "    G_counts_pre,\n",
    "    \"edgelist_interaction_counts_RemovalTest2_PreModified_20220727-20220731.csv\",\n",
    ")"
   ]
  },
  {
   "cell_type": "code",
   "execution_count": null,
   "id": "573b045777752dd8",
   "metadata": {
    "collapsed": false
   },
   "outputs": [],
   "source": [
    "# Load pre removal edgelist of interaction seconds\n",
    "G_seconds_pre = nx.read_edgelist(\n",
    "    \"edgelist_interaction_seconds_RemovalTest2_Pre_20220727-20220731.csv\", nodetype=int\n",
    ")\n",
    "# Remove nodes from the graph that correspond to removed ants\n",
    "G_seconds_pre.remove_nodes_from(removed)\n",
    "nx.write_edgelist(\n",
    "    G_seconds_pre,\n",
    "    \"edgelist_interaction_seconds_RemovalTest2_PreModified_20220727-20220731.csv\",\n",
    ")"
   ]
  },
  {
   "cell_type": "code",
   "execution_count": null,
   "id": "39ffb36c78e0b9be",
   "metadata": {
    "collapsed": false
   },
   "outputs": [],
   "source": [
    "# Plot modified pre-removal interaction graph\n",
    "fig, ax = plt.subplots()\n",
    "nx.draw_spring(G_counts_pre)"
   ]
  },
  {
   "cell_type": "code",
   "execution_count": null,
   "id": "768b90872525bcee",
   "metadata": {
    "collapsed": false
   },
   "outputs": [],
   "source": [
    "# Run facetnet algorithm over modified graph\n",
    "np.random.seed(12345678)  # set seed for reproducibility\n",
    "nb_communities = 2\n",
    "wc = nx.to_numpy_matrix(G_counts_pre)\n",
    "idmap = G_counts.nodes\n",
    "idmap_inv = {nid: i for i, nid in enumerate(idmap)}\n",
    "dat_fn = facetnet.step(idmap, idmap_inv, wc, 0.7, nb_communities, show_plot=False)\n",
    "\n",
    "# Plot resulting communities as colored node. Remove zero count individuals.\n",
    "soft_comm = dat_fn[5]\n",
    "fig, ax = plt.subplots()\n",
    "color_nodes = []\n",
    "for i in range(len(soft_comm)):\n",
    "    # red, green, blue value. Red means community 0, green means community 1\n",
    "    color_nodes.append((soft_comm[i, 0], soft_comm[i, 1], 0))\n",
    "options = {\"edgecolors\": \"tab:gray\", \"node_size\": 120, \"alpha\": 0.6}\n",
    "nx.draw_spring(G_counts_pre, node_color=np.asarray(color_nodes), **options)\n",
    "print(\"soft modularity score: {}\".format(dat_fn[4]))"
   ]
  },
  {
   "cell_type": "code",
   "execution_count": null,
   "id": "220d4f08c5d02b66",
   "metadata": {
    "collapsed": false
   },
   "outputs": [],
   "source": [
    "# Output social maturity scores based on known queen ID\n",
    "import pandas as pd\n",
    "\n",
    "queen_id = 1\n",
    "i_q = list(idmap).index(\n",
    "    queen_id\n",
    ")  # Extract index of queen from idmap, first element output by facetnet\n",
    "queen_comm = np.argmax(\n",
    "    dat_fn[5][i_q]\n",
    ")  # Identify which of the communities has the highest value for the Queen. This is the queen community, and hence (1-social maturity values)\n",
    "soc_mat = pd.DataFrame(dat_fn[5][:, queen_comm], columns=[\"soc_mat\"])\n",
    "soc_mat[\"soc_mat\"] = (\n",
    "    1 - soc_mat[\"soc_mat\"]\n",
    ")  # Subtracting 1 from Queen community value to get the forager community value/social maturity value. In case there are more than 2 communities, the social maturity value is the summation of all the non-queen community values\n",
    "soc_mat[\"antID\"] = dat_fn[0]  # Add the antIDs to the community membership values\n",
    "soc_mat[\"queen\"] = np.where(soc_mat[\"antID\"] == queen_id, 1, 0)\n",
    "soc_mat.to_csv(\n",
    "    \"social_maturity_scores_{}_PreModified_20220727-20220731.csv\".format(exp.Name),\n",
    "    index=False,\n",
    ")"
   ]
  },
  {
   "cell_type": "markdown",
   "id": "2684903a",
   "metadata": {},
   "source": [
    "## Phase specific interaction networks"
   ]
  },
  {
   "cell_type": "code",
   "execution_count": null,
   "id": "d07f3730",
   "metadata": {},
   "outputs": [],
   "source": [
    "def extract_edgelists(exp, t_begin, t_end, matcher):\n",
    "    \"\"\"Function to extract edgelists per hou\n",
    "\n",
    "    Args:\n",
    "        exp (fort-myrmion experiment file): Fort myrmidon experiment file\n",
    "        t_begin (datetime): Start time in local time with timezone set to None\n",
    "        t_end (datetime): End time in local time with timezone set to None\n",
    "        matcher (fort-myrmidon matcher): matcher object to filter interactions\n",
    "\n",
    "    Returns:\n",
    "        _type_: _description_\n",
    "    \"\"\"\n",
    "    # Initialize graphs\n",
    "    G_counts = nx.Graph()\n",
    "    G_counts.add_nodes_from(exp.Ants.keys())\n",
    "    G_seconds = nx.Graph()\n",
    "    G_seconds.add_nodes_from(exp.Ants.keys())\n",
    "    # Obtain interactions within the hour\n",
    "    t_hr = fm.Time(t_begin)\n",
    "    t_st = fm.Time(t_end)\n",
    "    interactions = fm.Query.ComputeAntInteractions(\n",
    "        exp,\n",
    "        start=t_hr,\n",
    "        end=t_st,\n",
    "        matcher=matcher,\n",
    "        # reportProgress=False,\n",
    "    )\n",
    "    # Fill graph with dges based on interactions\n",
    "    for ia in interactions[1]:\n",
    "        if G_counts.has_edge(ia.IDs[0], ia.IDs[1]):\n",
    "            G_counts[ia.IDs[0]][ia.IDs[1]][\"weight\"] += 1\n",
    "        else:\n",
    "            G_counts.add_edge(ia.IDs[0], ia.IDs[1], weight=1)\n",
    "\n",
    "        if G_seconds.has_edge(ia.IDs[0], ia.IDs[1]):\n",
    "            G_seconds[ia.IDs[0]][ia.IDs[1]][\"weight\"] += (ia.End - ia.Start).Seconds()\n",
    "        else:\n",
    "            G_seconds.add_edge(\n",
    "                ia.IDs[0], ia.IDs[1], weight=(ia.End - ia.Start).Seconds()\n",
    "            )\n",
    "    return G_counts, G_seconds"
   ]
  },
  {
   "cell_type": "code",
   "execution_count": null,
   "id": "38a3175e",
   "metadata": {},
   "outputs": [],
   "source": [
    "f_myrmidon = \"/media/ebiag/Ebi-9/Dinoponera_Col1/DinoponeraCol1.myrmidon\"\n",
    "t_start = datetime(2024, 7, 6, 0, 1).astimezone(\n",
    "    tz=None\n",
    ")  # <year, month, day, hour, minute>\n",
    "t_end = datetime(2024, 7, 10, 23, 59).astimezone(tz=None)\n",
    "\n",
    "\n",
    "exp = fm.Experiment.Open(f_myrmidon)\n",
    "m = fm.Matcher.InteractionType(1, 1)\n"
   ]
  },
  {
   "cell_type": "code",
   "execution_count": null,
   "id": "26d739f7",
   "metadata": {},
   "outputs": [],
   "source": [
    "G_ct, G_sec = extract_edgelists(exp, t_start, t_end, m)\n",
    "nx.write_edgelist(G_ct, \"edgelist_interaction_counts_{}_{}_{}.csv\".format(exp.Name, t_start, t_end))\n",
    "nx.write_edgelist(G_sec, \"edgelist_interaction_seconds_{}_{}_{}.csv\".format(exp.Name, t_start, t_end))"
   ]
  },
  {
   "cell_type": "code",
   "execution_count": null,
   "id": "a6739100",
   "metadata": {},
   "outputs": [],
   "source": [
    "def phase_edgelists(exp, phase, t_start, t_end, matcher):\n",
    "    \"\"\"Wrapper function to extract edgelists for each phase and save them to csv\n",
    "\n",
    "    Args:\n",
    "        exp (fort-myrmion experiment file): Fort myrmidon experiment file\n",
    "        phase (str): Name of the phase\n",
    "        t_start (datetime): Start time in local time with timezone set to None\n",
    "        t_end (datetime): End time in local time with timezone set to None\n",
    "        matcher (fort-myrmidon matcher): matcher object to filter interactions\n",
    "    \"\"\"\n",
    "    start = datetime.now()\n",
    "    G_counts, G_seconds = extract_edgelists(exp, t_start, t_end, matcher)\n",
    "    if t_start.strftime(\"%Y%m%d\") == t_end.strftime(\"%Y%m%d\"):\n",
    "        day_exp = t_start.strftime(\"%Y%m%d\")\n",
    "        hr_strt = t_start.strftime(\"%H%M\")\n",
    "        hr_end = t_end.strftime(\"%H%M\")\n",
    "        f_edgelist_ct = \"edgelist_counts_{}_{}_{}_{}-{}.csv\".format(\n",
    "            exp.Name, phase, day_exp, hr_strt, hr_end\n",
    "        )\n",
    "        f_edgelist_sec = \"edgelist_seconds_{}_{}_{}_{}-{}.csv\".format(\n",
    "            exp.Name, phase, day_exp, hr_strt, hr_end\n",
    "        )\n",
    "    elif t_start.strftime(\"%Y%m%d\") != t_end.strftime(\"%Y%m%d\"):\n",
    "        day_strt = t_start.strftime(\"%Y%m%d\")\n",
    "        day_end = t_end.strftime(\"%Y%m%d\")\n",
    "        f_edgelist_ct = \"edgelist_counts_{}_{}_{}-{}.csv\".format(\n",
    "            exp.Name, phase, day_strt, day_end\n",
    "        )\n",
    "        f_edgelist_sec = \"edgelist_seconds_{}_{}_{}-{}.csv\".format(\n",
    "            exp.Name, phase, day_strt, day_end\n",
    "        )\n",
    "    nx.write_edgelist(G_counts, f_edgelist_ct)\n",
    "    nx.write_edgelist(G_seconds, f_edgelist_sec)\n",
    "    print(\n",
    "        f\"{'Time taken to extract edgelists for '}{phase}{' phase is '}{datetime.now() - start}\"\n",
    "    )"
   ]
  },
  {
   "cell_type": "code",
   "execution_count": null,
   "id": "ae585db2",
   "metadata": {},
   "outputs": [],
   "source": [
    "phase_list = [\n",
    "    \"baseline\",\n",
    "    \"Control\",\n",
    "    \"R1\",\n",
    "    \"R2\",\n",
    "    \"R3\",\n",
    "    \"R4\",\n",
    "    \"R5\",\n",
    "    \"PostC\",\n",
    "    \"PostR1\",\n",
    "    \"PostR2\",\n",
    "    \"PostR3\",\n",
    "    \"PostR4\",\n",
    "    \"PostR5\",\n",
    "]\n",
    "m = fm.Matcher.InteractionType(1, 1)\n",
    "phase_list = phase_list[2:7]\n",
    "phase_list = [phase_name + \"Plus2\" for phase_name in phase_list]"
   ]
  },
  {
   "cell_type": "markdown",
   "id": "6a33ca12",
   "metadata": {},
   "source": [
    "### Colony Cfel42"
   ]
  },
  {
   "cell_type": "code",
   "execution_count": null,
   "id": "58cb6ac9",
   "metadata": {},
   "outputs": [],
   "source": [
    "f_myrmidon = \"/media/ebiag/Ebi-2/Woundcare Experiment1/Cfell_wound_col42.myrmidon\"\n",
    "exp = fm.Experiment.Open(f_myrmidon)\n",
    "phase_starts_exp = [\n",
    "    datetime(2022, 5, 1, 15, 54).astimezone(tz=None),\n",
    "    datetime(2022, 5, 2, 16, 3).astimezone(tz=None),\n",
    "    datetime(2022, 5, 3, 15, 53).astimezone(tz=None),\n",
    "    datetime(2022, 5, 4, 15, 50).astimezone(tz=None),\n",
    "    datetime(2022, 5, 5, 15, 50).astimezone(tz=None),\n",
    "    datetime(2022, 5, 6, 15, 55).astimezone(tz=None),\n",
    "]\n",
    "phase_starts_post = [\n",
    "    datetime(2022, 5, 2, 9, 0).astimezone(tz=None),\n",
    "    datetime(2022, 5, 3, 9, 0).astimezone(tz=None),\n",
    "    datetime(2022, 5, 4, 9, 0).astimezone(tz=None),\n",
    "    datetime(2022, 5, 5, 9, 0).astimezone(tz=None),\n",
    "    datetime(2022, 5, 6, 9, 0).astimezone(tz=None),\n",
    "    datetime(2022, 5, 7, 9, 0).astimezone(tz=None),\n",
    "]\n",
    "phase_starts = phase_starts_exp + phase_starts_post\n",
    "phase_ends = [(start_time + timedelta(hours=6)) for start_time in phase_starts]\n",
    "baseline_start = datetime(2022, 4, 27, 0, 0).astimezone(tz=None)\n",
    "baseline_end = datetime(2022, 5, 1, 23, 59).astimezone(tz=None)\n",
    "phase_starts = [baseline_start] + phase_starts\n",
    "phase_ends = [baseline_end] + phase_ends"
   ]
  },
  {
   "cell_type": "code",
   "execution_count": null,
   "id": "d5ed7599",
   "metadata": {},
   "outputs": [],
   "source": [
    "# Run only if you need to get displacement for 2 hours after estart of each treatment phase\n",
    "phase_starts = phase_starts[2:7]\n",
    "phase_starts = [(start_time + timedelta(hours=2)) for start_time in phase_starts]\n",
    "phase_ends = [(start_time + timedelta(hours=6)) for start_time in phase_starts]"
   ]
  },
  {
   "cell_type": "code",
   "execution_count": null,
   "id": "39cbf289",
   "metadata": {},
   "outputs": [],
   "source": [
    "cfel42_phase_edgelists = [\n",
    "    phase_edgelists(exp, phase, t_start, t_end, m)\n",
    "    for phase, t_start, t_end in zip(phase_list, phase_starts, phase_ends)\n",
    "]"
   ]
  },
  {
   "cell_type": "markdown",
   "id": "d1266472",
   "metadata": {},
   "source": [
    "### Colony Cfel1"
   ]
  },
  {
   "cell_type": "code",
   "execution_count": null,
   "id": "78b3c9a0",
   "metadata": {},
   "outputs": [],
   "source": [
    "f_myrmidon = \"/media/ebiag/Ebi-2/Woundcare Experiment2/woundcare_cfell1_T2.myrmidon\"\n",
    "exp = fm.Experiment.Open(f_myrmidon)\n",
    "phase_starts_exp = [\n",
    "    datetime(2022, 6, 4, 14, 48).astimezone(tz=None),\n",
    "    datetime(2022, 6, 5, 14, 57).astimezone(tz=None),\n",
    "    datetime(2022, 6, 6, 14, 30).astimezone(tz=None),\n",
    "    datetime(2022, 6, 7, 14, 49).astimezone(tz=None),\n",
    "    datetime(2022, 6, 8, 14, 43).astimezone(tz=None),\n",
    "    datetime(2022, 6, 9, 15, 5).astimezone(tz=None),\n",
    "]\n",
    "phase_starts_post = [\n",
    "    datetime(2022, 6, 5, 8, 0).astimezone(tz=None),\n",
    "    datetime(2022, 6, 6, 8, 0).astimezone(tz=None),\n",
    "    datetime(2022, 6, 7, 8, 0).astimezone(tz=None),\n",
    "    datetime(2022, 6, 8, 8, 0).astimezone(tz=None),\n",
    "    datetime(2022, 6, 9, 8, 0).astimezone(tz=None),\n",
    "    datetime(2022, 6, 10, 8, 0).astimezone(tz=None),\n",
    "]\n",
    "phase_starts = phase_starts_exp + phase_starts_post\n",
    "phase_ends = [(start_time + timedelta(hours=6)) for start_time in phase_starts]"
   ]
  },
  {
   "cell_type": "code",
   "execution_count": null,
   "id": "792266ad",
   "metadata": {},
   "outputs": [],
   "source": [
    "# Run only if you need to get displacement for 2 hours after estart of each treatment phase\n",
    "phase_starts = phase_starts[1:6]\n",
    "phase_starts = [(start_time + timedelta(hours=2)) for start_time in phase_starts]\n",
    "phase_ends = [(start_time + timedelta(hours=6)) for start_time in phase_starts]"
   ]
  },
  {
   "cell_type": "code",
   "execution_count": null,
   "id": "383b5983",
   "metadata": {},
   "outputs": [],
   "source": [
    "# To exclude basline\n",
    "cfel1_phase_edgelists = [\n",
    "    phase_edgelists(exp, phase, t_start, t_end, m)\n",
    "    for phase, t_start, t_end in zip(phase_list[1:], phase_starts, phase_ends)\n",
    "]\n",
    "# For Plus2 edgelists\n",
    "# cfel1_phase_edgelists = [\n",
    "#     phase_edgelists(exp, phase, t_start, t_end, m)\n",
    "#     for phase, t_start, t_end in zip(phase_list, phase_starts, phase_ends)\n",
    "# ]"
   ]
  },
  {
   "cell_type": "markdown",
   "id": "aa4b2965",
   "metadata": {},
   "source": [
    "Due to data corruption in Cfel1 on 4th day of baseeline we need to ignore around 30 hours of data. We will need to create two baseline edgelists and combine them"
   ]
  },
  {
   "cell_type": "code",
   "execution_count": null,
   "id": "7d245cf8",
   "metadata": {},
   "outputs": [],
   "source": [
    "# Timings of two phases in baseline without corrupted data\n",
    "baseline_start_1 = datetime(2022, 5, 31, 0, 0).astimezone(tz=None)\n",
    "baseline_end_1 = datetime(2022, 6, 2, 23, 59).astimezone(tz=None)\n",
    "baseline_start_2 = datetime(2022, 6, 4, 6, 0).astimezone(tz=None)\n",
    "baseline_end_2 = datetime(2022, 6, 4, 23, 59).astimezone(tz=None)\n",
    "# Extract edgelists\n",
    "b1_counts, b1_seconds = extract_edgelists(exp, baseline_start_1, baseline_end_1, m)\n",
    "b2_counts, b2_seconds = extract_edgelists(exp, baseline_start_2, baseline_end_2, m)"
   ]
  },
  {
   "cell_type": "code",
   "execution_count": null,
   "id": "729f93a7",
   "metadata": {},
   "outputs": [],
   "source": [
    "# Convert to pandas edgelist\n",
    "b1_counts_df = nx.to_pandas_edgelist(b1_counts)\n",
    "b2_counts_df = nx.to_pandas_edgelist(b2_counts)\n",
    "b1_seconds_df = nx.to_pandas_edgelist(b1_seconds)\n",
    "b2_seconds_df = nx.to_pandas_edgelist(b2_seconds)\n",
    "# Combine dataframes\n",
    "b_counts_df = (\n",
    "    pd.concat([b1_counts_df, b2_counts_df])\n",
    "    .groupby([\"source\", \"target\"])\n",
    "    .sum()\n",
    "    .reset_index()\n",
    ")\n",
    "b_seconds_df = (\n",
    "    pd.concat([b1_seconds_df, b2_seconds_df])\n",
    "    .groupby([\"source\", \"target\"])\n",
    "    .sum()\n",
    "    .reset_index()\n",
    ")\n",
    "# Convert back to networkx graph\n",
    "b_counts = nx.from_pandas_edgelist(b_counts_df, edge_attr=True)\n",
    "b_seconds = nx.from_pandas_edgelist(b_seconds_df, edge_attr=True)"
   ]
  },
  {
   "cell_type": "code",
   "execution_count": null,
   "id": "1d08cb6f",
   "metadata": {},
   "outputs": [],
   "source": [
    "f_edgelist_ct = \"edgelist_counts_{}_baseline_20220531-20220604.csv\".format(exp.Name)\n",
    "f_edgelist_sec = \"edgelist_seconds_{}_baseline_20220531-20220604.csv\".format(exp.Name)\n",
    "nx.write_edgelist(b_counts, f_edgelist_ct)\n",
    "nx.write_edgelist(b_seconds, f_edgelist_sec)"
   ]
  },
  {
   "cell_type": "markdown",
   "id": "c3a756da",
   "metadata": {},
   "source": [
    "### Colony Cfel54"
   ]
  },
  {
   "cell_type": "code",
   "execution_count": null,
   "id": "d7e0617f",
   "metadata": {},
   "outputs": [],
   "source": [
    "f_myrmidon = \"/media/ebiag/Ebi-2/Woundcare Experiment3/woundcare_cfell54_T3.myrmidon\"\n",
    "exp = fm.Experiment.Open(f_myrmidon)\n",
    "phase_starts_exp = [\n",
    "    datetime(2022, 6, 19, 14, 26).astimezone(tz=None),\n",
    "    datetime(2022, 6, 20, 14, 35).astimezone(tz=None),\n",
    "    datetime(2022, 6, 21, 14, 21).astimezone(tz=None),\n",
    "    datetime(2022, 6, 22, 14, 28).astimezone(tz=None),\n",
    "    datetime(2022, 6, 23, 14, 14).astimezone(tz=None),\n",
    "    datetime(2022, 6, 24, 14, 31).astimezone(tz=None),\n",
    "]\n",
    "phase_starts_post = [\n",
    "    datetime(2022, 6, 20, 8, 0).astimezone(tz=None),\n",
    "    datetime(2022, 6, 21, 8, 0).astimezone(tz=None),\n",
    "    datetime(2022, 6, 22, 8, 0).astimezone(tz=None),\n",
    "    datetime(2022, 6, 23, 8, 0).astimezone(tz=None),\n",
    "    datetime(2022, 6, 24, 8, 0).astimezone(tz=None),\n",
    "    datetime(2022, 6, 25, 8, 0).astimezone(tz=None),\n",
    "]\n",
    "phase_starts = phase_starts_exp + phase_starts_post\n",
    "phase_ends = [(start_time + timedelta(hours=6)) for start_time in phase_starts]\n",
    "baseline_start = datetime(2022, 6, 15, 0, 0).astimezone(tz=None)\n",
    "baseline_end = datetime(2022, 6, 19, 23, 59).astimezone(tz=None)\n",
    "phase_starts = [baseline_start] + phase_starts\n",
    "phase_ends = [baseline_end] + phase_ends"
   ]
  },
  {
   "cell_type": "code",
   "execution_count": null,
   "id": "6aec4a9f",
   "metadata": {},
   "outputs": [],
   "source": [
    "# Run only if you need to get displacement for 2 hours after estart of each treatment phase\n",
    "phase_starts = phase_starts[2:7]\n",
    "phase_starts = [(start_time + timedelta(hours=2)) for start_time in phase_starts]\n",
    "phase_ends = [(start_time + timedelta(hours=6)) for start_time in phase_starts]"
   ]
  },
  {
   "cell_type": "code",
   "execution_count": null,
   "id": "2f72457a",
   "metadata": {},
   "outputs": [],
   "source": [
    "cfel54_phase_edgelists = [\n",
    "    phase_edgelists(exp, phase, t_start, t_end, m)\n",
    "    for phase, t_start, t_end in zip(phase_list, phase_starts, phase_ends)\n",
    "]"
   ]
  },
  {
   "cell_type": "markdown",
   "id": "808e0bd7",
   "metadata": {},
   "source": [
    "### Colony Cfel55"
   ]
  },
  {
   "cell_type": "code",
   "execution_count": null,
   "id": "6970a604",
   "metadata": {},
   "outputs": [],
   "source": [
    "f_myrmidon = \"/media/ebiag/Ebi-3/InfectionExp_Cfel55/InfectionExpCol55.myrmidon\"\n",
    "exp = fm.Experiment.Open(f_myrmidon)\n",
    "phase_starts_exp = [\n",
    "    datetime(2023, 4, 18, 14, 40).astimezone(tz=None),\n",
    "    datetime(2023, 4, 20, 15, 45).astimezone(tz=None),\n",
    "    datetime(2023, 4, 21, 14, 48).astimezone(tz=None),\n",
    "    datetime(2023, 4, 22, 14, 17).astimezone(tz=None),\n",
    "    datetime(2023, 4, 23, 14, 0).astimezone(tz=None),\n",
    "    datetime(2023, 4, 24, 14, 54).astimezone(tz=None),\n",
    "]\n",
    "phase_starts_post = [\n",
    "    datetime(2023, 4, 20, 8, 0).astimezone(tz=None),\n",
    "    datetime(2023, 4, 21, 8, 0).astimezone(tz=None),\n",
    "    datetime(2023, 4, 22, 7, 30).astimezone(tz=None),\n",
    "    datetime(2023, 4, 23, 7, 30).astimezone(tz=None),\n",
    "    datetime(2023, 4, 24, 8, 0).astimezone(tz=None),\n",
    "    datetime(2023, 4, 25, 8, 0).astimezone(tz=None),\n",
    "]\n",
    "phase_starts = phase_starts_exp + phase_starts_post\n",
    "phase_ends = [(start_time + timedelta(hours=6)) for start_time in phase_starts]\n",
    "baseline_start = datetime(2023, 4, 14, 0, 0).astimezone(tz=None)\n",
    "baseline_end = datetime(2023, 4, 18, 23, 59).astimezone(tz=None)\n",
    "phase_starts = [baseline_start] + phase_starts\n",
    "phase_ends = [baseline_end] + phase_ends"
   ]
  },
  {
   "cell_type": "code",
   "execution_count": null,
   "id": "e7a1362f",
   "metadata": {},
   "outputs": [],
   "source": [
    "phase_starts = phase_starts[2:7]\n",
    "phase_starts = [(start_time + timedelta(hours=2)) for start_time in phase_starts]\n",
    "phase_ends = [(start_time + timedelta(hours=6)) for start_time in phase_starts]"
   ]
  },
  {
   "cell_type": "code",
   "execution_count": null,
   "id": "21b6f71a",
   "metadata": {},
   "outputs": [],
   "source": [
    "cfel55_phase_edgelists = [\n",
    "    phase_edgelists(exp, phase, t_start, t_end, m)\n",
    "    for phase, t_start, t_end in zip(phase_list, phase_starts, phase_ends)\n",
    "]"
   ]
  },
  {
   "cell_type": "markdown",
   "id": "2d050d9f",
   "metadata": {},
   "source": [
    "### Colony Cfel 13"
   ]
  },
  {
   "cell_type": "code",
   "execution_count": null,
   "id": "469d3e6a",
   "metadata": {},
   "outputs": [],
   "source": [
    "f_myrmidon = \"/media/ebiag/Ebi-3/InfectionExp_Cfel13/InfectionExp_Cfel13.myrmidon\"\n",
    "exp = fm.Experiment.Open(f_myrmidon)\n",
    "phase_starts_exp = [\n",
    "    datetime(2023, 4, 23, 15, 5).astimezone(tz=None),\n",
    "    datetime(2023, 4, 24, 15, 29).astimezone(tz=None),\n",
    "    datetime(2023, 4, 25, 14, 19).astimezone(tz=None),\n",
    "    datetime(2023, 4, 26, 15, 3).astimezone(tz=None),\n",
    "    datetime(2023, 4, 27, 16, 43).astimezone(tz=None),\n",
    "    datetime(2023, 4, 28, 14, 27).astimezone(tz=None),\n",
    "]\n",
    "phase_starts_post = [\n",
    "    datetime(2023, 4, 24, 8, 0).astimezone(tz=None),\n",
    "    datetime(2023, 4, 25, 8, 0).astimezone(tz=None),\n",
    "    datetime(2023, 4, 26, 8, 0).astimezone(tz=None),\n",
    "    datetime(2023, 4, 27, 8, 0).astimezone(tz=None),\n",
    "    datetime(2023, 4, 28, 8, 0).astimezone(tz=None),\n",
    "    datetime(2023, 4, 29, 8, 0).astimezone(tz=None),\n",
    "]\n",
    "phase_starts = phase_starts_exp + phase_starts_post\n",
    "phase_ends = [(start_time + timedelta(hours=6)) for start_time in phase_starts]\n",
    "baseline_start = datetime(2023, 4, 19, 0, 0).astimezone(tz=None)\n",
    "baseline_end = datetime(2023, 4, 23, 23, 59).astimezone(tz=None)\n",
    "phase_starts = [baseline_start] + phase_starts\n",
    "phase_ends = [baseline_end] + phase_ends"
   ]
  },
  {
   "cell_type": "code",
   "execution_count": null,
   "id": "38a04cbf",
   "metadata": {},
   "outputs": [],
   "source": [
    "phase_starts = phase_starts[2:7]\n",
    "phase_starts = [(start_time + timedelta(hours=2)) for start_time in phase_starts]\n",
    "phase_ends = [(start_time + timedelta(hours=6)) for start_time in phase_starts]"
   ]
  },
  {
   "cell_type": "code",
   "execution_count": null,
   "id": "12c60388",
   "metadata": {},
   "outputs": [],
   "source": [
    "cfel13_phase_edgelists = [\n",
    "    phase_edgelists(exp, phase, t_start, t_end, m)\n",
    "    for phase, t_start, t_end in zip(phase_list, phase_starts, phase_ends)\n",
    "]"
   ]
  },
  {
   "cell_type": "markdown",
   "id": "edae2745",
   "metadata": {},
   "source": [
    "### Colony Cfel 64"
   ]
  },
  {
   "cell_type": "code",
   "execution_count": null,
   "id": "64677800",
   "metadata": {},
   "outputs": [],
   "source": [
    "f_myrmidon = \"/media/ebiag/Ebi-1/InfectionExp_Cfel64/InfectionExpCol64.myrmidon\"\n",
    "exp = fm.Experiment.Open(f_myrmidon)\n",
    "phase_starts_exp = [\n",
    "    datetime(2023, 5, 31, 15, 5).astimezone(tz=None),\n",
    "    datetime(2023, 6, 1, 15, 51).astimezone(tz=None),\n",
    "    datetime(2023, 6, 2, 14, 44).astimezone(tz=None),\n",
    "    datetime(2023, 6, 3, 14, 50).astimezone(tz=None),\n",
    "    datetime(2023, 6, 4, 14, 43).astimezone(tz=None),\n",
    "    datetime(2023, 6, 5, 14, 52).astimezone(tz=None),\n",
    "]\n",
    "phase_starts_post = [\n",
    "    datetime(2023, 6, 1, 8, 0).astimezone(tz=None),\n",
    "    datetime(2023, 6, 2, 8, 0).astimezone(tz=None),\n",
    "    datetime(2023, 6, 3, 8, 0).astimezone(tz=None),\n",
    "    datetime(2023, 6, 4, 8, 0).astimezone(tz=None),\n",
    "    datetime(2023, 6, 5, 8, 0).astimezone(tz=None),\n",
    "    datetime(2023, 6, 6, 8, 0).astimezone(tz=None),\n",
    "]\n",
    "phase_starts = phase_starts_exp + phase_starts_post\n",
    "phase_ends = [(start_time + timedelta(hours=6)) for start_time in phase_starts]\n",
    "baseline_start = datetime(2023, 5, 27, 0, 0).astimezone(tz=None)\n",
    "baseline_end = datetime(2023, 5, 31, 23, 59).astimezone(tz=None)\n",
    "phase_starts = [baseline_start] + phase_starts\n",
    "phase_ends = [baseline_end] + phase_ends"
   ]
  },
  {
   "cell_type": "code",
   "execution_count": null,
   "id": "5d2544a4",
   "metadata": {},
   "outputs": [],
   "source": [
    "phase_starts = phase_starts[2:7]\n",
    "phase_starts = [(start_time + timedelta(hours=2)) for start_time in phase_starts]\n",
    "phase_ends = [(start_time + timedelta(hours=6)) for start_time in phase_starts]"
   ]
  },
  {
   "cell_type": "code",
   "execution_count": null,
   "id": "5f561750",
   "metadata": {},
   "outputs": [],
   "source": [
    "cfel64_phase_edgelists = [\n",
    "    phase_edgelists(exp, phase, t_start, t_end, m)\n",
    "    for phase, t_start, t_end in zip(phase_list, phase_starts, phase_ends)\n",
    "]"
   ]
  },
  {
   "cell_type": "markdown",
   "id": "ea7894b4",
   "metadata": {},
   "source": [
    "## Hourly Interaction Networks"
   ]
  },
  {
   "cell_type": "code",
   "execution_count": null,
   "id": "09f0bd87",
   "metadata": {},
   "outputs": [],
   "source": [
    "def hourly_edgelists(exp, phase_day, t_start, n_times, matcher):\n",
    "    \"\"\"Function to create edgelists per hour given a start time and the numbr of hours\n",
    "\n",
    "    Args:\n",
    "        exp (fort-myrmion experiment file): Fort myrmidon experiment file\n",
    "        phase_day (str): Name of the phase and replicate day within the experiment\n",
    "        t_start (datetime): Start time in local time with timezone set to None\n",
    "        n_times (int): Number of hours/time ranges to create edgelists for\n",
    "        matcher (fort-myrmidon matcher): matcher object to filter interactions\n",
    "    \"\"\"\n",
    "    start = datetime.now()\n",
    "    for n in range(n_times):\n",
    "        # Get starting and ending time per hour\n",
    "        t_begin = t_start + timedelta(hours=n)\n",
    "        # t_begin = t_start\n",
    "        t_end = t_begin + timedelta(hours=1)\n",
    "        print(t_begin, t_end)\n",
    "        # Extract edgelist for the hour\n",
    "        G_counts, G_seconds = extract_edgelists(exp, t_begin, t_end, matcher)\n",
    "        # Get day and hour details for name of edgelists\n",
    "        day_exp = t_start.strftime(\"%Y%m%d\")\n",
    "        hr_strt = t_begin.strftime(\"%H%M\")\n",
    "        hr_end = t_end.strftime(\"%H%M\")\n",
    "        # Create names for edgelists\n",
    "        f_edgelist_ct = \"edgelist_counts_{}_{}_{}_H{}_{}-{}.csv\".format(\n",
    "            exp.Name, phase_day, day_exp, n + 1, hr_strt, hr_end\n",
    "        )\n",
    "        f_edgelist_sec = \"edgelist_seconds_{}_{}_{}_H{}_{}-{}.csv\".format(\n",
    "            exp.Name, phase_day, day_exp, n + 1, hr_strt, hr_end\n",
    "        )\n",
    "        nx.write_edgelist(G_counts, f_edgelist_ct)\n",
    "        nx.write_edgelist(G_seconds, f_edgelist_sec)\n",
    "    end = datetime.now()\n",
    "    print(f\"{'Hourly edgelists for '}{phase_day}{' output in '}{end - start}\")"
   ]
  },
  {
   "cell_type": "code",
   "execution_count": null,
   "id": "50afcfd7",
   "metadata": {},
   "outputs": [],
   "source": [
    "# Common list items across all colonies\n",
    "phase_days = [\n",
    "    \"R1\",\n",
    "    \"R2\",\n",
    "    \"R3\",\n",
    "    \"R4\",\n",
    "    \"R5\",\n",
    "    \"PreR1\",\n",
    "    \"PostR1\",\n",
    "    \"PostR2\",\n",
    "    \"PostR3\",\n",
    "    \"PostR4\",\n",
    "    \"PostR5\",\n",
    "]\n",
    "m = fm.Matcher.InteractionType(1, 1)"
   ]
  },
  {
   "cell_type": "markdown",
   "id": "85684bda",
   "metadata": {},
   "source": [
    "### Colony Cfel42"
   ]
  },
  {
   "cell_type": "code",
   "execution_count": null,
   "id": "e07b3917",
   "metadata": {},
   "outputs": [],
   "source": [
    "f_myrmidon = \"/media/ebiag/Ebi-2/Woundcare Experiment1/Cfell_wound_col42.myrmidon\"\n",
    "exp = fm.Experiment.Open(f_myrmidon)\n",
    "# Lis of start times for different phases\n",
    "hr_starts_exp = [\n",
    "    datetime(2022, 5, 2, 16, 3).astimezone(tz=None),\n",
    "    datetime(2022, 5, 3, 15, 53).astimezone(tz=None),\n",
    "    datetime(2022, 5, 4, 15, 50).astimezone(tz=None),\n",
    "    datetime(2022, 5, 5, 15, 50).astimezone(tz=None),\n",
    "    datetime(2022, 5, 6, 15, 55).astimezone(tz=None),\n",
    "]\n",
    "hr_starts_pre = [\n",
    "    datetime(2022, 5, 2, 9, 0).astimezone(tz=None),\n",
    "]\n",
    "hr_starts_post = [\n",
    "    datetime(2022, 5, 3, 9, 0).astimezone(tz=None),\n",
    "    datetime(2022, 5, 4, 9, 0).astimezone(tz=None),\n",
    "    datetime(2022, 5, 5, 9, 0).astimezone(tz=None),\n",
    "    datetime(2022, 5, 6, 9, 0).astimezone(tz=None),\n",
    "    datetime(2022, 5, 7, 9, 0).astimezone(tz=None),\n",
    "]\n",
    "# Combine all start times\n",
    "hr_starts = hr_starts_exp + hr_starts_pre + hr_starts_post\n",
    "\n",
    "# Combine to create one list\n",
    "func_list = [\n",
    "    (exp, phase_day, hr_start, 6, m)\n",
    "    for phase_day, hr_start in zip(phase_days, hr_starts)\n",
    "]"
   ]
  },
  {
   "cell_type": "code",
   "execution_count": null,
   "id": "c0b32c52",
   "metadata": {},
   "outputs": [],
   "source": [
    "cfel42_hourly_edgelists = [\n",
    "    hourly_edgelists(exp, phase_day, t_start, n_hours, matcher)\n",
    "    for exp, phase_day, t_start, n_hours, matcher in func_list\n",
    "]"
   ]
  },
  {
   "cell_type": "markdown",
   "id": "501238b9",
   "metadata": {},
   "source": [
    "### Colony Cfel1"
   ]
  },
  {
   "cell_type": "code",
   "execution_count": null,
   "id": "f41bf87a",
   "metadata": {},
   "outputs": [],
   "source": [
    "f_myrmidon = \"/media/ebiag/Ebi-2/Woundcare Experiment2/woundcare_cfell1_T2.myrmidon\"\n",
    "exp = fm.Experiment.Open(f_myrmidon)\n",
    "# Lis of start times for different phases\n",
    "hr_starts_exp = [\n",
    "    datetime(2022, 6, 5, 14, 57).astimezone(tz=None),\n",
    "    datetime(2022, 6, 6, 14, 30).astimezone(tz=None),\n",
    "    datetime(2022, 6, 7, 14, 49).astimezone(tz=None),\n",
    "    datetime(2022, 6, 8, 14, 43).astimezone(tz=None),\n",
    "    datetime(2022, 6, 9, 15, 5).astimezone(tz=None),\n",
    "]\n",
    "hr_starts_pre = [\n",
    "    datetime(2022, 6, 5, 8, 0).astimezone(tz=None),\n",
    "    datetime(2022, 6, 6, 8, 0).astimezone(tz=None),\n",
    "    datetime(2022, 6, 7, 8, 0).astimezone(tz=None),\n",
    "    datetime(2022, 6, 8, 8, 0).astimezone(tz=None),\n",
    "    datetime(2022, 6, 9, 8, 0).astimezone(tz=None),\n",
    "]\n",
    "hr_starts_post = [datetime(2022, 6, 10, 8, 0).astimezone(tz=None)]\n",
    "# Combine all start times\n",
    "hr_starts = hr_starts_exp + hr_starts_pre + hr_starts_post\n",
    "\n",
    "# Combine to create one list\n",
    "func_list = [\n",
    "    (exp, phase_day, hr_start, 6, m)\n",
    "    for phase_day, hr_start in zip(phase_days, hr_starts)\n",
    "]"
   ]
  },
  {
   "cell_type": "code",
   "execution_count": null,
   "id": "3f85e3d8",
   "metadata": {},
   "outputs": [],
   "source": [
    "cfel1_hourly_edgelists = [\n",
    "    hourly_edgelists(exp, phase_day, t_start, n_hours, matcher)\n",
    "    for exp, phase_day, t_start, n_hours, matcher in func_list\n",
    "]"
   ]
  },
  {
   "cell_type": "markdown",
   "id": "f3ff3592",
   "metadata": {},
   "source": [
    "### Colony Cfel54"
   ]
  },
  {
   "cell_type": "code",
   "execution_count": null,
   "id": "c0205d3b",
   "metadata": {},
   "outputs": [],
   "source": [
    "f_myrmidon = \"/media/ebiag/Ebi-2/Woundcare Experiment3/woundcare_cfell54_T3.myrmidon\"\n",
    "exp = fm.Experiment.Open(f_myrmidon)\n",
    "# Lis of start times for different phases\n",
    "hr_starts_exp = [\n",
    "    datetime(2022, 6, 20, 14, 35).astimezone(tz=None),\n",
    "    datetime(2022, 6, 21, 14, 21).astimezone(tz=None),\n",
    "    datetime(2022, 6, 22, 14, 28).astimezone(tz=None),\n",
    "    datetime(2022, 6, 23, 14, 14).astimezone(tz=None),\n",
    "    datetime(2022, 6, 24, 14, 31).astimezone(tz=None),\n",
    "]\n",
    "hr_starts_pre = [\n",
    "    datetime(2022, 6, 20, 8, 0).astimezone(tz=None),\n",
    "    datetime(2022, 6, 21, 8, 0).astimezone(tz=None),\n",
    "    datetime(2022, 6, 22, 8, 0).astimezone(tz=None),\n",
    "    datetime(2022, 6, 23, 8, 0).astimezone(tz=None),\n",
    "    datetime(2022, 6, 24, 8, 0).astimezone(tz=None),\n",
    "]\n",
    "hr_starts_post = [datetime(2022, 6, 25, 8, 0).astimezone(tz=None)]\n",
    "# Combine all start times\n",
    "hr_starts = hr_starts_exp + hr_starts_pre + hr_starts_post\n",
    "\n",
    "# Combine to create one list\n",
    "func_list = [\n",
    "    (exp, phase_day, hr_start, 6, m)\n",
    "    for phase_day, hr_start in zip(phase_days, hr_starts)\n",
    "]"
   ]
  },
  {
   "cell_type": "code",
   "execution_count": null,
   "id": "501f1b75",
   "metadata": {},
   "outputs": [],
   "source": [
    "cfel54_hourly_edgelists = [\n",
    "    hourly_edgelists(exp, phase_day, t_start, n_hours, matcher)\n",
    "    for exp, phase_day, t_start, n_hours, matcher in func_list\n",
    "]"
   ]
  },
  {
   "cell_type": "markdown",
   "id": "50aa9458",
   "metadata": {},
   "source": [
    "### Colony Cfel 55"
   ]
  },
  {
   "cell_type": "code",
   "execution_count": null,
   "id": "605d5350",
   "metadata": {},
   "outputs": [],
   "source": [
    "f_myrmidon = \"/media/ebiag/Ebi-3/InfectionExp_Cfel55/InfectionExpCol55.myrmidon\"\n",
    "exp = fm.Experiment.Open(f_myrmidon)\n",
    "# Lis of start times for different phases\n",
    "hr_starts_exp = [\n",
    "    datetime(2023, 4, 20, 15, 45).astimezone(tz=None),\n",
    "    datetime(2023, 4, 21, 14, 48).astimezone(tz=None),\n",
    "    datetime(2023, 4, 22, 14, 17).astimezone(tz=None),\n",
    "    datetime(2023, 4, 23, 14, 0).astimezone(tz=None),\n",
    "    datetime(2023, 4, 24, 14, 54).astimezone(tz=None),\n",
    "]\n",
    "hr_starts_pre = [\n",
    "    datetime(2023, 4, 20, 8, 0).astimezone(tz=None),\n",
    "    datetime(2023, 4, 21, 8, 0).astimezone(tz=None),\n",
    "    datetime(2023, 4, 22, 7, 30).astimezone(tz=None),\n",
    "    datetime(2023, 4, 23, 7, 30).astimezone(tz=None),\n",
    "    datetime(2023, 4, 24, 8, 0).astimezone(tz=None),\n",
    "]\n",
    "hr_starts_post = [datetime(2023, 4, 25, 8, 0).astimezone(tz=None)]\n",
    "# Combine all start times\n",
    "hr_starts = hr_starts_exp + hr_starts_pre + hr_starts_post\n",
    "\n",
    "# Combine to create one list\n",
    "func_list = [\n",
    "    (exp, phase_day, hr_start, 6, m)\n",
    "    for phase_day, hr_start in zip(phase_days, hr_starts)\n",
    "]"
   ]
  },
  {
   "cell_type": "code",
   "execution_count": null,
   "id": "c9010145",
   "metadata": {},
   "outputs": [],
   "source": [
    "cfel55_hourly_edgelists = [\n",
    "    hourly_edgelists(exp, phase_day, t_start, n_hours, matcher)\n",
    "    for exp, phase_day, t_start, n_hours, matcher in func_list\n",
    "]"
   ]
  },
  {
   "cell_type": "markdown",
   "id": "eb902527",
   "metadata": {},
   "source": [
    "### Colony Cfel13"
   ]
  },
  {
   "cell_type": "code",
   "execution_count": null,
   "id": "e42773ba",
   "metadata": {},
   "outputs": [],
   "source": [
    "f_myrmidon = \"/media/ebiag/Ebi-3/InfectionExp_Cfel13/InfectionExp_Cfel13.myrmidon\"\n",
    "exp = fm.Experiment.Open(f_myrmidon)\n",
    "# Lis of start times for different phases\n",
    "hr_starts_exp = [\n",
    "    datetime(2023, 4, 24, 15, 29).astimezone(tz=None),\n",
    "    datetime(2023, 4, 25, 14, 19).astimezone(tz=None),\n",
    "    datetime(2023, 4, 26, 15, 3).astimezone(tz=None),\n",
    "    datetime(2023, 4, 27, 16, 43).astimezone(tz=None),\n",
    "    datetime(2023, 4, 28, 14, 27).astimezone(tz=None),\n",
    "]\n",
    "hr_starts_pre = [\n",
    "    datetime(2023, 4, 24, 8, 0).astimezone(tz=None),\n",
    "    datetime(2023, 4, 25, 8, 0).astimezone(tz=None),\n",
    "    datetime(2023, 4, 26, 8, 0).astimezone(tz=None),\n",
    "    datetime(2023, 4, 27, 8, 0).astimezone(tz=None),\n",
    "    datetime(2023, 4, 28, 8, 0).astimezone(tz=None),\n",
    "]\n",
    "hr_starts_post = [datetime(2023, 4, 29, 8, 0).astimezone(tz=None)]\n",
    "# Combine all start times\n",
    "hr_starts = hr_starts_exp + hr_starts_pre + hr_starts_post\n",
    "\n",
    "# Combine to create one list\n",
    "func_list = [\n",
    "    (exp, phase_day, hr_start, 6, m)\n",
    "    for phase_day, hr_start in zip(phase_days, hr_starts)\n",
    "]"
   ]
  },
  {
   "cell_type": "code",
   "execution_count": null,
   "id": "92b085de",
   "metadata": {},
   "outputs": [],
   "source": [
    "cfel13_hourly_edgelists = [\n",
    "    hourly_edgelists(exp, phase_day, t_start, n_hours, matcher)\n",
    "    for exp, phase_day, t_start, n_hours, matcher in func_list\n",
    "]"
   ]
  },
  {
   "cell_type": "markdown",
   "id": "b9f6cd97",
   "metadata": {},
   "source": [
    "### Colony Cfel 64"
   ]
  },
  {
   "cell_type": "code",
   "execution_count": null,
   "id": "8696c51e",
   "metadata": {},
   "outputs": [],
   "source": [
    "f_myrmidon = \"/media/ebiag/Ebi-1/InfectionExp_Cfel64/InfectionExpCol64.myrmidon\"\n",
    "exp = fm.Experiment.Open(f_myrmidon)\n",
    "# Lis of start times for different phases\n",
    "hr_starts_exp = [\n",
    "    datetime(2023, 6, 1, 15, 51).astimezone(tz=None),\n",
    "    datetime(2023, 6, 2, 14, 44).astimezone(tz=None),\n",
    "    datetime(2023, 6, 3, 14, 50).astimezone(tz=None),\n",
    "    datetime(2023, 6, 4, 14, 43).astimezone(tz=None),\n",
    "    datetime(2023, 6, 5, 14, 52).astimezone(tz=None),\n",
    "]\n",
    "hr_starts_pre = [\n",
    "    datetime(2023, 6, 1, 8, 0).astimezone(tz=None),\n",
    "    datetime(2023, 6, 2, 8, 0).astimezone(tz=None),\n",
    "    datetime(2023, 6, 3, 8, 0).astimezone(tz=None),\n",
    "    datetime(2023, 6, 4, 8, 0).astimezone(tz=None),\n",
    "    datetime(2023, 6, 5, 8, 0).astimezone(tz=None),\n",
    "]\n",
    "hr_starts_post = [datetime(2023, 6, 6, 8, 0).astimezone(tz=None)]\n",
    "# Combine all start times\n",
    "hr_starts = hr_starts_exp + hr_starts_pre + hr_starts_post\n",
    "\n",
    "# Combine to create one list\n",
    "func_list = [\n",
    "    (exp, phase_day, hr_start, 6, m)\n",
    "    for phase_day, hr_start in zip(phase_days, hr_starts)\n",
    "]"
   ]
  },
  {
   "cell_type": "code",
   "execution_count": null,
   "id": "3aca5e24",
   "metadata": {},
   "outputs": [],
   "source": [
    "cfel64_hourly_edgelists = [\n",
    "    hourly_edgelists(exp, phase_day, t_start, n_hours, matcher)\n",
    "    for exp, phase_day, t_start, n_hours, matcher in func_list[4:5]\n",
    "]"
   ]
  }
 ],
 "metadata": {
  "kernelspec": {
   "display_name": "fort",
   "language": "python",
   "name": "python3"
  },
  "language_info": {
   "codemirror_mode": {
    "name": "ipython",
    "version": 3
   },
   "file_extension": ".py",
   "mimetype": "text/x-python",
   "name": "python",
   "nbconvert_exporter": "python",
   "pygments_lexer": "ipython3",
   "version": "3.8.15"
  }
 },
 "nbformat": 4,
 "nbformat_minor": 5
}
