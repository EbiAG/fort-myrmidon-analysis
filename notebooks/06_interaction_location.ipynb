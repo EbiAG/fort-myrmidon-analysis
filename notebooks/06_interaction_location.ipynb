{
 "cells": [
  {
   "cell_type": "markdown",
   "id": "a8598359",
   "metadata": {},
   "source": [
    "# Interaction Location\n",
    "Function to identify the spatial location of each interaction in a ```.mymridon``` experiment file. This uses the kdtree method defined in [the spatial fidelity notebook](04_spatial_fidelity.ipynb) to create a grid over the experimental space. Then, the (X,Y) coordinate of one of the ant's position at each interaction is extracted and the zone of this interaction in the grid is computed."
   ]
  },
  {
   "cell_type": "code",
   "execution_count": null,
   "id": "initial_id",
   "metadata": {
    "collapsed": true
   },
   "outputs": [],
   "source": [
    "import py_fort_myrmidon as fm\n",
    "import numpy as np  # Fundamental math library in python.\n",
    "from datetime import datetime, timedelta  # For convenient handling of time and date\n",
    "import pandas as pd  # To create a pandas dataframe, an equivalent to an R dataframe\n",
    "from scipy.spatial import KDTree"
   ]
  },
  {
   "cell_type": "markdown",
   "id": "db812b57",
   "metadata": {},
   "source": [
    "### Defining the grid for the spatial fidelity\n",
    "\n",
    "A spatial tesselation of hexagons is used to define the sites where the observations of the individuals are counted. A nearest neighbour tree (KDTree) is used with the centers of the hexgons mentioned. For a given set of coordinates, a KDTree can be used to efficiently find the seed that is closest to the input coordinates, here the waypoints of the trajectory. The hexagonal boundaries are not defined explicitly. Simply by placing the hexagonal centers accordingly (see ```method ``` variable), the resulting pattern will be hexagonal or squared. The code in the following cell computes the hexagon centers that seed the KDTree.  \n",
    "This part should probably only be edited w.r.t. the method and the internal radius."
   ]
  },
  {
   "cell_type": "code",
   "execution_count": null,
   "id": "e664b5c645c6c6ab",
   "metadata": {
    "collapsed": false
   },
   "outputs": [],
   "source": [
    "def define_kdtree(method, xlim, ylim, radius_kdtree):\n",
    "    if method == \"vertical\":\n",
    "        dx = 2 * radius_kdtree\n",
    "        dy = np.sqrt(3) * radius_kdtree\n",
    "    elif method == \"horizontal\":\n",
    "        dx = np.sqrt(3) * radius_kdtree\n",
    "        dy = 2 * radius_kdtree\n",
    "    elif method == \"square\":\n",
    "        dx = 2 * radius_kdtree\n",
    "        dy = 2 * radius_kdtree\n",
    "\n",
    "    n_x = np.diff(xlim) // dx + 1\n",
    "    n_y = np.diff(ylim) // dy + 1\n",
    "    osx = n_x * dx - np.diff(xlim)\n",
    "    osy = n_y * dy - np.diff(ylim)\n",
    "    x = np.arange(start=xlim[0] - osx / 2, step=dx, stop=n_x * dx + osx / 2)\n",
    "    y = np.arange(start=ylim[0] - osy / 2, step=dy, stop=n_y * dy + osy / 2)\n",
    "    xm, ym = np.meshgrid(x, y)\n",
    "    if method == \"vertical\":\n",
    "        xm[::2] = xm[::2] + radius_kdtree\n",
    "    elif method == \"horizontal\":\n",
    "        ym[:, 1::2] = ym[:, 1::2] + radius_kdtree\n",
    "\n",
    "    sites = np.stack([xm.flatten(), ym.flatten()], axis=1)\n",
    "    kdtree = KDTree(sites)\n",
    "    return kdtree, sites"
   ]
  },
  {
   "cell_type": "markdown",
   "id": "e68cc2f9",
   "metadata": {},
   "source": [
    "### Function to query the kdtree for the location of specific interactions"
   ]
  },
  {
   "cell_type": "code",
   "execution_count": null,
   "id": "a16d0f7e",
   "metadata": {},
   "outputs": [],
   "source": [
    "def interaction_loc_query(\n",
    "    myrmidon_exp, t_start, t_end, method_kdtree, xlim, ylim, radius_kdtree\n",
    "):\n",
    "    \"\"\"\n",
    "    Function to query a kdtree to calculate zone of where an interaction happened\n",
    "    :param myrmidon_exp: Myrmidon experiment (not path)\n",
    "    :param t_start: Start of experiment duration in local time\n",
    "    :param t_end: End of experiment duration in local time\n",
    "    :param method_kdtree: Method to be used for kdtree - vertical, horizontal or square (first 2 are hexagonal shapes)\n",
    "    :param xlim: The maximum value in the x-axis, corresponding to the image size\n",
    "    :param ylim: The maximum value in the y-axis corresponding to the image size\n",
    "    :param radius_kdtree: The radius to be used for the creation of the kdtree\n",
    "    :return: Returns the KDTree used for the query and a dataframe containing X,Y coordinates of ant 1, IDs of ant 1 and 2 involved in the interaction, time of interaction and the zone in the KDTree that the interaction occured in.\n",
    "    \"\"\"\n",
    "    kdtree = define_kdtree(method_kdtree, xlim, ylim, radius_kdtree)\n",
    "    m = fm.Matcher.InteractionType(1, 1)\n",
    "    # Get all interactions within a specific time window\n",
    "    _, interactions = fm.Query.ComputeAntInteractions(\n",
    "        myrmidon_exp, start=t_start, end=t_end, matcher=m\n",
    "    )\n",
    "    # Create interactions dataframe\n",
    "    interaction_df = pd.DataFrame(\n",
    "        [x.Trajectories[0].Trajectory.Positions[0, 1] for x in interactions],\n",
    "        columns=[\"x\"],\n",
    "    )  # X coordinatees of the first ant first point in trajectory related to interaction\n",
    "    interaction_df[\"y\"] = [\n",
    "        x.Trajectories[0].Trajectory.Positions[0, 2] for x in interactions\n",
    "    ]  # Y coordinates of first ant first point in trajectory related to interaction\n",
    "    interaction_df[\"antID1\"] = [\n",
    "        x.Trajectories[0].Trajectory.Ant for x in interactions\n",
    "    ]  # ID of first ant\n",
    "    interaction_df[\"antID2\"] = [\n",
    "        x.Trajectories[1].Trajectory.Ant for x in interactions\n",
    "    ]  # ID of second ant\n",
    "    interaction_df[\"Time\"] = [\n",
    "        x.Trajectories[0].Trajectory.Start for x in interactions\n",
    "    ]  # Time of interaction\n",
    "    # Calculate zone of each X,Y coordinate using kdtree query\n",
    "    dist, zone_indices = kdtree.query(interaction_df.iloc[:, 0:2])\n",
    "    interaction_df[\"zone\"] = zone_indices\n",
    "    return kdtree, interaction_df"
   ]
  }
 ],
 "metadata": {
  "kernelspec": {
   "display_name": "Python 3",
   "language": "python",
   "name": "python3"
  },
  "language_info": {
   "codemirror_mode": {
    "name": "ipython",
    "version": 2
   },
   "file_extension": ".py",
   "mimetype": "text/x-python",
   "name": "python",
   "nbconvert_exporter": "python",
   "pygments_lexer": "ipython2",
   "version": "2.7.6"
  }
 },
 "nbformat": 4,
 "nbformat_minor": 5
}
