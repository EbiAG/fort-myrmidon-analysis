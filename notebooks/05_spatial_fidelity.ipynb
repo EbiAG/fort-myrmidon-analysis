{
 "cells": [
  {
   "cell_type": "markdown",
   "metadata": {},
   "source": [
    "# Spatial fidelity template\n",
    "Infers a spatial fiedlity map for every individual from a ```.mymridon``` experiment file and saves it as a csv, which can be further analyzed in the optinal part or exported into other software such as RStudio.  \n",
    "This notebook uses the following:\n",
    "* the py-myrmidon library ([Documentation](https://formicidae-tracker.github.io/myrmidon/latest/))\n",
    "* scipy spatial library ([Documentation](https://docs.scipy.org/doc/scipy/reference/spatial.html))"
   ]
  },
  {
   "cell_type": "code",
   "execution_count": null,
   "metadata": {
    "ExecuteTime": {
     "end_time": "2023-06-16T10:31:11.952505355Z",
     "start_time": "2023-06-16T10:31:10.638153542Z"
    },
    "collapsed": true
   },
   "outputs": [],
   "source": [
    "from datetime import datetime, timedelta  # For convenient handling of time and date\n",
    "\n",
    "import numpy as np  # Fundamental math library in python.\n",
    "import pandas as pd  # To create a pandas dataframe, an equivalent to an R dataframe\n",
    "import py_fort_myrmidon as fm\n",
    "from scipy.spatial import KDTree"
   ]
  },
  {
   "cell_type": "markdown",
   "metadata": {},
   "source": [
    "## Calculating spatial fidelity\n",
    "\n",
    "The code here is the same as in the original code written by Matthias. For convenience sake the different components have been converted into functions that can be used to run over multiple fort-studio experiments"
   ]
  },
  {
   "cell_type": "markdown",
   "metadata": {},
   "source": [
    "### Defining the grid for the spatial fidelity\n",
    "\n",
    "A spatial tesselation of hexagons is used to define the sites where the observations of the individuals are counted. A nearest neighbour tree (KDTree) is used with the centers of the hexgons mentioned. For a given set of coordinates, a KDTree can be used to efficiently find the seed that is closest to the input coordinates, here the waypoints of the trajectory. The hexagonal boundaries are not defined explicitly. Simply by placing the hexagonal centers accordingly (see ```method ``` variable), the resulting pattern will be hexagonal or squared. The code in the following cell computes the hexagon centers that seed the KDTree.  \n",
    "This part should probably only be edited w.r.t. the method and the internal radius."
   ]
  },
  {
   "cell_type": "code",
   "execution_count": null,
   "metadata": {},
   "outputs": [],
   "source": [
    "def define_kdtree(method, xlim, ylim, r_int):\n",
    "    if method == \"vertical\":\n",
    "        dx = 2 * r_int\n",
    "        dy = np.sqrt(3) * r_int\n",
    "    elif method == \"horizontal\":\n",
    "        dx = np.sqrt(3) * r_int\n",
    "        dy = 2 * r_int\n",
    "    elif method == \"square\":\n",
    "        dx = 2 * r_int\n",
    "        dy = 2 * r_int\n",
    "\n",
    "    n_x = np.diff(xlim) // dx + 1\n",
    "    n_y = np.diff(ylim) // dy + 1\n",
    "    osx = n_x * dx - np.diff(xlim)\n",
    "    osy = n_y * dy - np.diff(ylim)\n",
    "    x = np.arange(start=xlim[0] - osx / 2, step=dx, stop=n_x * dx + osx / 2)\n",
    "    y = np.arange(start=ylim[0] - osy / 2, step=dy, stop=n_y * dy + osy / 2)\n",
    "    xm, ym = np.meshgrid(x, y)\n",
    "    if method == \"vertical\":\n",
    "        xm[::2] = xm[::2] + r_int\n",
    "    elif method == \"horizontal\":\n",
    "        ym[:, 1::2] = ym[:, 1::2] + r_int\n",
    "\n",
    "    sites = np.stack([xm.flatten(), ym.flatten()], axis=1)\n",
    "    kdtree = KDTree(sites)\n",
    "    return kdtree, sites"
   ]
  },
  {
   "cell_type": "markdown",
   "metadata": {},
   "source": [
    "### Function to calculate presence in the grid\n",
    "\n",
    "This function takes the counts of each antID in each of the grid cells that were calculated using the kdtree function"
   ]
  },
  {
   "cell_type": "code",
   "execution_count": null,
   "metadata": {},
   "outputs": [],
   "source": [
    "def calc_counts_kdtree(\n",
    "    exp, t_start, t_end, kdtree, counts, idxmap, counts_cutoff, col_phase\n",
    "):\n",
    "    \"\"\"Function to calculate normalised counts of ants in each zone\n",
    "\n",
    "    Args:\n",
    "        exp (fort-myrmidon experiment file): Fort myrmidon experiment file\n",
    "        t_start (datetime): Start time in local time with timezone set to None\n",
    "        t_end (datetime): End time in local time with timezone set to None\n",
    "        kdtree (kdtree object): kdtree object ontained from define_kdtree function\n",
    "        counts (Numpy Array): A numpy array with dimentsions number of ants x number of zones\n",
    "        idxmap (dict): Dictionary mapping ant ids to indices in the counts array\n",
    "        counts_cutoff (int): cut-off value to threshold the counts\n",
    "        col_phase (string): String which contains the colony and phase information\n",
    "    \"\"\"\n",
    "    # Convert to fm.Time object\n",
    "    t_st = fm.Time(t_start)\n",
    "    t_en = fm.Time(t_end)\n",
    "    # Extract ant trajectories\n",
    "    trajectories = fm.Query.ComputeAntTrajectories(\n",
    "        exp,\n",
    "        start=t_st,\n",
    "        end=t_en,\n",
    "    )\n",
    "    # Obtain the zone indices for each coordinate in each trajectory\n",
    "    for t in trajectories:  # Loop over all the trajectories\n",
    "        dist, zone_indices = kdtree.query(\n",
    "            t.Positions[:, 1:3]\n",
    "        )  # Obtain the zone indices for each (X,Y) coordinate in the trajectory\n",
    "        ind, cts = np.unique(\n",
    "            zone_indices, return_counts=True\n",
    "        )  # Count the number of times each zone is present\n",
    "        counts[t.Space][idxmap[t.Ant], ind] += cts  # Add the counts to the counts array\n",
    "    # Normalize the counts\n",
    "    for s in exp.Spaces:  # Loop over the experimental spaces\n",
    "        row_sums = counts[s].sum(axis=1)[\n",
    "            :, np.newaxis\n",
    "        ]  # Sum the counts for each individual\n",
    "        counts[s] = np.divide(\n",
    "            counts[s], row_sums, out=np.zeros_like(counts[s]), where=row_sums != 0\n",
    "        )  # Normalize per individual, removing individuals which have less than counts_cutoff\n",
    "        # Output the counts to a csv file\n",
    "        df = pd.DataFrame(data=counts[s], index=exp.Ants)  # Create a pandas dataframe\n",
    "        df.index.name = \"AntID\"  # Name the index column\n",
    "        f_count = \"NormCounts_{}_Space{}_{}_{}_{}.csv\".format(\n",
    "            col_phase,\n",
    "            s,\n",
    "            exp.Spaces[s].Name,\n",
    "            t_start.strftime(\"%Y%m%d-%H%M%S\"),\n",
    "            t_end.strftime(\"%Y%m%d-%H%M%S\"),\n",
    "        )  # Name for the output file\n",
    "        print(f_count, \" done\")\n",
    "        df.to_csv(f_count)"
   ]
  },
  {
   "cell_type": "markdown",
   "metadata": {},
   "source": [
    "### Function to run the spatial presence calculation over whole experiments\n",
    "\n",
    "This is a wrapper function for `calc_counts_kdtree` which runs the function over multiple time ranges"
   ]
  },
  {
   "cell_type": "code",
   "execution_count": null,
   "metadata": {
    "ExecuteTime": {
     "end_time": "2023-06-16T10:31:21.421927279Z",
     "start_time": "2023-06-16T10:31:21.407844326Z"
    },
    "collapsed": false
   },
   "outputs": [],
   "source": [
    "def calc_spatial_fidelity(\n",
    "    myrmidon_path,\n",
    "    exp_start,\n",
    "    start_time_list,\n",
    "    end_time_list,\n",
    "    counts_cutoff,\n",
    "    col_phase_list,\n",
    "):\n",
    "    # Open myrmidon file\n",
    "    exp = fm.Experiment.Open(myrmidon_path)\n",
    "    # Get frames from first second of experiment tracking\n",
    "    identifiedFrames = fm.Query.IdentifyFrames(\n",
    "        exp,\n",
    "        start=fm.Time(exp_start),\n",
    "        end=fm.Time(exp_start).Add(fm.Duration().Parse(\"1s\")),\n",
    "    )\n",
    "    # Obtain x and y limits fo frame\n",
    "    xlim = [0, identifiedFrames[0].Width]\n",
    "    ylim = [0, identifiedFrames[0].Height]\n",
    "    # get average ant size to calculate the bin size\n",
    "    # ant_radius = []\n",
    "    # for ant in exp.Ants:\n",
    "    #     ant_radius.append(fm.Query.ComputeMeasurementFor(experiment=exp, antID=ant, measurementTypeID=1)[0].LengthPixel)\n",
    "    # r_int = np.mean(ant_radius)\n",
    "    r_int = 300  # Using a general value of 300 to account for cases where the fm.Query.ComputeMeasurementFor throws an error\n",
    "    # Obtain the kdtree\n",
    "    kdtree, sites = define_kdtree(\"vertical\", xlim, ylim, r_int)\n",
    "    # Create a dictionary for holding counts data\n",
    "    # counts_cutoff = 0 # For hard coding a count cutoff inside the function\n",
    "    # Create a dictionary with an array full of zeros and shape (number individuals x number sites) for each Space\n",
    "    counts = {}\n",
    "    for s in exp.Spaces:\n",
    "        counts[s] = np.zeros((len(exp.Ants), len(sites)))\n",
    "    idxmap = dict(\n",
    "        zip(exp.Ants, range(len(exp.Ants)))\n",
    "    )  # Maps the ant id to the matrix index\n",
    "    # Run function to calculate counts over each space for each combination of start and end time\n",
    "    [\n",
    "        calc_counts_kdtree(\n",
    "            exp, t_start, t_end, kdtree, counts, idxmap, counts_cutoff, col_phase\n",
    "        )\n",
    "        for t_start, t_end, col_phase in zip(\n",
    "            start_time_list, end_time_list, col_phase_list\n",
    "        )\n",
    "    ]"
   ]
  },
  {
   "cell_type": "markdown",
   "metadata": {},
   "source": [
    "## Colony Cfel42"
   ]
  },
  {
   "cell_type": "code",
   "execution_count": null,
   "metadata": {
    "ExecuteTime": {
     "end_time": "2023-06-16T10:31:25.925090646Z",
     "start_time": "2023-06-16T10:31:25.920264257Z"
    },
    "collapsed": false
   },
   "outputs": [],
   "source": [
    "# Colony 42\n",
    "myrmidon_path = \"/media/ebiag/Ebi-2/Woundcare Experiment1/Cfell_wound_col42.myrmidon\"\n",
    "exp_start = datetime(2022, 4, 27, 0, 1).astimezone(tz=None)\n",
    "start_time_list = [\n",
    "    datetime(2022, 5, 1, 15, 54).astimezone(tz=None),\n",
    "    datetime(2022, 5, 2, 16, 3).astimezone(tz=None),\n",
    "    datetime(2022, 5, 3, 15, 53).astimezone(tz=None),\n",
    "    datetime(2022, 5, 4, 15, 50).astimezone(tz=None),\n",
    "    datetime(2022, 5, 5, 15, 50).astimezone(tz=None),\n",
    "    datetime(2022, 5, 6, 15, 55).astimezone(tz=None),\n",
    "    datetime(2022, 5, 2, 9, 0).astimezone(tz=None),\n",
    "    datetime(2022, 5, 3, 9, 0).astimezone(tz=None),\n",
    "    datetime(2022, 5, 4, 9, 0).astimezone(tz=None),\n",
    "    datetime(2022, 5, 5, 9, 0).astimezone(tz=None),\n",
    "    datetime(2022, 5, 6, 9, 0).astimezone(tz=None),\n",
    "    datetime(2022, 5, 7, 9, 0).astimezone(tz=None),\n",
    "]\n",
    "\n",
    "counts_cutoff = 0\n",
    "\n",
    "end_time_list = [start_time + timedelta(hours=6) for start_time in start_time_list]\n",
    "\n",
    "colony = \"Cfel42_\"\n",
    "phase = [\n",
    "    \"Control\",\n",
    "    \"R1\",\n",
    "    \"R2\",\n",
    "    \"R3\",\n",
    "    \"R4\",\n",
    "    \"R5\",\n",
    "    \"PostC\",\n",
    "    \"PostR1\",\n",
    "    \"PostR2\",\n",
    "    \"PostR3\",\n",
    "    \"PostR4\",\n",
    "    \"PostR5\",\n",
    "]\n",
    "\n",
    "col_phase_list = [f\"{colony}{phase}\" for phase in phase]"
   ]
  },
  {
   "cell_type": "code",
   "execution_count": null,
   "metadata": {
    "ExecuteTime": {
     "end_time": "2023-06-16T10:39:58.889590595Z",
     "start_time": "2023-06-16T10:31:31.563118390Z"
    },
    "collapsed": false
   },
   "outputs": [],
   "source": [
    "calc_spatial_fidelity(\n",
    "    myrmidon_path,\n",
    "    exp_start,\n",
    "    start_time_list,\n",
    "    end_time_list,\n",
    "    counts_cutoff,\n",
    "    col_phase_list,\n",
    ")"
   ]
  },
  {
   "cell_type": "markdown",
   "metadata": {},
   "source": [
    "## Colony Cfel1"
   ]
  },
  {
   "cell_type": "code",
   "execution_count": null,
   "metadata": {
    "ExecuteTime": {
     "end_time": "2023-06-16T10:40:10.240209771Z",
     "start_time": "2023-06-16T10:40:10.230778328Z"
    },
    "collapsed": false
   },
   "outputs": [],
   "source": [
    "# Colony 1\n",
    "myrmidon_path = \"/media/ebiag/Ebi-2/Woundcare Experiment2/woundcare_cfell1_T2.myrmidon\"\n",
    "exp_start = datetime(2022, 5, 31, 0, 1).astimezone(tz=None)\n",
    "start_time_list = [\n",
    "    datetime(2022, 6, 4, 14, 48).astimezone(tz=None),\n",
    "    datetime(2022, 6, 5, 14, 57).astimezone(tz=None),\n",
    "    datetime(2022, 6, 6, 14, 30).astimezone(tz=None),\n",
    "    datetime(2022, 6, 7, 14, 49).astimezone(tz=None),\n",
    "    datetime(2022, 6, 8, 14, 43).astimezone(tz=None),\n",
    "    datetime(2022, 6, 9, 15, 5).astimezone(tz=None),\n",
    "    datetime(2022, 6, 5, 8, 0).astimezone(tz=None),\n",
    "    datetime(2022, 6, 6, 8, 0).astimezone(tz=None),\n",
    "    datetime(2022, 6, 7, 8, 0).astimezone(tz=None),\n",
    "    datetime(2022, 6, 8, 8, 0).astimezone(tz=None),\n",
    "    datetime(2022, 6, 9, 8, 0).astimezone(tz=None),\n",
    "    datetime(2022, 6, 10, 8, 0).astimezone(tz=None),\n",
    "]\n",
    "\n",
    "counts_cutoff = 0\n",
    "\n",
    "end_time_list = [start_time + timedelta(hours=6) for start_time in start_time_list]\n",
    "\n",
    "colony = \"Cfel1_\"\n",
    "phase = [\n",
    "    \"Control\",\n",
    "    \"R1\",\n",
    "    \"R2\",\n",
    "    \"R3\",\n",
    "    \"R4\",\n",
    "    \"R5\",\n",
    "    \"PostC\",\n",
    "    \"PostR1\",\n",
    "    \"PostR2\",\n",
    "    \"PostR3\",\n",
    "    \"PostR4\",\n",
    "    \"PostR5\",\n",
    "]\n",
    "\n",
    "col_phase_list = [f\"{colony}{phase}\" for phase in phase]"
   ]
  },
  {
   "cell_type": "code",
   "execution_count": null,
   "metadata": {
    "ExecuteTime": {
     "end_time": "2023-06-16T10:46:07.162133899Z",
     "start_time": "2023-06-16T10:40:14.852014280Z"
    },
    "collapsed": false
   },
   "outputs": [],
   "source": [
    "calc_spatial_fidelity(\n",
    "    myrmidon_path,\n",
    "    exp_start,\n",
    "    start_time_list,\n",
    "    end_time_list,\n",
    "    counts_cutoff,\n",
    "    col_phase_list,\n",
    ")"
   ]
  },
  {
   "cell_type": "markdown",
   "metadata": {},
   "source": [
    "## Colony Cfel54"
   ]
  },
  {
   "cell_type": "code",
   "execution_count": null,
   "metadata": {
    "ExecuteTime": {
     "end_time": "2023-06-16T10:46:14.529575742Z",
     "start_time": "2023-06-16T10:46:14.484093668Z"
    },
    "collapsed": false
   },
   "outputs": [],
   "source": [
    "myrmidon_path = \"/media/ebiag/Ebi-2/Woundcare Experiment3/woundcare_cfell54_T3.myrmidon\"\n",
    "exp_start = datetime(2022, 6, 15, 0, 1).astimezone(tz=None)\n",
    "start_time_list = [\n",
    "    datetime(2022, 6, 19, 14, 26).astimezone(tz=None),\n",
    "    datetime(2022, 6, 20, 14, 35).astimezone(tz=None),\n",
    "    datetime(2022, 6, 21, 14, 21).astimezone(tz=None),\n",
    "    datetime(2022, 6, 22, 14, 28).astimezone(tz=None),\n",
    "    datetime(2022, 6, 23, 14, 14).astimezone(tz=None),\n",
    "    datetime(2022, 6, 24, 14, 31).astimezone(tz=None),\n",
    "    datetime(2022, 6, 20, 8, 0).astimezone(tz=None),\n",
    "    datetime(2022, 6, 21, 8, 0).astimezone(tz=None),\n",
    "    datetime(2022, 6, 22, 8, 0).astimezone(tz=None),\n",
    "    datetime(2022, 6, 23, 8, 0).astimezone(tz=None),\n",
    "    datetime(2022, 6, 24, 8, 0).astimezone(tz=None),\n",
    "    datetime(2022, 6, 25, 8, 0).astimezone(tz=None),\n",
    "]\n",
    "\n",
    "counts_cutoff = 0\n",
    "\n",
    "end_time_list = [start_time + timedelta(hours=6) for start_time in start_time_list]\n",
    "\n",
    "colony = \"Cfel54_\"\n",
    "phase = [\n",
    "    \"Control\",\n",
    "    \"R1\",\n",
    "    \"R2\",\n",
    "    \"R3\",\n",
    "    \"R4\",\n",
    "    \"R5\",\n",
    "    \"PostC\",\n",
    "    \"PostR1\",\n",
    "    \"PostR2\",\n",
    "    \"PostR3\",\n",
    "    \"PostR4\",\n",
    "    \"PostR5\",\n",
    "]\n",
    "\n",
    "col_phase_list = [f\"{colony}{phase}\" for phase in phase]"
   ]
  },
  {
   "cell_type": "code",
   "execution_count": null,
   "metadata": {
    "ExecuteTime": {
     "end_time": "2023-06-16T10:53:37.051090712Z",
     "start_time": "2023-06-16T10:46:21.579723417Z"
    },
    "collapsed": false
   },
   "outputs": [],
   "source": [
    "calc_spatial_fidelity(\n",
    "    myrmidon_path,\n",
    "    exp_start,\n",
    "    start_time_list,\n",
    "    end_time_list,\n",
    "    counts_cutoff,\n",
    "    col_phase_list,\n",
    ")"
   ]
  },
  {
   "cell_type": "markdown",
   "metadata": {},
   "source": [
    "## Colony Cfel 55"
   ]
  },
  {
   "cell_type": "code",
   "execution_count": null,
   "metadata": {},
   "outputs": [],
   "source": [
    "# Colony 55\n",
    "myrmidon_path = \"/media/ebiag/Ebi-3/InfectionExp_Cfel55/InfectionExpCol55.myrmidon\"\n",
    "exp_start = datetime(2023, 4, 14, 0, 1).astimezone(tz=None)\n",
    "start_time_list = [\n",
    "    datetime(2023, 4, 18, 14, 40).astimezone(tz=None),\n",
    "    datetime(2023, 4, 20, 15, 45).astimezone(tz=None),\n",
    "    datetime(2023, 4, 21, 14, 48).astimezone(tz=None),\n",
    "    datetime(2023, 4, 22, 14, 17).astimezone(tz=None),\n",
    "    datetime(2023, 4, 23, 14, 0).astimezone(tz=None),\n",
    "    datetime(2023, 4, 24, 14, 54).astimezone(tz=None),\n",
    "    datetime(2023, 4, 20, 8, 0).astimezone(tz=None),\n",
    "    datetime(2023, 4, 21, 8, 0).astimezone(tz=None),\n",
    "    datetime(2023, 4, 22, 7, 30).astimezone(tz=None),\n",
    "    datetime(2023, 4, 23, 7, 30).astimezone(tz=None),\n",
    "    datetime(2023, 4, 24, 8, 0).astimezone(tz=None),\n",
    "    datetime(2023, 4, 25, 8, 0).astimezone(tz=None),\n",
    "]\n",
    "\n",
    "counts_cutoff = 0\n",
    "\n",
    "end_time_list = [start_time + timedelta(hours=6) for start_time in start_time_list]\n",
    "\n",
    "colony = \"Cfel55_\"\n",
    "phase = [\n",
    "    \"Control\",\n",
    "    \"R1\",\n",
    "    \"R2\",\n",
    "    \"R3\",\n",
    "    \"R4\",\n",
    "    \"R5\",\n",
    "    \"PostC\",\n",
    "    \"PostR1\",\n",
    "    \"PostR2\",\n",
    "    \"PostR3\",\n",
    "    \"PostR4\",\n",
    "    \"PostR5\",\n",
    "]\n",
    "\n",
    "col_phase_list = [f\"{colony}{phase}\" for phase in phase]"
   ]
  },
  {
   "cell_type": "code",
   "execution_count": null,
   "metadata": {},
   "outputs": [],
   "source": [
    "calc_spatial_fidelity(\n",
    "    myrmidon_path,\n",
    "    exp_start,\n",
    "    start_time_list,\n",
    "    end_time_list,\n",
    "    counts_cutoff,\n",
    "    col_phase_list,\n",
    ")"
   ]
  },
  {
   "cell_type": "markdown",
   "metadata": {},
   "source": [
    "## Colony Cfel 13"
   ]
  },
  {
   "cell_type": "code",
   "execution_count": null,
   "metadata": {},
   "outputs": [],
   "source": [
    "# Colony 13\n",
    "myrmidon_path = \"/media/ebiag/Ebi-3/InfectionExp_Cfel13/InfectionExp_Cfel13.myrmidon\"\n",
    "exp_start = datetime(2023, 4, 19, 0, 1).astimezone(tz=None)\n",
    "start_time_list = [\n",
    "    datetime(2023, 4, 23, 15, 5).astimezone(tz=None),\n",
    "    datetime(2023, 4, 24, 15, 29).astimezone(tz=None),\n",
    "    datetime(2023, 4, 25, 14, 19).astimezone(tz=None),\n",
    "    datetime(2023, 4, 26, 15, 3).astimezone(tz=None),\n",
    "    datetime(2023, 4, 27, 16, 43).astimezone(tz=None),\n",
    "    datetime(2023, 4, 28, 14, 27).astimezone(tz=None),\n",
    "    datetime(2023, 4, 24, 8, 0).astimezone(tz=None),\n",
    "    datetime(2023, 4, 25, 8, 0).astimezone(tz=None),\n",
    "    datetime(2023, 4, 26, 8, 0).astimezone(tz=None),\n",
    "    datetime(2023, 4, 27, 8, 0).astimezone(tz=None),\n",
    "    datetime(2023, 4, 28, 8, 0).astimezone(tz=None),\n",
    "    datetime(2023, 4, 29, 8, 0).astimezone(tz=None),\n",
    "]\n",
    "\n",
    "counts_cutoff = 0\n",
    "\n",
    "end_time_list = [start_time + timedelta(hours=6) for start_time in start_time_list]\n",
    "\n",
    "colony = \"Cfel13_\"\n",
    "phase = [\n",
    "    \"Control\",\n",
    "    \"R1\",\n",
    "    \"R2\",\n",
    "    \"R3\",\n",
    "    \"R4\",\n",
    "    \"R5\",\n",
    "    \"PostC\",\n",
    "    \"PostR1\",\n",
    "    \"PostR2\",\n",
    "    \"PostR3\",\n",
    "    \"PostR4\",\n",
    "    \"PostR5\",\n",
    "]\n",
    "\n",
    "col_phase_list = [f\"{colony}{phase}\" for phase in phase]"
   ]
  },
  {
   "cell_type": "code",
   "execution_count": null,
   "metadata": {},
   "outputs": [],
   "source": [
    "calc_spatial_fidelity(\n",
    "    myrmidon_path,\n",
    "    exp_start,\n",
    "    start_time_list,\n",
    "    end_time_list,\n",
    "    counts_cutoff,\n",
    "    col_phase_list,\n",
    ")"
   ]
  },
  {
   "cell_type": "markdown",
   "metadata": {},
   "source": [
    "## Colony Cfel 64"
   ]
  },
  {
   "cell_type": "code",
   "execution_count": null,
   "metadata": {},
   "outputs": [],
   "source": [
    "# Colony 64\n",
    "myrmidon_path = \"/media/ebiag/Ebi-1/InfectionExp_Cfel64/InfectionExpCol64.myrmidon\"\n",
    "exp_start = datetime(2023, 5, 27, 0, 1).astimezone(tz=None)\n",
    "start_time_list = [\n",
    "    datetime(2023, 5, 31, 15, 5).astimezone(tz=None),\n",
    "    datetime(2023, 6, 1, 15, 51).astimezone(tz=None),\n",
    "    datetime(2023, 6, 2, 14, 44).astimezone(tz=None),\n",
    "    datetime(2023, 6, 3, 14, 50).astimezone(tz=None),\n",
    "    datetime(2023, 6, 4, 14, 43).astimezone(tz=None),\n",
    "    datetime(2023, 6, 5, 14, 52).astimezone(tz=None),\n",
    "    datetime(2023, 6, 1, 8, 0).astimezone(tz=None),\n",
    "    datetime(2023, 6, 2, 8, 0).astimezone(tz=None),\n",
    "    datetime(2023, 6, 3, 8, 0).astimezone(tz=None),\n",
    "    datetime(2023, 6, 4, 8, 0).astimezone(tz=None),\n",
    "    datetime(2023, 6, 5, 8, 0).astimezone(tz=None),\n",
    "    datetime(2023, 6, 6, 8, 0).astimezone(tz=None),\n",
    "]\n",
    "\n",
    "counts_cutoff = 0\n",
    "\n",
    "end_time_list = [start_time + timedelta(hours=6) for start_time in start_time_list]\n",
    "\n",
    "colony = \"Cfel64_\"\n",
    "phase = [\n",
    "    \"Control\",\n",
    "    \"R1\",\n",
    "    \"R2\",\n",
    "    \"R3\",\n",
    "    \"R4\",\n",
    "    \"R5\",\n",
    "    \"PostC\",\n",
    "    \"PostR1\",\n",
    "    \"PostR2\",\n",
    "    \"PostR3\",\n",
    "    \"PostR4\",\n",
    "    \"PostR5\",\n",
    "]\n",
    "\n",
    "col_phase_list = [f\"{colony}{phase}\" for phase in phase]"
   ]
  },
  {
   "cell_type": "code",
   "execution_count": null,
   "metadata": {},
   "outputs": [],
   "source": [
    "c64_list = calc_spatial_fidelity(\n",
    "    myrmidon_path,\n",
    "    exp_start,\n",
    "    start_time_list,\n",
    "    end_time_list,\n",
    "    counts_cutoff,\n",
    "    col_phase_list,\n",
    ")"
   ]
  }
 ],
 "metadata": {
  "kernelspec": {
   "display_name": "Python 3",
   "language": "python",
   "name": "python3"
  },
  "language_info": {
   "codemirror_mode": {
    "name": "ipython",
    "version": 3
   },
   "file_extension": ".py",
   "mimetype": "text/x-python",
   "name": "python",
   "nbconvert_exporter": "python",
   "pygments_lexer": "ipython3",
   "version": "3.8.15"
  }
 },
 "nbformat": 4,
 "nbformat_minor": 0
}
