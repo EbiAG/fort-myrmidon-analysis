{
 "cells": [
  {
   "cell_type": "markdown",
   "metadata": {},
   "source": [
    "# Spatial fidelity template\n",
    "Infers a spatial fiedlity map for every individual from a ```.mymridon``` experiment file and saves it as a csv, which can be further analyzed in the optinal part or exported into other software such as RStudio.  \n",
    "This notebook uses the following:\n",
    "* the py-myrmidon library ([Documentation](https://formicidae-tracker.github.io/myrmidon/latest/))\n",
    "* scipy spatial library ([Documentation](https://docs.scipy.org/doc/scipy/reference/spatial.html))"
   ]
  },
  {
   "cell_type": "code",
   "execution_count": 1,
   "metadata": {
    "ExecuteTime": {
     "end_time": "2023-06-16T10:31:11.952505355Z",
     "start_time": "2023-06-16T10:31:10.638153542Z"
    },
    "collapsed": true
   },
   "outputs": [],
   "source": [
    "from datetime import datetime, timedelta  # For convenient handling of time and date\n",
    "\n",
    "import numpy as np  # Fundamental math library in python.\n",
    "import pandas as pd  # To create a pandas dataframe, an equivalent to an R dataframe\n",
    "import py_fort_myrmidon as fm\n",
    "from scipy.spatial import KDTree"
   ]
  },
  {
   "cell_type": "markdown",
   "metadata": {},
   "source": [
    "## Calculating spatial fidelity\n",
    "\n",
    "The code here is the same as in the original code written by Matthias. For convenience sake the different components have been converted into functions that can be used to run over multiple fort-studio experiments"
   ]
  },
  {
   "cell_type": "markdown",
   "metadata": {},
   "source": [
    "### Defining the grid for the spatial fidelity\n",
    "\n",
    "A spatial tesselation of hexagons is used to define the sites where the observations of the individuals are counted. A nearest neighbour tree (KDTree) is used with the centers of the hexgons mentioned. For a given set of coordinates, a KDTree can be used to efficiently find the seed that is closest to the input coordinates, here the waypoints of the trajectory. The hexagonal boundaries are not defined explicitly. Simply by placing the hexagonal centers accordingly (see ```method ``` variable), the resulting pattern will be hexagonal or squared. The code in the following cell computes the hexagon centers that seed the KDTree.  \n",
    "This part should probably only be edited w.r.t. the method and the internal radius."
   ]
  },
  {
   "cell_type": "code",
   "execution_count": null,
   "metadata": {},
   "outputs": [],
   "source": [
    "def define_kdtree(method, xlim, ylim, r_int):\n",
    "    if method == \"vertical\":\n",
    "        dx = 2 * r_int\n",
    "        dy = np.sqrt(3) * r_int\n",
    "    elif method == \"horizontal\":\n",
    "        dx = np.sqrt(3) * r_int\n",
    "        dy = 2 * r_int\n",
    "    elif method == \"square\":\n",
    "        dx = 2 * r_int\n",
    "        dy = 2 * r_int\n",
    "\n",
    "    n_x = np.diff(xlim) // dx + 1\n",
    "    n_y = np.diff(ylim) // dy + 1\n",
    "    osx = n_x * dx - np.diff(xlim)\n",
    "    osy = n_y * dy - np.diff(ylim)\n",
    "    x = np.arange(start=xlim[0] - osx / 2, step=dx, stop=n_x * dx + osx / 2)\n",
    "    y = np.arange(start=ylim[0] - osy / 2, step=dy, stop=n_y * dy + osy / 2)\n",
    "    xm, ym = np.meshgrid(x, y)\n",
    "    if method == \"vertical\":\n",
    "        xm[::2] = xm[::2] + r_int\n",
    "    elif method == \"horizontal\":\n",
    "        ym[:, 1::2] = ym[:, 1::2] + r_int\n",
    "\n",
    "    sites = np.stack([xm.flatten(), ym.flatten()], axis=1)\n",
    "    kdtree = KDTree(sites)\n",
    "    return kdtree, sites"
   ]
  },
  {
   "cell_type": "markdown",
   "metadata": {},
   "source": [
    "### Creating a time range iteration function"
   ]
  },
  {
   "cell_type": "code",
   "execution_count": null,
   "metadata": {},
   "outputs": [],
   "source": [
    "def fm_time_range(start_datetime, end_datetime):\n",
    "    for n in range(int((end_datetime - start_datetime).days) + 1):\n",
    "        yield fm.Time(start_datetime + timedelta(n))"
   ]
  },
  {
   "cell_type": "markdown",
   "metadata": {},
   "source": [
    "### Function to calculate presence in the grid\n",
    "\n",
    "This function takes the counts of each antID in each of the grid cells that were calculated using the kdtree function"
   ]
  },
  {
   "cell_type": "code",
   "execution_count": null,
   "metadata": {},
   "outputs": [],
   "source": [
    "def calc_counts_kdtree(\n",
    "    exp, t_start, t_end, kdtree, counts, idxmap, counts_cutoff, col_phase\n",
    "):\n",
    "    for t_begin in fm_time_range(t_start, t_end):\n",
    "        trajectories = fm.Query.ComputeAntTrajectories(\n",
    "            exp, start=t_begin, end=t_begin.Add(fm.Duration.Parse(\"24h\"))\n",
    "        )\n",
    "        for t in trajectories:\n",
    "            dist, zone_indices = kdtree.query(t.Positions[:, 1:3])\n",
    "            ind, cts = np.unique(zone_indices, return_counts=True)\n",
    "            counts[t.Space][idxmap[t.Ant], ind] += cts\n",
    "\n",
    "    for s in exp.Spaces:\n",
    "        row_sums = counts[s].sum(axis=1)[:, np.newaxis]\n",
    "        counts[s] = np.divide(\n",
    "            counts[s], row_sums, where=row_sums > counts_cutoff\n",
    "        )  # Normalize per individual\n",
    "        counts[s][\n",
    "            np.where(row_sums <= counts_cutoff), :\n",
    "        ] = 0  # Reset individuals with insufficents total counts\n",
    "        df = pd.DataFrame(data=counts[s], index=exp.Ants)\n",
    "        f_count = \"NormCounts_{}_Space{}_{}_{}_{}.csv\".format(\n",
    "            col_phase,\n",
    "            s,\n",
    "            exp.Spaces[s].Name,\n",
    "            t_start.strftime(\"%Y%m%d-%H%M%S\"),\n",
    "            t_end.strftime(\"%Y%m%d-%H%M%S\"),\n",
    "        )\n",
    "        print(f_count, \" done\")\n",
    "        df.to_csv(f_count)"
   ]
  },
  {
   "cell_type": "markdown",
   "metadata": {},
   "source": [
    "### Function to run the spatial presence calculation over whole experiments\n",
    "\n",
    "This is a wrapper function for `calc_counts_kdtree` which runs the function over multiple time ranges"
   ]
  },
  {
   "cell_type": "code",
   "execution_count": 2,
   "metadata": {
    "ExecuteTime": {
     "end_time": "2023-06-16T10:31:21.421927279Z",
     "start_time": "2023-06-16T10:31:21.407844326Z"
    },
    "collapsed": false
   },
   "outputs": [],
   "source": [
    "def calc_spatial_fidelity(\n",
    "    myrmidon_path,\n",
    "    exp_start,\n",
    "    start_time_list,\n",
    "    end_time_list,\n",
    "    counts_cutoff,\n",
    "    col_phase_list,\n",
    "):\n",
    "    # Open myrmidon file\n",
    "    exp = fm.Experiment.Open(myrmidon_path)\n",
    "    # Get frames from first second of experiment tracking\n",
    "    identifiedFrames = fm.Query.IdentifyFrames(\n",
    "        exp,\n",
    "        start=fm.Time(exp_start),\n",
    "        end=fm.Time(exp_start).Add(fm.Duration().Parse(\"1s\")),\n",
    "    )\n",
    "    # Obtain x and y limits fo frame\n",
    "    xlim = [0, identifiedFrames[0].Width]\n",
    "    ylim = [0, identifiedFrames[0].Height]\n",
    "    # get average ant size to calculate the bin size\n",
    "    # ant_radius = []\n",
    "    # for ant in exp.Ants:\n",
    "    #     ant_radius.append(fm.Query.ComputeMeasurementFor(experiment=exp, antID=ant, measurementTypeID=1)[0].LengthPixel)\n",
    "    # r_int = np.mean(ant_radius)\n",
    "    r_int = 300  # Using a general value of 300 to account for cases where the fm.Query.ComputeMeasurementFor throws an error\n",
    "    # Obtain the kdtree\n",
    "    kdtree, sites = define_kdtree(\"vertical\", xlim, ylim, r_int)\n",
    "    # Create a dictionary for holding counts data\n",
    "    # counts_cutoff = 0 # For hard coding a count cutoff inside the function\n",
    "    # Create a dictionary with an array full of zeros and shape (number individuals x number sites) for each Space\n",
    "    counts = {}\n",
    "    for s in exp.Spaces:\n",
    "        counts[s] = np.zeros((len(exp.Ants), len(sites)))\n",
    "    idxmap = dict(\n",
    "        zip(exp.Ants, range(len(exp.Ants)))\n",
    "    )  # Maps the ant id to the matrix index\n",
    "    # Run function to calculate counts over each space for each combination of start and end time\n",
    "    [\n",
    "        calc_counts_kdtree(\n",
    "            exp, t_start, t_end, kdtree, counts, idxmap, counts_cutoff, col_phase\n",
    "        )\n",
    "        for t_start, t_end, col_phase in zip(\n",
    "            start_time_list, end_time_list, col_phase_list\n",
    "        )\n",
    "    ]"
   ]
  },
  {
   "cell_type": "markdown",
   "metadata": {},
   "source": [
    "## Colony 42"
   ]
  },
  {
   "cell_type": "code",
   "execution_count": 3,
   "metadata": {
    "ExecuteTime": {
     "end_time": "2023-06-16T10:31:25.925090646Z",
     "start_time": "2023-06-16T10:31:25.920264257Z"
    },
    "collapsed": false
   },
   "outputs": [],
   "source": [
    "# Colony 42\n",
    "myrmidon_path = (\n",
    "    \"/media/egeorge/Elements/Woundcare Experiment1/Cfell_wound_col42.myrmidon\"\n",
    ")\n",
    "exp_start = datetime(2022, 4, 27, 0, 1).astimezone(tz=None)\n",
    "start_time_list = [\n",
    "    datetime(2022, 5, 1, 15, 54).astimezone(tz=None),\n",
    "    datetime(2022, 5, 2, 16, 3).astimezone(tz=None),\n",
    "    datetime(2022, 5, 3, 15, 53).astimezone(tz=None),\n",
    "    datetime(2022, 5, 4, 15, 50).astimezone(tz=None),\n",
    "    datetime(2022, 5, 5, 15, 50).astimezone(tz=None),\n",
    "    datetime(2022, 5, 6, 15, 55).astimezone(tz=None),\n",
    "    datetime(2022, 5, 2, 9, 0).astimezone(tz=None),\n",
    "    datetime(2022, 5, 3, 9, 0).astimezone(tz=None),\n",
    "    datetime(2022, 5, 4, 9, 0).astimezone(tz=None),\n",
    "    datetime(2022, 5, 5, 9, 0).astimezone(tz=None),\n",
    "    datetime(2022, 5, 6, 9, 0).astimezone(tz=None),\n",
    "    datetime(2022, 5, 6, 10, 0).astimezone(tz=None),\n",
    "]\n",
    "\n",
    "counts_cutoff = 0\n",
    "\n",
    "end_time_list = [start_time + timedelta(hours=6) for start_time in start_time_list]\n",
    "\n",
    "colony = \"Cfel42_\"\n",
    "phase = [\n",
    "    \"control\",\n",
    "    \"exp1\",\n",
    "    \"exp2\",\n",
    "    \"exp3\",\n",
    "    \"exp4\",\n",
    "    \"exp5\",\n",
    "    \"pre1\",\n",
    "    \"pre2\",\n",
    "    \"pre3\",\n",
    "    \"pre4\",\n",
    "    \"pre5\",\n",
    "    \"post5\",\n",
    "]\n",
    "\n",
    "col_phase_list = [f\"{colony}{phase}\" for phase in phase]"
   ]
  },
  {
   "cell_type": "code",
   "execution_count": 4,
   "metadata": {
    "ExecuteTime": {
     "end_time": "2023-06-16T10:39:58.889590595Z",
     "start_time": "2023-06-16T10:31:31.563118390Z"
    },
    "collapsed": false
   },
   "outputs": [
    {
     "name": "stderr",
     "output_type": "stream",
     "text": [
      "Identifiying frames:   0%|                       | 0/1 [00:01<?, ?tracked min/s]\n",
      "Computing ant trajectories:   0%|             | 0/1440 [00:29<?, ?tracked min/s]\n"
     ]
    },
    {
     "name": "stdout",
     "output_type": "stream",
     "text": [
      "NormCounts_Cfel42_control_Space1_Nest_20220501-155400_20220501-215400.csv  done\n",
      "NormCounts_Cfel42_control_Space2_Forage_20220501-155400_20220501-215400.csv  done\n"
     ]
    },
    {
     "name": "stderr",
     "output_type": "stream",
     "text": [
      "Computing ant trajectories:   0%|             | 0/1440 [00:30<?, ?tracked min/s]\n"
     ]
    },
    {
     "name": "stdout",
     "output_type": "stream",
     "text": [
      "NormCounts_Cfel42_exp1_Space1_Nest_20220502-160300_20220502-220300.csv  done\n",
      "NormCounts_Cfel42_exp1_Space2_Forage_20220502-160300_20220502-220300.csv  done\n"
     ]
    },
    {
     "name": "stderr",
     "output_type": "stream",
     "text": [
      "Computing ant trajectories:   0%|             | 0/1440 [00:29<?, ?tracked min/s]\n"
     ]
    },
    {
     "name": "stdout",
     "output_type": "stream",
     "text": [
      "NormCounts_Cfel42_exp2_Space1_Nest_20220503-155300_20220503-215300.csv  done\n",
      "NormCounts_Cfel42_exp2_Space2_Forage_20220503-155300_20220503-215300.csv  done\n"
     ]
    },
    {
     "name": "stderr",
     "output_type": "stream",
     "text": [
      "Computing ant trajectories:   0%|             | 0/1440 [00:29<?, ?tracked min/s]\n"
     ]
    },
    {
     "name": "stdout",
     "output_type": "stream",
     "text": [
      "NormCounts_Cfel42_exp3_Space1_Nest_20220504-155000_20220504-215000.csv  done\n",
      "NormCounts_Cfel42_exp3_Space2_Forage_20220504-155000_20220504-215000.csv  done\n"
     ]
    },
    {
     "name": "stderr",
     "output_type": "stream",
     "text": [
      "Computing ant trajectories:   0%|             | 0/1440 [00:28<?, ?tracked min/s]\n"
     ]
    },
    {
     "name": "stdout",
     "output_type": "stream",
     "text": [
      "NormCounts_Cfel42_exp4_Space1_Nest_20220505-155000_20220505-215000.csv  done\n",
      "NormCounts_Cfel42_exp4_Space2_Forage_20220505-155000_20220505-215000.csv  done\n"
     ]
    },
    {
     "name": "stderr",
     "output_type": "stream",
     "text": [
      "Computing ant trajectories:   0%|             | 0/1440 [00:26<?, ?tracked min/s]\n"
     ]
    },
    {
     "name": "stdout",
     "output_type": "stream",
     "text": [
      "NormCounts_Cfel42_exp5_Space1_Nest_20220506-155500_20220506-215500.csv  done\n",
      "NormCounts_Cfel42_exp5_Space2_Forage_20220506-155500_20220506-215500.csv  done\n"
     ]
    },
    {
     "name": "stderr",
     "output_type": "stream",
     "text": [
      "Computing ant trajectories:   0%|             | 0/1440 [00:28<?, ?tracked min/s]\n"
     ]
    },
    {
     "name": "stdout",
     "output_type": "stream",
     "text": [
      "NormCounts_Cfel42_pre1_Space1_Nest_20220502-090000_20220502-150000.csv  done\n",
      "NormCounts_Cfel42_pre1_Space2_Forage_20220502-090000_20220502-150000.csv  done\n"
     ]
    },
    {
     "name": "stderr",
     "output_type": "stream",
     "text": [
      "Computing ant trajectories:   0%|             | 0/1440 [00:27<?, ?tracked min/s]\n"
     ]
    },
    {
     "name": "stdout",
     "output_type": "stream",
     "text": [
      "NormCounts_Cfel42_pre2_Space1_Nest_20220503-090000_20220503-150000.csv  done\n",
      "NormCounts_Cfel42_pre2_Space2_Forage_20220503-090000_20220503-150000.csv  done\n"
     ]
    },
    {
     "name": "stderr",
     "output_type": "stream",
     "text": [
      "Computing ant trajectories:   0%|             | 0/1440 [00:28<?, ?tracked min/s]\n"
     ]
    },
    {
     "name": "stdout",
     "output_type": "stream",
     "text": [
      "NormCounts_Cfel42_pre3_Space1_Nest_20220504-090000_20220504-150000.csv  done\n",
      "NormCounts_Cfel42_pre3_Space2_Forage_20220504-090000_20220504-150000.csv  done\n"
     ]
    },
    {
     "name": "stderr",
     "output_type": "stream",
     "text": [
      "Computing ant trajectories:   0%|             | 0/1440 [00:26<?, ?tracked min/s]\n"
     ]
    },
    {
     "name": "stdout",
     "output_type": "stream",
     "text": [
      "NormCounts_Cfel42_pre4_Space1_Nest_20220505-090000_20220505-150000.csv  done\n",
      "NormCounts_Cfel42_pre4_Space2_Forage_20220505-090000_20220505-150000.csv  done\n"
     ]
    },
    {
     "name": "stderr",
     "output_type": "stream",
     "text": [
      "Computing ant trajectories:   0%|             | 0/1440 [00:27<?, ?tracked min/s]\n"
     ]
    },
    {
     "name": "stdout",
     "output_type": "stream",
     "text": [
      "NormCounts_Cfel42_pre5_Space1_Nest_20220506-090000_20220506-150000.csv  done\n",
      "NormCounts_Cfel42_pre5_Space2_Forage_20220506-090000_20220506-150000.csv  done\n"
     ]
    },
    {
     "name": "stderr",
     "output_type": "stream",
     "text": [
      "Computing ant trajectories:   0%|             | 0/1440 [00:23<?, ?tracked min/s]\n"
     ]
    },
    {
     "name": "stdout",
     "output_type": "stream",
     "text": [
      "NormCounts_Cfel42_post5_Space1_Nest_20220506-100000_20220506-160000.csv  done\n",
      "NormCounts_Cfel42_post5_Space2_Forage_20220506-100000_20220506-160000.csv  done\n"
     ]
    }
   ],
   "source": [
    "calc_spatial_fidelity(\n",
    "    myrmidon_path,\n",
    "    exp_start,\n",
    "    start_time_list,\n",
    "    end_time_list,\n",
    "    counts_cutoff,\n",
    "    col_phase_list,\n",
    ")"
   ]
  },
  {
   "cell_type": "markdown",
   "metadata": {},
   "source": [
    "## Colony 1"
   ]
  },
  {
   "cell_type": "code",
   "execution_count": 5,
   "metadata": {
    "ExecuteTime": {
     "end_time": "2023-06-16T10:40:10.240209771Z",
     "start_time": "2023-06-16T10:40:10.230778328Z"
    },
    "collapsed": false
   },
   "outputs": [],
   "source": [
    "# Colony 1\n",
    "myrmidon_path = (\n",
    "    \"/media/egeorge/Elements/Woundcare Experiment2/woundcare_cfell1_T2.myrmidon\"\n",
    ")\n",
    "exp_start = datetime(2022, 5, 31, 0, 1).astimezone(tz=None)\n",
    "start_time_list = [\n",
    "    datetime(2022, 6, 4, 14, 48).astimezone(tz=None),\n",
    "    datetime(2022, 6, 5, 14, 57).astimezone(tz=None),\n",
    "    datetime(2022, 6, 6, 15, 30).astimezone(tz=None),\n",
    "    datetime(2022, 6, 7, 14, 49).astimezone(tz=None),\n",
    "    datetime(2022, 6, 8, 14, 43).astimezone(tz=None),\n",
    "    datetime(2022, 6, 9, 15, 5).astimezone(tz=None),\n",
    "    datetime(2022, 6, 5, 8, 0).astimezone(tz=None),\n",
    "    datetime(2022, 6, 6, 8, 0).astimezone(tz=None),\n",
    "    datetime(2022, 6, 7, 8, 0).astimezone(tz=None),\n",
    "    datetime(2022, 6, 8, 8, 0).astimezone(tz=None),\n",
    "    datetime(2022, 6, 9, 8, 0).astimezone(tz=None),\n",
    "    datetime(2022, 6, 10, 8, 0).astimezone(tz=None),\n",
    "]\n",
    "\n",
    "counts_cutoff = 0\n",
    "\n",
    "end_time_list = [start_time + timedelta(hours=6) for start_time in start_time_list]\n",
    "\n",
    "colony = \"Cfel1_\"\n",
    "phase = [\n",
    "    \"control\",\n",
    "    \"exp1\",\n",
    "    \"exp2\",\n",
    "    \"exp3\",\n",
    "    \"exp4\",\n",
    "    \"exp5\",\n",
    "    \"pre1\",\n",
    "    \"pre2\",\n",
    "    \"pre3\",\n",
    "    \"pre4\",\n",
    "    \"pre5\",\n",
    "    \"post5\",\n",
    "]\n",
    "\n",
    "col_phase_list = [f\"{colony}{phase}\" for phase in phase]"
   ]
  },
  {
   "cell_type": "code",
   "execution_count": 6,
   "metadata": {
    "ExecuteTime": {
     "end_time": "2023-06-16T10:46:07.162133899Z",
     "start_time": "2023-06-16T10:40:14.852014280Z"
    },
    "collapsed": false
   },
   "outputs": [
    {
     "name": "stderr",
     "output_type": "stream",
     "text": [
      "Identifiying frames:   0%|                       | 0/1 [00:00<?, ?tracked min/s]\n",
      "Computing ant trajectories:   0%|             | 0/1440 [00:22<?, ?tracked min/s]\n"
     ]
    },
    {
     "name": "stdout",
     "output_type": "stream",
     "text": [
      "NormCounts_Cfel1_control_Space1_forage_20220604-144800_20220604-204800.csv  done\n",
      "NormCounts_Cfel1_control_Space2_nest_20220604-144800_20220604-204800.csv  done\n"
     ]
    },
    {
     "name": "stderr",
     "output_type": "stream",
     "text": [
      "Computing ant trajectories:   0%|             | 0/1440 [00:24<?, ?tracked min/s]\n"
     ]
    },
    {
     "name": "stdout",
     "output_type": "stream",
     "text": [
      "NormCounts_Cfel1_exp1_Space1_forage_20220605-145700_20220605-205700.csv  done\n",
      "NormCounts_Cfel1_exp1_Space2_nest_20220605-145700_20220605-205700.csv  done\n"
     ]
    },
    {
     "name": "stderr",
     "output_type": "stream",
     "text": [
      "Computing ant trajectories:   0%|             | 0/1440 [00:24<?, ?tracked min/s]\n"
     ]
    },
    {
     "name": "stdout",
     "output_type": "stream",
     "text": [
      "NormCounts_Cfel1_exp2_Space1_forage_20220606-153000_20220606-213000.csv  done\n",
      "NormCounts_Cfel1_exp2_Space2_nest_20220606-153000_20220606-213000.csv  done\n"
     ]
    },
    {
     "name": "stderr",
     "output_type": "stream",
     "text": [
      "Computing ant trajectories:   0%|             | 0/1440 [00:21<?, ?tracked min/s]\n"
     ]
    },
    {
     "name": "stdout",
     "output_type": "stream",
     "text": [
      "NormCounts_Cfel1_exp3_Space1_forage_20220607-144900_20220607-204900.csv  done\n",
      "NormCounts_Cfel1_exp3_Space2_nest_20220607-144900_20220607-204900.csv  done\n"
     ]
    },
    {
     "name": "stderr",
     "output_type": "stream",
     "text": [
      "Computing ant trajectories:   0%|             | 0/1440 [00:20<?, ?tracked min/s]\n"
     ]
    },
    {
     "name": "stdout",
     "output_type": "stream",
     "text": [
      "NormCounts_Cfel1_exp4_Space1_forage_20220608-144300_20220608-204300.csv  done\n",
      "NormCounts_Cfel1_exp4_Space2_nest_20220608-144300_20220608-204300.csv  done\n"
     ]
    },
    {
     "name": "stderr",
     "output_type": "stream",
     "text": [
      "Computing ant trajectories:   0%|             | 0/1440 [00:20<?, ?tracked min/s]\n"
     ]
    },
    {
     "name": "stdout",
     "output_type": "stream",
     "text": [
      "NormCounts_Cfel1_exp5_Space1_forage_20220609-150500_20220609-210500.csv  done\n",
      "NormCounts_Cfel1_exp5_Space2_nest_20220609-150500_20220609-210500.csv  done\n"
     ]
    },
    {
     "name": "stderr",
     "output_type": "stream",
     "text": [
      "Computing ant trajectories:   0%|             | 0/1440 [00:23<?, ?tracked min/s]\n"
     ]
    },
    {
     "name": "stdout",
     "output_type": "stream",
     "text": [
      "NormCounts_Cfel1_pre1_Space1_forage_20220605-080000_20220605-140000.csv  done\n",
      "NormCounts_Cfel1_pre1_Space2_nest_20220605-080000_20220605-140000.csv  done\n"
     ]
    },
    {
     "name": "stderr",
     "output_type": "stream",
     "text": [
      "Computing ant trajectories:   0%|             | 0/1440 [00:21<?, ?tracked min/s]\n"
     ]
    },
    {
     "name": "stdout",
     "output_type": "stream",
     "text": [
      "NormCounts_Cfel1_pre2_Space1_forage_20220606-080000_20220606-140000.csv  done\n",
      "NormCounts_Cfel1_pre2_Space2_nest_20220606-080000_20220606-140000.csv  done\n"
     ]
    },
    {
     "name": "stderr",
     "output_type": "stream",
     "text": [
      "Computing ant trajectories:   0%|             | 0/1440 [00:20<?, ?tracked min/s]\n"
     ]
    },
    {
     "name": "stdout",
     "output_type": "stream",
     "text": [
      "NormCounts_Cfel1_pre3_Space1_forage_20220607-080000_20220607-140000.csv  done\n",
      "NormCounts_Cfel1_pre3_Space2_nest_20220607-080000_20220607-140000.csv  done\n"
     ]
    },
    {
     "name": "stderr",
     "output_type": "stream",
     "text": [
      "Computing ant trajectories:   0%|             | 0/1440 [00:20<?, ?tracked min/s]\n"
     ]
    },
    {
     "name": "stdout",
     "output_type": "stream",
     "text": [
      "NormCounts_Cfel1_pre4_Space1_forage_20220608-080000_20220608-140000.csv  done\n",
      "NormCounts_Cfel1_pre4_Space2_nest_20220608-080000_20220608-140000.csv  done\n"
     ]
    },
    {
     "name": "stderr",
     "output_type": "stream",
     "text": [
      "Computing ant trajectories:   0%|             | 0/1440 [00:19<?, ?tracked min/s]\n"
     ]
    },
    {
     "name": "stdout",
     "output_type": "stream",
     "text": [
      "NormCounts_Cfel1_pre5_Space1_forage_20220609-080000_20220609-140000.csv  done\n",
      "NormCounts_Cfel1_pre5_Space2_nest_20220609-080000_20220609-140000.csv  done\n"
     ]
    },
    {
     "name": "stderr",
     "output_type": "stream",
     "text": [
      "Computing ant trajectories:   0%|             | 0/1440 [00:05<?, ?tracked min/s]\n"
     ]
    },
    {
     "name": "stdout",
     "output_type": "stream",
     "text": [
      "NormCounts_Cfel1_post5_Space1_forage_20220610-080000_20220610-140000.csv  done\n",
      "NormCounts_Cfel1_post5_Space2_nest_20220610-080000_20220610-140000.csv  done\n"
     ]
    }
   ],
   "source": [
    "calc_spatial_fidelity(\n",
    "    myrmidon_path,\n",
    "    exp_start,\n",
    "    start_time_list,\n",
    "    end_time_list,\n",
    "    counts_cutoff,\n",
    "    col_phase_list,\n",
    ")"
   ]
  },
  {
   "cell_type": "markdown",
   "metadata": {},
   "source": [
    "## Colony 54"
   ]
  },
  {
   "cell_type": "code",
   "execution_count": 7,
   "metadata": {
    "ExecuteTime": {
     "end_time": "2023-06-16T10:46:14.529575742Z",
     "start_time": "2023-06-16T10:46:14.484093668Z"
    },
    "collapsed": false
   },
   "outputs": [],
   "source": [
    "# Colony 54\n",
    "myrmidon_path = (\n",
    "    \"/media/egeorge/Elements/Woundcare Experiment3/woundcare_cfell54_T3.myrmidon\"\n",
    ")\n",
    "exp_start = datetime(2022, 6, 15, 0, 1).astimezone(tz=None)\n",
    "start_time_list = [\n",
    "    datetime(2022, 6, 19, 14, 25).astimezone(tz=None),\n",
    "    datetime(2022, 6, 20, 14, 35).astimezone(tz=None),\n",
    "    datetime(2022, 6, 21, 14, 21).astimezone(tz=None),\n",
    "    datetime(2022, 6, 22, 14, 28).astimezone(tz=None),\n",
    "    datetime(2022, 6, 23, 14, 14).astimezone(tz=None),\n",
    "    datetime(2022, 6, 24, 14, 31).astimezone(tz=None),\n",
    "    datetime(2022, 6, 20, 8, 0).astimezone(tz=None),\n",
    "    datetime(2022, 6, 21, 8, 0).astimezone(tz=None),\n",
    "    datetime(2022, 6, 22, 8, 0).astimezone(tz=None),\n",
    "    datetime(2022, 6, 23, 8, 0).astimezone(tz=None),\n",
    "    datetime(2022, 6, 24, 8, 0).astimezone(tz=None),\n",
    "    datetime(2022, 6, 25, 8, 0).astimezone(tz=None),\n",
    "]\n",
    "\n",
    "counts_cutoff = 0\n",
    "\n",
    "end_time_list = [start_time + timedelta(hours=6) for start_time in start_time_list]\n",
    "\n",
    "colony = \"Cfel54_\"\n",
    "phase = [\n",
    "    \"control\",\n",
    "    \"exp1\",\n",
    "    \"exp2\",\n",
    "    \"exp3\",\n",
    "    \"exp4\",\n",
    "    \"exp5\",\n",
    "    \"pre1\",\n",
    "    \"pre2\",\n",
    "    \"pre3\",\n",
    "    \"pre4\",\n",
    "    \"pre5\",\n",
    "    \"post5\",\n",
    "]\n",
    "\n",
    "col_phase_list = [f\"{colony}{phase}\" for phase in phase]"
   ]
  },
  {
   "cell_type": "code",
   "execution_count": 8,
   "metadata": {
    "ExecuteTime": {
     "end_time": "2023-06-16T10:53:37.051090712Z",
     "start_time": "2023-06-16T10:46:21.579723417Z"
    },
    "collapsed": false
   },
   "outputs": [
    {
     "name": "stderr",
     "output_type": "stream",
     "text": [
      "Identifiying frames:   0%|                       | 0/1 [00:00<?, ?tracked min/s]\n",
      "Computing ant trajectories:   0%|             | 0/1440 [00:28<?, ?tracked min/s]\n"
     ]
    },
    {
     "name": "stdout",
     "output_type": "stream",
     "text": [
      "NormCounts_Cfel54_control_Space1_nest_20220619-142500_20220619-202500.csv  done\n",
      "NormCounts_Cfel54_control_Space2_forage_20220619-142500_20220619-202500.csv  done\n"
     ]
    },
    {
     "name": "stderr",
     "output_type": "stream",
     "text": [
      "Computing ant trajectories:   0%|             | 0/1440 [00:28<?, ?tracked min/s]\n"
     ]
    },
    {
     "name": "stdout",
     "output_type": "stream",
     "text": [
      "NormCounts_Cfel54_exp1_Space1_nest_20220620-143500_20220620-203500.csv  done\n",
      "NormCounts_Cfel54_exp1_Space2_forage_20220620-143500_20220620-203500.csv  done\n"
     ]
    },
    {
     "name": "stderr",
     "output_type": "stream",
     "text": [
      "Computing ant trajectories:   0%|             | 0/1440 [00:26<?, ?tracked min/s]\n"
     ]
    },
    {
     "name": "stdout",
     "output_type": "stream",
     "text": [
      "NormCounts_Cfel54_exp2_Space1_nest_20220621-142100_20220621-202100.csv  done\n",
      "NormCounts_Cfel54_exp2_Space2_forage_20220621-142100_20220621-202100.csv  done\n"
     ]
    },
    {
     "name": "stderr",
     "output_type": "stream",
     "text": [
      "Computing ant trajectories:   0%|             | 0/1440 [00:26<?, ?tracked min/s]\n"
     ]
    },
    {
     "name": "stdout",
     "output_type": "stream",
     "text": [
      "NormCounts_Cfel54_exp3_Space1_nest_20220622-142800_20220622-202800.csv  done\n",
      "NormCounts_Cfel54_exp3_Space2_forage_20220622-142800_20220622-202800.csv  done\n"
     ]
    },
    {
     "name": "stderr",
     "output_type": "stream",
     "text": [
      "Computing ant trajectories:   0%|             | 0/1440 [00:28<?, ?tracked min/s]\n"
     ]
    },
    {
     "name": "stdout",
     "output_type": "stream",
     "text": [
      "NormCounts_Cfel54_exp4_Space1_nest_20220623-141400_20220623-201400.csv  done\n",
      "NormCounts_Cfel54_exp4_Space2_forage_20220623-141400_20220623-201400.csv  done\n"
     ]
    },
    {
     "name": "stderr",
     "output_type": "stream",
     "text": [
      "Computing ant trajectories:   0%|             | 0/1440 [00:27<?, ?tracked min/s]\n"
     ]
    },
    {
     "name": "stdout",
     "output_type": "stream",
     "text": [
      "NormCounts_Cfel54_exp5_Space1_nest_20220624-143100_20220624-203100.csv  done\n",
      "NormCounts_Cfel54_exp5_Space2_forage_20220624-143100_20220624-203100.csv  done\n"
     ]
    },
    {
     "name": "stderr",
     "output_type": "stream",
     "text": [
      "Computing ant trajectories:   0%|             | 0/1440 [00:24<?, ?tracked min/s]\n"
     ]
    },
    {
     "name": "stdout",
     "output_type": "stream",
     "text": [
      "NormCounts_Cfel54_pre1_Space1_nest_20220620-080000_20220620-140000.csv  done\n",
      "NormCounts_Cfel54_pre1_Space2_forage_20220620-080000_20220620-140000.csv  done\n"
     ]
    },
    {
     "name": "stderr",
     "output_type": "stream",
     "text": [
      "Computing ant trajectories:   0%|             | 0/1440 [00:24<?, ?tracked min/s]\n"
     ]
    },
    {
     "name": "stdout",
     "output_type": "stream",
     "text": [
      "NormCounts_Cfel54_pre2_Space1_nest_20220621-080000_20220621-140000.csv  done\n",
      "NormCounts_Cfel54_pre2_Space2_forage_20220621-080000_20220621-140000.csv  done\n"
     ]
    },
    {
     "name": "stderr",
     "output_type": "stream",
     "text": [
      "Computing ant trajectories:   0%|             | 0/1440 [00:24<?, ?tracked min/s]\n"
     ]
    },
    {
     "name": "stdout",
     "output_type": "stream",
     "text": [
      "NormCounts_Cfel54_pre3_Space1_nest_20220622-080000_20220622-140000.csv  done\n",
      "NormCounts_Cfel54_pre3_Space2_forage_20220622-080000_20220622-140000.csv  done\n"
     ]
    },
    {
     "name": "stderr",
     "output_type": "stream",
     "text": [
      "Computing ant trajectories:   0%|             | 0/1440 [00:26<?, ?tracked min/s]\n"
     ]
    },
    {
     "name": "stdout",
     "output_type": "stream",
     "text": [
      "NormCounts_Cfel54_pre4_Space1_nest_20220623-080000_20220623-140000.csv  done\n",
      "NormCounts_Cfel54_pre4_Space2_forage_20220623-080000_20220623-140000.csv  done\n"
     ]
    },
    {
     "name": "stderr",
     "output_type": "stream",
     "text": [
      "Computing ant trajectories:   0%|             | 0/1440 [00:24<?, ?tracked min/s]\n"
     ]
    },
    {
     "name": "stdout",
     "output_type": "stream",
     "text": [
      "NormCounts_Cfel54_pre5_Space1_nest_20220624-080000_20220624-140000.csv  done\n",
      "NormCounts_Cfel54_pre5_Space2_forage_20220624-080000_20220624-140000.csv  done\n"
     ]
    },
    {
     "name": "stderr",
     "output_type": "stream",
     "text": [
      "Computing ant trajectories:   0%|             | 0/1440 [00:23<?, ?tracked min/s]\n"
     ]
    },
    {
     "name": "stdout",
     "output_type": "stream",
     "text": [
      "NormCounts_Cfel54_post5_Space1_nest_20220625-080000_20220625-140000.csv  done\n",
      "NormCounts_Cfel54_post5_Space2_forage_20220625-080000_20220625-140000.csv  done\n"
     ]
    }
   ],
   "source": [
    "calc_spatial_fidelity(\n",
    "    myrmidon_path,\n",
    "    exp_start,\n",
    "    start_time_list,\n",
    "    end_time_list,\n",
    "    counts_cutoff,\n",
    "    col_phase_list,\n",
    ")"
   ]
  }
 ],
 "metadata": {
  "kernelspec": {
   "display_name": "Python 3",
   "language": "python",
   "name": "python3"
  },
  "language_info": {
   "codemirror_mode": {
    "name": "ipython",
    "version": 2
   },
   "file_extension": ".py",
   "mimetype": "text/x-python",
   "name": "python",
   "nbconvert_exporter": "python",
   "pygments_lexer": "ipython2",
   "version": "2.7.6"
  }
 },
 "nbformat": 4,
 "nbformat_minor": 0
}
