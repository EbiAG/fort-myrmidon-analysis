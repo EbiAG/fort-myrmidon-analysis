{
 "cells": [
  {
   "cell_type": "markdown",
   "metadata": {},
   "source": [
    "# Spatial fidelity template\n",
    "Infers a spatial fiedlity map for every individual from a ```.mymridon``` experiment file and saves it as a csv, which can be further analyzed in the optinal part or exported into other software such as RStudio.  \n",
    "This notebook uses the following:\n",
    "* the py-myrmidon library ([Documentation](https://formicidae-tracker.github.io/myrmidon/latest/))\n",
    "* scipy spatial library ([Documentation](https://docs.scipy.org/doc/scipy/reference/spatial.html))"
   ]
  },
  {
   "cell_type": "code",
   "execution_count": 1,
   "metadata": {
    "ExecuteTime": {
     "end_time": "2023-06-16T10:31:11.952505355Z",
     "start_time": "2023-06-16T10:31:10.638153542Z"
    },
    "collapsed": true
   },
   "outputs": [],
   "source": [
    "from datetime import datetime, timedelta  # For convenient handling of time and date\n",
    "\n",
    "import numpy as np  # Fundamental math library in python.\n",
    "import pandas as pd  # To create a pandas dataframe, an equivalent to an R dataframe\n",
    "import py_fort_myrmidon as fm\n",
    "from scipy.spatial import KDTree"
   ]
  },
  {
   "cell_type": "markdown",
   "metadata": {},
   "source": [
    "## Calculating spatial fidelity\n",
    "\n",
    "The code here is the same as in the original code written by Matthias. For convenience sake the different components have been converted into functions that can be used to run over multiple fort-studio experiments"
   ]
  },
  {
   "cell_type": "markdown",
   "metadata": {},
   "source": [
    "### Defining the grid for the spatial fidelity\n",
    "\n",
    "A spatial tesselation of hexagons is used to define the sites where the observations of the individuals are counted. A nearest neighbour tree (KDTree) is used with the centers of the hexgons mentioned. For a given set of coordinates, a KDTree can be used to efficiently find the seed that is closest to the input coordinates, here the waypoints of the trajectory. The hexagonal boundaries are not defined explicitly. Simply by placing the hexagonal centers accordingly (see ```method ``` variable), the resulting pattern will be hexagonal or squared. The code in the following cell computes the hexagon centers that seed the KDTree.  \n",
    "This part should probably only be edited w.r.t. the method and the internal radius."
   ]
  },
  {
   "cell_type": "code",
   "execution_count": 2,
   "metadata": {},
   "outputs": [],
   "source": [
    "def define_kdtree(method, xlim, ylim, r_int):\n",
    "    if method == \"vertical\":\n",
    "        dx = 2 * r_int\n",
    "        dy = np.sqrt(3) * r_int\n",
    "    elif method == \"horizontal\":\n",
    "        dx = np.sqrt(3) * r_int\n",
    "        dy = 2 * r_int\n",
    "    elif method == \"square\":\n",
    "        dx = 2 * r_int\n",
    "        dy = 2 * r_int\n",
    "\n",
    "    n_x = np.diff(xlim) // dx + 1\n",
    "    n_y = np.diff(ylim) // dy + 1\n",
    "    osx = n_x * dx - np.diff(xlim)\n",
    "    osy = n_y * dy - np.diff(ylim)\n",
    "    x = np.arange(start=xlim[0] - osx / 2, step=dx, stop=n_x * dx + osx / 2)\n",
    "    y = np.arange(start=ylim[0] - osy / 2, step=dy, stop=n_y * dy + osy / 2)\n",
    "    xm, ym = np.meshgrid(x, y)\n",
    "    if method == \"vertical\":\n",
    "        xm[::2] = xm[::2] + r_int\n",
    "    elif method == \"horizontal\":\n",
    "        ym[:, 1::2] = ym[:, 1::2] + r_int\n",
    "\n",
    "    sites = np.stack([xm.flatten(), ym.flatten()], axis=1)\n",
    "    kdtree = KDTree(sites)\n",
    "    return kdtree, sites"
   ]
  },
  {
   "cell_type": "markdown",
   "metadata": {},
   "source": [
    "### Function to calculate presence in the grid\n",
    "\n",
    "This function takes the counts of each antID in each of the grid cells that were calculated using the kdtree function"
   ]
  },
  {
   "cell_type": "code",
   "execution_count": 3,
   "metadata": {},
   "outputs": [],
   "source": [
    "def calc_counts_kdtree(exp, t_start, t_end, kdtree, sites, counts_cutoff, col_phase):\n",
    "    \"\"\"Function to calculate normalised counts of ants in each zone\n",
    "\n",
    "    Args:\n",
    "        exp (fort-myrmidon experiment file): Fort myrmidon experiment file\n",
    "        t_start (datetime): Start time in local time with timezone set to None\n",
    "        t_end (datetime): End time in local time with timezone set to None\n",
    "        kdtree (kdtree object): kdtree object ontained from define_kdtree function\n",
    "        counts (Numpy Array): A numpy array with dimentsions number of ants x number of zones\n",
    "        idxmap (dict): Dictionary mapping ant ids to indices in the counts array\n",
    "        counts_cutoff (int): cut-off value to threshold the counts\n",
    "        col_phase (string): String which contains the colony and phase information\n",
    "    \"\"\"\n",
    "    # Convert to fm.Time object\n",
    "    t_st = fm.Time(t_start)\n",
    "    t_en = fm.Time(t_end)\n",
    "    # Extract ant trajectories\n",
    "    trajectories = fm.Query.ComputeAntTrajectories(\n",
    "        exp,\n",
    "        start=t_st,\n",
    "        end=t_en,\n",
    "    )\n",
    "    # Get unique ant IDs from trajectories\n",
    "    trajectory_ant_ids = set()\n",
    "    for t in trajectories:\n",
    "        trajectory_ant_ids.add(t.Ant)\n",
    "    trajectory_ant_ids = list(trajectory_ant_ids)\n",
    "    # Create mapping from trajectory ant IDs to array indices\n",
    "    idxmap = dict(zip(trajectory_ant_ids, range(len(trajectory_ant_ids))))\n",
    "    print(f\"Number of unique ants in trajectory data: {len(trajectory_ant_ids)}\")\n",
    "    # Create counts dictionary with proper dimensions\n",
    "    counts = {}\n",
    "    for s in exp.Spaces:\n",
    "        counts[s] = np.zeros((len(trajectory_ant_ids), len(sites)))\n",
    "    # Obtain the zone indices for each coordinate in each trajectory\n",
    "    for t in trajectories:\n",
    "        dist, zone_indices = kdtree.query(t.Positions[:, 1:3])\n",
    "        ind, cts = np.unique(zone_indices, return_counts=True)\n",
    "        counts[t.Space][idxmap[t.Ant], ind] += cts\n",
    "    # Normalize the counts and prepare for merging\n",
    "    space_dfs = {}  # Store dataframes by space name\n",
    "\n",
    "    for s in exp.Spaces:\n",
    "        space_name = exp.Spaces[s].Name.title()  # Get space name in title case\n",
    "        print(f\"Processing {space_name}\")\n",
    "\n",
    "        row_sums = counts[s].sum(axis=1)[:, np.newaxis]\n",
    "        counts[s] = np.divide(\n",
    "            counts[s], row_sums, out=np.zeros_like(counts[s]), where=row_sums != 0\n",
    "        )\n",
    "\n",
    "        # Create dataframe with renamed columns to include space name\n",
    "        df = pd.DataFrame(data=counts[s], index=trajectory_ant_ids)\n",
    "        df.index.name = \"AntID\"\n",
    "\n",
    "        # Rename columns to format: 0_Nest, 1_Nest, etc.\n",
    "        df.columns = [f\"{i}_{space_name}\" for i in range(df.shape[1])]\n",
    "\n",
    "        # Store dataframe by space name\n",
    "        space_dfs[space_name] = df\n",
    "\n",
    "    # Sort space names to ensure Nest comes first, then Forage\n",
    "    ordered_spaces = sorted(space_dfs.keys())\n",
    "    if \"Nest\" in ordered_spaces:\n",
    "        ordered_spaces.remove(\"Nest\")\n",
    "        ordered_spaces.insert(0, \"Nest\")\n",
    "    # print(ordered_spaces)\n",
    "\n",
    "    # Merge all dataframes using outer join to keep all ant IDs\n",
    "    merged_df = None\n",
    "    for space in ordered_spaces:\n",
    "        if merged_df is None:\n",
    "            merged_df = space_dfs[space]\n",
    "            # print(merged_df.shape)\n",
    "        else:\n",
    "            # Join on index (AntID)\n",
    "            merged_df = merged_df.join(space_dfs[space], how=\"outer\")\n",
    "            # print(merged_df.shape)\n",
    "    # Create file name\n",
    "    f_count = \"NormCounts_{}_{}_{}.csv\".format(\n",
    "        col_phase,\n",
    "        t_start.strftime(\"%Y%m%d-%H%M%S\"),\n",
    "        t_end.strftime(\"%Y%m%d-%H%M%S\"),\n",
    "    )  # Name for the output file\n",
    "    print(f_count, \" done\")\n",
    "    merged_df.to_csv(f_count)"
   ]
  },
  {
   "cell_type": "markdown",
   "metadata": {},
   "source": [
    "### Function to run the spatial presence calculation over whole experiments\n",
    "\n",
    "This is a wrapper function for `calc_counts_kdtree` which runs the function over multiple time ranges"
   ]
  },
  {
   "cell_type": "code",
   "execution_count": 4,
   "metadata": {
    "ExecuteTime": {
     "end_time": "2023-06-16T10:31:21.421927279Z",
     "start_time": "2023-06-16T10:31:21.407844326Z"
    },
    "collapsed": false
   },
   "outputs": [],
   "source": [
    "def calc_spatial_fidelity(\n",
    "    myrmidon_path,\n",
    "    exp_start,\n",
    "    start_time_list,\n",
    "    end_time_list,\n",
    "    counts_cutoff,\n",
    "    col_phase_list,\n",
    "):\n",
    "    # Open myrmidon file\n",
    "    exp = fm.Experiment.Open(myrmidon_path)\n",
    "    # Get frames from first second of experiment tracking\n",
    "    identifiedFrames = fm.Query.IdentifyFrames(\n",
    "        exp,\n",
    "        start=fm.Time(exp_start),\n",
    "        end=fm.Time(exp_start).Add(fm.Duration().Parse(\"1s\")),\n",
    "    )\n",
    "    # Obtain x and y limits fo frame\n",
    "    xlim = [0, identifiedFrames[0].Width]\n",
    "    ylim = [0, identifiedFrames[0].Height]\n",
    "    # get average ant size to calculate the bin size\n",
    "    # ant_radius = []\n",
    "    # for ant in exp.Ants:\n",
    "    #     ant_radius.append(fm.Query.ComputeMeasurementFor(experiment=exp, antID=ant, measurementTypeID=1)[0].LengthPixel)\n",
    "    # r_int = np.mean(ant_radius)\n",
    "    r_int = 300  # Using a general value of 300 to account for cases where the fm.Query.ComputeMeasurementFor throws an error\n",
    "    # Obtain the kdtree\n",
    "    kdtree, sites = define_kdtree(\"vertical\", xlim, ylim, r_int)\n",
    "    # Create a dictionary for holding counts data\n",
    "    # counts_cutoff = 0 # For hard coding a count cutoff inside the function\n",
    "    # Create a dictionary with an array full of zeros and shape (number individuals x number sites) for each Space\n",
    "    # counts = {}\n",
    "    # for s in exp.Spaces:\n",
    "    #     counts[s] = np.zeros((len(exp.Ants), len(sites)))\n",
    "    # idxmap = dict(\n",
    "    #     zip(exp.Ants, range(len(exp.Ants)))\n",
    "    # )  # Maps the ant id to the matrix index\n",
    "    # Run function to calculate counts over each space for each combination of start and end time\n",
    "    # Process each time period\n",
    "    [\n",
    "        calc_counts_kdtree(exp, t_start, t_end, kdtree, sites, counts_cutoff, col_phase)\n",
    "        for t_start, t_end, col_phase in zip(\n",
    "            start_time_list, end_time_list, col_phase_list\n",
    "        )\n",
    "    ]"
   ]
  },
  {
   "cell_type": "markdown",
   "metadata": {},
   "source": [
    "## Colony Cfel42"
   ]
  },
  {
   "cell_type": "code",
   "execution_count": null,
   "metadata": {
    "ExecuteTime": {
     "end_time": "2023-06-16T10:31:25.925090646Z",
     "start_time": "2023-06-16T10:31:25.920264257Z"
    },
    "collapsed": false
   },
   "outputs": [],
   "source": [
    "# Colony 42\n",
    "myrmidon_path = \"/media/ebiag/Ebi-2/Woundcare Experiment1/Cfell_wound_col42.myrmidon\"\n",
    "exp_start = datetime(2022, 4, 27, 0, 1).astimezone(tz=None)\n",
    "start_time_list = [\n",
    "    datetime(2022, 5, 1, 15, 54).astimezone(tz=None),\n",
    "    datetime(2022, 5, 2, 16, 3).astimezone(tz=None),\n",
    "    datetime(2022, 5, 3, 15, 53).astimezone(tz=None),\n",
    "    datetime(2022, 5, 4, 15, 50).astimezone(tz=None),\n",
    "    datetime(2022, 5, 5, 15, 50).astimezone(tz=None),\n",
    "    datetime(2022, 5, 6, 15, 55).astimezone(tz=None),\n",
    "    datetime(2022, 5, 2, 9, 0).astimezone(tz=None),\n",
    "    datetime(2022, 5, 3, 9, 0).astimezone(tz=None),\n",
    "    datetime(2022, 5, 4, 9, 0).astimezone(tz=None),\n",
    "    datetime(2022, 5, 5, 9, 0).astimezone(tz=None),\n",
    "    datetime(2022, 5, 6, 9, 0).astimezone(tz=None),\n",
    "    datetime(2022, 5, 7, 9, 0).astimezone(tz=None),\n",
    "]\n",
    "\n",
    "counts_cutoff = 0\n",
    "\n",
    "end_time_list = [start_time + timedelta(hours=6) for start_time in start_time_list]\n",
    "\n",
    "colony = \"Cfel42_\"\n",
    "phase = [\n",
    "    \"Control\",\n",
    "    \"R1\",\n",
    "    \"R2\",\n",
    "    \"R3\",\n",
    "    \"R4\",\n",
    "    \"R5\",\n",
    "    \"PostC\",\n",
    "    \"PostR1\",\n",
    "    \"PostR2\",\n",
    "    \"PostR3\",\n",
    "    \"PostR4\",\n",
    "    \"PostR5\",\n",
    "]\n",
    "\n",
    "col_phase_list = [f\"{colony}{phase}\" for phase in phase]"
   ]
  },
  {
   "cell_type": "code",
   "execution_count": null,
   "metadata": {
    "ExecuteTime": {
     "end_time": "2023-06-16T10:39:58.889590595Z",
     "start_time": "2023-06-16T10:31:31.563118390Z"
    },
    "collapsed": false
   },
   "outputs": [],
   "source": [
    "calc_spatial_fidelity(\n",
    "    myrmidon_path,\n",
    "    exp_start,\n",
    "    start_time_list,\n",
    "    end_time_list,\n",
    "    counts_cutoff,\n",
    "    col_phase_list,\n",
    ")"
   ]
  },
  {
   "cell_type": "code",
   "execution_count": null,
   "metadata": {},
   "outputs": [],
   "source": [
    "calc_spatial_fidelity(\n",
    "    myrmidon_path,\n",
    "    exp_start,\n",
    "    [datetime(2022, 4, 27, 0, 1).astimezone(tz=None)],\n",
    "    [datetime(2022, 5, 1, 23, 59).astimezone(tz=None)],\n",
    "    counts_cutoff,\n",
    "    [\"Cfel42_Baseline\"],\n",
    ")"
   ]
  },
  {
   "cell_type": "markdown",
   "metadata": {},
   "source": [
    "## Colony Cfel1"
   ]
  },
  {
   "cell_type": "code",
   "execution_count": null,
   "metadata": {
    "ExecuteTime": {
     "end_time": "2023-06-16T10:40:10.240209771Z",
     "start_time": "2023-06-16T10:40:10.230778328Z"
    },
    "collapsed": false
   },
   "outputs": [],
   "source": [
    "# Colony 1\n",
    "myrmidon_path = \"/media/ebiag/Ebi-2/Woundcare Experiment2/woundcare_cfell1_T2.myrmidon\"\n",
    "exp_start = datetime(2022, 5, 31, 0, 1).astimezone(tz=None)\n",
    "start_time_list = [\n",
    "    datetime(2022, 6, 4, 14, 48).astimezone(tz=None),\n",
    "    datetime(2022, 6, 5, 14, 57).astimezone(tz=None),\n",
    "    datetime(2022, 6, 6, 14, 30).astimezone(tz=None),\n",
    "    datetime(2022, 6, 7, 14, 49).astimezone(tz=None),\n",
    "    datetime(2022, 6, 8, 14, 43).astimezone(tz=None),\n",
    "    datetime(2022, 6, 9, 15, 5).astimezone(tz=None),\n",
    "    datetime(2022, 6, 5, 8, 0).astimezone(tz=None),\n",
    "    datetime(2022, 6, 6, 8, 0).astimezone(tz=None),\n",
    "    datetime(2022, 6, 7, 8, 0).astimezone(tz=None),\n",
    "    datetime(2022, 6, 8, 8, 0).astimezone(tz=None),\n",
    "    datetime(2022, 6, 9, 8, 0).astimezone(tz=None),\n",
    "    datetime(2022, 6, 10, 8, 0).astimezone(tz=None),\n",
    "]\n",
    "\n",
    "counts_cutoff = 0\n",
    "\n",
    "end_time_list = [start_time + timedelta(hours=6) for start_time in start_time_list]\n",
    "\n",
    "colony = \"Cfel1_\"\n",
    "phase = [\n",
    "    \"Control\",\n",
    "    \"R1\",\n",
    "    \"R2\",\n",
    "    \"R3\",\n",
    "    \"R4\",\n",
    "    \"R5\",\n",
    "    \"PostC\",\n",
    "    \"PostR1\",\n",
    "    \"PostR2\",\n",
    "    \"PostR3\",\n",
    "    \"PostR4\",\n",
    "    \"PostR5\",\n",
    "]\n",
    "\n",
    "col_phase_list = [f\"{colony}{phase}\" for phase in phase]"
   ]
  },
  {
   "cell_type": "code",
   "execution_count": null,
   "metadata": {
    "ExecuteTime": {
     "end_time": "2023-06-16T10:46:07.162133899Z",
     "start_time": "2023-06-16T10:40:14.852014280Z"
    },
    "collapsed": false
   },
   "outputs": [],
   "source": [
    "calc_spatial_fidelity(\n",
    "    myrmidon_path,\n",
    "    exp_start,\n",
    "    start_time_list,\n",
    "    end_time_list,\n",
    "    counts_cutoff,\n",
    "    col_phase_list,\n",
    ")"
   ]
  },
  {
   "cell_type": "code",
   "execution_count": null,
   "metadata": {},
   "outputs": [],
   "source": [
    "# Comment out the normalisation in the calc_spatial_fidelity function to obtain the raw counts\n",
    "\n",
    "calc_spatial_fidelity(\n",
    "    myrmidon_path,\n",
    "    exp_start,\n",
    "    [\n",
    "        datetime(2022, 5, 31, 0, 1).astimezone(tz=None),\n",
    "        datetime(2022, 6, 4, 6, 0).astimezone(tz=None),\n",
    "    ],\n",
    "    [\n",
    "        datetime(2022, 6, 2, 23, 59).astimezone(tz=None),\n",
    "        datetime(2022, 6, 4, 23, 59).astimezone(tz=None),\n",
    "    ],\n",
    "    counts_cutoff,\n",
    "    [\"Cfel1_Baseline1\", \"Cfel1_Baseline2\"],\n",
    ")"
   ]
  },
  {
   "cell_type": "code",
   "execution_count": null,
   "metadata": {},
   "outputs": [],
   "source": [
    "b1 = pd.read_csv(\"NormCounts_Cfel1_Baseline1_20220531-000100_20220602-235900.csv\")\n",
    "b2 = pd.read_csv(\"NormCounts_Cfel1_Baseline2_20220604-060000_20220604-235900.csv\")\n",
    "\n",
    "# Set AntID as index\n",
    "b1.set_index(\"AntID\", inplace=True)\n",
    "b2.set_index(\"AntID\", inplace=True)\n",
    "\n",
    "# Get the original column order from b1\n",
    "original_columns = b1.columns.tolist()\n",
    "\n",
    "# Create a new combined dataframe with all ants and the original columns\n",
    "combined_index = sorted(list(set(b1.index) | set(b2.index)))\n",
    "result = pd.DataFrame(0, index=combined_index, columns=original_columns)\n",
    "\n",
    "# Add data from both datasets\n",
    "for col in original_columns:\n",
    "    if col in b1.columns:\n",
    "        result.loc[b1.index, col] += b1[col]\n",
    "\n",
    "    if col in b2.columns:\n",
    "        result.loc[b2.index, col] += b2[col]\n",
    "\n",
    "# Split columns by type while maintaining order\n",
    "nest_cols = [col for col in original_columns if col.endswith(\"_Nest\")]\n",
    "forage_cols = [col for col in original_columns if col.endswith(\"_Forage\")]\n",
    "\n",
    "# Normalize Nest columns separately\n",
    "if nest_cols:\n",
    "    nest_sum = result[nest_cols].sum(axis=1)\n",
    "    for col in nest_cols:\n",
    "        result[col] = result[col].div(nest_sum, axis=0).fillna(0)\n",
    "\n",
    "# Normalize Forage columns separately\n",
    "if forage_cols:\n",
    "    forage_sum = result[forage_cols].sum(axis=1)\n",
    "    for col in forage_cols:\n",
    "        result[col] = result[col].div(forage_sum, axis=0).fillna(0)\n",
    "\n",
    "# Check row sums\n",
    "# Create summary dataframe from the results\n",
    "# This will have AntIDs as rows and two columns: Nest and Forage\n",
    "summary_df = pd.DataFrame(index=result.index)\n",
    "\n",
    "# Sum all Nest columns for each ant\n",
    "if nest_cols:\n",
    "    summary_df[\"Nest\"] = result[nest_cols].sum(axis=1)\n",
    "else:\n",
    "    summary_df[\"Nest\"] = 0\n",
    "\n",
    "# Sum all Forage columns for each ant\n",
    "if forage_cols:\n",
    "    summary_df[\"Forage\"] = result[forage_cols].sum(axis=1)\n",
    "else:\n",
    "    summary_df[\"Forage\"] = 0\n",
    "\n",
    "# Display the first few rows to verify\n",
    "# print(summary_df.head())\n",
    "\n",
    "\n",
    "# Save the result\n",
    "result.to_csv(\"NormCounts_Cfel1_Baseline_20220531-000100_20220604-235900.csv\")"
   ]
  },
  {
   "cell_type": "markdown",
   "metadata": {},
   "source": [
    "## Colony Cfel54"
   ]
  },
  {
   "cell_type": "code",
   "execution_count": 5,
   "metadata": {
    "ExecuteTime": {
     "end_time": "2023-06-16T10:46:14.529575742Z",
     "start_time": "2023-06-16T10:46:14.484093668Z"
    },
    "collapsed": false
   },
   "outputs": [],
   "source": [
    "myrmidon_path = \"/media/ebiag/Ebi-2/Woundcare Experiment3/woundcare_cfell54_T3.myrmidon\"\n",
    "exp_start = datetime(2022, 6, 15, 0, 1).astimezone(tz=None)\n",
    "start_time_list = [\n",
    "    datetime(2022, 6, 19, 14, 26).astimezone(tz=None),\n",
    "    datetime(2022, 6, 20, 14, 35).astimezone(tz=None),\n",
    "    datetime(2022, 6, 21, 14, 21).astimezone(tz=None),\n",
    "    datetime(2022, 6, 22, 14, 28).astimezone(tz=None),\n",
    "    datetime(2022, 6, 23, 14, 14).astimezone(tz=None),\n",
    "    datetime(2022, 6, 24, 14, 31).astimezone(tz=None),\n",
    "    datetime(2022, 6, 20, 8, 0).astimezone(tz=None),\n",
    "    datetime(2022, 6, 21, 8, 0).astimezone(tz=None),\n",
    "    datetime(2022, 6, 22, 8, 0).astimezone(tz=None),\n",
    "    datetime(2022, 6, 23, 8, 0).astimezone(tz=None),\n",
    "    datetime(2022, 6, 24, 8, 0).astimezone(tz=None),\n",
    "    datetime(2022, 6, 25, 8, 0).astimezone(tz=None),\n",
    "]\n",
    "\n",
    "counts_cutoff = 0\n",
    "\n",
    "end_time_list = [start_time + timedelta(hours=6) for start_time in start_time_list]\n",
    "\n",
    "colony = \"Cfel54_\"\n",
    "phase = [\n",
    "    \"Control\",\n",
    "    \"R1\",\n",
    "    \"R2\",\n",
    "    \"R3\",\n",
    "    \"R4\",\n",
    "    \"R5\",\n",
    "    \"PostC\",\n",
    "    \"PostR1\",\n",
    "    \"PostR2\",\n",
    "    \"PostR3\",\n",
    "    \"PostR4\",\n",
    "    \"PostR5\",\n",
    "]\n",
    "\n",
    "col_phase_list = [f\"{colony}{phase}\" for phase in phase]"
   ]
  },
  {
   "cell_type": "code",
   "execution_count": 6,
   "metadata": {
    "ExecuteTime": {
     "end_time": "2023-06-16T10:53:37.051090712Z",
     "start_time": "2023-06-16T10:46:21.579723417Z"
    },
    "collapsed": false
   },
   "outputs": [
    {
     "name": "stderr",
     "output_type": "stream",
     "text": [
      "Identifiying frames:   0%|                       | 0/1 [00:01<?, ?tracked min/s]\n",
      "Computing ant trajectories: 100%|████| 360/360 [00:06<00:00, 51.89tracked min/s]\n"
     ]
    },
    {
     "name": "stdout",
     "output_type": "stream",
     "text": [
      "Number of unique ants in trajectory data: 86\n",
      "Processing Nest\n",
      "Processing Forage\n",
      "NormCounts_Cfel54_Control_20220619-142600_20220619-202600.csv  done\n"
     ]
    },
    {
     "name": "stderr",
     "output_type": "stream",
     "text": [
      "Computing ant trajectories: 100%|███▉| 359/360 [00:03<00:00, 92.20tracked min/s]\n"
     ]
    },
    {
     "name": "stdout",
     "output_type": "stream",
     "text": [
      "Number of unique ants in trajectory data: 84\n",
      "Processing Nest\n",
      "Processing Forage\n",
      "NormCounts_Cfel54_R1_20220620-143500_20220620-203500.csv  done\n"
     ]
    },
    {
     "name": "stderr",
     "output_type": "stream",
     "text": [
      "Computing ant trajectories: 100%|███▉| 359/360 [00:03<00:00, 94.43tracked min/s]\n"
     ]
    },
    {
     "name": "stdout",
     "output_type": "stream",
     "text": [
      "Number of unique ants in trajectory data: 83\n",
      "Processing Nest\n",
      "Processing Forage\n",
      "NormCounts_Cfel54_R2_20220621-142100_20220621-202100.csv  done\n"
     ]
    },
    {
     "name": "stderr",
     "output_type": "stream",
     "text": [
      "Computing ant trajectories: 100%|███▉| 359/360 [00:03<00:00, 96.05tracked min/s]\n"
     ]
    },
    {
     "name": "stdout",
     "output_type": "stream",
     "text": [
      "Number of unique ants in trajectory data: 83\n",
      "Processing Nest\n",
      "Processing Forage\n",
      "NormCounts_Cfel54_R3_20220622-142800_20220622-202800.csv  done\n"
     ]
    },
    {
     "name": "stderr",
     "output_type": "stream",
     "text": [
      "Computing ant trajectories: 100%|███▉| 359/360 [00:03<00:00, 89.99tracked min/s]\n"
     ]
    },
    {
     "name": "stdout",
     "output_type": "stream",
     "text": [
      "Number of unique ants in trajectory data: 82\n",
      "Processing Nest\n",
      "Processing Forage\n",
      "NormCounts_Cfel54_R4_20220623-141400_20220623-201400.csv  done\n"
     ]
    },
    {
     "name": "stderr",
     "output_type": "stream",
     "text": [
      "Computing ant trajectories: 100%|████| 360/360 [00:03<00:00, 92.35tracked min/s]\n"
     ]
    },
    {
     "name": "stdout",
     "output_type": "stream",
     "text": [
      "Number of unique ants in trajectory data: 78\n",
      "Processing Nest\n",
      "Processing Forage\n",
      "NormCounts_Cfel54_R5_20220624-143100_20220624-203100.csv  done\n"
     ]
    },
    {
     "name": "stderr",
     "output_type": "stream",
     "text": [
      "Computing ant trajectories: 100%|███| 360/360 [00:03<00:00, 101.31tracked min/s]\n"
     ]
    },
    {
     "name": "stdout",
     "output_type": "stream",
     "text": [
      "Number of unique ants in trajectory data: 85\n",
      "Processing Nest\n",
      "Processing Forage\n",
      "NormCounts_Cfel54_PostC_20220620-080000_20220620-140000.csv  done\n"
     ]
    },
    {
     "name": "stderr",
     "output_type": "stream",
     "text": [
      "Computing ant trajectories: 100%|███▉| 359/360 [00:03<00:00, 94.58tracked min/s]\n"
     ]
    },
    {
     "name": "stdout",
     "output_type": "stream",
     "text": [
      "Number of unique ants in trajectory data: 84\n",
      "Processing Nest\n",
      "Processing Forage\n",
      "NormCounts_Cfel54_PostR1_20220621-080000_20220621-140000.csv  done\n"
     ]
    },
    {
     "name": "stderr",
     "output_type": "stream",
     "text": [
      "Computing ant trajectories: 100%|███| 360/360 [00:03<00:00, 103.64tracked min/s]\n"
     ]
    },
    {
     "name": "stdout",
     "output_type": "stream",
     "text": [
      "Number of unique ants in trajectory data: 83\n",
      "Processing Nest\n",
      "Processing Forage\n",
      "NormCounts_Cfel54_PostR2_20220622-080000_20220622-140000.csv  done\n"
     ]
    },
    {
     "name": "stderr",
     "output_type": "stream",
     "text": [
      "Computing ant trajectories: 100%|███▉| 359/360 [00:03<00:00, 98.33tracked min/s]\n"
     ]
    },
    {
     "name": "stdout",
     "output_type": "stream",
     "text": [
      "Number of unique ants in trajectory data: 83\n",
      "Processing Nest\n",
      "Processing Forage\n",
      "NormCounts_Cfel54_PostR3_20220623-080000_20220623-140000.csv  done\n"
     ]
    },
    {
     "name": "stderr",
     "output_type": "stream",
     "text": [
      "Computing ant trajectories: 100%|███▉| 359/360 [00:03<00:00, 93.23tracked min/s]\n"
     ]
    },
    {
     "name": "stdout",
     "output_type": "stream",
     "text": [
      "Number of unique ants in trajectory data: 80\n",
      "Processing Nest\n",
      "Processing Forage\n",
      "NormCounts_Cfel54_PostR4_20220624-080000_20220624-140000.csv  done\n"
     ]
    },
    {
     "name": "stderr",
     "output_type": "stream",
     "text": [
      "Computing ant trajectories: 100%|███| 360/360 [00:03<00:00, 105.24tracked min/s]\n"
     ]
    },
    {
     "name": "stdout",
     "output_type": "stream",
     "text": [
      "Number of unique ants in trajectory data: 77\n",
      "Processing Nest\n",
      "Processing Forage\n",
      "NormCounts_Cfel54_PostR5_20220625-080000_20220625-140000.csv  done\n"
     ]
    }
   ],
   "source": [
    "calc_spatial_fidelity(\n",
    "    myrmidon_path,\n",
    "    exp_start,\n",
    "    start_time_list,\n",
    "    end_time_list,\n",
    "    counts_cutoff,\n",
    "    col_phase_list,\n",
    ")"
   ]
  },
  {
   "cell_type": "code",
   "execution_count": 7,
   "metadata": {},
   "outputs": [
    {
     "name": "stderr",
     "output_type": "stream",
     "text": [
      "Identifiying frames:   0%|                       | 0/1 [00:00<?, ?tracked min/s]\n",
      "Computing ant trajectories: 100%|█▉| 7197/7198 [03:39<00:00, 32.82tracked min/s]\n"
     ]
    },
    {
     "name": "stdout",
     "output_type": "stream",
     "text": [
      "Number of unique ants in trajectory data: 99\n",
      "Processing Nest\n",
      "Processing Forage\n",
      "NormCounts_Cfel54_Baseline_20220615-000100_20220619-235900.csv  done\n"
     ]
    }
   ],
   "source": [
    "calc_spatial_fidelity(\n",
    "    myrmidon_path,\n",
    "    exp_start,\n",
    "    [datetime(2022, 6, 15, 0, 1).astimezone(tz=None)],\n",
    "    [datetime(2022, 6, 19, 23, 59).astimezone(tz=None)],\n",
    "    counts_cutoff,\n",
    "    [\"Cfel54_Baseline\"],\n",
    ")"
   ]
  },
  {
   "cell_type": "markdown",
   "metadata": {},
   "source": [
    "## Colony Cfel 55"
   ]
  },
  {
   "cell_type": "code",
   "execution_count": 12,
   "metadata": {},
   "outputs": [],
   "source": [
    "# Colony 55\n",
    "myrmidon_path = \"/media/ebiag/Ebi-1/InfectionExp_Cfel55/InfectionExpCol55.myrmidon\"\n",
    "exp_start = datetime(2023, 4, 14, 0, 1).astimezone(tz=None)\n",
    "start_time_list = [\n",
    "    datetime(2023, 4, 18, 14, 40).astimezone(tz=None),\n",
    "    datetime(2023, 4, 20, 15, 45).astimezone(tz=None),\n",
    "    datetime(2023, 4, 21, 14, 48).astimezone(tz=None),\n",
    "    datetime(2023, 4, 22, 14, 17).astimezone(tz=None),\n",
    "    datetime(2023, 4, 23, 14, 0).astimezone(tz=None),\n",
    "    datetime(2023, 4, 24, 14, 54).astimezone(tz=None),\n",
    "    datetime(2023, 4, 20, 8, 0).astimezone(tz=None),\n",
    "    datetime(2023, 4, 21, 8, 0).astimezone(tz=None),\n",
    "    datetime(2023, 4, 22, 7, 30).astimezone(tz=None),\n",
    "    datetime(2023, 4, 23, 7, 30).astimezone(tz=None),\n",
    "    datetime(2023, 4, 24, 8, 0).astimezone(tz=None),\n",
    "    datetime(2023, 4, 25, 8, 0).astimezone(tz=None),\n",
    "]\n",
    "\n",
    "counts_cutoff = 0\n",
    "\n",
    "end_time_list = [start_time + timedelta(hours=6) for start_time in start_time_list]\n",
    "\n",
    "colony = \"Cfel55_\"\n",
    "phase = [\n",
    "    \"Control\",\n",
    "    \"R1\",\n",
    "    \"R2\",\n",
    "    \"R3\",\n",
    "    \"R4\",\n",
    "    \"R5\",\n",
    "    \"PostC\",\n",
    "    \"PostR1\",\n",
    "    \"PostR2\",\n",
    "    \"PostR3\",\n",
    "    \"PostR4\",\n",
    "    \"PostR5\",\n",
    "]\n",
    "\n",
    "col_phase_list = [f\"{colony}{phase}\" for phase in phase]"
   ]
  },
  {
   "cell_type": "code",
   "execution_count": 13,
   "metadata": {},
   "outputs": [
    {
     "name": "stderr",
     "output_type": "stream",
     "text": [
      "Identifiying frames:   0%|                       | 0/1 [00:00<?, ?tracked min/s]\n",
      "Computing ant trajectories: 100%|███▉| 359/360 [00:05<00:00, 65.08tracked min/s]\n"
     ]
    },
    {
     "name": "stdout",
     "output_type": "stream",
     "text": [
      "Number of unique ants in trajectory data: 86\n",
      "Processing Forage\n",
      "Processing Nest\n",
      "NormCounts_Cfel55_Control_20230418-144000_20230418-204000.csv  done\n"
     ]
    },
    {
     "name": "stderr",
     "output_type": "stream",
     "text": [
      "Computing ant trajectories: 100%|████| 360/360 [00:04<00:00, 72.04tracked min/s]\n"
     ]
    },
    {
     "name": "stdout",
     "output_type": "stream",
     "text": [
      "Number of unique ants in trajectory data: 79\n",
      "Processing Forage\n",
      "Processing Nest\n",
      "NormCounts_Cfel55_R1_20230420-154500_20230420-214500.csv  done\n"
     ]
    },
    {
     "name": "stderr",
     "output_type": "stream",
     "text": [
      "Computing ant trajectories: 100%|███▉| 359/360 [00:05<00:00, 66.20tracked min/s]\n"
     ]
    },
    {
     "name": "stdout",
     "output_type": "stream",
     "text": [
      "Number of unique ants in trajectory data: 74\n",
      "Processing Forage\n",
      "Processing Nest\n",
      "NormCounts_Cfel55_R2_20230421-144800_20230421-204800.csv  done\n"
     ]
    },
    {
     "name": "stderr",
     "output_type": "stream",
     "text": [
      "Computing ant trajectories: 100%|███▉| 359/360 [00:04<00:00, 84.26tracked min/s]\n"
     ]
    },
    {
     "name": "stdout",
     "output_type": "stream",
     "text": [
      "Number of unique ants in trajectory data: 74\n",
      "Processing Forage\n",
      "Processing Nest\n",
      "NormCounts_Cfel55_R3_20230422-141700_20230422-201700.csv  done\n"
     ]
    },
    {
     "name": "stderr",
     "output_type": "stream",
     "text": [
      "Computing ant trajectories: 100%|███▉| 359/360 [00:04<00:00, 88.18tracked min/s]\n"
     ]
    },
    {
     "name": "stdout",
     "output_type": "stream",
     "text": [
      "Number of unique ants in trajectory data: 72\n",
      "Processing Forage\n",
      "Processing Nest\n",
      "NormCounts_Cfel55_R4_20230423-140000_20230423-200000.csv  done\n"
     ]
    },
    {
     "name": "stderr",
     "output_type": "stream",
     "text": [
      "Computing ant trajectories: 100%|███▉| 359/360 [00:04<00:00, 77.81tracked min/s]\n"
     ]
    },
    {
     "name": "stdout",
     "output_type": "stream",
     "text": [
      "Number of unique ants in trajectory data: 71\n",
      "Processing Forage\n",
      "Processing Nest\n",
      "NormCounts_Cfel55_R5_20230424-145400_20230424-205400.csv  done\n"
     ]
    },
    {
     "name": "stderr",
     "output_type": "stream",
     "text": [
      "Computing ant trajectories: 100%|███▉| 359/360 [00:04<00:00, 79.29tracked min/s]\n"
     ]
    },
    {
     "name": "stdout",
     "output_type": "stream",
     "text": [
      "Number of unique ants in trajectory data: 80\n",
      "Processing Forage\n",
      "Processing Nest\n",
      "NormCounts_Cfel55_PostC_20230420-080000_20230420-140000.csv  done\n"
     ]
    },
    {
     "name": "stderr",
     "output_type": "stream",
     "text": [
      "Computing ant trajectories: 100%|████| 360/360 [00:04<00:00, 79.43tracked min/s]\n"
     ]
    },
    {
     "name": "stdout",
     "output_type": "stream",
     "text": [
      "Number of unique ants in trajectory data: 76\n",
      "Processing Forage\n",
      "Processing Nest\n",
      "NormCounts_Cfel55_PostR1_20230421-080000_20230421-140000.csv  done\n"
     ]
    },
    {
     "name": "stderr",
     "output_type": "stream",
     "text": [
      "Computing ant trajectories: 100%|███▉| 359/360 [00:04<00:00, 88.40tracked min/s]\n"
     ]
    },
    {
     "name": "stdout",
     "output_type": "stream",
     "text": [
      "Number of unique ants in trajectory data: 74\n",
      "Processing Forage\n",
      "Processing Nest\n",
      "NormCounts_Cfel55_PostR2_20230422-073000_20230422-133000.csv  done\n"
     ]
    },
    {
     "name": "stderr",
     "output_type": "stream",
     "text": [
      "Computing ant trajectories: 100%|███▉| 359/360 [00:03<00:00, 90.57tracked min/s]\n"
     ]
    },
    {
     "name": "stdout",
     "output_type": "stream",
     "text": [
      "Number of unique ants in trajectory data: 74\n",
      "Processing Forage\n",
      "Processing Nest\n",
      "NormCounts_Cfel55_PostR3_20230423-073000_20230423-133000.csv  done\n"
     ]
    },
    {
     "name": "stderr",
     "output_type": "stream",
     "text": [
      "Computing ant trajectories: 100%|███▉| 359/360 [00:04<00:00, 82.05tracked min/s]\n"
     ]
    },
    {
     "name": "stdout",
     "output_type": "stream",
     "text": [
      "Number of unique ants in trajectory data: 71\n",
      "Processing Forage\n",
      "Processing Nest\n",
      "NormCounts_Cfel55_PostR4_20230424-080000_20230424-140000.csv  done\n"
     ]
    },
    {
     "name": "stderr",
     "output_type": "stream",
     "text": [
      "Computing ant trajectories: 100%|███▉| 359/360 [00:04<00:00, 78.30tracked min/s]\n"
     ]
    },
    {
     "name": "stdout",
     "output_type": "stream",
     "text": [
      "Number of unique ants in trajectory data: 71\n",
      "Processing Forage\n",
      "Processing Nest\n",
      "NormCounts_Cfel55_PostR5_20230425-080000_20230425-140000.csv  done\n"
     ]
    }
   ],
   "source": [
    "calc_spatial_fidelity(\n",
    "    myrmidon_path,\n",
    "    exp_start,\n",
    "    start_time_list,\n",
    "    end_time_list,\n",
    "    counts_cutoff,\n",
    "    col_phase_list,\n",
    ")"
   ]
  },
  {
   "cell_type": "code",
   "execution_count": 14,
   "metadata": {},
   "outputs": [
    {
     "name": "stderr",
     "output_type": "stream",
     "text": [
      "Identifiying frames:   0%|                       | 0/1 [00:00<?, ?tracked min/s]\n",
      "Computing ant trajectories: 100%|█▉| 7197/7198 [01:32<00:00, 77.86tracked min/s]\n"
     ]
    },
    {
     "name": "stdout",
     "output_type": "stream",
     "text": [
      "Number of unique ants in trajectory data: 102\n",
      "Processing Forage\n",
      "Processing Nest\n",
      "NormCounts_Cfel55_Baseline_20230414-000100_20230418-235900.csv  done\n"
     ]
    }
   ],
   "source": [
    "calc_spatial_fidelity(\n",
    "    myrmidon_path,\n",
    "    exp_start,\n",
    "    [datetime(2023, 4, 14, 0, 1).astimezone(tz=None)],\n",
    "    [datetime(2023, 4, 18, 23, 59).astimezone(tz=None)],\n",
    "    counts_cutoff,\n",
    "    [\"Cfel55_Baseline\"],\n",
    ")"
   ]
  },
  {
   "cell_type": "markdown",
   "metadata": {},
   "source": [
    "## Colony Cfel 13"
   ]
  },
  {
   "cell_type": "code",
   "execution_count": 15,
   "metadata": {},
   "outputs": [],
   "source": [
    "# Colony 13\n",
    "myrmidon_path = \"/media/ebiag/Ebi-4/InfectionExp_Cfel13/InfectionExp_Cfel13.myrmidon\"\n",
    "exp_start = datetime(2023, 4, 19, 0, 1).astimezone(tz=None)\n",
    "start_time_list = [\n",
    "    datetime(2023, 4, 23, 15, 5).astimezone(tz=None),\n",
    "    datetime(2023, 4, 24, 15, 29).astimezone(tz=None),\n",
    "    datetime(2023, 4, 25, 14, 19).astimezone(tz=None),\n",
    "    datetime(2023, 4, 26, 15, 3).astimezone(tz=None),\n",
    "    datetime(2023, 4, 27, 16, 43).astimezone(tz=None),\n",
    "    datetime(2023, 4, 28, 14, 27).astimezone(tz=None),\n",
    "    datetime(2023, 4, 24, 8, 0).astimezone(tz=None),\n",
    "    datetime(2023, 4, 25, 8, 0).astimezone(tz=None),\n",
    "    datetime(2023, 4, 26, 8, 0).astimezone(tz=None),\n",
    "    datetime(2023, 4, 27, 8, 0).astimezone(tz=None),\n",
    "    datetime(2023, 4, 28, 8, 0).astimezone(tz=None),\n",
    "    datetime(2023, 4, 29, 8, 0).astimezone(tz=None),\n",
    "]\n",
    "\n",
    "counts_cutoff = 0\n",
    "\n",
    "end_time_list = [start_time + timedelta(hours=6) for start_time in start_time_list]\n",
    "\n",
    "colony = \"Cfel13_\"\n",
    "phase = [\n",
    "    \"Control\",\n",
    "    \"R1\",\n",
    "    \"R2\",\n",
    "    \"R3\",\n",
    "    \"R4\",\n",
    "    \"R5\",\n",
    "    \"PostC\",\n",
    "    \"PostR1\",\n",
    "    \"PostR2\",\n",
    "    \"PostR3\",\n",
    "    \"PostR4\",\n",
    "    \"PostR5\",\n",
    "]\n",
    "\n",
    "col_phase_list = [f\"{colony}{phase}\" for phase in phase]"
   ]
  },
  {
   "cell_type": "code",
   "execution_count": 16,
   "metadata": {},
   "outputs": [
    {
     "name": "stderr",
     "output_type": "stream",
     "text": [
      "Identifiying frames:   0%|                       | 0/1 [00:00<?, ?tracked min/s]\n",
      "Computing ant trajectories: 100%|███▉| 359/360 [00:04<00:00, 76.95tracked min/s]\n"
     ]
    },
    {
     "name": "stdout",
     "output_type": "stream",
     "text": [
      "Number of unique ants in trajectory data: 109\n",
      "Processing Nest\n",
      "Processing Forage\n",
      "NormCounts_Cfel13_Control_20230423-150500_20230423-210500.csv  done\n"
     ]
    },
    {
     "name": "stderr",
     "output_type": "stream",
     "text": [
      "Computing ant trajectories: 100%|███▉| 359/360 [00:04<00:00, 75.12tracked min/s]\n"
     ]
    },
    {
     "name": "stdout",
     "output_type": "stream",
     "text": [
      "Number of unique ants in trajectory data: 108\n",
      "Processing Nest\n",
      "Processing Forage\n",
      "NormCounts_Cfel13_R1_20230424-152900_20230424-212900.csv  done\n"
     ]
    },
    {
     "name": "stderr",
     "output_type": "stream",
     "text": [
      "Computing ant trajectories: 100%|███▉| 359/360 [00:04<00:00, 73.10tracked min/s]\n"
     ]
    },
    {
     "name": "stdout",
     "output_type": "stream",
     "text": [
      "Number of unique ants in trajectory data: 104\n",
      "Processing Nest\n",
      "Processing Forage\n",
      "NormCounts_Cfel13_R2_20230425-141900_20230425-201900.csv  done\n"
     ]
    },
    {
     "name": "stderr",
     "output_type": "stream",
     "text": [
      "Computing ant trajectories: 100%|███▉| 359/360 [00:05<00:00, 62.50tracked min/s]\n"
     ]
    },
    {
     "name": "stdout",
     "output_type": "stream",
     "text": [
      "Number of unique ants in trajectory data: 103\n",
      "Processing Nest\n",
      "Processing Forage\n",
      "NormCounts_Cfel13_R3_20230426-150300_20230426-210300.csv  done\n"
     ]
    },
    {
     "name": "stderr",
     "output_type": "stream",
     "text": [
      "Computing ant trajectories: 100%|███▉| 359/360 [00:04<00:00, 88.96tracked min/s]\n"
     ]
    },
    {
     "name": "stdout",
     "output_type": "stream",
     "text": [
      "Number of unique ants in trajectory data: 101\n",
      "Processing Nest\n",
      "Processing Forage\n",
      "NormCounts_Cfel13_R4_20230427-164300_20230427-224300.csv  done\n"
     ]
    },
    {
     "name": "stderr",
     "output_type": "stream",
     "text": [
      "Computing ant trajectories: 100%|███▉| 359/360 [00:05<00:00, 66.64tracked min/s]\n"
     ]
    },
    {
     "name": "stdout",
     "output_type": "stream",
     "text": [
      "Number of unique ants in trajectory data: 98\n",
      "Processing Nest\n",
      "Processing Forage\n",
      "NormCounts_Cfel13_R5_20230428-142700_20230428-202700.csv  done\n"
     ]
    },
    {
     "name": "stderr",
     "output_type": "stream",
     "text": [
      "Computing ant trajectories: 100%|███▉| 359/360 [00:05<00:00, 70.81tracked min/s]\n"
     ]
    },
    {
     "name": "stdout",
     "output_type": "stream",
     "text": [
      "Number of unique ants in trajectory data: 106\n",
      "Processing Nest\n",
      "Processing Forage\n",
      "NormCounts_Cfel13_PostC_20230424-080000_20230424-140000.csv  done\n"
     ]
    },
    {
     "name": "stderr",
     "output_type": "stream",
     "text": [
      "Computing ant trajectories: 100%|███▉| 359/360 [00:04<00:00, 78.91tracked min/s]\n"
     ]
    },
    {
     "name": "stdout",
     "output_type": "stream",
     "text": [
      "Number of unique ants in trajectory data: 107\n",
      "Processing Nest\n",
      "Processing Forage\n",
      "NormCounts_Cfel13_PostR1_20230425-080000_20230425-140000.csv  done\n"
     ]
    },
    {
     "name": "stderr",
     "output_type": "stream",
     "text": [
      "Computing ant trajectories: 100%|███▉| 359/360 [00:04<00:00, 76.12tracked min/s]\n"
     ]
    },
    {
     "name": "stdout",
     "output_type": "stream",
     "text": [
      "Number of unique ants in trajectory data: 101\n",
      "Processing Nest\n",
      "Processing Forage\n",
      "NormCounts_Cfel13_PostR2_20230426-080000_20230426-140000.csv  done\n"
     ]
    },
    {
     "name": "stderr",
     "output_type": "stream",
     "text": [
      "Computing ant trajectories: 100%|████| 360/360 [00:04<00:00, 89.35tracked min/s]\n"
     ]
    },
    {
     "name": "stdout",
     "output_type": "stream",
     "text": [
      "Number of unique ants in trajectory data: 97\n",
      "Processing Nest\n",
      "Processing Forage\n",
      "NormCounts_Cfel13_PostR3_20230427-080000_20230427-140000.csv  done\n"
     ]
    },
    {
     "name": "stderr",
     "output_type": "stream",
     "text": [
      "Computing ant trajectories: 100%|███▉| 359/360 [00:04<00:00, 74.28tracked min/s]\n"
     ]
    },
    {
     "name": "stdout",
     "output_type": "stream",
     "text": [
      "Number of unique ants in trajectory data: 96\n",
      "Processing Nest\n",
      "Processing Forage\n",
      "NormCounts_Cfel13_PostR4_20230428-080000_20230428-140000.csv  done\n"
     ]
    },
    {
     "name": "stderr",
     "output_type": "stream",
     "text": [
      "Computing ant trajectories: 100%|███▉| 359/360 [00:04<00:00, 82.02tracked min/s]\n"
     ]
    },
    {
     "name": "stdout",
     "output_type": "stream",
     "text": [
      "Number of unique ants in trajectory data: 92\n",
      "Processing Nest\n",
      "Processing Forage\n",
      "NormCounts_Cfel13_PostR5_20230429-080000_20230429-140000.csv  done\n"
     ]
    }
   ],
   "source": [
    "calc_spatial_fidelity(\n",
    "    myrmidon_path,\n",
    "    exp_start,\n",
    "    start_time_list,\n",
    "    end_time_list,\n",
    "    counts_cutoff,\n",
    "    col_phase_list,\n",
    ")"
   ]
  },
  {
   "cell_type": "code",
   "execution_count": 17,
   "metadata": {},
   "outputs": [
    {
     "name": "stderr",
     "output_type": "stream",
     "text": [
      "Identifiying frames:   0%|                       | 0/1 [00:00<?, ?tracked min/s]\n",
      "Computing ant trajectories: 100%|█▉| 7197/7198 [01:36<00:00, 74.49tracked min/s]\n"
     ]
    },
    {
     "name": "stdout",
     "output_type": "stream",
     "text": [
      "Number of unique ants in trajectory data: 119\n",
      "Processing Nest\n",
      "Processing Forage\n",
      "NormCounts_Cfel13_Baseline_20230419-000100_20230423-235900.csv  done\n"
     ]
    }
   ],
   "source": [
    "calc_spatial_fidelity(\n",
    "    myrmidon_path,\n",
    "    exp_start,\n",
    "    [datetime(2023, 4, 19, 0, 1).astimezone(tz=None)],\n",
    "    [datetime(2023, 4, 23, 23, 59).astimezone(tz=None)],\n",
    "    counts_cutoff,\n",
    "    [\"Cfel13_Baseline\"],\n",
    ")"
   ]
  },
  {
   "cell_type": "markdown",
   "metadata": {},
   "source": [
    "## Colony Cfel 64"
   ]
  },
  {
   "cell_type": "code",
   "execution_count": 18,
   "metadata": {},
   "outputs": [],
   "source": [
    "# Colony 64\n",
    "myrmidon_path = \"/media/ebiag/Ebi-4/InfectionExp_Cfel64/InfectionExpCol64.myrmidon\"\n",
    "exp_start = datetime(2023, 5, 27, 0, 1).astimezone(tz=None)\n",
    "start_time_list = [\n",
    "    datetime(2023, 5, 31, 15, 5).astimezone(tz=None),\n",
    "    datetime(2023, 6, 1, 15, 51).astimezone(tz=None),\n",
    "    datetime(2023, 6, 2, 14, 44).astimezone(tz=None),\n",
    "    datetime(2023, 6, 3, 14, 50).astimezone(tz=None),\n",
    "    datetime(2023, 6, 4, 14, 43).astimezone(tz=None),\n",
    "    datetime(2023, 6, 5, 14, 52).astimezone(tz=None),\n",
    "    datetime(2023, 6, 1, 8, 0).astimezone(tz=None),\n",
    "    datetime(2023, 6, 2, 8, 0).astimezone(tz=None),\n",
    "    datetime(2023, 6, 3, 8, 0).astimezone(tz=None),\n",
    "    datetime(2023, 6, 4, 8, 0).astimezone(tz=None),\n",
    "    datetime(2023, 6, 5, 8, 0).astimezone(tz=None),\n",
    "    datetime(2023, 6, 6, 8, 0).astimezone(tz=None),\n",
    "]\n",
    "\n",
    "counts_cutoff = 0\n",
    "\n",
    "end_time_list = [start_time + timedelta(hours=6) for start_time in start_time_list]\n",
    "\n",
    "colony = \"Cfel64_\"\n",
    "phase = [\n",
    "    \"Control\",\n",
    "    \"R1\",\n",
    "    \"R2\",\n",
    "    \"R3\",\n",
    "    \"R4\",\n",
    "    \"R5\",\n",
    "    \"PostC\",\n",
    "    \"PostR1\",\n",
    "    \"PostR2\",\n",
    "    \"PostR3\",\n",
    "    \"PostR4\",\n",
    "    \"PostR5\",\n",
    "]\n",
    "\n",
    "col_phase_list = [f\"{colony}{phase}\" for phase in phase]"
   ]
  },
  {
   "cell_type": "code",
   "execution_count": 19,
   "metadata": {},
   "outputs": [
    {
     "name": "stderr",
     "output_type": "stream",
     "text": [
      "Identifiying frames:   0%|                       | 0/1 [00:00<?, ?tracked min/s]\n",
      "Computing ant trajectories: 100%|███▉| 359/360 [00:04<00:00, 80.62tracked min/s]\n"
     ]
    },
    {
     "name": "stdout",
     "output_type": "stream",
     "text": [
      "Number of unique ants in trajectory data: 103\n",
      "Processing Forage\n",
      "Processing Nest\n",
      "NormCounts_Cfel64_Control_20230531-150500_20230531-210500.csv  done\n"
     ]
    },
    {
     "name": "stderr",
     "output_type": "stream",
     "text": [
      "Computing ant trajectories: 100%|███▉| 359/360 [00:04<00:00, 76.26tracked min/s]\n"
     ]
    },
    {
     "name": "stdout",
     "output_type": "stream",
     "text": [
      "Number of unique ants in trajectory data: 103\n",
      "Processing Forage\n",
      "Processing Nest\n",
      "NormCounts_Cfel64_R1_20230601-155100_20230601-215100.csv  done\n"
     ]
    },
    {
     "name": "stderr",
     "output_type": "stream",
     "text": [
      "Computing ant trajectories: 100%|███▉| 359/360 [00:04<00:00, 82.22tracked min/s]\n"
     ]
    },
    {
     "name": "stdout",
     "output_type": "stream",
     "text": [
      "Number of unique ants in trajectory data: 102\n",
      "Processing Forage\n",
      "Processing Nest\n",
      "NormCounts_Cfel64_R2_20230602-144400_20230602-204400.csv  done\n"
     ]
    },
    {
     "name": "stderr",
     "output_type": "stream",
     "text": [
      "Computing ant trajectories: 100%|███▉| 359/360 [00:04<00:00, 83.33tracked min/s]\n"
     ]
    },
    {
     "name": "stdout",
     "output_type": "stream",
     "text": [
      "Number of unique ants in trajectory data: 102\n",
      "Processing Forage\n",
      "Processing Nest\n",
      "NormCounts_Cfel64_R3_20230603-145000_20230603-205000.csv  done\n"
     ]
    },
    {
     "name": "stderr",
     "output_type": "stream",
     "text": [
      "Computing ant trajectories: 100%|███▉| 359/360 [00:04<00:00, 81.74tracked min/s]\n"
     ]
    },
    {
     "name": "stdout",
     "output_type": "stream",
     "text": [
      "Number of unique ants in trajectory data: 98\n",
      "Processing Forage\n",
      "Processing Nest\n",
      "NormCounts_Cfel64_R4_20230604-144300_20230604-204300.csv  done\n"
     ]
    },
    {
     "name": "stderr",
     "output_type": "stream",
     "text": [
      "Computing ant trajectories: 100%|███▉| 359/360 [00:04<00:00, 81.37tracked min/s]\n"
     ]
    },
    {
     "name": "stdout",
     "output_type": "stream",
     "text": [
      "Number of unique ants in trajectory data: 97\n",
      "Processing Forage\n",
      "Processing Nest\n",
      "NormCounts_Cfel64_R5_20230605-145200_20230605-205200.csv  done\n"
     ]
    },
    {
     "name": "stderr",
     "output_type": "stream",
     "text": [
      "Computing ant trajectories: 100%|███▉| 359/360 [00:04<00:00, 75.75tracked min/s]\n"
     ]
    },
    {
     "name": "stdout",
     "output_type": "stream",
     "text": [
      "Number of unique ants in trajectory data: 103\n",
      "Processing Forage\n",
      "Processing Nest\n",
      "NormCounts_Cfel64_PostC_20230601-080000_20230601-140000.csv  done\n"
     ]
    },
    {
     "name": "stderr",
     "output_type": "stream",
     "text": [
      "Computing ant trajectories: 100%|███▉| 359/360 [00:04<00:00, 73.79tracked min/s]\n"
     ]
    },
    {
     "name": "stdout",
     "output_type": "stream",
     "text": [
      "Number of unique ants in trajectory data: 102\n",
      "Processing Forage\n",
      "Processing Nest\n",
      "NormCounts_Cfel64_PostR1_20230602-080000_20230602-140000.csv  done\n"
     ]
    },
    {
     "name": "stderr",
     "output_type": "stream",
     "text": [
      "Computing ant trajectories: 100%|████| 360/360 [00:04<00:00, 74.26tracked min/s]\n"
     ]
    },
    {
     "name": "stdout",
     "output_type": "stream",
     "text": [
      "Number of unique ants in trajectory data: 102\n",
      "Processing Forage\n",
      "Processing Nest\n",
      "NormCounts_Cfel64_PostR2_20230603-080000_20230603-140000.csv  done\n"
     ]
    },
    {
     "name": "stderr",
     "output_type": "stream",
     "text": [
      "Computing ant trajectories: 100%|███▉| 359/360 [00:04<00:00, 76.04tracked min/s]\n"
     ]
    },
    {
     "name": "stdout",
     "output_type": "stream",
     "text": [
      "Number of unique ants in trajectory data: 101\n",
      "Processing Forage\n",
      "Processing Nest\n",
      "NormCounts_Cfel64_PostR3_20230604-080000_20230604-140000.csv  done\n"
     ]
    },
    {
     "name": "stderr",
     "output_type": "stream",
     "text": [
      "Computing ant trajectories: 100%|███▉| 359/360 [00:04<00:00, 79.07tracked min/s]\n"
     ]
    },
    {
     "name": "stdout",
     "output_type": "stream",
     "text": [
      "Number of unique ants in trajectory data: 97\n",
      "Processing Forage\n",
      "Processing Nest\n",
      "NormCounts_Cfel64_PostR4_20230605-080000_20230605-140000.csv  done\n"
     ]
    },
    {
     "name": "stderr",
     "output_type": "stream",
     "text": [
      "Computing ant trajectories: 100%|███▉| 359/360 [00:04<00:00, 80.87tracked min/s]\n"
     ]
    },
    {
     "name": "stdout",
     "output_type": "stream",
     "text": [
      "Number of unique ants in trajectory data: 94\n",
      "Processing Forage\n",
      "Processing Nest\n",
      "NormCounts_Cfel64_PostR5_20230606-080000_20230606-140000.csv  done\n"
     ]
    }
   ],
   "source": [
    "c64_list = calc_spatial_fidelity(\n",
    "    myrmidon_path,\n",
    "    exp_start,\n",
    "    start_time_list,\n",
    "    end_time_list,\n",
    "    counts_cutoff,\n",
    "    col_phase_list,\n",
    ")"
   ]
  },
  {
   "cell_type": "code",
   "execution_count": 20,
   "metadata": {},
   "outputs": [
    {
     "name": "stderr",
     "output_type": "stream",
     "text": [
      "Identifiying frames:   0%|                       | 0/1 [00:00<?, ?tracked min/s]\n",
      "Computing ant trajectories: 100%|█▉| 7197/7198 [01:27<00:00, 81.91tracked min/s]\n"
     ]
    },
    {
     "name": "stdout",
     "output_type": "stream",
     "text": [
      "Number of unique ants in trajectory data: 115\n",
      "Processing Forage\n",
      "Processing Nest\n",
      "NormCounts_Cfel64_Baseline_20230527-000100_20230531-235900.csv  done\n"
     ]
    }
   ],
   "source": [
    "calc_spatial_fidelity(\n",
    "    myrmidon_path,\n",
    "    exp_start,\n",
    "    [datetime(2023, 5, 27, 0, 1).astimezone(tz=None)],\n",
    "    [datetime(2023, 5, 31, 23, 59).astimezone(tz=None)],\n",
    "    counts_cutoff,\n",
    "    [\"Cfel64_Baseline\"],\n",
    ")"
   ]
  },
  {
   "cell_type": "markdown",
   "metadata": {},
   "source": [
    "### Verifying code"
   ]
  },
  {
   "cell_type": "code",
   "execution_count": null,
   "metadata": {},
   "outputs": [],
   "source": [
    "# Colony 13\n",
    "myrmidon_path = \"/media/ebiag/Ebi-4/InfectionExp_Cfel13/InfectionExp_Cfel13.myrmidon\"\n",
    "exp_start = datetime(2023, 4, 19, 0, 1).astimezone(tz=None)\n",
    "start_time_list = [\n",
    "    datetime(2023, 4, 23, 15, 5).astimezone(tz=None),\n",
    "    datetime(2023, 4, 24, 15, 29).astimezone(tz=None),\n",
    "    datetime(2023, 4, 25, 14, 19).astimezone(tz=None),\n",
    "    datetime(2023, 4, 26, 15, 3).astimezone(tz=None),\n",
    "    datetime(2023, 4, 27, 16, 43).astimezone(tz=None),\n",
    "    datetime(2023, 4, 28, 14, 27).astimezone(tz=None),\n",
    "    datetime(2023, 4, 24, 8, 0).astimezone(tz=None),\n",
    "    datetime(2023, 4, 25, 8, 0).astimezone(tz=None),\n",
    "    datetime(2023, 4, 26, 8, 0).astimezone(tz=None),\n",
    "    datetime(2023, 4, 27, 8, 0).astimezone(tz=None),\n",
    "    datetime(2023, 4, 28, 8, 0).astimezone(tz=None),\n",
    "    datetime(2023, 4, 29, 8, 0).astimezone(tz=None),\n",
    "]\n",
    "\n",
    "counts_cutoff = 0\n",
    "\n",
    "end_time_list = [start_time + timedelta(hours=6) for start_time in start_time_list]\n",
    "\n",
    "colony = \"Cfel13_\"\n",
    "phase = [\n",
    "    \"Control\",\n",
    "    \"R1\",\n",
    "    \"R2\",\n",
    "    \"R3\",\n",
    "    \"R4\",\n",
    "    \"R5\",\n",
    "    \"PostC\",\n",
    "    \"PostR1\",\n",
    "    \"PostR2\",\n",
    "    \"PostR3\",\n",
    "    \"PostR4\",\n",
    "    \"PostR5\",\n",
    "]\n",
    "\n",
    "col_phase_list = [f\"{colony}{phase}\" for phase in phase]"
   ]
  },
  {
   "cell_type": "code",
   "execution_count": null,
   "metadata": {},
   "outputs": [],
   "source": [
    "# Open myrmidon file\n",
    "exp = fm.Experiment.Open(myrmidon_path)\n",
    "# Get frames from first second of experiment tracking\n",
    "identifiedFrames = fm.Query.IdentifyFrames(\n",
    "    exp,\n",
    "    start=fm.Time(exp_start),\n",
    "    end=fm.Time(exp_start).Add(fm.Duration().Parse(\"1s\")),\n",
    ")\n",
    "# Obtain x and y limits fo frame\n",
    "xlim = [0, identifiedFrames[0].Width]\n",
    "ylim = [0, identifiedFrames[0].Height]\n",
    "\n",
    "r_int = 300  # Using a general value of 300 to account for cases where the fm.Query.ComputeMeasurementFor throws an error\n",
    "# Obtain the kdtree\n",
    "kdtree, sites = define_kdtree(\"vertical\", xlim, ylim, r_int)"
   ]
  },
  {
   "cell_type": "code",
   "execution_count": null,
   "metadata": {},
   "outputs": [],
   "source": [
    "# Convert to fm.Time object\n",
    "t_st = fm.Time(start_time_list[10])\n",
    "t_en = fm.Time(end_time_list[10])"
   ]
  },
  {
   "cell_type": "code",
   "execution_count": null,
   "metadata": {},
   "outputs": [],
   "source": [
    "# Extract ant trajectories\n",
    "trajectories = fm.Query.ComputeAntTrajectories(\n",
    "    exp,\n",
    "    start=t_st,\n",
    "    end=t_en,\n",
    ")"
   ]
  },
  {
   "cell_type": "code",
   "execution_count": null,
   "metadata": {},
   "outputs": [],
   "source": [
    "# Get unique ant IDs from trajectories\n",
    "trajectory_ant_ids = set()\n",
    "for t in trajectories:\n",
    "    trajectory_ant_ids.add(t.Ant)\n",
    "trajectory_ant_ids = list(trajectory_ant_ids)\n",
    "len(trajectory_ant_ids)"
   ]
  },
  {
   "cell_type": "code",
   "execution_count": null,
   "metadata": {},
   "outputs": [],
   "source": [
    "# Create mapping from trajectory ant IDs to array indices\n",
    "idxmap = dict(zip(trajectory_ant_ids, range(len(trajectory_ant_ids))))\n",
    "idxmap"
   ]
  },
  {
   "cell_type": "code",
   "execution_count": null,
   "metadata": {},
   "outputs": [],
   "source": [
    "# Create counts dictionary with proper dimensions\n",
    "counts = {}\n",
    "for s in exp.Spaces:\n",
    "    counts[s] = np.zeros((len(trajectory_ant_ids), len(sites)))"
   ]
  },
  {
   "cell_type": "code",
   "execution_count": null,
   "metadata": {},
   "outputs": [],
   "source": [
    "# Obtain the zone indices for each coordinate in each trajectory\n",
    "for t in trajectories:\n",
    "    dist, zone_indices = kdtree.query(t.Positions[:, 1:3])\n",
    "    ind, cts = np.unique(zone_indices, return_counts=True)\n",
    "    counts[t.Space][idxmap[t.Ant], ind] += cts"
   ]
  },
  {
   "cell_type": "code",
   "execution_count": null,
   "metadata": {},
   "outputs": [],
   "source": [
    "# Normalize the counts\n",
    "for s in exp.Spaces:\n",
    "    print(exp.Spaces[s].Name)\n",
    "    row_sums = counts[s].sum(axis=1)[:, np.newaxis]\n",
    "    counts[s] = np.divide(\n",
    "        counts[s], row_sums, out=np.zeros_like(counts[s]), where=row_sums != 0\n",
    "    )\n",
    "\n",
    "    # Output the counts to a csv file\n",
    "    df = pd.DataFrame(data=counts[s], index=trajectory_ant_ids)\n",
    "    df.index.name = \"AntID\""
   ]
  },
  {
   "cell_type": "code",
   "execution_count": null,
   "metadata": {},
   "outputs": [],
   "source": [
    "# Normalize the counts and prepare for merging\n",
    "space_dfs = {}  # Store dataframes by space name\n",
    "\n",
    "for s in exp.Spaces:\n",
    "    space_name = exp.Spaces[s].Name.title()  # Get space name in title case\n",
    "    print(f\"Processing {space_name}\")\n",
    "\n",
    "    row_sums = counts[s].sum(axis=1)[:, np.newaxis]\n",
    "    counts[s] = np.divide(\n",
    "        counts[s], row_sums, out=np.zeros_like(counts[s]), where=row_sums != 0\n",
    "    )\n",
    "\n",
    "    # Create dataframe with renamed columns to include space name\n",
    "    df = pd.DataFrame(data=counts[s], index=trajectory_ant_ids)\n",
    "    df.index.name = \"AntID\"\n",
    "\n",
    "    # Rename columns to format: 0_Nest, 1_Nest, etc.\n",
    "    df.columns = [f\"{i}_{space_name}\" for i in range(df.shape[1])]\n",
    "\n",
    "    # Store dataframe by space name\n",
    "    space_dfs[space_name] = df"
   ]
  },
  {
   "cell_type": "code",
   "execution_count": null,
   "metadata": {},
   "outputs": [],
   "source": [
    "df1 = space_dfs[\"Nest\"]\n",
    "df2 = space_dfs[\"Forage\"]\n",
    "print(df1.shape, df2.shape)"
   ]
  },
  {
   "cell_type": "code",
   "execution_count": null,
   "metadata": {},
   "outputs": [],
   "source": [
    "# Identify rows which are completely 0 in df1\n",
    "zero_rows = df1.index[df1.sum(axis=1) == 0]\n",
    "print(f\"Rows with all 0s in Nest: {zero_rows}\")"
   ]
  },
  {
   "cell_type": "code",
   "execution_count": null,
   "metadata": {},
   "outputs": [],
   "source": [
    "# Same for df2\n",
    "zero_rows = df2.index[df2.sum(axis=1) == 0]\n",
    "print(f\"Rows with all 0s in Forage: {zero_rows}\")"
   ]
  },
  {
   "cell_type": "code",
   "execution_count": null,
   "metadata": {},
   "outputs": [],
   "source": [
    "# Sort space names to ensure Nest comes first, then others alphabetically\n",
    "ordered_spaces = sorted(space_dfs.keys())\n",
    "ordered_spaces"
   ]
  },
  {
   "cell_type": "code",
   "execution_count": null,
   "metadata": {},
   "outputs": [],
   "source": [
    "if \"Nest\" in ordered_spaces:\n",
    "    ordered_spaces.remove(\"Nest\")\n",
    "    ordered_spaces.insert(0, \"Nest\")\n",
    "ordered_spaces"
   ]
  },
  {
   "cell_type": "code",
   "execution_count": null,
   "metadata": {},
   "outputs": [],
   "source": [
    "# Merge all dataframes using outer join to keep all ant IDs\n",
    "merged_df = None\n",
    "for space in ordered_spaces:\n",
    "    if merged_df is None:\n",
    "        merged_df = space_dfs[space]\n",
    "    else:\n",
    "        # Join on index (AntID)\n",
    "        merged_df = merged_df.join(space_dfs[space], how=\"outer\")"
   ]
  },
  {
   "cell_type": "code",
   "execution_count": null,
   "metadata": {},
   "outputs": [],
   "source": [
    "# Identify rows with 0 values in all columns in merged_df\n",
    "zero_rows = merged_df.index[merged_df.sum(axis=1) == 0]\n",
    "print(f\"Rows with all 0s in all spaces: {zero_rows}\")\n",
    "\n",
    "# Identify rows with NaN values in all columns in merged_df\n",
    "nan_rows = merged_df.index[merged_df.isna().all(axis=1)]\n",
    "print(f\"Rows with NaNs in all spaces: {nan_rows}\")"
   ]
  },
  {
   "cell_type": "markdown",
   "metadata": {},
   "source": [
    "### Verifying output"
   ]
  },
  {
   "cell_type": "code",
   "execution_count": null,
   "metadata": {},
   "outputs": [
    {
     "name": "stdout",
     "output_type": "stream",
     "text": [
      "Found 78 NormCounts files\n",
      "\n",
      "All files have the correct number of columns!\n"
     ]
    }
   ],
   "source": [
    "import pandas as pd\n",
    "import glob\n",
    "import os\n",
    "\n",
    "# 1. Identify all files with \"NormCounts\" in the name\n",
    "norm_count_files = glob.glob(\"*NormCounts*.csv\")\n",
    "print(f\"Found {len(norm_count_files)} NormCounts files\")\n",
    "\n",
    "# 2-4. Load each file and check column count\n",
    "expected_columns = 391  # 1 AntID + 195 Nest + 195 Forage columns\n",
    "invalid_files = []\n",
    "\n",
    "for file in norm_count_files:\n",
    "    # Load the file\n",
    "    df = pd.read_csv(file)\n",
    "\n",
    "    # Check column count\n",
    "    if len(df.columns) != expected_columns:\n",
    "        invalid_files.append({\"filename\": file, \"columns\": len(df.columns)})\n",
    "\n",
    "# Print results\n",
    "if invalid_files:\n",
    "    print(\"\\nFiles with incorrect column count:\")\n",
    "    for file_info in invalid_files:\n",
    "        print(\n",
    "            f\"- {file_info['filename']}: {file_info['columns']} columns (expected {expected_columns})\"\n",
    "        )\n",
    "    print(f\"\\nTotal invalid files: {len(invalid_files)}\")\n",
    "else:\n",
    "    print(\"\\nAll files have the correct number of columns!\")"
   ]
  }
 ],
 "metadata": {
  "kernelspec": {
   "display_name": "fort",
   "language": "python",
   "name": "python3"
  },
  "language_info": {
   "codemirror_mode": {
    "name": "ipython",
    "version": 3
   },
   "file_extension": ".py",
   "mimetype": "text/x-python",
   "name": "python",
   "nbconvert_exporter": "python",
   "pygments_lexer": "ipython3",
   "version": "3.8.15"
  }
 },
 "nbformat": 4,
 "nbformat_minor": 0
}
