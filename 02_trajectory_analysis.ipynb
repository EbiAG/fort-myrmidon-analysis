{
 "cells": [
  {
   "cell_type": "markdown",
   "id": "de6d64e2",
   "metadata": {},
   "source": [
    "## Trajectory analysis template\n",
    "General geometric trajectory analysis from a ```.mymridon``` experiment file to be saved as a csv, which can be further analyzed in the optional part or exported into other software such as RStudio. Operations like done here are typically heavy and python benefits from the effeciency of the underlying ```myrmidon``` library to a big extent, especially in combination with the ```numpy``` math library.\n",
    "This notebook is a walk trough a sample usage of the following:\n",
    "* the py-myrmidon library ([Documentation](https://formicidae-tracker.github.io/myrmidon/latest/))\n",
    "* numpy quick start [tutorial](https://numpy.org/devdocs/user/quickstart.html)"
   ]
  },
  {
   "cell_type": "code",
   "execution_count": 1,
   "id": "a5238445",
   "metadata": {},
   "outputs": [],
   "source": [
    "import py_fort_myrmidon as fm\n",
    "import numpy as np  # Fundamental math library in python. Here used only for convience: to save the csv.\n",
    "from datetime import datetime, timedelta  # For convenient handling of time and date\n",
    "import numpy as np  # Basic math library\n",
    "import pandas as pd  # Used to create a dataframe, similar to the structure used in R\n",
    "import matplotlib.pyplot as plt  # Optional: for plorring\n",
    "# Optional: makes plots interactive:\n",
    "%matplotlib widget"
   ]
  },
  {
   "cell_type": "code",
   "execution_count": 2,
   "id": "2e648f0d",
   "metadata": {},
   "outputs": [],
   "source": [
    "f_myrmidon = \"/home/user/Documents/experiment_folder/exp.myrmidon\"\n",
    "exp = fm.Experiment.Open(f_myrmidon)\n",
    "t_start = datetime(2021, 2, 18, 0, 1).astimezone(tz=None)  # <year, month, day, hour, minute>\n",
    "t_end = datetime(2021, 2, 18, 1, 0).astimezone(tz=None)"
   ]
  },
  {
   "cell_type": "markdown",
   "id": "e5265c76",
   "metadata": {},
   "source": [
    "The following is an iterator for fort mymrmidon time over days in a period. See Ant metadata template for explanation."
   ]
  },
  {
   "cell_type": "code",
   "execution_count": 3,
   "id": "1b511825",
   "metadata": {},
   "outputs": [],
   "source": [
    "def fm_time_range(start_datetime, end_datetime):\n",
    "    for n in range(int((end_datetime - start_datetime).days) + 1):\n",
    "        yield fm.Time(start_datetime + timedelta(n))"
   ]
  },
  {
   "cell_type": "markdown",
   "id": "33540036",
   "metadata": {},
   "source": [
    "Calculate the mean speed in pixels/second of each ant during the period (```t_start```, ```t_end```). This can serve as measure for the activity of the individual during that period. If the ```maximumGap``` is set to a period larger than (```t_start```, ```t_end```), then every ```ant_id``` will have at most one trajectory which makes the analysis easier in this case. The meaning of the positions in a trajectory are described [here](https://formicidae-tracker.github.io/myrmidon/latest/api/python/queries_matchers.html#py_fort_myrmidon.AntTrajectory.Positions). Another option would be to calculate the angular speed."
   ]
  },
  {
   "cell_type": "code",
   "execution_count": 4,
   "id": "57c34dc3",
   "metadata": {},
   "outputs": [],
   "source": [
    "df_trajectory_stats = pd.DataFrame(index=exp.Ants)\n",
    "df_trajectory_stats[\"speed_mean\"] = np.nan\n",
    "df_trajectory_stats[\"speed_std\"] = np.nan\n",
    "for t_begin in fm_time_range(t_start, t_end):\n",
    "    trajectories = fm.Query.ComputeAntTrajectories(experiment=exp,\n",
    "                                                   start=t_begin,\n",
    "                                                   end=t_begin.Add(fm.Duration.Parse('24h')),\n",
    "                                                   maximumGap=fm.Duration.Parse('1000h'))\n",
    "    for t in trajectories:\n",
    "        dxdy = np.diff(t.Positions[:,1:3], axis=0)  # x-y differerence between detections (2d vector)\n",
    "        ds = np.linalg.norm(dxdy, axis=1)  # displacement between detections (1d vector)\n",
    "        dt = np.diff(t.Positions[:,0])  # Time interval between detections (1d vector)\n",
    "        speed = np.divide(ds, dt, where=dt>0)  # [pixels / second]  (zero dt gaps are quite rare but can occur)\n",
    "        df_trajectory_stats.loc[t.Ant, \"speed_mean\"] = np.mean(speed)\n",
    "        df_trajectory_stats.loc[t.Ant, \"speed_std\"] = np.std(speed)"
   ]
  },
  {
   "cell_type": "markdown",
   "id": "c0d5873b",
   "metadata": {},
   "source": [
    "Save dataframe to a csv and optionally show and plot the results."
   ]
  },
  {
   "cell_type": "code",
   "execution_count": 5,
   "id": "f498bbf8",
   "metadata": {},
   "outputs": [],
   "source": [
    "f_name = \"ant_trajectory_stats_{}_{}_{}.csv\".format(exp.Name, t_start, t_end)\n",
    "df_trajectory_stats.to_csv(f_name, index_label='ant_id')"
   ]
  },
  {
   "cell_type": "code",
   "execution_count": 6,
   "id": "ad89c111",
   "metadata": {},
   "outputs": [
    {
     "name": "stdout",
     "output_type": "stream",
     "text": [
      "|    |   speed_mean |   speed_std |\n",
      "|---:|-------------:|------------:|\n",
      "|  1 |     37.1369  |     92.9128 |\n",
      "|  2 |      7.41075 |     22.0812 |\n",
      "|  3 |    nan       |    nan      |\n",
      "|  4 |    236.356   |    220.418  |\n",
      "|  5 |      8.89072 |     25.8877 |\n",
      "|  6 |    nan       |    nan      |\n",
      "|  7 |     16.8424  |     43.2587 |\n",
      "|  8 |      8.38602 |     21.8534 |\n",
      "|  9 |     15.4717  |     45.2661 |\n",
      "| 10 |      9.56718 |     26.3502 |\n"
     ]
    },
    {
     "data": {
      "application/vnd.jupyter.widget-view+json": {
       "model_id": "75fdcbbcd5cb459493dc267da6590cc4",
       "version_major": 2,
       "version_minor": 0
      },
      "text/html": [
       "\n",
       "            <div style=\"display: inline-block;\">\n",
       "                <div class=\"jupyter-widgets widget-label\" style=\"text-align: center;\">\n",
       "                    Figure\n",
       "                </div>\n",
       "                <img src='data:image/png;base64,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' width=800.0/>\n",
       "            </div>\n",
       "        "
      ],
      "text/plain": [
       "Canvas(toolbar=Toolbar(toolitems=[('Home', 'Reset original view', 'home', 'home'), ('Back', 'Back to previous …"
      ]
     },
     "metadata": {},
     "output_type": "display_data"
    }
   ],
   "source": [
    "df_trajectory_stats.pivot_table(values='speed_mean', index=df_trajectory_stats.index).plot(kind='bar', figsize=(8,3), ylabel=\"[px/sec]\")\n",
    "print(df_trajectory_stats[:10].to_markdown()) "
   ]
  }
 ],
 "metadata": {
  "kernelspec": {
   "display_name": "Python 3 (ipykernel)",
   "language": "python",
   "name": "python3"
  },
  "language_info": {
   "codemirror_mode": {
    "name": "ipython",
    "version": 3
   },
   "file_extension": ".py",
   "mimetype": "text/x-python",
   "name": "python",
   "nbconvert_exporter": "python",
   "pygments_lexer": "ipython3",
   "version": "3.8.12"
  }
 },
 "nbformat": 4,
 "nbformat_minor": 5
}
