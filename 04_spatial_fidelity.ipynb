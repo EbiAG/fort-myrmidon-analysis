{
 "cells": [
  {
   "cell_type": "markdown",
   "id": "c199a24c",
   "metadata": {},
   "source": [
    "## Spatial fidelity template\n",
    "Infers a spatial fiedlity map for every individual from a ```.mymridon``` experiment file and saves it as a csv, which can be further analyzed in the optinal part or exported into other software such as RStudio.  \n",
    "This notebook uses the following:\n",
    "* the py-myrmidon library ([Documentation](https://formicidae-tracker.github.io/myrmidon/latest/))\n",
    "* scipy spatial library ([Documentation](https://docs.scipy.org/doc/scipy/reference/spatial.html))"
   ]
  },
  {
   "cell_type": "code",
   "execution_count": 1,
   "id": "bb3fd48e",
   "metadata": {},
   "outputs": [],
   "source": [
    "import py_fort_myrmidon as fm\n",
    "import numpy as np  # Fundamental math library in python.\n",
    "from datetime import datetime, timedelta  # For convenient handling of time and date\n",
    "import pandas as pd  # To create a pandas dataframe, an equivalent to an R dataframe\n",
    "from scipy.spatial import KDTree\n",
    "from scipy.spatial.distance import cosine\n",
    "import scipy.cluster.hierarchy as sch\n",
    "import matplotlib.pyplot as plt  # Optional: for plorring\n",
    "# Optional: makes plots interactive:\n",
    "%matplotlib widget\n",
    "%load_ext blackcellmagic"
   ]
  },
  {
   "cell_type": "code",
   "execution_count": 2,
   "id": "fa85b90b",
   "metadata": {},
   "outputs": [],
   "source": [
    "myrmidonFilepath = \"dataset/example.myrmidon\"\n",
    "experiment = fm.Experiment.Open(myrmidonFilepath)\n",
    "di = fm.Query.GetDataInformations(experiment)\n",
    "t_start, t_end = di.Start, di.End "
   ]
  },
  {
   "cell_type": "markdown",
   "id": "352db1ac",
   "metadata": {},
   "source": [
    "Load a period of tracking data, here 12 hours, and get the x and y limits of the tracking cooridnates. Infer mean ant body length and use it as internal radius for the hexagons ```r_int``` to tesselate the space."
   ]
  },
  {
   "cell_type": "code",
   "execution_count": 3,
   "id": "1eb37ab6-20b6-4405-8e59-ed200272c32f",
   "metadata": {},
   "outputs": [
    {
     "name": "stderr",
     "output_type": "stream",
     "text": [
      "Identifiying frames:   0%|                       | 0/1 [00:00<?, ?tracked min/s]\n"
     ]
    },
    {
     "data": {
      "text/plain": [
       "[0, 7920]"
      ]
     },
     "execution_count": 3,
     "metadata": {},
     "output_type": "execute_result"
    }
   ],
   "source": [
    "identifiedFrames = fm.Query.IdentifyFrames(experiment,\n",
    "                                           start=t_start,\n",
    "                                           end=t_start.Add(1)) # will get the first tracked frame only as we add a single nanosecond\n",
    "assert len(identifiedFrames) == 1\n",
    "xlim = [0, identifiedFrames[0].Width]\n",
    "ylim = [0, identifiedFrames[0].Height]\n",
    "ant_radius = []\n",
    "for antID in experiment.Ants:\n",
    "    measurements = fm.Query.ComputeMeasurementFor(experiment=experiment, antID=antID, measurementTypeID=1)\n",
    "    if measurements: #discards ants without any measurements\n",
    "        ant_radius.append(np.mean([m.LengthPixel for m in measurements]))\n",
    "r_int = np.mean(ant_radius)  # One ant radius, arbitrary choice\n",
    "xlim"
   ]
  },
  {
   "cell_type": "code",
   "execution_count": 4,
   "id": "f09e449a-c291-453e-8e81-75105e36cb57",
   "metadata": {},
   "outputs": [
    {
     "data": {
      "text/plain": [
       "[0, 6004]"
      ]
     },
     "execution_count": 4,
     "metadata": {},
     "output_type": "execute_result"
    }
   ],
   "source": [
    "ylim"
   ]
  },
  {
   "cell_type": "code",
   "execution_count": 5,
   "id": "350ae1dc-bc36-4369-b8a3-2d5523496e8d",
   "metadata": {},
   "outputs": [
    {
     "data": {
      "text/plain": [
       "281.5809039111243"
      ]
     },
     "execution_count": 5,
     "metadata": {},
     "output_type": "execute_result"
    }
   ],
   "source": [
    "r_int"
   ]
  },
  {
   "cell_type": "markdown",
   "id": "3c1bbe12",
   "metadata": {},
   "source": [
    "A spatial tesselation of hexagons is used to define the sites where the observations of the individuals are counted. A nearest neighbour tree (KDTree) is used with the centers of the hexgons mentioned. For a given set of coordinates, a KDTree can be used to efficiently find the seed that is closest to the input coordinates, here the waypoints of the trajectory. The hexagonal boundaries are not defined explicitly. Simply by placing the hexagonal centers accordingly (see ```method ``` variable), the resulting pattern will be hexagonal or squared. The code in the following cell computes the hexagon centers that seed the KDTree.  \n",
    "This part should probably only be edited w.r.t. the method and the internal radius."
   ]
  },
  {
   "cell_type": "code",
   "execution_count": 6,
   "id": "814d7545",
   "metadata": {},
   "outputs": [],
   "source": [
    "method = 'vertical'\n",
    "#method = 'horizontal'\n",
    "#method = 'square'\n",
    "\n",
    "if method == 'vertical':\n",
    "    dx = 2*r_int\n",
    "    dy = np.sqrt(3)*r_int\n",
    "elif method == 'horizontal':\n",
    "    dx = np.sqrt(3)*r_int\n",
    "    dy = 2*r_int\n",
    "elif method == 'square':\n",
    "    dx = 2*r_int\n",
    "    dy = 2*r_int\n",
    "n_x = np.diff(xlim) // dx + 1\n",
    "n_y = np.diff(ylim) // dy + 1\n",
    "osx = n_x * dx - np.diff(xlim)\n",
    "osy = n_y * dy - np.diff(ylim)\n",
    "x = np.arange(start=xlim[0]-osx/2, step=dx, stop=n_x*dx+osx/2)\n",
    "y = np.arange(start=ylim[0]-osy/2, step=dy, stop=n_y*dy+osy/2)\n",
    "xm, ym = np.meshgrid(x, y)\n",
    "if method == 'vertical':\n",
    "    xm[::2] = xm[::2] + r_int\n",
    "elif method == 'horizontal':\n",
    "    ym[:, 1::2] = ym[:, 1::2] + r_int\n",
    "sites = np.stack([xm.flatten(), ym.flatten()], axis=1)\n",
    "kdtree = KDTree(sites)"
   ]
  },
  {
   "cell_type": "markdown",
   "id": "f332b2fc",
   "metadata": {},
   "source": [
    "The following is an iterator for fort mymrmidon time over days in a period. See Ant metadata template for explanation."
   ]
  },
  {
   "cell_type": "code",
   "execution_count": 7,
   "id": "5185ae88",
   "metadata": {},
   "outputs": [],
   "source": [
    "def fm_time_range(\n",
    "    start: fm.Time,\n",
    "    end: fm.Time,\n",
    "    *,\n",
    "    increment=24 * fm.Duration.Hour,\n",
    "):\n",
    "    \"\"\"Slice a time range is sub-time range 'à la' range()\n",
    "\n",
    "    Args:\n",
    "        start (fm.Time): the start time to consider\n",
    "        end (fm.Time): the end time to consider\n",
    "        increment (fm.Duration): the time increment to slice the whole time range\n",
    "\n",
    "    Yields:\n",
    "        Tuple[fm.Time,fm.Time]: start and end time of the sub range that span at most 'increment'\n",
    "    \"\"\"\n",
    "    while start < end:\n",
    "        last = start\n",
    "        start = min(start.Add(increment), end)\n",
    "        yield last, start"
   ]
  },
  {
   "cell_type": "markdown",
   "id": "3c215a7a",
   "metadata": {},
   "source": [
    "Count the observations of every individual in every site. In the end, the counts are normalized per individual counts where there is at least ```counts_cutoff``` times in total and set to zero for individuals that have been observed less often."
   ]
  },
  {
   "cell_type": "code",
   "execution_count": 8,
   "id": "23db48b9",
   "metadata": {},
   "outputs": [
    {
     "name": "stderr",
     "output_type": "stream",
     "text": [
      "Computing ant trajectories: 100%|█▉| 1439/1440 [00:15<00:00, 93.05tracked min/s]\n",
      "Computing ant trajectories: 100%|█▉| 1439/1440 [00:14<00:00, 97.36tracked min/s]\n",
      "Computing ant trajectories: 100%|█▉| 1439/1440 [00:14<00:00, 99.37tracked min/s]\n",
      "Computing ant trajectories: 100%|█▉| 1439/1440 [00:15<00:00, 94.09tracked min/s]\n",
      "Computing ant trajectories:  99%|███▉| 120/121 [00:01<00:00, 70.57tracked min/s]\n"
     ]
    }
   ],
   "source": [
    "counts_cutoff = 0\n",
    "# Create a dictionary with an array full of zeros and shape (number individuals x number sites) for each Space\n",
    "counts = {}\n",
    "for s in experiment.Spaces:\n",
    "    counts[s] = np.zeros((len(experiment.Ants), len(sites)))\n",
    "idxmap = dict(zip(experiment.Ants, range(len(experiment.Ants))))  # Maps the ant id to the matrix index\n",
    "\n",
    "for t_begin,t_last in fm_time_range(t_start, t_end):\n",
    "    trajectories = fm.Query.ComputeAntTrajectories(experiment,\n",
    "                                                   start=t_begin,\n",
    "                                                   end=t_last)\n",
    "    for t in trajectories:\n",
    "        dist, zone_indices = kdtree.query(t.Positions[:, 1:3])\n",
    "        ind, cts = np.unique(zone_indices, return_counts=True)\n",
    "        counts[t.Space][idxmap[t.Ant], ind] += cts\n",
    "        \n",
    "for s in experiment.Spaces:\n",
    "    row_sums = counts[s].sum(axis=1)[:, np.newaxis]\n",
    "    counts[s] = np.divide(counts[s], row_sums, where=row_sums > counts_cutoff)  # Normalize per individual\n",
    "    counts[s][np.where(row_sums <= counts_cutoff),:] = 0  # Reset individuals with insufficents total counts"
   ]
  },
  {
   "cell_type": "markdown",
   "id": "7ac6ab08",
   "metadata": {},
   "source": [
    "Create a pandas dataframe and save it to a csv which can be imported in R for example. The index will be the ant id and the column is just a site numeration. Dataframe shape: number of ants x number of sites."
   ]
  },
  {
   "cell_type": "code",
   "execution_count": 9,
   "id": "6393d81f",
   "metadata": {},
   "outputs": [],
   "source": [
    "for s in experiment.Spaces:\n",
    "    df = pd.DataFrame(data=counts[s], index=experiment.Ants)\n",
    "    f_count = \"normalized_counts_space_{}_{}_space_{}_{}.csv\".format(experiment.Name, experiment.Spaces[s].Name, t_start, t_end)\n",
    "    df.to_csv(f_count)"
   ]
  },
  {
   "cell_type": "markdown",
   "id": "9efb24f9",
   "metadata": {},
   "source": [
    "### Optional part 1: heatmap visualization\n",
    "```ind_x``` and ```ind_y``` are used to arrange the subplots. Note the black plots for individuals that where not counted often enough."
   ]
  },
  {
   "cell_type": "code",
   "execution_count": null,
   "id": "aeba050f",
   "metadata": {},
   "outputs": [],
   "source": [
    "nb_plot_cols = 10\n",
    "ind_y = nb_plot_cols\n",
    "ind_x = len(experiment.Ants) // nb_plot_cols\n",
    "\n",
    "fig, ax = plt.subplots(ind_x,ind_y, figsize=(8,16))\n",
    "for i in range(ind_x):\n",
    "    for j in range(ind_y):\n",
    "        ant_index = j + nb_plot_cols*i\n",
    "        ax[i,j].imshow(counts[1][ant_index].reshape(xm.shape))\n",
    "        ax[i,j].axis('equal')\n",
    "        ax[i,j].axis('off')\n",
    "        ax[i,j].set_title(ant_index+1)\n",
    "fig.tight_layout()\n",
    "plt.show()"
   ]
  },
  {
   "cell_type": "markdown",
   "id": "426e66ef",
   "metadata": {},
   "source": [
    "## Optional part 2: ant - ant spatial fidelity similarity\n",
    "Use cosine distance (other options are: correlation, euclidean, etc. see [here](https://docs.scipy.org/doc/scipy/reference/spatial.distance.html) for ideas and documentation) to compare site count vectors among all individuals and save as a csv."
   ]
  },
  {
   "cell_type": "code",
   "execution_count": null,
   "id": "b39503a1",
   "metadata": {},
   "outputs": [],
   "source": [
    "distance_correlation = np.zeros((len(experiment.Ants),len(experiment.Ants)))\n",
    "for i in range(len(experiment.Ants)):\n",
    "    for j in range(i, len(experiment.Ants)):\n",
    "        distance_correlation[i, j] = cosine(counts[1][i], counts[1][j])\n",
    "distance_correlation = distance_correlation + distance_correlation.T  # Make the matrix symmetric \n",
    "distance_correlation[np.isnan(distance_correlation)] = 1.0  # Assume that zero count individuals are maximally dissimilar\n",
    "distance_correlation[np.isinf(distance_correlation)] = 1.0\n",
    "df_similarity = pd.DataFrame(data=counts[1], index=experiment.Ants)\n",
    "f_similarity = \"spatial_fidelity_similarity_{}_{}_{}.csv\".format(experiment.Name, t_start, t_end)\n",
    "df_similarity.to_csv(f_similarity, index=experiment.Ants, columns=experiment.Ants)"
   ]
  },
  {
   "cell_type": "markdown",
   "id": "113eddf8",
   "metadata": {},
   "source": [
    "Optionally: Create a similarity dendrogram and visualize it."
   ]
  },
  {
   "cell_type": "code",
   "execution_count": null,
   "id": "7b5b0d11",
   "metadata": {},
   "outputs": [],
   "source": [
    "fig, ax = plt.subplots()\n",
    "Y = sch.linkage(distance_correlation, method='centroid')\n",
    "Z = sch.dendrogram(Y, orientation='right')\n",
    "index = Z['leaves']\n",
    "distance_correlation = distance_correlation[index, :]\n",
    "distance_correlation = distance_correlation[:, index]\n",
    "fig, ax = plt.subplots()\n",
    "ax.imshow(distance_correlation, cmap=plt.get_cmap('plasma'))"
   ]
  },
  {
   "cell_type": "code",
   "execution_count": null,
   "id": "2d8794a5-11f7-4fee-80c9-76227c24d8da",
   "metadata": {},
   "outputs": [],
   "source": []
  }
 ],
 "metadata": {
  "kernelspec": {
   "display_name": "Python 3 (ipykernel)",
   "language": "python",
   "name": "python3"
  },
  "language_info": {
   "codemirror_mode": {
    "name": "ipython",
    "version": 3
   },
   "file_extension": ".py",
   "mimetype": "text/x-python",
   "name": "python",
   "nbconvert_exporter": "python",
   "pygments_lexer": "ipython3",
   "version": "3.8.12"
  }
 },
 "nbformat": 4,
 "nbformat_minor": 5
}
