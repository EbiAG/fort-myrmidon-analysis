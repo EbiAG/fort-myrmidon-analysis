{
 "cells": [
  {
   "cell_type": "markdown",
   "id": "de6d64e2",
   "metadata": {},
   "source": [
    "## Trajectory analysis template\n",
    "General geometric trajectory analysis from a ```.mymridon``` experiment file to be saved as a csv, which can be further analyzed in the optional part or exported into other software such as RStudio.  \n",
    "This notebook is a walk trough a sample usage of the following:\n",
    "* the py-myrmidon library ([Documentation](https://formicidae-tracker.github.io/myrmidon/latest/))"
   ]
  },
  {
   "cell_type": "code",
   "execution_count": 15,
   "id": "a5238445",
   "metadata": {},
   "outputs": [],
   "source": [
    "import py_fort_myrmidon as fm\n",
    "import numpy as np  # Fundamental math library in python. Here used only for convience: to save the csv.\n",
    "from datetime import datetime  # For convenient handling of time and date\n",
    "import networkx as nx  # Optional: for general graph analysis and plotting\n",
    "import facetnet  # Optional: for community analysis\n",
    "import matplotlib.pyplot as plt  # Optional: for plorring\n",
    "# Optional: makes plots interactive:\n",
    "%matplotlib widget"
   ]
  },
  {
   "cell_type": "code",
   "execution_count": 16,
   "id": "2e648f0d",
   "metadata": {},
   "outputs": [],
   "source": [
    "f_myrmidon = \"/home/user/Documents/experiment_folder/exp.myrmidon\"\n",
    "exp = fm.Experiment.Open(f_myrmidon)"
   ]
  }
 ],
 "metadata": {
  "kernelspec": {
   "display_name": "Python 3 (ipykernel)",
   "language": "python",
   "name": "python3"
  },
  "language_info": {
   "codemirror_mode": {
    "name": "ipython",
    "version": 3
   },
   "file_extension": ".py",
   "mimetype": "text/x-python",
   "name": "python",
   "nbconvert_exporter": "python",
   "pygments_lexer": "ipython3",
   "version": "3.8.12"
  }
 },
 "nbformat": 4,
 "nbformat_minor": 5
}
