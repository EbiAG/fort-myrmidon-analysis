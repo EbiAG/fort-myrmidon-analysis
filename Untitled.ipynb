{
 "cells": [
  {
   "cell_type": "markdown",
   "id": "9e1be4d2",
   "metadata": {},
   "source": [
    "## Spatial fidelity template\n",
    "Infers a spatial fiedlity map for every individual from a ```.mymridon``` experiment file and saves it as a csv, which can be further analyzed in the optinal part or exported into other software such as RStudio.  \n",
    "This notebook uses the following:\n",
    "* the py-myrmidon library ([Documentation](https://formicidae-tracker.github.io/myrmidon/latest/))\n",
    "* scipy spatial library ([Documentation](https://docs.scipy.org/doc/scipy/reference/spatial.html))"
   ]
  },
  {
   "cell_type": "code",
   "execution_count": 1,
   "id": "0184677c",
   "metadata": {},
   "outputs": [],
   "source": [
    "import py_fort_myrmidon as fm\n",
    "import numpy as np  # Fundamental math library in python.\n",
    "from datetime import datetime  # For convenient handling of time and date\n",
    "import pandas as pd  # To create a pandas dataframe, an equivalent to an R dataframe\n",
    "from scipy.spatial import KDTree\n",
    "from scipy.spatial.distance import cosine\n",
    "import scipy.cluster.hierarchy as sch\n",
    "import matplotlib.pyplot as plt  # Optional: for plorring\n",
    "# Optional: makes plots interactive:\n",
    "%matplotlib widget"
   ]
  },
  {
   "cell_type": "code",
   "execution_count": 2,
   "id": "aa0cc8fc",
   "metadata": {},
   "outputs": [],
   "source": [
    "f_myrmidon = \"/home/user/Documents/experiment_folder/exp.myrmidon\"\n",
    "f_myrmidon = \"/home/matthias/Documents/la_manip_analysis/la_manip_15_02_2021.myrmidon\"\n",
    "exp = fm.Experiment.Open(f_myrmidon)"
   ]
  },
  {
   "cell_type": "markdown",
   "id": "e145832e",
   "metadata": {},
   "source": [
    "Load a period of tracking data, here 12 hours, and get the x and y limits of the tracking cooridnates. Infer mean ant body length and use it as internal radius for the hexagons ```r_int``` to tesselate the space."
   ]
  },
  {
   "cell_type": "code",
   "execution_count": 3,
   "id": "adf67d9e",
   "metadata": {},
   "outputs": [],
   "source": [
    "t_start = fm.Time(datetime(2021, 2, 18, 0, 1))  # <year, month, day, hour, minute>\n",
    "t_end = t_start.Add(fm.Duration().Parse(\"12h\"))\n",
    "identifiedFrames = fm.Query.IdentifyFrames(exp, start=t_start, end=t_end)\n",
    "xlim = [0, identifiedFrames[0].Width]\n",
    "ylim = [0, identifiedFrames[0].Height]\n",
    "ant_radius = []\n",
    "for ant in exp.Ants:\n",
    "    ant_radius.append(fm.Query.ComputeMeasurementFor(experiment=exp, antID=ant, measurementTypeID=1)[0].LengthPixel)\n",
    "r_int = np.mean(ant_radius)  # One ant radisu, arbitrary choice"
   ]
  },
  {
   "cell_type": "markdown",
   "id": "c39b47d7",
   "metadata": {},
   "source": [
    "A spatial tesselation of hexagons is used to define the sites where the observations of the individuals are counted. A nearest neighbour tree (KDTree) is used with the centers of the hexgons mentioned. For a given set of coordinates, a KDTree can be used to efficiently find the seed that is closest to the input coordinates, here the waypoints of the trajectory. The hexagonal boundaries are not defined explicitly. Simply by placing the hexagonal centers accordingly (see ```method ``` variable), the resulting pattern will be hexagonal or squared. The code in the following cell computes the hexagon centers that seed the KDTree.  \n",
    "This part should probably only be edited w.r.t. the method and the internal radius."
   ]
  },
  {
   "cell_type": "code",
   "execution_count": 4,
   "id": "24685141",
   "metadata": {},
   "outputs": [],
   "source": [
    "method = 'vertical'\n",
    "#method = 'horizontal'\n",
    "#method = 'square'\n",
    "\n",
    "if method == 'vertical':\n",
    "    dx = 2*r_int\n",
    "    dy = np.sqrt(3)*r_int\n",
    "elif method == 'horizontal':\n",
    "    dx = np.sqrt(3)*r_int\n",
    "    dy = 2*r_int\n",
    "elif method == 'square':\n",
    "    dx = 2*r_int\n",
    "    dy = 2*r_int\n",
    "n_x = np.diff(xlim) // dx + 1\n",
    "n_y = np.diff(ylim) // dy + 1\n",
    "osx = n_x * dx - np.diff(xlim)\n",
    "osy = n_y * dy - np.diff(ylim)\n",
    "x = np.arange(start=xlim[0]-osx/2, step=dx, stop=n_x*dx+osx/2)\n",
    "y = np.arange(start=ylim[0]-osy/2, step=dy, stop=n_y*dy+osy/2)\n",
    "xm, ym = np.meshgrid(x, y)\n",
    "if method == 'vertical':\n",
    "    xm[::2] = xm[::2] + r_int\n",
    "elif method == 'horizontal':\n",
    "    ym[:, 1::2] = ym[:, 1::2] + r_int\n",
    "seeds = np.stack([xm.flatten(), ym.flatten()], axis=1)\n",
    "kdtree = KDTree(seeds)"
   ]
  },
  {
   "cell_type": "markdown",
   "id": "cefed2ca",
   "metadata": {},
   "source": [
    "Count the observations of every individual in every site. In the end, the counts are normalized per individual counts where there is at least ```counts_cutoff``` times in total and set to zero for individuals that have been observed less often."
   ]
  },
  {
   "cell_type": "code",
   "execution_count": 5,
   "id": "790537e7",
   "metadata": {},
   "outputs": [],
   "source": [
    "counts_cutoff = 0\n",
    "counts = np.zeros((len(exp.Ants), len(seeds)))\n",
    "trajectories = fm.Query.ComputeAntTrajectories(exp, start=t_start, end=t_end)\n",
    "for t in trajectories:\n",
    "    dist, zone_indices = kdtree.query(t.Positions[:, 1:3])\n",
    "    ind, cts = np.unique(zone_indices, return_counts=True)\n",
    "    counts[t.Ant-1, ind] += cts\n",
    "row_sums = counts.sum(axis=1)[:, np.newaxis]\n",
    "counts = np.divide(counts, row_sums, where=row_sums > counts_cutoff)\n",
    "counts[np.where(row_sums <= counts_cutoff),:] = 0"
   ]
  },
  {
   "cell_type": "markdown",
   "id": "edb71eb0",
   "metadata": {},
   "source": [
    "Create a pandas dataframe and save it to a csv which can be imported in R for example. The index will be the ant id and the column is just a site numeration. Dataframe shape: number of ants x number of sites."
   ]
  },
  {
   "cell_type": "code",
   "execution_count": 6,
   "id": "0390a15a",
   "metadata": {},
   "outputs": [],
   "source": [
    "df = pd.DataFrame(data=counts, index=exp.Ants)\n",
    "f_count = \"normalized_counts_{}_{}_{}.csv\".format(exp.Name, t_start, t_end)\n",
    "df.to_csv(f_count)"
   ]
  },
  {
   "cell_type": "markdown",
   "id": "b27a5f09",
   "metadata": {},
   "source": [
    "### Optional part 1: heatmap visualization\n",
    "```ind_x``` and ```ind_y``` are used to arrange the subplots. Note the black plots for individuals that where not counted often enough."
   ]
  },
  {
   "cell_type": "code",
   "execution_count": null,
   "id": "aaa597f2",
   "metadata": {},
   "outputs": [],
   "source": [
    "nb_plot_cols = 10\n",
    "ind_y = nb_plot_cols\n",
    "ind_x = len(exp.Ants) // nb_plot_cols\n",
    "\n",
    "fig, ax = plt.subplots(ind_x,ind_y, figsize=(8,16))\n",
    "for i in range(ind_x):\n",
    "    for j in range(ind_y):\n",
    "        ant_index = j + nb_plot_cols*i\n",
    "        ax[i,j].imshow(counts[ant_index].reshape(xm.shape))\n",
    "        ax[i,j].axis('equal')\n",
    "        ax[i,j].axis('off')\n",
    "        ax[i,j].set_title(ant_index+1)\n",
    "fig.tight_layout()\n",
    "plt.show()"
   ]
  },
  {
   "cell_type": "markdown",
   "id": "a8f24c23",
   "metadata": {},
   "source": [
    "## Optional part 2: ant - ant spatial fidelity similarity\n",
    "Use cosine distance (other options are: correlation, euclidean, etc. see [here](https://docs.scipy.org/doc/scipy/reference/spatial.distance.html) for ideas and documentation) to compare site count vectors among all individuals and save as a csv."
   ]
  },
  {
   "cell_type": "code",
   "execution_count": null,
   "id": "95ae8e60",
   "metadata": {},
   "outputs": [],
   "source": [
    "distance_correlation = np.zeros((len(exp.Ants),len(exp.Ants)))\n",
    "for i in range(len(exp.Ants)):\n",
    "    for j in range(i, len(exp.Ants)):\n",
    "        distance_correlation[i, j] = cosine(counts[i], counts[j])\n",
    "distance_correlation = distance_correlation + distance_correlation.T  # Make the matrix symmetric \n",
    "distance_correlation[np.isnan(distance_correlation)] = 1.0  # Assume that zero count individuals are maximally dissimilar\n",
    "distance_correlation[np.isinf(distance_correlation)] = 1.0\n",
    "df_similarity = pd.DataFrame(data=counts, index=exp.Ants)\n",
    "f_similarity = \"spatial_fidelity_similarity_{}_{}_{}.csv\".format(exp.Name, t_start, t_end)\n",
    "df_similarity.to_csv(f_similarity, index=exp.Ants, columns=exp.Ants)"
   ]
  },
  {
   "cell_type": "markdown",
   "id": "fb759346",
   "metadata": {},
   "source": [
    "Optionally: Create a similarity dendrogram and visualize it."
   ]
  },
  {
   "cell_type": "code",
   "execution_count": null,
   "id": "6c39740e",
   "metadata": {},
   "outputs": [],
   "source": [
    "fig, ax = plt.subplots()\n",
    "Y = sch.linkage(distance_correlation, method='centroid')\n",
    "Z = sch.dendrogram(Y, orientation='right')\n",
    "index = Z['leaves']\n",
    "distance_correlation = distance_correlation[index, :]\n",
    "distance_correlation = distance_correlation[:, index]\n",
    "fig, ax = plt.subplots()\n",
    "ax.imshow(distance_correlation, cmap=plt.get_cmap('plasma'))"
   ]
  }
 ],
 "metadata": {
  "kernelspec": {
   "display_name": "Python 3 (ipykernel)",
   "language": "python",
   "name": "python3"
  },
  "language_info": {
   "codemirror_mode": {
    "name": "ipython",
    "version": 3
   },
   "file_extension": ".py",
   "mimetype": "text/x-python",
   "name": "python",
   "nbconvert_exporter": "python",
   "pygments_lexer": "ipython3",
   "version": "3.8.12"
  }
 },
 "nbformat": 4,
 "nbformat_minor": 5
}
